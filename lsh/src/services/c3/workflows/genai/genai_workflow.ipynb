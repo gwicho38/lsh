{
 "cells": [
  {
   "cell_type": "code",
   "execution_count": null,
   "metadata": {},
   "outputs": [],
   "source": [
    "Genai.ChatBot.Config.make().setConfigValue(\"handlerTypeName\", \"Genai.MockUnstructuredQueryEngine\")"
   ]
  }
 ],
 "metadata": {
  "language_info": {
   "name": "python"
  }
 },
 "nbformat": 4,
 "nbformat_minor": 2
}
