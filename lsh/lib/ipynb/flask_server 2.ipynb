{
 "cells": [
  {
   "cell_type": "code",
   "execution_count": null,
   "id": "f95dc07a-2d28-4add-8910-0983914b03ee",
   "metadata": {
    "tags": []
   },
   "outputs": [],
   "source": [
    "# openssl req -x509 -newkey rsa:4096 -nodes -keyout key.pem -out cert.pem -days 365"
   ]
  },
  {
   "cell_type": "code",
   "execution_count": 1,
   "id": "12d70071-6fde-445f-9668-b6f158f61203",
   "metadata": {
    "execution": {
     "iopub.execute_input": "2024-02-03T22:26:25.526788Z",
     "iopub.status.busy": "2024-02-03T22:26:25.526551Z",
     "iopub.status.idle": "2024-02-03T22:26:26.008982Z",
     "shell.execute_reply": "2024-02-03T22:26:26.008172Z",
     "shell.execute_reply.started": "2024-02-03T22:26:25.526763Z"
    },
    "tags": []
   },
   "outputs": [],
   "source": [
    "import csv\n",
    "from datetime import datetime\n",
    "import pandas as pd\n",
    "import random\n",
    "from datetime import datetime, timedelta\n",
    "import pytz"
   ]
  },
  {
   "cell_type": "code",
   "execution_count": 2,
   "id": "aa0f0b67-28d8-4e80-a0dc-c7463f238a13",
   "metadata": {
    "execution": {
     "iopub.execute_input": "2024-02-03T22:26:26.010225Z",
     "iopub.status.busy": "2024-02-03T22:26:26.009859Z",
     "iopub.status.idle": "2024-02-03T22:26:26.027013Z",
     "shell.execute_reply": "2024-02-03T22:26:26.026431Z",
     "shell.execute_reply.started": "2024-02-03T22:26:26.010194Z"
    },
    "tags": []
   },
   "outputs": [],
   "source": [
    "df = pd.read_csv('../downloads/synthetic_gets.csv')\n",
    "\n",
    "def random_date_in_last_30_days():\n",
    "    today = datetime.now()\n",
    "    random_days_ago = today - timedelta(days=random.randint(0, 30))\n",
    "    random_time = random_days_ago.replace(hour=random.randint(0, 23),\n",
    "                                          minute=random.randint(0, 59),\n",
    "                                          second=random.randint(0, 59))\n",
    "    return random_time\n",
    "\n",
    "df['mincolldate'] = df['mincolldate'].apply(lambda x: random_date_in_last_30_days())\n",
    "\n",
    "df['mincolldate'] = df['mincolldate'].apply(lambda x: x if x.tzinfo else x.replace(tzinfo=pytz.UTC))\n",
    "df['mincolldate'] = df['mincolldate'].apply(lambda x: x.isoformat().replace('+00:00', 'Z') if x.tzinfo == pytz.UTC else x.isoformat())\n",
    "\n",
    "df.to_csv('../downloads/synthetic_gets.csv', index=False)"
   ]
  },
  {
   "cell_type": "code",
   "execution_count": 3,
   "id": "97b118fd-74c9-4a2a-97b3-c2510b240c47",
   "metadata": {
    "execution": {
     "iopub.execute_input": "2024-02-03T22:26:26.027978Z",
     "iopub.status.busy": "2024-02-03T22:26:26.027754Z",
     "iopub.status.idle": "2024-02-03T22:26:26.032872Z",
     "shell.execute_reply": "2024-02-03T22:26:26.032330Z",
     "shell.execute_reply.started": "2024-02-03T22:26:26.027959Z"
    },
    "tags": []
   },
   "outputs": [],
   "source": [
    "csv_file = '../downloads/synthetic_gets.csv'\n",
    "json_data = []\n",
    "with open(csv_file, mode='r', newline='') as file:\n",
    "    reader = csv.DictReader(file)\n",
    "    for row in reader:\n",
    "        json_data.append(row)"
   ]
  },
  {
   "cell_type": "code",
   "execution_count": 4,
   "id": "e81454a2-0a30-4256-aa84-ca18c3684e34",
   "metadata": {
    "execution": {
     "iopub.execute_input": "2024-02-03T22:26:26.034420Z",
     "iopub.status.busy": "2024-02-03T22:26:26.034182Z",
     "iopub.status.idle": "2024-02-03T22:26:26.083952Z",
     "shell.execute_reply": "2024-02-03T22:26:26.083349Z",
     "shell.execute_reply.started": "2024-02-03T22:26:26.034400Z"
    },
    "tags": []
   },
   "outputs": [],
   "source": [
    "from flask import Flask, request, jsonify\n",
    "app = Flask(__name__)"
   ]
  },
  {
   "cell_type": "code",
   "execution_count": null,
   "id": "8adc72f0-0ba8-44d6-9c5c-22b9f5f82f77",
   "metadata": {
    "execution": {
     "iopub.execute_input": "2024-02-03T22:26:27.033970Z",
     "iopub.status.busy": "2024-02-03T22:26:27.033298Z"
    },
    "tags": []
   },
   "outputs": [
    {
     "name": "stdout",
     "output_type": "stream",
     "text": [
      " * Serving Flask app '__main__'\n",
      " * Debug mode: off\n"
     ]
    },
    {
     "name": "stderr",
     "output_type": "stream",
     "text": [
      "WARNING: This is a development server. Do not use it in a production deployment. Use a production WSGI server instead.\n",
      " * Running on all addresses (0.0.0.0)\n",
      " * Running on https://127.0.0.1:5000\n",
      " * Running on https://172.20.3.113:5000\n",
      "Press CTRL+C to quit\n",
      "172.20.8.42 - - [03/Feb/2024 22:42:39] \"GET /filter?mincolldate=2023-01-01T00:00:00.000Z..2023-12-31T23:59:59.000Z&declat=22.05316595745477..27.836047242545227&declon=118.21456665930681..124.59238234069319 HTTP/1.1\" 200 -\n",
      "172.20.8.42 - - [03/Feb/2024 22:44:10] \"GET /filter?mincolldate=2023-01-01T00:00:00.000Z..2023-12-31T23:59:59.000Z&declat=20.607470636182157..29.28174256381784&declon=116.62013773896022..126.18681126103978 HTTP/1.1\" 200 -\n",
      "172.20.8.42 - - [03/Feb/2024 22:49:52] \"GET /filter?mincolldate=2023-01-01T00:00:00.000Z..2023-12-31T23:59:59.000Z&declat=20.607470636182157..29.28174256381784&declon=116.62013773896022..126.18681126103978 HTTP/1.1\" 200 -\n",
      "172.20.8.42 - - [03/Feb/2024 22:52:29] \"GET /filter?mincolldate=2024-01-01T00:00:00.000Z..2024-02-03T22:52:27.000Z&declat=20.607470636182157..29.28174256381784&declon=116.62013773896022..126.18681126103978 HTTP/1.1\" 200 -\n",
      "172.20.8.42 - - [03/Feb/2024 22:57:29] \"GET /filter?mincolldate=2023-11-03T22:57:27.000Z..2024-02-03T22:57:27.000Z&declat=22.05316595745477..27.836047242545227&declon=118.21456665930681..124.59238234069319 HTTP/1.1\" 200 -\n"
     ]
    }
   ],
   "source": [
    "def filter_data(data, filter_criteria):\n",
    "    for key, value in filter_criteria.items():\n",
    "        if '..' in value:\n",
    "            min_val, max_val = value.split('..')\n",
    "            if 'T' in min_val:  # Handling datetime range\n",
    "                min_val = datetime.fromisoformat(min_val.replace('Z', '+00:00'))\n",
    "                max_val = datetime.fromisoformat(max_val.replace('Z', '+00:00'))\n",
    "                data = [item for item in data if key in item and min_val <= datetime.fromisoformat(item[key].replace('Z', '+00:00')) <= max_val]\n",
    "            else:  # Handling numeric range\n",
    "                min_val, max_val = float(min_val), float(max_val)\n",
    "                data = [item for item in data if key in item and min_val <= float(item[key]) <= max_val]\n",
    "        else:\n",
    "            # Handle exact match filters\n",
    "            data = [item for item in data if key in item and item[key] == value]\n",
    "    return data\n",
    "\n",
    "@app.route('/filter', methods=['GET'])\n",
    "def filter_json():\n",
    "    try:\n",
    "        filter_criteria = request.args.to_dict()\n",
    "        filtered_data = filter_data(json_data, filter_criteria)\n",
    "        return jsonify(filtered_data)\n",
    "    except Exception as e:\n",
    "        return jsonify({\"error\": str(e)}), 500\n",
    "\n",
    "# Run the app\n",
    "if __name__ == '__main__':\n",
    "    app.run(host='0.0.0.0', port=5000, ssl_context=('cert.pem', 'key.pem'))"
   ]
  },
  {
   "cell_type": "code",
   "execution_count": null,
   "id": "30154d3b-3167-4aef-8fba-044f367ccec3",
   "metadata": {
    "tags": []
   },
   "outputs": [],
   "source": []
  },
  {
   "cell_type": "code",
   "execution_count": null,
   "id": "fe0c2e99-f623-434e-8985-098bfd8217cb",
   "metadata": {},
   "outputs": [],
   "source": []
  }
 ],
 "metadata": {
  "has_local_update": false,
  "is_local": true,
  "is_remote": true,
  "kernelspec": {
   "display_name": "py-data-science",
   "language": "python",
   "name": "py-data-science"
  },
  "language_info": {
   "codemirror_mode": {
    "name": "ipython",
    "version": 3
   },
   "file_extension": ".py",
   "mimetype": "text/x-python",
   "name": "python",
   "nbconvert_exporter": "python",
   "pygments_lexer": "ipython3",
   "version": "3.9.18"
  },
  "last_sync_time": "2024-02-03T16:13:35.174049"
 },
 "nbformat": 4,
 "nbformat_minor": 5
}
