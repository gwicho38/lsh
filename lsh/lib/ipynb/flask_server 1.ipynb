{
 "cells": [
  {
   "cell_type": "code",
   "execution_count": 14,
   "id": "f95dc07a-2d28-4add-8910-0983914b03ee",
   "metadata": {
    "tags": []
   },
   "outputs": [
    {
     "ename": "SyntaxError",
     "evalue": "invalid syntax (214130100.py, line 1)",
     "output_type": "error",
     "traceback": [
      "\u001b[0;36m  Cell \u001b[0;32mIn[14], line 1\u001b[0;36m\u001b[0m\n\u001b[0;31m    openssl req -x509 -newkey rsa:4096 -nodes -keyout key.pem -out cert.pem -days 365\u001b[0m\n\u001b[0m            ^\u001b[0m\n\u001b[0;31mSyntaxError\u001b[0m\u001b[0;31m:\u001b[0m invalid syntax\n"
     ]
    }
   ],
   "source": [
    "# openssl req -x509 -newkey rsa:4096 -nodes -keyout key.pem -out cert.pem -days 365"
   ]
  },
  {
   "cell_type": "code",
   "execution_count": 1,
   "id": "12d70071-6fde-445f-9668-b6f158f61203",
   "metadata": {
    "execution": {
     "iopub.execute_input": "2024-02-15T17:14:58.252119Z",
     "iopub.status.busy": "2024-02-15T17:14:58.251833Z",
     "iopub.status.idle": "2024-02-15T17:14:59.865935Z",
     "shell.execute_reply": "2024-02-15T17:14:59.865167Z",
     "shell.execute_reply.started": "2024-02-15T17:14:58.252099Z"
    },
    "tags": []
   },
   "outputs": [
    {
     "name": "stdout",
     "output_type": "stream",
     "text": [
      "Requirement already satisfied: flask in /opt/conda/envs/py-data-science-client-ipython/lib/python3.9/site-packages (3.0.2)\n",
      "Requirement already satisfied: itsdangerous>=2.1.2 in /opt/conda/envs/py-data-science-client-ipython/lib/python3.9/site-packages (from flask) (2.1.2)\n",
      "Requirement already satisfied: importlib-metadata>=3.6.0 in /opt/conda/envs/py-data-science-client-ipython/lib/python3.9/site-packages (from flask) (7.0.1)\n",
      "Requirement already satisfied: blinker>=1.6.2 in /opt/conda/envs/py-data-science-client-ipython/lib/python3.9/site-packages (from flask) (1.7.0)\n",
      "Requirement already satisfied: Jinja2>=3.1.2 in /opt/conda/envs/py-data-science-client-ipython/lib/python3.9/site-packages (from flask) (3.1.2)\n",
      "Requirement already satisfied: click>=8.1.3 in /opt/conda/envs/py-data-science-client-ipython/lib/python3.9/site-packages (from flask) (8.1.7)\n",
      "Requirement already satisfied: Werkzeug>=3.0.0 in /opt/conda/envs/py-data-science-client-ipython/lib/python3.9/site-packages (from flask) (3.0.1)\n",
      "Requirement already satisfied: zipp>=0.5 in /opt/conda/envs/py-data-science-client-ipython/lib/python3.9/site-packages (from importlib-metadata>=3.6.0->flask) (3.17.0)\n",
      "Requirement already satisfied: MarkupSafe>=2.0 in /opt/conda/envs/py-data-science-client-ipython/lib/python3.9/site-packages (from Jinja2>=3.1.2->flask) (2.1.3)\n",
      "Note: you may need to restart the kernel to use updated packages.\n"
     ]
    }
   ],
   "source": [
    "import csv\n",
    "from datetime import datetime\n",
    "import pandas as pd\n",
    "import random\n",
    "from datetime import datetime, timedelta\n",
    "import pytz\n",
    "%pip install flask"
   ]
  },
  {
   "cell_type": "code",
   "execution_count": 2,
   "id": "73317868-71e4-4ae1-9ede-a4fec739adf8",
   "metadata": {
    "execution": {
     "iopub.execute_input": "2024-02-15T17:15:14.556615Z",
     "iopub.status.busy": "2024-02-15T17:15:14.556149Z",
     "iopub.status.idle": "2024-02-15T17:15:14.563746Z",
     "shell.execute_reply": "2024-02-15T17:15:14.563323Z",
     "shell.execute_reply.started": "2024-02-15T17:15:14.556592Z"
    },
    "tags": []
   },
   "outputs": [],
   "source": [
    "csv_file = \"./synthetic_gets.csv\"\n",
    "\n",
    "df = pd.read_csv(csv_file)"
   ]
  },
  {
   "cell_type": "code",
   "execution_count": 3,
   "id": "49e5b379-f4fb-4677-9d6e-c560bda6ce4b",
   "metadata": {
    "execution": {
     "iopub.execute_input": "2024-02-15T17:15:20.246242Z",
     "iopub.status.busy": "2024-02-15T17:15:20.245966Z",
     "iopub.status.idle": "2024-02-15T17:15:20.257256Z",
     "shell.execute_reply": "2024-02-15T17:15:20.256708Z",
     "shell.execute_reply.started": "2024-02-15T17:15:20.246224Z"
    },
    "tags": []
   },
   "outputs": [],
   "source": [
    "# Update Test Questions\n",
    "def random_date_in_last_30_days():\n",
    "    today = datetime.now()\n",
    "    random_days_ago = today - timedelta(days=random.randint(0, 30))\n",
    "    random_time = random_days_ago.replace(hour=random.randint(0, 23),\n",
    "                                          minute=random.randint(0, 59),\n",
    "                                          second=random.randint(0, 59))\n",
    "    return random_time\n",
    "\n",
    "df['mincolldate'] = df['mincolldate'].apply(lambda x: random_date_in_last_30_days())\n",
    "\n",
    "df['mincolldate'] = df['mincolldate'].apply(lambda x: x if x.tzinfo else x.replace(tzinfo=pytz.UTC))\n",
    "df['mincolldate'] = df['mincolldate'].apply(lambda x: x.isoformat().replace('+00:00', 'Z') if x.tzinfo == pytz.UTC else x.isoformat())\n",
    "\n",
    "df.to_csv(csv_file, index=False)"
   ]
  },
  {
   "cell_type": "code",
   "execution_count": 4,
   "id": "97b118fd-74c9-4a2a-97b3-c2510b240c47",
   "metadata": {
    "execution": {
     "iopub.execute_input": "2024-02-15T17:15:21.289903Z",
     "iopub.status.busy": "2024-02-15T17:15:21.289382Z",
     "iopub.status.idle": "2024-02-15T17:15:21.293977Z",
     "shell.execute_reply": "2024-02-15T17:15:21.293433Z",
     "shell.execute_reply.started": "2024-02-15T17:15:21.289872Z"
    },
    "tags": []
   },
   "outputs": [],
   "source": [
    "json_data = []\n",
    "with open(csv_file, mode='r', newline='') as file:\n",
    "    reader = csv.DictReader(file)\n",
    "    for row in reader:\n",
    "        json_data.append(row)"
   ]
  },
  {
   "cell_type": "code",
   "execution_count": 5,
   "id": "e81454a2-0a30-4256-aa84-ca18c3684e34",
   "metadata": {
    "execution": {
     "iopub.execute_input": "2024-02-15T17:15:23.245656Z",
     "iopub.status.busy": "2024-02-15T17:15:23.245039Z",
     "iopub.status.idle": "2024-02-15T17:15:23.284805Z",
     "shell.execute_reply": "2024-02-15T17:15:23.284314Z",
     "shell.execute_reply.started": "2024-02-15T17:15:23.245632Z"
    },
    "tags": []
   },
   "outputs": [],
   "source": [
    "from flask import Flask, request, jsonify\n",
    "app = Flask(__name__)"
   ]
  },
  {
   "cell_type": "code",
   "execution_count": 6,
   "id": "8adc72f0-0ba8-44d6-9c5c-22b9f5f82f77",
   "metadata": {
    "execution": {
     "iopub.execute_input": "2024-02-15T17:15:24.750979Z",
     "iopub.status.busy": "2024-02-15T17:15:24.750695Z",
     "iopub.status.idle": "2024-02-15T17:15:24.757557Z",
     "shell.execute_reply": "2024-02-15T17:15:24.757111Z",
     "shell.execute_reply.started": "2024-02-15T17:15:24.750960Z"
    },
    "tags": []
   },
   "outputs": [],
   "source": [
    "def filter_data(data, filter_criteria):\n",
    "    for key, value in filter_criteria.items():\n",
    "        if '..' in value:\n",
    "            min_val, max_val = value.split('..')\n",
    "            if 'T' in min_val:  # Handling datetime range\n",
    "                min_val = datetime.fromisoformat(min_val.replace('Z', '+00:00'))\n",
    "                max_val = datetime.fromisoformat(max_val.replace('Z', '+00:00'))\n",
    "                data = [item for item in data if key in item and min_val <= datetime.fromisoformat(item[key].replace('Z', '+00:00')) <= max_val]\n",
    "            else:  # Handling numeric range\n",
    "                min_val, max_val = float(min_val), float(max_val)\n",
    "                data = [item for item in data if key in item and min_val <= float(item[key]) <= max_val]\n",
    "        else:\n",
    "            # Handle exact match filters\n",
    "            data = [item for item in data if key in item and item[key] == value]\n",
    "    return data\n",
    "\n",
    "@app.route('/filter', methods=['GET'])\n",
    "def filter_json():\n",
    "    try:\n",
    "        filter_criteria = request.args.to_dict()\n",
    "        filtered_data = filter_data(json_data, filter_criteria)\n",
    "        return jsonify(filtered_data)\n",
    "    except Exception as e:\n",
    "        return jsonify({\"error\": str(e)}), 500"
   ]
  },
  {
   "cell_type": "code",
   "execution_count": null,
   "id": "6736faa0",
   "metadata": {
    "execution": {
     "iopub.execute_input": "2024-02-15T17:15:53.246646Z",
     "iopub.status.busy": "2024-02-15T17:15:53.245994Z"
    },
    "tags": []
   },
   "outputs": [
    {
     "name": "stdout",
     "output_type": "stream",
     "text": [
      " * Serving Flask app '__main__'\n",
      " * Debug mode: off\n"
     ]
    },
    {
     "name": "stderr",
     "output_type": "stream",
     "text": [
      "INFO:werkzeug:\u001b[31m\u001b[1mWARNING: This is a development server. Do not use it in a production deployment. Use a production WSGI server instead.\u001b[0m\n",
      " * Running on all addresses (0.0.0.0)\n",
      " * Running on https://127.0.0.1:5005\n",
      " * Running on https://172.20.12.33:5005\n",
      "INFO:werkzeug:\u001b[33mPress CTRL+C to quit\u001b[0m\n"
     ]
    }
   ],
   "source": [
    "# Run the app\n",
    "if __name__ == '__main__':\n",
    "    app.run(host='0.0.0.0', port=5005, ssl_context=('/home/c3/cert.pem', '/home/c3/key.pem'))"
   ]
  },
  {
   "cell_type": "code",
   "execution_count": null,
   "id": "9cd1b194-0b05-4945-865c-dff55967f735",
   "metadata": {},
   "outputs": [],
   "source": [
    "impo"
   ]
  }
 ],
 "metadata": {
  "has_local_update": true,
  "is_local": true,
  "is_remote": true,
  "kernelspec": {
   "display_name": "py-data-science",
   "language": "python",
   "name": "py-data-science"
  },
  "language_info": {
   "codemirror_mode": {
    "name": "ipython",
    "version": 3
   },
   "file_extension": ".py",
   "mimetype": "text/x-python",
   "name": "python",
   "nbconvert_exporter": "python",
   "pygments_lexer": "ipython3",
   "version": "3.9.18"
  },
  "last_sync_time": "2024-02-14T18:23:25.800302"
 },
 "nbformat": 4,
 "nbformat_minor": 5
}
