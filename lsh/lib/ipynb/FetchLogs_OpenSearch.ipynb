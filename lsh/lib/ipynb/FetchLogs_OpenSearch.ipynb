{
 "cells": [
  {
   "cell_type": "markdown",
   "id": "6c09c370-22e6-4b0b-a479-c81c53a09dcd",
   "metadata": {},
   "source": [
    "### Step 1: Run in static console"
   ]
  },
  {
   "cell_type": "code",
   "execution_count": 4,
   "id": "4b4529bb-3cdb-443d-b3e4-aae890f7910e",
   "metadata": {},
   "outputs": [],
   "source": [
    "token = c3.Base64.encodeString(\"c3-admin:c3Op$Adm!N\")\n",
    "c3.OpenSearch.setApiUrlAndAuth(\"http://opensearch-cluster-manager.c3-opsadmin:9200\", \"Basic \"+token)\n",
    "c3.OpenSearch.make().config().withTimeout(\"300s\").setConfig()"
   ]
  },
  {
   "cell_type": "code",
   "execution_count": 21,
   "id": "de7a03fd-ac39-43d1-968a-5fa61d6be36f",
   "metadata": {},
   "outputs": [],
   "source": [
    "import pandas as pd\n",
    "import numpy as np\n",
    "import openSearchExtractor\n",
    "from util import create_filename_prefix\n",
    "from openSearchExtractor import fetch_logs\n",
    "from datetime import timedelta, datetime, timezone\n",
    "import dateutil.parser as parser"
   ]
  },
  {
   "cell_type": "markdown",
   "id": "73a2b8c0-7809-4416-9770-6cca91564058",
   "metadata": {
    "tags": []
   },
   "source": [
    "### Step 2: Collect error or exception logs from open search for the given time frame and environment name"
   ]
  },
  {
   "cell_type": "code",
   "execution_count": 38,
   "id": "c5b95e1d-27ff-4ab4-8127-ae753d74ea0c",
   "metadata": {},
   "outputs": [],
   "source": [
    "# Define following variables:-\n",
    "\n",
    "# TIME_ENTRY: timestamp in UTC, use timedelta to change the timestamp entry. Logs will be fetched from -10 to +10 minutes for the given time entry\n",
    "TIME_ENTRY = datetime.now() + timedelta(minutes=)\n",
    "\n",
    "# time delta: the range around the timestamp entered above for which logs will be collected. Please enter the value in mins\n",
    "TIME_DELTA = 10\n",
    "\n",
    "\n",
    "# START_TIME: starting timestamp for the log collection in fromat YYYY-MM-DDTHH:mm:ss e.g. \"2023-07-05T00:00:00\"\n",
    "START_TIME = str((TIME_ENTRY + timedelta(minutes=-10)).isoformat())\n",
    "\n",
    "# END_TIME: ending timestamp for the log collection in fromat YYYY-MM-DDTHH:mm:ss e.g. \"2023-07-12T00:00:00\"\n",
    "END_TIME = str((TIME_ENTRY + timedelta(minutes=10)).isoformat())\n",
    "\n",
    "\n",
    "# APP_ID: app id to filter logs, 'cluster-env-app', example: 'gkev8c3apps-reliability-demo'\n",
    "APP_ID =  \"gkev8c3apps-\"\n",
    "\n",
    "# LIMIT: set a limit on the number log logs fetched. Set to -1 to fetch all the logs.\n",
    "LIMIT = -1"
   ]
  },
  {
   "cell_type": "code",
   "execution_count": 39,
   "id": "d339a348-5822-48c2-8c2a-37155b89ba7f",
   "metadata": {},
   "outputs": [
    {
     "name": "stdout",
     "output_type": "stream",
     "text": [
      "start time 2023-07-31T15:40:25.413454\n",
      "end time 2023-07-31T16:00:25.413454\n"
     ]
    }
   ],
   "source": [
    "print(\"Start Time in UTC: \" + START_TIME)\n",
    "print(\"End Time in UTC: \" + END_TIME)"
   ]
  },
  {
   "cell_type": "code",
   "execution_count": 40,
   "id": "0bce5c1a-9c37-45ae-b5ea-f44260056429",
   "metadata": {},
   "outputs": [],
   "source": [
    "# Constructing file names from variables\n",
    "# Common prefix for all file names generated for a single dataset e.g. 'gkev8c3apps-c3-c3_07-12_07-19'\n",
    "FILE_NAME_PREFIX = create_filename_prefix(APP_ID, START_TIME, END_TIME)\n",
    "\n",
    "# file name to save raw logs with the assgined templates e.e 'os_dev4-c3_07-12_07-19.logs'\n",
    "TEMPLATE_FILE_NAME = FILE_NAME_PREFIX + '_logs.csv'"
   ]
  },
  {
   "cell_type": "code",
   "execution_count": 41,
   "id": "e4d3cb48-e137-4191-b0df-7a53e0205a05",
   "metadata": {
    "tags": []
   },
   "outputs": [
    {
     "name": "stdout",
     "output_type": "stream",
     "text": [
      "\n",
      "No logs found!\n",
      "\n"
     ]
    },
    {
     "data": {
      "text/html": [
       "<div>\n",
       "<style scoped>\n",
       "    .dataframe tbody tr th:only-of-type {\n",
       "        vertical-align: middle;\n",
       "    }\n",
       "\n",
       "    .dataframe tbody tr th {\n",
       "        vertical-align: top;\n",
       "    }\n",
       "\n",
       "    .dataframe thead th {\n",
       "        text-align: right;\n",
       "    }\n",
       "</style>\n",
       "<table border=\"1\" class=\"dataframe\">\n",
       "  <thead>\n",
       "    <tr style=\"text-align: right;\">\n",
       "      <th></th>\n",
       "    </tr>\n",
       "  </thead>\n",
       "  <tbody>\n",
       "  </tbody>\n",
       "</table>\n",
       "</div>"
      ],
      "text/plain": [
       "Empty DataFrame\n",
       "Columns: []\n",
       "Index: []"
      ]
     },
     "execution_count": 41,
     "metadata": {},
     "output_type": "execute_result"
    }
   ],
   "source": [
    "logs_df = fetch_logs(c3, start_time=START_TIME, end_time=END_TIME, env_name=APP_ID, limit=LIMIT)\n",
    "logs_df.head(5)"
   ]
  },
  {
   "cell_type": "code",
   "execution_count": 9,
   "id": "ae6c8e7a-8e38-46fd-bddb-3f4cf6531a57",
   "metadata": {},
   "outputs": [],
   "source": [
    "logs_df.to_csv(TEMPLATE_FILE_NAME)"
   ]
  }
 ],
 "metadata": {
  "has_local_update": false,
  "is_local": true,
  "is_remote": true,
  "kernelspec": {
   "display_name": "py-data",
   "language": "python",
   "name": "py-data"
  },
  "language_info": {
   "codemirror_mode": {
    "name": "ipython",
    "version": 3
   },
   "file_extension": ".py",
   "mimetype": "text/x-python",
   "name": "python",
   "nbconvert_exporter": "python",
   "pygments_lexer": "ipython3",
   "version": "3.9.16"
  },
  "last_sync_time": "2023-07-31T15:52:49.491826",
  "toc-autonumbering": false,
  "toc-showmarkdowntxt": false,
  "toc-showtags": false
 },
 "nbformat": 4,
 "nbformat_minor": 5
}
