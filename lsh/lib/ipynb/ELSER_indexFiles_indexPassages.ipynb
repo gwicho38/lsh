{
 "cells": [
  {
   "cell_type": "code",
   "execution_count": 4,
   "id": "d45bb754-6983-4266-9cb1-163e526242fe",
   "metadata": {
    "execution": {
     "iopub.execute_input": "2024-02-29T20:02:13.454992Z",
     "iopub.status.busy": "2024-02-29T20:02:13.454595Z",
     "iopub.status.idle": "2024-02-29T20:02:13.493452Z",
     "shell.execute_reply": "2024-02-29T20:02:13.492699Z",
     "shell.execute_reply.started": "2024-02-29T20:02:13.454968Z"
    },
    "tags": []
   },
   "outputs": [],
   "source": [
    "e = c3.Genai.Retriever.Elser.make({\n",
    "    \"url\": \"https://ef5820953fd043b98fd9568dc18fbe57.us-east-1.aws.found.io:443\",\n",
    "    \"name\": \"20240229_full_test_1502\",\n",
    "    \"modelId\": \".20240229\",\n",
    "    \"apikey\": \"7YRqwtCWRMeU5HNJWH7FcQ\"\n",
    "}).create();"
   ]
  },
  {
   "cell_type": "code",
   "execution_count": 5,
   "id": "17ba0493-6502-4278-a1b3-94945a6083f8",
   "metadata": {
    "execution": {
     "iopub.execute_input": "2024-02-29T20:02:14.500895Z",
     "iopub.status.busy": "2024-02-29T20:02:14.500045Z",
     "iopub.status.idle": "2024-02-29T20:02:17.540171Z",
     "shell.execute_reply": "2024-02-29T20:02:17.539257Z",
     "shell.execute_reply.started": "2024-02-29T20:02:14.500863Z"
    },
    "tags": []
   },
   "outputs": [
    {
     "data": {
      "text/plain": [
       "{'acknowledged': True,\n",
       " 'shards_acknowledged': True,\n",
       " 'index': '20240229_full_test_1502'}"
      ]
     },
     "execution_count": 5,
     "metadata": {},
     "output_type": "execute_result"
    }
   ],
   "source": [
    "e.createIndex()"
   ]
  },
  {
   "cell_type": "code",
   "execution_count": 10,
   "id": "d1d05027-8ef3-48ed-8e93-81226f21dd88",
   "metadata": {
    "execution": {
     "iopub.execute_input": "2024-02-29T20:22:11.209652Z",
     "iopub.status.busy": "2024-02-29T20:22:11.208735Z",
     "iopub.status.idle": "2024-02-29T20:22:11.212735Z",
     "shell.execute_reply": "2024-02-29T20:22:11.211997Z",
     "shell.execute_reply.started": "2024-02-29T20:22:11.209618Z"
    },
    "tags": []
   },
   "outputs": [],
   "source": [
    "customerName = \"20240229_full_test_1502\""
   ]
  },
  {
   "cell_type": "code",
   "execution_count": 24,
   "id": "da7bd125-8d48-4464-8f96-d34c25544364",
   "metadata": {
    "execution": {
     "iopub.execute_input": "2024-02-29T21:26:36.733809Z",
     "iopub.status.busy": "2024-02-29T21:26:36.732950Z",
     "iopub.status.idle": "2024-02-29T21:26:36.738053Z",
     "shell.execute_reply": "2024-02-29T21:26:36.736970Z",
     "shell.execute_reply.started": "2024-02-29T21:26:36.733774Z"
    },
    "tags": []
   },
   "outputs": [],
   "source": [
    "customerName = \"corneaguru\""
   ]
  },
  {
   "cell_type": "code",
   "execution_count": null,
   "id": "c2953ea9-9cd4-4057-a41a-42371f27279c",
   "metadata": {},
   "outputs": [],
   "source": [
    "var vectorStore = Genai.Retriever.ColBERT.make({\n",
    "    \"id\": customerName,\n",
    "    \"name\": customerName,\n",
    "    \"dataConfigName\": customerName\n",
    "}).upsert();\n",
    "\n",
    "var sourceCollection = Genai.SourceCollection.make({\n",
    "    \"name\": customerName,\n",
    "    \"id\": customerName,\n",
    "    \"description\": \"Collection of files for \" + customerName,\n",
    "    \"rootUrl\": projectRootDir + \"unstructured/docs/\",\n",
    "    \"targetUrl\": projectRootDir + \"unstructured/passageFiles/\"\n",
    "}).upsert().get()"
   ]
  },
  {
   "cell_type": "code",
   "execution_count": 25,
   "id": "768349cd-56cc-4bfd-827c-68befee55560",
   "metadata": {
    "execution": {
     "iopub.execute_input": "2024-02-29T21:26:38.868552Z",
     "iopub.status.busy": "2024-02-29T21:26:38.867412Z",
     "iopub.status.idle": "2024-02-29T21:26:38.979499Z",
     "shell.execute_reply": "2024-02-29T21:26:38.978534Z",
     "shell.execute_reply.started": "2024-02-29T21:26:38.868517Z"
    },
    "tags": []
   },
   "outputs": [],
   "source": [
    "# e.g.: 'gcs://c3--gkev8c3apps/corneaguru1622/'\n",
    "# customerName = 'corneaguru'\n",
    "projectRootDir = [c3.FileSystem.parseRootUrl().scheme, \"://\", c3.FileSystem.parseRootUrl().host, \"/\", customerName, \"/\"]"
   ]
  },
  {
   "cell_type": "code",
   "execution_count": 26,
   "id": "eccaa6bc-d58c-4472-8355-aa97cb1480b2",
   "metadata": {
    "execution": {
     "iopub.execute_input": "2024-02-29T21:26:39.283559Z",
     "iopub.status.busy": "2024-02-29T21:26:39.282777Z",
     "iopub.status.idle": "2024-02-29T21:26:39.287592Z",
     "shell.execute_reply": "2024-02-29T21:26:39.286825Z",
     "shell.execute_reply.started": "2024-02-29T21:26:39.283523Z"
    },
    "tags": []
   },
   "outputs": [],
   "source": [
    "projectRootDir = \"\".join(projectRootDir)"
   ]
  },
  {
   "cell_type": "code",
   "execution_count": 28,
   "id": "6a726cee-aa6f-4281-b595-468ade3127f3",
   "metadata": {
    "execution": {
     "iopub.execute_input": "2024-02-29T21:27:16.991113Z",
     "iopub.status.busy": "2024-02-29T21:27:16.989929Z",
     "iopub.status.idle": "2024-02-29T21:27:17.028914Z",
     "shell.execute_reply": "2024-02-29T21:27:17.027869Z",
     "shell.execute_reply.started": "2024-02-29T21:27:16.991076Z"
    },
    "tags": []
   },
   "outputs": [],
   "source": [
    "sourceCollection = c3.Genai.SourceCollection.forId(\"corneaguru\")"
   ]
  },
  {
   "cell_type": "code",
   "execution_count": 29,
   "id": "515d96ad-4c1c-4af4-9e34-157256e44411",
   "metadata": {
    "execution": {
     "iopub.execute_input": "2024-02-29T21:27:22.209413Z",
     "iopub.status.busy": "2024-02-29T21:27:22.208624Z",
     "iopub.status.idle": "2024-02-29T21:27:23.930229Z",
     "shell.execute_reply": "2024-02-29T21:27:23.929516Z",
     "shell.execute_reply.started": "2024-02-29T21:27:22.209374Z"
    },
    "tags": []
   },
   "outputs": [
    {
     "data": {
      "text/plain": [
       "{\n",
       "  \"type\" : \"Genai.SourceCollection\",\n",
       "  \"name\" : \"corneaguru\",\n",
       "  \"id\" : \"corneaguru\",\n",
       "  \"meta\" : {\n",
       "    \"appCode\" : 1792261984851976342,\n",
       "    \"env\" : \"cornea1347\",\n",
       "    \"app\" : \"genaisearch\",\n",
       "    \"created\" : \"2024-02-29T21:26:19Z\",\n",
       "    \"createdBy\" : \"31cf4fee8caa1a6e301bd793d553853bc67613ddcd922b5cd585720d327e6f13\",\n",
       "    \"updated\" : \"2024-02-29T21:26:19Z\",\n",
       "    \"updatedBy\" : \"31cf4fee8caa1a6e301bd793d553853bc67613ddcd922b5cd585720d327e6f13\",\n",
       "    \"timestamp\" : \"2024-02-29T21:26:19Z\",\n",
       "    \"fetchInclude\" : \"[]\",\n",
       "    \"fetchType\" : \"Genai.SourceCollection\"\n",
       "  },\n",
       "  \"version\" : 1,\n",
       "  \"description\" : \"Collection of files for corneaguru\",\n",
       "  \"rootUrl\" : \"gcs://c3--gkev8c3apps/corneaguru/unstructured/docs/\",\n",
       "  \"targetUrl\" : \"gcs://c3--gkev8c3apps/corneaguru/unstructured/passageFiles/\",\n",
       "  \"groups\" : [ {\n",
       "    \"id\" : \"Genai.Common\"\n",
       "  }, {\n",
       "    \"id\" : \"C3.ClusterAdmin\"\n",
       "  }, {\n",
       "    \"id\" : \"C3.EnvAdmin\"\n",
       "  }, {\n",
       "    \"id\" : \"C3.AppAdmin\"\n",
       "  } ]\n",
       "}"
      ]
     },
     "execution_count": 29,
     "metadata": {},
     "output_type": "execute_result"
    }
   ],
   "source": [
    "sourceCollection"
   ]
  },
  {
   "cell_type": "code",
   "execution_count": 22,
   "id": "72495850-9dd8-4377-a1d7-39a485185ae1",
   "metadata": {
    "execution": {
     "iopub.execute_input": "2024-02-29T20:27:29.561908Z",
     "iopub.status.busy": "2024-02-29T20:27:29.561003Z",
     "iopub.status.idle": "2024-02-29T20:27:29.635488Z",
     "shell.execute_reply": "2024-02-29T20:27:29.634330Z",
     "shell.execute_reply.started": "2024-02-29T20:27:29.561866Z"
    },
    "tags": []
   },
   "outputs": [],
   "source": [
    "# sourceCollection = c3.Genai.SourceCollection.make({\n",
    "#     \"name\": customerName,\n",
    "#     \"id\": customerName,\n",
    "#     \"description\": \"Collection of files for \" + customerName,\n",
    "#     \"rootUrl\": projectRootDir + \"unstructured/docs/\",\n",
    "#     \"targetUrl\": projectRootDir + \"unstructured/passageFiles/\"\n",
    "# }).upsert().get()"
   ]
  },
  {
   "cell_type": "code",
   "execution_count": 30,
   "id": "be031172-d0de-4700-9507-8cd8946b89ad",
   "metadata": {
    "execution": {
     "iopub.execute_input": "2024-02-29T21:29:13.291442Z",
     "iopub.status.busy": "2024-02-29T21:29:13.291012Z",
     "iopub.status.idle": "2024-02-29T21:29:13.329294Z",
     "shell.execute_reply": "2024-02-29T21:29:13.328496Z",
     "shell.execute_reply.started": "2024-02-29T21:29:13.291413Z"
    },
    "tags": []
   },
   "outputs": [],
   "source": [
    "sourceCollection = c3.Genai.SourceCollection.forId(\"corneaguru\")"
   ]
  },
  {
   "cell_type": "code",
   "execution_count": 31,
   "id": "a7a8c704-b625-48be-8ddc-43b99e9880c9",
   "metadata": {
    "execution": {
     "iopub.execute_input": "2024-02-29T21:29:14.396712Z",
     "iopub.status.busy": "2024-02-29T21:29:14.396260Z",
     "iopub.status.idle": "2024-02-29T21:29:14.401778Z",
     "shell.execute_reply": "2024-02-29T21:29:14.400973Z",
     "shell.execute_reply.started": "2024-02-29T21:29:14.396681Z"
    },
    "tags": []
   },
   "outputs": [
    {
     "data": {
      "text/plain": [
       "'gcs://c3--gkev8c3apps/corneaguru/unstructured/docs/'"
      ]
     },
     "execution_count": 31,
     "metadata": {},
     "output_type": "execute_result"
    }
   ],
   "source": [
    "sourceCollection.rootUrl"
   ]
  },
  {
   "cell_type": "code",
   "execution_count": 32,
   "id": "192cda9e-92a6-4732-8561-7fa37b7143ce",
   "metadata": {
    "execution": {
     "iopub.execute_input": "2024-02-29T21:29:18.644001Z",
     "iopub.status.busy": "2024-02-29T21:29:18.642915Z",
     "iopub.status.idle": "2024-02-29T21:29:20.422071Z",
     "shell.execute_reply": "2024-02-29T21:29:20.421163Z",
     "shell.execute_reply.started": "2024-02-29T21:29:18.643962Z"
    },
    "tags": []
   },
   "outputs": [
    {
     "name": "stdout",
     "output_type": "stream",
     "text": [
      "File gcs://c3--gkev8c3apps/corneaguru/unstructured/docs/0bec840d0ec00b4260586402efb12e017d0120d7.pdf uploaded!\n",
      "File gcs://c3--gkev8c3apps/corneaguru/unstructured/docs/1b96e52d649edf2a3c16bb8298c87c542c6eafe0.pdf uploaded!\n",
      "File gcs://c3--gkev8c3apps/corneaguru/unstructured/docs/1b9e966227c2d7d91b9659ec53abb30cdd4b809f.pdf uploaded!\n",
      "File gcs://c3--gkev8c3apps/corneaguru/unstructured/docs/0d6f77f6919516e173bd2c1dcd97523752c007a6.pdf uploaded!\n",
      "File gcs://c3--gkev8c3apps/corneaguru/unstructured/docs/0fbcd00a0f076d2f6bb0260b7e3e682da98bcaf2.pdf uploaded!\n",
      "File gcs://c3--gkev8c3apps/corneaguru/unstructured/docs/1b62a3d666808898aaa22f81e21a04a715ce4167.pdf uploaded!\n",
      "File gcs://c3--gkev8c3apps/corneaguru/unstructured/docs/0bd69d0ee90b739c34d7ba589ef174d4a6a8ed99.pdf uploaded!\n",
      "File gcs://c3--gkev8c3apps/corneaguru/unstructured/docs/1ab40f87be19f050df7d918504d92db96617dbff.pdf uploaded!\n",
      "File gcs://c3--gkev8c3apps/corneaguru/unstructured/docs/0f676139cce7ee50fc015f56069d53050d191f4e.pdf uploaded!\n",
      "File gcs://c3--gkev8c3apps/corneaguru/unstructured/docs/1c2f00778234144c1be238473b93bd68e37a77c0.pdf uploaded!\n"
     ]
    }
   ],
   "source": [
    "# Upload documents to the data folder\n",
    "# Notebook\n",
    "local_dir = 'data/'\n",
    "\n",
    "for filename in os.listdir(local_dir):\n",
    "        if filename.endswith(\".pdf\"):\n",
    "            new_filename = filename.replace(\" \", \"\").replace(\"-\", \"\").replace(\"[\", \"\").replace(\"]\", \"\")\n",
    "            old_filepath = os.path.join(local_dir, filename)\n",
    "            new_filepath = os.path.join(local_dir, new_filename)\n",
    "            os.rename(old_filepath, new_filepath)\n",
    "\n",
    "for fname in os.listdir(local_dir):\n",
    "    if fname.endswith(\".pdf\"):\n",
    "        local_fullname = os.path.join(local_dir, fname)\n",
    "        remote_fullname = os.path.join(sourceCollection.rootUrl, fname)\n",
    "        if os.path.isfile(local_fullname):  # check if file exists\n",
    "            with open(local_fullname, \"rb\") as f:\n",
    "                c3.Client.uploadFile(f, remote_fullname)\n",
    "                print(f\"File {remote_fullname} uploaded!\")\n",
    "        else:\n",
    "            print(f\"File {local_fullname} does not exist.\")"
   ]
  },
  {
   "cell_type": "code",
   "execution_count": 33,
   "id": "ccb78a00-dfd6-4d4e-a7fd-95c84f111aa0",
   "metadata": {
    "execution": {
     "iopub.execute_input": "2024-02-29T21:30:48.405425Z",
     "iopub.status.busy": "2024-02-29T21:30:48.404991Z",
     "iopub.status.idle": "2024-02-29T21:30:49.737892Z",
     "shell.execute_reply": "2024-02-29T21:30:49.737033Z",
     "shell.execute_reply.started": "2024-02-29T21:30:48.405398Z"
    },
    "tags": []
   },
   "outputs": [],
   "source": [
    "files = c3.FileSystem.inst().listFiles(sourceCollection.rootUrl, limit=300)"
   ]
  },
  {
   "cell_type": "code",
   "execution_count": 34,
   "id": "d208f3f9-0dcd-4740-b78f-7ccc235d4704",
   "metadata": {
    "collapsed": true,
    "execution": {
     "iopub.execute_input": "2024-02-29T21:30:51.365977Z",
     "iopub.status.busy": "2024-02-29T21:30:51.365027Z",
     "iopub.status.idle": "2024-02-29T21:30:51.850411Z",
     "shell.execute_reply": "2024-02-29T21:30:51.849523Z",
     "shell.execute_reply.started": "2024-02-29T21:30:51.365940Z"
    },
    "jupyter": {
     "outputs_hidden": true
    },
    "tags": []
   },
   "outputs": [
    {
     "data": {
      "text/plain": [
       "{\n",
       "  \"type\" : \"ListFilesResult\",\n",
       "  \"files\" : [ {\n",
       "    \"type\" : \"GcsFile\",\n",
       "    \"contentLength\" : 251285,\n",
       "    \"eTag\" : \"CN+umJ6/0YQDEAE=\",\n",
       "    \"lastModified\" : \"2024-02-29T21:29:19Z\",\n",
       "    \"url\" : \"gcs://c3--gkev8c3apps/corneaguru/unstructured/docs/0bd69d0ee90b739c34d7ba589ef174d4a6a8ed99.pdf\"\n",
       "  }, {\n",
       "    \"type\" : \"GcsFile\",\n",
       "    \"contentLength\" : 93651,\n",
       "    \"eTag\" : \"CKDD2J2/0YQDEAE=\",\n",
       "    \"lastModified\" : \"2024-02-29T21:29:18Z\",\n",
       "    \"url\" : \"gcs://c3--gkev8c3apps/corneaguru/unstructured/docs/0bec840d0ec00b4260586402efb12e017d0120d7.pdf\"\n",
       "  }, {\n",
       "    \"type\" : \"GcsFile\",\n",
       "    \"contentLength\" : 526636,\n",
       "    \"eTag\" : \"CO3j952/0YQDEAE=\",\n",
       "    \"lastModified\" : \"2024-02-29T21:29:19Z\",\n",
       "    \"url\" : \"gcs://c3--gkev8c3apps/corneaguru/unstructured/docs/0d6f77f6919516e173bd2c1dcd97523752c007a6.pdf\"\n",
       "  }, {\n",
       "    \"type\" : \"GcsFile\",\n",
       "    \"contentLength\" : 637295,\n",
       "    \"eTag\" : \"COXrrJ6/0YQDEAE=\",\n",
       "    \"lastModified\" : \"2024-02-29T21:29:20Z\",\n",
       "    \"url\" : \"gcs://c3--gkev8c3apps/corneaguru/unstructured/docs/0f676139cce7ee50fc015f56069d53050d191f4e.pdf\"\n",
       "  }, {\n",
       "    \"type\" : \"GcsFile\",\n",
       "    \"contentLength\" : 54270,\n",
       "    \"eTag\" : \"COGpgp6/0YQDEAE=\",\n",
       "    \"lastModified\" : \"2024-02-29T21:29:19Z\",\n",
       "    \"url\" : \"gcs://c3--gkev8c3apps/corneaguru/unstructured/docs/0fbcd00a0f076d2f6bb0260b7e3e682da98bcaf2.pdf\"\n",
       "  }, {\n",
       "    \"type\" : \"GcsFile\",\n",
       "    \"contentLength\" : 808865,\n",
       "    \"eTag\" : \"CLe/op6/0YQDEAE=\",\n",
       "    \"lastModified\" : \"2024-02-29T21:29:20Z\",\n",
       "    \"url\" : \"gcs://c3--gkev8c3apps/corneaguru/unstructured/docs/1ab40f87be19f050df7d918504d92db96617dbff.pdf\"\n",
       "  }, {\n",
       "    \"type\" : \"GcsFile\",\n",
       "    \"contentLength\" : 195645,\n",
       "    \"eTag\" : \"CIOtjZ6/0YQDEAE=\",\n",
       "    \"lastModified\" : \"2024-02-29T21:29:19Z\",\n",
       "    \"url\" : \"gcs://c3--gkev8c3apps/corneaguru/unstructured/docs/1b62a3d666808898aaa22f81e21a04a715ce4167.pdf\"\n",
       "  }, {\n",
       "    \"type\" : \"GcsFile\",\n",
       "    \"contentLength\" : 204182,\n",
       "    \"eTag\" : \"CNWm4p2/0YQDEAE=\",\n",
       "    \"lastModified\" : \"2024-02-29T21:29:18Z\",\n",
       "    \"url\" : \"gcs://c3--gkev8c3apps/corneaguru/unstructured/docs/1b96e52d649edf2a3c16bb8298c87c542c6eafe0.pdf\"\n",
       "  }, {\n",
       "    \"type\" : \"GcsFile\",\n",
       "    \"contentLength\" : 477830,\n",
       "    \"eTag\" : \"CPm47Z2/0YQDEAE=\",\n",
       "    \"lastModified\" : \"2024-02-29T21:29:19Z\",\n",
       "    \"url\" : \"gcs://c3--gkev8c3apps/corneaguru/unstructured/docs/1b9e966227c2d7d91b9659ec53abb30cdd4b809f.pdf\"\n",
       "  }, {\n",
       "    \"type\" : \"GcsFile\",\n",
       "    \"contentLength\" : 116990,\n",
       "    \"eTag\" : \"CLHbuJ6/0YQDEAE=\",\n",
       "    \"lastModified\" : \"2024-02-29T21:29:20Z\",\n",
       "    \"url\" : \"gcs://c3--gkev8c3apps/corneaguru/unstructured/docs/1c2f00778234144c1be238473b93bd68e37a77c0.pdf\"\n",
       "  }, {\n",
       "    \"type\" : \"GcsFile\",\n",
       "    \"contentLength\" : 1150161,\n",
       "    \"eTag\" : \"CKWu6Yee0YQDEAE=\",\n",
       "    \"lastModified\" : \"2024-02-29T19:00:54Z\",\n",
       "    \"url\" : \"gcs://c3--gkev8c3apps/corneaguru/unstructured/docs/20220829XiJinpingLinesofAuthority.pdf\"\n",
       "  }, {\n",
       "    \"type\" : \"GcsFile\",\n",
       "    \"contentLength\" : 628699,\n",
       "    \"eTag\" : \"CPWLj4ie0YQDEAE=\",\n",
       "    \"lastModified\" : \"2024-02-29T19:00:55Z\",\n",
       "    \"url\" : \"gcs://c3--gkev8c3apps/corneaguru/unstructured/docs/20230612WherearethePLA'sothersatellitedazzlingfacilities.pdf\"\n",
       "  }, {\n",
       "    \"type\" : \"GcsFile\",\n",
       "    \"contentLength\" : 436188,\n",
       "    \"eTag\" : \"CKrN/oee0YQDEAE=\",\n",
       "    \"lastModified\" : \"2024-02-29T19:00:54Z\",\n",
       "    \"url\" : \"gcs://c3--gkev8c3apps/corneaguru/unstructured/docs/CanChinaTakeTaiwanv5.pdf\"\n",
       "  }, {\n",
       "    \"type\" : \"GcsFile\",\n",
       "    \"contentLength\" : 3744997,\n",
       "    \"eTag\" : \"CMP814ee0YQDEAE=\",\n",
       "    \"lastModified\" : \"2024-02-29T19:00:54Z\",\n",
       "    \"url\" : \"gcs://c3--gkev8c3apps/corneaguru/unstructured/docs/chineseairforce.pdf\"\n",
       "  } ]\n",
       "}"
      ]
     },
     "execution_count": 34,
     "metadata": {},
     "output_type": "execute_result"
    }
   ],
   "source": [
    "files"
   ]
  },
  {
   "cell_type": "code",
   "execution_count": 35,
   "id": "2ff9ba6e-be1e-437f-9692-7d6e000669b9",
   "metadata": {
    "execution": {
     "iopub.execute_input": "2024-02-29T21:31:01.398859Z",
     "iopub.status.busy": "2024-02-29T21:31:01.397919Z",
     "iopub.status.idle": "2024-02-29T21:31:01.403567Z",
     "shell.execute_reply": "2024-02-29T21:31:01.402865Z",
     "shell.execute_reply.started": "2024-02-29T21:31:01.398828Z"
    },
    "tags": []
   },
   "outputs": [
    {
     "data": {
      "text/plain": [
       "14"
      ]
     },
     "execution_count": 35,
     "metadata": {},
     "output_type": "execute_result"
    }
   ],
   "source": [
    "len(files.files)"
   ]
  },
  {
   "cell_type": "code",
   "execution_count": 36,
   "id": "84f590b5-d898-4ec1-b635-85efab2882f1",
   "metadata": {
    "execution": {
     "iopub.execute_input": "2024-02-29T21:32:56.834840Z",
     "iopub.status.busy": "2024-02-29T21:32:56.833824Z",
     "iopub.status.idle": "2024-02-29T21:32:56.839359Z",
     "shell.execute_reply": "2024-02-29T21:32:56.838517Z",
     "shell.execute_reply.started": "2024-02-29T21:32:56.834803Z"
    },
    "tags": []
   },
   "outputs": [],
   "source": [
    "# add metadata lambda function\n",
    "def applyMetadata(file):\n",
    "    import re\n",
    "    file_info = file.originalFile.fileName().split(\".\")\n",
    "    doc_type = None\n",
    "    doc_type = file_info[1]\n",
    "    tags = [\"cornea\"]\n",
    "    return c3.Genai.SourceFile.Metadata(fileName=file_info[0], tags=tags, fileType=doc_type)"
   ]
  },
  {
   "cell_type": "code",
   "execution_count": null,
   "id": "04d844f8-1594-4efe-a182-f0348fd42f5c",
   "metadata": {},
   "outputs": [],
   "source": []
  }
 ],
 "metadata": {
  "has_local_update": false,
  "is_local": true,
  "is_remote": true,
  "kernelspec": {
   "display_name": "py-colbertfaiss",
   "language": "python",
   "name": "py-colbertfaiss"
  },
  "language_info": {
   "codemirror_mode": {
    "name": "ipython",
    "version": 3
   },
   "file_extension": ".py",
   "mimetype": "text/x-python",
   "name": "python",
   "nbconvert_exporter": "python",
   "pygments_lexer": "ipython3",
   "version": "3.9.18"
  },
  "last_sync_time": "2024-02-29T19:54:23.597260"
 },
 "nbformat": 4,
 "nbformat_minor": 5
}
