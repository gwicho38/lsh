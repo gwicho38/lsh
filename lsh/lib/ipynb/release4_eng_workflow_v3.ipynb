{
 "cells": [
  {
   "cell_type": "code",
   "execution_count": null,
   "id": "3d0e78b0-2830-4d14-b184-1890fa1f2d62",
   "metadata": {},
   "outputs": [],
   "source": [
    "# Package Path\n",
    "# meta://guruSearchUI"
   ]
  },
  {
   "cell_type": "markdown",
   "id": "95613e72-7d39-436d-965d-8a2e9069a695",
   "metadata": {},
   "source": [
    "## Local Jupyter Lab"
   ]
  },
  {
   "cell_type": "markdown",
   "id": "9acdbc92-a94a-42fd-af89-640c989b54e0",
   "metadata": {},
   "source": [
    "### Install Jupyter Lab"
   ]
  },
  {
   "cell_type": "markdown",
   "id": "31aca19c-738b-4603-b02f-43189b9787e1",
   "metadata": {},
   "source": [
    "`pip3 install jupyterlab`"
   ]
  },
  {
   "cell_type": "markdown",
   "id": "e98b5991-381e-4797-843a-bb28779ce538",
   "metadata": {},
   "source": [
    "`jupyter lab`"
   ]
  },
  {
   "cell_type": "markdown",
   "id": "89d628a8-f530-4ebd-b898-c3084a99c8ea",
   "metadata": {},
   "source": [
    "### Set HW Profile"
   ]
  },
  {
   "cell_type": "markdown",
   "id": "c824a198-8ba9-498f-a248-6d86827e0306",
   "metadata": {},
   "source": [
    "```js\n",
    "var cpus = 8;\n",
    "var memory = 64000;\n",
    "var jvmRatio = 0.5;\n",
    "C3.app().nodePool(\"singlenode\").setHardwareProfile(cpus, memory, 0).setJvmSpec(jvmRatio).update();\n",
    "```"
   ]
  },
  {
   "cell_type": "markdown",
   "id": "2936b4e9-1362-4b6c-afb9-ac93ca895300",
   "metadata": {},
   "source": [
    "### Connect to C3 (only for local)"
   ]
  },
  {
   "cell_type": "code",
   "execution_count": null,
   "id": "b2d68ade-c280-4035-a138-281f279056c5",
   "metadata": {
    "tags": []
   },
   "outputs": [],
   "source": [
    "# only run this if on local jupyter instance\n",
    "import os\n",
    "def load_c3(url, auth):\n",
    "    \"\"\"Returns c3 remote type system for python.\"\"\"\n",
    "    from urllib.request import urlopen\n",
    "    src = urlopen(os.path.join(url, 'remote/c3.py')).read()\n",
    "    exec_scope = {}\n",
    "    exec(src, exec_scope)  # pylint: disable=exec-used\n",
    "    return exec_scope[\"get_c3\"](url=url, authz=auth)\n",
    " \n",
    "## copy(Authenticator.generateActionAuthToken()) from console"
   ]
  },
  {
   "cell_type": "code",
   "execution_count": null,
   "id": "3626c090-d952-4e87-8dfa-f5d794a67e34",
   "metadata": {
    "tags": []
   },
   "outputs": [],
   "source": [
    "TOKEN = \"eyJ0eXAiOiJKV1QiLCJhbGciOiJSUzUxMiJ9.eyJhcHAiOiJna2V2OGRldi0yMDI0MDEwNHYwLWd1cnVzZWFyY2h1aSIsImlzcyI6ImMzLmFpIiwiZ3JvdXBzIjpbIkMzLkFwcEFkbWluIiwiQzMuRW52QWRtaW4iXSwic2lkIjoxLCJhdWQiOiJjMy5haSIsImlkcCI6IiIsImMzZ3JvdXBzIjpbIkMzLkFwcEFkbWluIiwiQzMuRW52QWRtaW4iXSwiaWRwZ3JvdXBzIjoie1wiT2lkY0lkcENvbmZpZzo6Z2tldjhkZXYuYzNkZXYuY2xvdWRcIjpbXCJkZXYuT2lkY0RlZmF1bHRHcm91cFwiXX0iLCJzc2lkeCI6IiIsIm5hbWUiOiJmYzgwNDEzYjE5NjViMDFhYjMxZjEzMTMyYWMxOTYyOGQ2NDA3NGE2NTI2NDJlMmM4ZDBiMTgwYTU1ZmNlYzlmIiwiYWN0aW9uaWQiOiI5NDEzLjU4MDczNjY1IiwiaWQiOiJmYzgwNDEzYjE5NjViMDFhYjMxZjEzMTMyYWMxOTYyOGQ2NDA3NGE2NTI2NDJlMmM4ZDBiMTgwYTU1ZmNlYzlmIiwiZXhwIjoxNzA0NDkzMjM1MDAwLCJlbWFpbCI6Imx1aXMuZmVybmFuZGV6LWRlLWxhLXZhcmFAYzMuYWkifQ.So4hLVNn6eoMd7Eiqi8w7hgm5ii8bKZSe-cKbVAUAAyocjogVE8kMolaGJ4A_ZeBb7ys46ENfHfxsJxrs-IAOyk_p3IdJ8vguO-AgsdTaKbmIjwPxn8E7qBoE7T0hew85Z6MRPMsqvL37Tjug8Mer3LPCFM6x23-qwhfSvCIL4vtabIxhYvANcHbWTJeMRjCFKXyjpFIGkAFM385Ub-lcthLcpkpb3mqu3irC3ZJW7-7v7WV-WpL-w5wwC4HbtgNDH-JXusJ3PF9ysx89nfNU0Aazg5v6oG5_-X3gQ_WmS092vo2U17YLeUkn_y6KnIasjhsMr-Y7Oe-ILVC8uuPxg\""
   ]
  },
  {
   "cell_type": "code",
   "execution_count": null,
   "id": "b6e60ed2-100e-4c92-8efa-ec36888ea14c",
   "metadata": {
    "tags": []
   },
   "outputs": [],
   "source": [
    "url = \"https://gkev8dev.c3dev.cloud/20240104v0/gurusearchui/\""
   ]
  },
  {
   "cell_type": "code",
   "execution_count": null,
   "id": "05855cae-8f29-4bf6-bdd1-bcceb318f490",
   "metadata": {
    "tags": []
   },
   "outputs": [],
   "source": [
    "c3 = load_c3(url=url, auth=TOKEN)"
   ]
  },
  {
   "cell_type": "markdown",
   "id": "df443af9-ee87-4e2c-aecc-d803d71df154",
   "metadata": {},
   "source": [
    "## Debug"
   ]
  },
  {
   "cell_type": "code",
   "execution_count": null,
   "id": "fac44386-790c-4490-8daf-87b090875b4b",
   "metadata": {
    "tags": []
   },
   "outputs": [],
   "source": [
    "# https://gkev8c3apps.c3-e.com/opensearch/goto/de55cfbb842e3c4b83e66bcf3d74afa3"
   ]
  },
  {
   "cell_type": "code",
   "execution_count": null,
   "id": "dc5561e6-89e8-43f6-ad81-dcef33c6308f",
   "metadata": {
    "tags": []
   },
   "outputs": [],
   "source": [
    "# https://gkev8dev.c3dev.cloud/opensearch/app/discover#/?_g=(filters:!(),refreshInterval:(pause:!t,value:0),time:(from:now-15m,to:now))&_a=(columns:!(environment,message),filters:!(('$state':(store:appState),meta:(alias:!n,disabled:!f,index:'4a087be0-8572-11ee-ba67-2ffaa880f192',key:environment,negate:!f,params:(query:'20240104v0'),type:phrase),query:(match_phrase:(environment:'20240104v0')))),index:'4a087be0-8572-11ee-ba67-2ffaa880f192',interval:auto,query:(language:kuery,query:''),sort:!())"
   ]
  },
  {
   "cell_type": "code",
   "execution_count": null,
   "id": "fbf8d29e-ff38-4c34-8899-e2ec224afe56",
   "metadata": {
    "tags": []
   },
   "outputs": [],
   "source": [
    "queues = c3.InvalidationQueue.countAll()"
   ]
  },
  {
   "cell_type": "code",
   "execution_count": null,
   "id": "311cbed8-b023-46e3-8ba4-4c475b7a14ad",
   "metadata": {
    "tags": []
   },
   "outputs": [],
   "source": [
    "c3.app().actionDump()"
   ]
  },
  {
   "cell_type": "markdown",
   "id": "424790c5-fcb8-4c6c-b278-ca307caf1fbe",
   "metadata": {},
   "source": [
    "## Reset State"
   ]
  },
  {
   "cell_type": "code",
   "execution_count": 247,
   "id": "831b25c4-790f-4df8-a857-f7877852c3e0",
   "metadata": {
    "execution": {
     "iopub.execute_input": "2024-03-01T06:24:23.211578Z",
     "iopub.status.busy": "2024-03-01T06:24:23.211029Z",
     "iopub.status.idle": "2024-03-01T06:24:23.274218Z",
     "shell.execute_reply": "2024-03-01T06:24:23.273146Z",
     "shell.execute_reply.started": "2024-03-01T06:24:23.211537Z"
    },
    "tags": []
   },
   "outputs": [],
   "source": [
    "# Notebook\n",
    "c3.Py.closeAllPy4jInterpreters()"
   ]
  },
  {
   "cell_type": "code",
   "execution_count": null,
   "id": "b22ae1f7-1cdd-44d1-a86c-990fb4a40854",
   "metadata": {},
   "outputs": [],
   "source": [
    "# Probably should skip this cell\n",
    "c3.Server.restart()"
   ]
  },
  {
   "cell_type": "code",
   "execution_count": 2,
   "id": "12971fef-eee3-4042-8ab6-e7e317326478",
   "metadata": {
    "execution": {
     "iopub.execute_input": "2024-03-01T04:26:30.207651Z",
     "iopub.status.busy": "2024-03-01T04:26:30.207138Z",
     "iopub.status.idle": "2024-03-01T04:26:30.533792Z",
     "shell.execute_reply": "2024-03-01T04:26:30.532937Z",
     "shell.execute_reply.started": "2024-03-01T04:26:30.207620Z"
    },
    "tags": []
   },
   "outputs": [],
   "source": [
    "# Notebook\n",
    "c3.Pkg.setDevMode(True)"
   ]
  },
  {
   "cell_type": "code",
   "execution_count": 3,
   "id": "c8c43375-aa3e-43d7-bf1e-ae6533446737",
   "metadata": {
    "execution": {
     "iopub.execute_input": "2024-03-01T04:26:32.209300Z",
     "iopub.status.busy": "2024-03-01T04:26:32.208202Z",
     "iopub.status.idle": "2024-03-01T04:26:32.212440Z",
     "shell.execute_reply": "2024-03-01T04:26:32.211732Z",
     "shell.execute_reply.started": "2024-03-01T04:26:32.209267Z"
    },
    "tags": []
   },
   "outputs": [],
   "source": [
    "# customerName = BASE_CUSTOMER_NAME + CURRENT_DATETIME\n",
    "customerName = \"corneaguru\""
   ]
  },
  {
   "cell_type": "code",
   "execution_count": 4,
   "id": "9cefab08-d181-4f1d-b115-3fcd06cdd010",
   "metadata": {
    "execution": {
     "iopub.execute_input": "2024-03-01T04:26:33.439237Z",
     "iopub.status.busy": "2024-03-01T04:26:33.438095Z",
     "iopub.status.idle": "2024-03-01T04:26:33.443509Z",
     "shell.execute_reply": "2024-03-01T04:26:33.442590Z",
     "shell.execute_reply.started": "2024-03-01T04:26:33.439190Z"
    },
    "tags": []
   },
   "outputs": [
    {
     "name": "stdout",
     "output_type": "stream",
     "text": [
      "corneaguru\n"
     ]
    }
   ],
   "source": [
    "print(customerName)"
   ]
  },
  {
   "cell_type": "code",
   "execution_count": 5,
   "id": "742dede2-9123-43a6-9ca3-6324942e4869",
   "metadata": {
    "execution": {
     "iopub.execute_input": "2024-03-01T04:26:34.968048Z",
     "iopub.status.busy": "2024-03-01T04:26:34.967692Z",
     "iopub.status.idle": "2024-03-01T04:26:35.503749Z",
     "shell.execute_reply": "2024-03-01T04:26:35.502999Z",
     "shell.execute_reply.started": "2024-03-01T04:26:34.968022Z"
    },
    "tags": []
   },
   "outputs": [
    {
     "data": {
      "text/plain": [
       "0"
      ]
     },
     "execution_count": 5,
     "metadata": {},
     "output_type": "execute_result"
    }
   ],
   "source": [
    "c3.SourceFile.fetchCount()"
   ]
  },
  {
   "cell_type": "code",
   "execution_count": 6,
   "id": "bed03c2a-bfe0-45bd-9c2f-006af6898909",
   "metadata": {
    "execution": {
     "iopub.execute_input": "2024-03-01T04:26:37.208557Z",
     "iopub.status.busy": "2024-03-01T04:26:37.208184Z",
     "iopub.status.idle": "2024-03-01T04:26:42.929668Z",
     "shell.execute_reply": "2024-03-01T04:26:42.928737Z",
     "shell.execute_reply.started": "2024-03-01T04:26:37.208530Z"
    },
    "tags": []
   },
   "outputs": [
    {
     "data": {
      "text/plain": [
       "1"
      ]
     },
     "execution_count": 6,
     "metadata": {},
     "output_type": "execute_result"
    }
   ],
   "source": [
    "# Notebook\n",
    "c3.Py.closeAllPy4jInterpreters()\n",
    "c3.SourceFile.removeAll({}, True)\n",
    "c3.Genai.Retriever.ColBERT.removeAll({}, True)\n",
    "c3.Genai.SourceCollection.forId(customerName).removeAll({}, True)\n",
    "# c3.Server.restart()\n",
    "# error on line 'c3.Genai.SourceCollection.forId(customerName).removeAll({}, True)' is OK"
   ]
  },
  {
   "cell_type": "code",
   "execution_count": null,
   "id": "1bc8ce76-5b3e-4a3c-babb-c3569a8a87f6",
   "metadata": {
    "tags": []
   },
   "outputs": [],
   "source": [
    "# if production bundle needed\n",
    "# c3.UiSdlConfig.setConfigValue(\"infrastructure.webpackMode\", \"production\");\n",
    "# c3.UiBundler.generateBundles()"
   ]
  },
  {
   "cell_type": "code",
   "execution_count": 7,
   "id": "d800ea4b-1b67-443f-8370-3f09dd8d70b6",
   "metadata": {
    "execution": {
     "iopub.execute_input": "2024-03-01T04:26:44.610753Z",
     "iopub.status.busy": "2024-03-01T04:26:44.610380Z",
     "iopub.status.idle": "2024-03-01T04:26:49.421804Z",
     "shell.execute_reply": "2024-03-01T04:26:49.420956Z",
     "shell.execute_reply.started": "2024-03-01T04:26:44.610727Z"
    },
    "tags": []
   },
   "outputs": [],
   "source": [
    "# Notebook\n",
    "c3.UiSdlConfig.setConfigValue(\"infrastructure.webpackMode\", \"development\");"
   ]
  },
  {
   "cell_type": "code",
   "execution_count": 8,
   "id": "cb6159e9-7fc5-4d1d-a7f7-b4de24f9a1e1",
   "metadata": {
    "execution": {
     "iopub.execute_input": "2024-03-01T04:26:49.423448Z",
     "iopub.status.busy": "2024-03-01T04:26:49.423179Z",
     "iopub.status.idle": "2024-03-01T04:26:49.653686Z",
     "shell.execute_reply": "2024-03-01T04:26:49.652931Z",
     "shell.execute_reply.started": "2024-03-01T04:26:49.423426Z"
    },
    "tags": []
   },
   "outputs": [
    {
     "data": {
      "text/plain": [
       "0"
      ]
     },
     "execution_count": 8,
     "metadata": {},
     "output_type": "execute_result"
    }
   ],
   "source": [
    "# Notebook\n",
    "c3.EnableAclPrivilege.removeAll(confirm=True)"
   ]
  },
  {
   "cell_type": "code",
   "execution_count": 9,
   "id": "8f014644-30c5-4010-8da8-23fed7d4f09f",
   "metadata": {
    "execution": {
     "iopub.execute_input": "2024-03-01T04:26:51.426583Z",
     "iopub.status.busy": "2024-03-01T04:26:51.425589Z",
     "iopub.status.idle": "2024-03-01T04:26:51.805552Z",
     "shell.execute_reply": "2024-03-01T04:26:51.804816Z",
     "shell.execute_reply.started": "2024-03-01T04:26:51.426537Z"
    },
    "tags": []
   },
   "outputs": [
    {
     "data": {
      "text/plain": [
       "0"
      ]
     },
     "execution_count": 9,
     "metadata": {},
     "output_type": "execute_result"
    }
   ],
   "source": [
    "c3.Genai.Query.Result.fetchCount()"
   ]
  },
  {
   "cell_type": "code",
   "execution_count": 10,
   "id": "bae12cd2-ff8f-4a61-87d2-c61c9d51dfde",
   "metadata": {
    "execution": {
     "iopub.execute_input": "2024-03-01T04:26:51.821769Z",
     "iopub.status.busy": "2024-03-01T04:26:51.820933Z",
     "iopub.status.idle": "2024-03-01T04:26:51.860267Z",
     "shell.execute_reply": "2024-03-01T04:26:51.859503Z",
     "shell.execute_reply.started": "2024-03-01T04:26:51.821736Z"
    },
    "tags": []
   },
   "outputs": [
    {
     "data": {
      "text/plain": [
       "0"
      ]
     },
     "execution_count": 10,
     "metadata": {},
     "output_type": "execute_result"
    }
   ],
   "source": [
    "c3.Genai.Query.Result.removeAll({}, True)"
   ]
  },
  {
   "cell_type": "markdown",
   "id": "b3002e8a-0c98-44d9-8471-eb52d39eeaa0",
   "metadata": {},
   "source": [
    "## Set Secrets"
   ]
  },
  {
   "cell_type": "code",
   "execution_count": 11,
   "id": "09f6a95e-a1ef-4356-bf90-4d27a48ea08d",
   "metadata": {
    "execution": {
     "iopub.execute_input": "2024-03-01T04:26:53.788808Z",
     "iopub.status.busy": "2024-03-01T04:26:53.787850Z",
     "iopub.status.idle": "2024-03-01T04:26:54.573832Z",
     "shell.execute_reply": "2024-03-01T04:26:54.572937Z",
     "shell.execute_reply.started": "2024-03-01T04:26:53.788767Z"
    },
    "tags": []
   },
   "outputs": [],
   "source": [
    "# Notebook\n",
    "c3.UiSdlMapboxConfig.setSecretValue('accessToken', 'pk.eyJ1IjoiYzNsdWlzZmVybmFuZGV6ZGVsYXZhcmEiLCJhIjoiY2w3Z21oemR0MDYwbDNwcWkzaG5jMnQ4bCJ9.3z8k2ii6JRH_mS8Bl6n-2g')"
   ]
  },
  {
   "cell_type": "code",
   "execution_count": 12,
   "id": "89659030-5957-4883-8d3e-be22e8ee994b",
   "metadata": {
    "execution": {
     "iopub.execute_input": "2024-03-01T04:26:54.575837Z",
     "iopub.status.busy": "2024-03-01T04:26:54.575247Z",
     "iopub.status.idle": "2024-03-01T04:26:55.326227Z",
     "shell.execute_reply": "2024-03-01T04:26:55.325434Z",
     "shell.execute_reply.started": "2024-03-01T04:26:54.575807Z"
    },
    "tags": []
   },
   "outputs": [],
   "source": [
    "# Notebook\n",
    "c3.Genai.Llm.OpenAI.Config.make().setSecretValue(\"apiKey\", \"6abe24ddab0d40bca880276485ca211f\")"
   ]
  },
  {
   "cell_type": "markdown",
   "id": "7303662b-057e-43c3-948b-7fd47959d930",
   "metadata": {
    "execution": {
     "iopub.execute_input": "2023-12-27T06:39:28.868705Z",
     "iopub.status.busy": "2023-12-27T06:39:28.867651Z",
     "iopub.status.idle": "2023-12-27T06:39:28.871608Z",
     "shell.execute_reply": "2023-12-27T06:39:28.870987Z",
     "shell.execute_reply.started": "2023-12-27T06:39:28.868668Z"
    },
    "tags": []
   },
   "source": [
    "## Create VS Mount"
   ]
  },
  {
   "cell_type": "code",
   "execution_count": 13,
   "id": "61ceb696-5051-4710-ab2f-9fb16126e4fd",
   "metadata": {
    "execution": {
     "iopub.execute_input": "2024-03-01T04:26:57.208288Z",
     "iopub.status.busy": "2024-03-01T04:26:57.207525Z",
     "iopub.status.idle": "2024-03-01T04:26:57.212982Z",
     "shell.execute_reply": "2024-03-01T04:26:57.212340Z",
     "shell.execute_reply.started": "2024-03-01T04:26:57.208254Z"
    },
    "tags": []
   },
   "outputs": [
    {
     "data": {
      "text/plain": [
       "'corneaguru'"
      ]
     },
     "execution_count": 13,
     "metadata": {},
     "output_type": "execute_result"
    }
   ],
   "source": [
    "customerName"
   ]
  },
  {
   "cell_type": "code",
   "execution_count": 14,
   "id": "c50ba58b-6b9f-4f2d-8333-8f3f383e70a4",
   "metadata": {
    "execution": {
     "iopub.execute_input": "2024-03-01T04:26:58.342891Z",
     "iopub.status.busy": "2024-03-01T04:26:58.342460Z",
     "iopub.status.idle": "2024-03-01T04:27:00.526967Z",
     "shell.execute_reply": "2024-03-01T04:27:00.526145Z",
     "shell.execute_reply.started": "2024-03-01T04:26:58.342861Z"
    },
    "tags": []
   },
   "outputs": [],
   "source": [
    "# e.g.: 'gcs://c3--gkev8c3apps/corneaguru1622/'\n",
    "customerName = 'corneaguru'\n",
    "projectRootDir = [c3.FileSystem.parseRootUrl().scheme, \"://\", c3.FileSystem.parseRootUrl().host, \"/\", customerName, \"/\"]"
   ]
  },
  {
   "cell_type": "code",
   "execution_count": 15,
   "id": "0045b51d-c236-4ec2-870e-3cbf8515d521",
   "metadata": {
    "execution": {
     "iopub.execute_input": "2024-03-01T04:27:00.528657Z",
     "iopub.status.busy": "2024-03-01T04:27:00.528347Z",
     "iopub.status.idle": "2024-03-01T04:27:00.532090Z",
     "shell.execute_reply": "2024-03-01T04:27:00.531501Z",
     "shell.execute_reply.started": "2024-03-01T04:27:00.528628Z"
    },
    "tags": []
   },
   "outputs": [],
   "source": [
    "projectRootDir = \"\".join(projectRootDir)"
   ]
  },
  {
   "cell_type": "code",
   "execution_count": 16,
   "id": "5a8b7713-29f5-487b-9476-f82ea194279b",
   "metadata": {
    "execution": {
     "iopub.execute_input": "2024-03-01T04:27:00.533103Z",
     "iopub.status.busy": "2024-03-01T04:27:00.532892Z",
     "iopub.status.idle": "2024-03-01T04:27:00.537423Z",
     "shell.execute_reply": "2024-03-01T04:27:00.536853Z",
     "shell.execute_reply.started": "2024-03-01T04:27:00.533085Z"
    },
    "tags": []
   },
   "outputs": [
    {
     "data": {
      "text/plain": [
       "'gcs://c3--gkev8c3apps/corneaguru/'"
      ]
     },
     "execution_count": 16,
     "metadata": {},
     "output_type": "execute_result"
    }
   ],
   "source": [
    "projectRootDir"
   ]
  },
  {
   "cell_type": "code",
   "execution_count": 17,
   "id": "fe48e8cd-4353-4268-a83c-a62eef8ca834",
   "metadata": {
    "execution": {
     "iopub.execute_input": "2024-03-01T04:27:02.382972Z",
     "iopub.status.busy": "2024-03-01T04:27:02.382551Z",
     "iopub.status.idle": "2024-03-01T04:27:03.718903Z",
     "shell.execute_reply": "2024-03-01T04:27:03.717711Z",
     "shell.execute_reply.started": "2024-03-01T04:27:02.382940Z"
    },
    "tags": []
   },
   "outputs": [
    {
     "data": {
      "text/plain": [
       "{\n",
       "  \"type\" : \"ListFilesResult\"\n",
       "}"
      ]
     },
     "execution_count": 17,
     "metadata": {},
     "output_type": "execute_result"
    }
   ],
   "source": [
    "c3.FileSystem.setMount(customerName + \"-mount\", projectRootDir)\n",
    "c3.FileSystem.setMount(\"vector-store\", projectRootDir + \"vector-store/\")\n",
    "c3.FileSystem.inst().listFiles(\"vector-store\", projectRootDir + \"vector-store/\")"
   ]
  },
  {
   "cell_type": "code",
   "execution_count": 18,
   "id": "df269dd7-7b1b-4933-b5a4-0a9224638a37",
   "metadata": {
    "execution": {
     "iopub.execute_input": "2024-03-01T04:27:03.720962Z",
     "iopub.status.busy": "2024-03-01T04:27:03.720559Z",
     "iopub.status.idle": "2024-03-01T04:27:03.749401Z",
     "shell.execute_reply": "2024-03-01T04:27:03.748524Z",
     "shell.execute_reply.started": "2024-03-01T04:27:03.720937Z"
    },
    "tags": []
   },
   "outputs": [],
   "source": [
    "fs = c3.FileSystem.inst()"
   ]
  },
  {
   "cell_type": "code",
   "execution_count": 19,
   "id": "04098ca3-b663-4fd1-86dc-76dabb2eb171",
   "metadata": {
    "execution": {
     "iopub.execute_input": "2024-03-01T04:27:03.794091Z",
     "iopub.status.busy": "2024-03-01T04:27:03.793735Z",
     "iopub.status.idle": "2024-03-01T04:27:04.376201Z",
     "shell.execute_reply": "2024-03-01T04:27:04.375249Z",
     "shell.execute_reply.started": "2024-03-01T04:27:03.794066Z"
    },
    "tags": []
   },
   "outputs": [
    {
     "data": {
      "text/plain": [
       "'gcs://c3--gkev8c3apps/corneaguru/'"
      ]
     },
     "execution_count": 19,
     "metadata": {},
     "output_type": "execute_result"
    }
   ],
   "source": [
    "mount = c3.FileSystem.mounts().get(f'{customerName}-mount')\n",
    "mount"
   ]
  },
  {
   "cell_type": "code",
   "execution_count": 20,
   "id": "0f116b40-2480-4d0f-a663-f3b667858331",
   "metadata": {
    "execution": {
     "iopub.execute_input": "2024-03-01T04:27:05.208613Z",
     "iopub.status.busy": "2024-03-01T04:27:05.207434Z",
     "iopub.status.idle": "2024-03-01T04:27:05.244159Z",
     "shell.execute_reply": "2024-03-01T04:27:05.243198Z",
     "shell.execute_reply.started": "2024-03-01T04:27:05.208571Z"
    },
    "tags": []
   },
   "outputs": [
    {
     "data": {
      "text/plain": [
       "{\n",
       "  \"type\" : \"GcsFileSystem\"\n",
       "}"
      ]
     },
     "execution_count": 20,
     "metadata": {},
     "output_type": "execute_result"
    }
   ],
   "source": [
    "fs"
   ]
  },
  {
   "cell_type": "code",
   "execution_count": 21,
   "id": "60472281-70d7-4302-9035-64117d326511",
   "metadata": {
    "execution": {
     "iopub.execute_input": "2024-03-01T04:27:05.602892Z",
     "iopub.status.busy": "2024-03-01T04:27:05.601757Z",
     "iopub.status.idle": "2024-03-01T04:27:05.607680Z",
     "shell.execute_reply": "2024-03-01T04:27:05.606828Z",
     "shell.execute_reply.started": "2024-03-01T04:27:05.602853Z"
    },
    "tags": []
   },
   "outputs": [
    {
     "data": {
      "text/plain": [
       "'gcs://c3--gkev8c3apps/corneaguru/'"
      ]
     },
     "execution_count": 21,
     "metadata": {},
     "output_type": "execute_result"
    }
   ],
   "source": [
    "mount"
   ]
  },
  {
   "cell_type": "markdown",
   "id": "10c02c9a-50c1-4072-ae3a-68f8737622b2",
   "metadata": {},
   "source": [
    "## Clear Old Files"
   ]
  },
  {
   "cell_type": "code",
   "execution_count": 22,
   "id": "15248fd3-627a-452a-9c19-f33d1ba49d5e",
   "metadata": {
    "execution": {
     "iopub.execute_input": "2024-03-01T04:27:10.471657Z",
     "iopub.status.busy": "2024-03-01T04:27:10.471295Z",
     "iopub.status.idle": "2024-03-01T04:27:10.475725Z",
     "shell.execute_reply": "2024-03-01T04:27:10.474940Z",
     "shell.execute_reply.started": "2024-03-01T04:27:10.471633Z"
    },
    "tags": []
   },
   "outputs": [],
   "source": [
    "vs_remote_mount = mount"
   ]
  },
  {
   "cell_type": "code",
   "execution_count": 23,
   "id": "93edab77-d63f-4c98-90f5-bb79908d7411",
   "metadata": {
    "execution": {
     "iopub.execute_input": "2024-03-01T04:27:10.870018Z",
     "iopub.status.busy": "2024-03-01T04:27:10.869652Z",
     "iopub.status.idle": "2024-03-01T04:27:10.874966Z",
     "shell.execute_reply": "2024-03-01T04:27:10.874190Z",
     "shell.execute_reply.started": "2024-03-01T04:27:10.869993Z"
    },
    "tags": []
   },
   "outputs": [
    {
     "data": {
      "text/plain": [
       "'gcs://c3--gkev8c3apps/corneaguru/'"
      ]
     },
     "execution_count": 23,
     "metadata": {},
     "output_type": "execute_result"
    }
   ],
   "source": [
    "vs_remote_mount"
   ]
  },
  {
   "cell_type": "code",
   "execution_count": 24,
   "id": "b1c88765-d7ef-4ce0-b163-99ae708389e2",
   "metadata": {
    "execution": {
     "iopub.execute_input": "2024-03-01T04:27:11.311288Z",
     "iopub.status.busy": "2024-03-01T04:27:11.310919Z",
     "iopub.status.idle": "2024-03-01T04:27:12.665643Z",
     "shell.execute_reply": "2024-03-01T04:27:12.664728Z",
     "shell.execute_reply.started": "2024-03-01T04:27:11.311260Z"
    },
    "tags": []
   },
   "outputs": [],
   "source": [
    "old_files = fs.listFiles(vs_remote_mount)"
   ]
  },
  {
   "cell_type": "code",
   "execution_count": 25,
   "id": "f23fd957-9865-40d3-8a00-ecfd52acbc60",
   "metadata": {
    "collapsed": true,
    "execution": {
     "iopub.execute_input": "2024-03-01T04:27:12.667345Z",
     "iopub.status.busy": "2024-03-01T04:27:12.666962Z",
     "iopub.status.idle": "2024-03-01T04:27:13.209513Z",
     "shell.execute_reply": "2024-03-01T04:27:13.208586Z",
     "shell.execute_reply.started": "2024-03-01T04:27:12.667319Z"
    },
    "jupyter": {
     "outputs_hidden": true
    },
    "tags": []
   },
   "outputs": [
    {
     "data": {
      "text/plain": [
       "[{\"type\":\"GcsFile\",\"contentLength\":405924985,\"eTag\":\"CP7N5rWZ0oQDEAE=\",\"lastModified\":\"2024-03-01T04:12:48Z\",\"url\":\"gcs://c3--gkev8c3apps/corneaguru/colbertv2.0.tar.gz\"},{\"type\":\"GcsFile\",\"contentLength\":9787,\"eTag\":\"CJ7U15WBhoQDEAE=\",\"lastModified\":\"2024-01-30T21:01:58Z\",\"url\":\"gcs://c3--gkev8c3apps/corneaguru/unstructured/passageFiles/passagesFiles/65ad362d-4e36-4200-a9bd-1668d7c784fb77d9d860f66e4ade4611a51253b2c0e650ef6924-passages.json\"},{\"type\":\"GcsFile\",\"contentLength\":1559,\"eTag\":\"CMLP25GN44MDEAE=\",\"lastModified\":\"2024-01-16T23:52:20Z\",\"url\":\"gcs://c3--gkev8c3apps/corneaguru/unstructured/passageFiles/passagesFiles/66139bc5-9810-4365-96e7-60e34c73aed0LianchengLianfengAirbaseChinaMilitaryForces-passages.json\"},{\"type\":\"GcsFile\",\"contentLength\":3517,\"eTag\":\"CKPNtJSN44MDEAE=\",\"lastModified\":\"2024-01-16T23:52:26Z\",\"url\":\"gcs://c3--gkev8c3apps/corneaguru/unstructured/passageFiles/passagesFiles/665b36b7-864b-4dab-9634-8e546d5410d43978939ecbf38e5aec7b9541ecb04ce113b358be-passages.json\"},{\"type\":\"GcsFile\",\"contentLength\":6476,\"eTag\":\"COCmppiBhoQDEAE=\",\"lastModified\":\"2024-01-30T21:02:04Z\",\"url\":\"gcs://c3--gkev8c3apps/corneaguru/unstructured/passageFiles/passagesFiles/669128b2-d04d-4d53-8e3d-646efaa6f35b23cd61503936f03671f4e5743024da1c390e52b9-passages.json\"},{\"type\":\"GcsFile\",\"contentLength\":3631,\"eTag\":\"CLn87ZiBhoQDEAE=\",\"lastModified\":\"2024-01-30T21:02:05Z\",\"url\":\"gcs://c3--gkev8c3apps/corneaguru/unstructured/passageFiles/passagesFiles/673ff3cf-6994-401b-9706-564483971abaa35ff02b9fcb7a236d378c47e6db504538e03ed3-passages.json\"},{\"type\":\"GcsFile\",\"contentLength\":2203,\"eTag\":\"CM+hybqdjoQDEAE=\",\"lastModified\":\"2024-02-03T03:29:50Z\",\"url\":\"gcs://c3--gkev8c3apps/corneaguru/unstructured/passageFiles/passagesFiles/675b27bd-d9af-4071-ac43-3c3488a9fc910fbcd00a0f076d2f6bb0260b7e3e682da98bcaf2-passages.json\"},{\"type\":\"GcsFile\",\"contentLength\":2544,\"eTag\":\"CIjlq5C3h4QDEAE=\",\"lastModified\":\"2024-01-31T10:36:02Z\",\"url\":\"gcs://c3--gkev8c3apps/corneaguru/unstructured/passageFiles/passagesFiles/676bf1aa-9409-46b1-80b4-1651acd7c1b01b96e52d649edf2a3c16bb8298c87c542c6eafe0-passages.json\"},{\"type\":\"GcsFile\",\"contentLength\":9787,\"eTag\":\"CMj06JTjhoQDEAE=\",\"lastModified\":\"2024-01-31T04:20:23Z\",\"url\":\"gcs://c3--gkev8c3apps/corneaguru/unstructured/passageFiles/passagesFiles/67c23676-bc83-43c0-9fe1-833c2f415ff077d9d860f66e4ade4611a51253b2c0e650ef6924-passages.json\"},{\"type\":\"GcsFile\",\"contentLength\":5340,\"eTag\":\"CInHmZC3h4QDEAE=\",\"lastModified\":\"2024-01-31T10:36:02Z\",\"url\":\"gcs://c3--gkev8c3apps/corneaguru/unstructured/passageFiles/passagesFiles/67d1a1ca-04f1-4131-a470-eeaa56ab9d21965fdb9aa0b2e3753397c9de08d6784fc4e239e3-passages.json\"},{\"type\":\"GcsFile\",\"contentLength\":7399,\"eTag\":\"CLTV0JmBhoQDEAE=\",\"lastModified\":\"2024-01-30T21:02:06Z\",\"url\":\"gcs://c3--gkev8c3apps/corneaguru/unstructured/passageFiles/passagesFiles/681c2110-95dd-4464-9bd4-797f4f72e40b8bdf0f790248649f935ae95f2ea950eef671303a-passages.json\"},{\"type\":\"GcsFile\",\"contentLength\":1932,\"eTag\":\"CPDUzpTjhoQDEAE=\",\"lastModified\":\"2024-01-31T04:20:23Z\",\"url\":\"gcs://c3--gkev8c3apps/corneaguru/unstructured/passageFiles/passagesFiles/6823206c-026c-4816-8a87-b543766996e4f44fc214f935d91c2932d7587691ded48cfec42d-passages.json\"},{\"type\":\"GcsFile\",\"contentLength\":4969,\"eTag\":\"CK7GxpmBhoQDEAE=\",\"lastModified\":\"2024-01-30T21:02:06Z\",\"url\":\"gcs://c3--gkev8c3apps/corneaguru/unstructured/passageFiles/passagesFiles/6829704a-cdd8-496c-9732-530620f6cf98147422739406d33cc77fd48acfae1cb8d96f129f-passages.json\"},{\"type\":\"GcsFile\",\"contentLength\":14301,\"eTag\":\"CPXTtZC3h4QDEAE=\",\"lastModified\":\"2024-01-31T10:36:02Z\",\"url\":\"gcs://c3--gkev8c3apps/corneaguru/unstructured/passageFiles/passagesFiles/683e8f9b-6596-4c2e-a9f0-64762f682384cde634ab3711ba86d5f97aafa62d5b9ee5474141-passages.json\"},{\"type\":\"GcsFile\",\"contentLength\":8456,\"eTag\":\"CPXEqqSBhoQDEAE=\",\"lastModified\":\"2024-01-30T21:02:29Z\",\"url\":\"gcs://c3--gkev8c3apps/corneaguru/unstructured/passageFiles/passagesFiles/6858d907-ea2d-4f96-8586-026b1102d852fa7c1e5ab6961b349636e09cc9ce00700c7efb01-passages.json\"},{\"type\":\"GcsFile\",\"contentLength\":935,\"eTag\":\"CKvM0pXjhoQDEAE=\",\"lastModified\":\"2024-01-31T04:20:25Z\",\"url\":\"gcs://c3--gkev8c3apps/corneaguru/unstructured/passageFiles/passagesFiles/686c82c0-bf1e-464f-9e63-3ffdbfb62931TaiheAirbaseChinaMilitaryForces-passages.json\"},{\"type\":\"GcsFile\",\"contentLength\":10440,\"eTag\":\"CIefzZiN44MDEAE=\",\"lastModified\":\"2024-01-16T23:52:35Z\",\"url\":\"gcs://c3--gkev8c3apps/corneaguru/unstructured/passageFiles/passagesFiles/6893566e-7d5a-497e-a379-27a8cc190ee3e9be5a4ff5f2435c4d60b7a05de2ed506510421c-passages.json\"},{\"type\":\"GcsFile\",\"contentLength\":7540,\"eTag\":\"CPCEmqWBhoQDEAE=\",\"lastModified\":\"2024-01-30T21:02:31Z\",\"url\":\"gcs://c3--gkev8c3apps/corneaguru/unstructured/passageFiles/passagesFiles/68cd540e-07cc-47d3-9f9d-17429491c716d50a6182e4a8482172d9edc53dbfb0610ffe9f4f-passages.json\"},{\"type\":\"GcsFile\",\"contentLength\":13403,\"eTag\":\"CJSnwpC3h4QDEAE=\",\"lastModified\":\"2024-01-31T10:36:03Z\",\"url\":\"gcs://c3--gkev8c3apps/corneaguru/unstructured/passageFiles/passagesFiles/694ac942-701c-4049-972f-dc1c62628caadfbf74bb3f94c9edfad5f4b9e26540df843d9915-passages.json\"},{\"type\":\"GcsFile\",\"contentLength\":3783,\"eTag\":\"CKqv/6WBhoQDEAE=\",\"lastModified\":\"2024-01-30T21:02:32Z\",\"url\":\"gcs://c3--gkev8c3apps/corneaguru/unstructured/passageFiles/passagesFiles/69a31b78-7ce1-44b7-929a-9b4e83297ef6a82501cac16388e075bae6b4fa8244d876dca80d-passages.json\"},{\"type\":\"GcsFile\",\"contentLength\":13093,\"eTag\":\"CMutz6aBhoQDEAE=\",\"lastModified\":\"2024-01-30T21:02:34Z\",\"url\":\"gcs://c3--gkev8c3apps/corneaguru/unstructured/passageFiles/passagesFiles/69a5f5a5-6956-46d6-b557-2256a99625caa774fce77c96b3c65da258e2fd46fdcb3f032eb4-passages.json\"},{\"type\":\"GcsFile\",\"contentLength\":8240,\"eTag\":\"CLys5pXjhoQDEAE=\",\"lastModified\":\"2024-01-31T04:20:25Z\",\"url\":\"gcs://c3--gkev8c3apps/corneaguru/unstructured/passageFiles/passagesFiles/6a6e398d-6c41-4f87-aa91-0ec73bfac100c4d33c0906dfd7102ee168e87b07a1280adbce07-passages.json\"},{\"type\":\"GcsFile\",\"contentLength\":2868,\"eTag\":\"CK2uvKiBhoQDEAE=\",\"lastModified\":\"2024-01-30T21:02:38Z\",\"url\":\"gcs://c3--gkev8c3apps/corneaguru/unstructured/passageFiles/passagesFiles/6aa2e137-6f26-4318-9e0e-7fb145d74e1c4fdc93aeb38d4cdef2a66afb703e5173882d18b7-passages.json\"},{\"type\":\"GcsFile\",\"contentLength\":2741,\"eTag\":\"CJD+v5XjhoQDEAE=\",\"lastModified\":\"2024-01-31T04:20:24Z\",\"url\":\"gcs://c3--gkev8c3apps/corneaguru/unstructured/passageFiles/passagesFiles/6aa89734-1333-4c14-88cb-ab686aa7c781MacauInternationalAirportChinaMilitaryForces-passages.json\"},{\"type\":\"GcsFile\",\"contentLength\":2346,\"eTag\":\"CJrNh5uN44MDEAE=\",\"lastModified\":\"2024-01-16T23:52:40Z\",\"url\":\"gcs://c3--gkev8c3apps/corneaguru/unstructured/passageFiles/passagesFiles/6ad9f967-522b-41f3-b48c-858cece6d6e4a597730d912b154893cc94b9e8d77153bd3c4952-passages.json\"},{\"type\":\"GcsFile\",\"contentLength\":6624,\"eTag\":\"CPO8mZuN44MDEAE=\",\"lastModified\":\"2024-01-16T23:52:40Z\",\"url\":\"gcs://c3--gkev8c3apps/corneaguru/unstructured/passageFiles/passagesFiles/6add3814-f72a-4fb4-9e85-ef6b1e34d57c4308974d970e0e77a941caea2787e6bad20fe94e-passages.json\"},{\"type\":\"GcsFile\",\"contentLength\":4633,\"eTag\":\"CLaO6puN44MDEAE=\",\"lastModified\":\"2024-01-16T23:52:41Z\",\"url\":\"gcs://c3--gkev8c3apps/corneaguru/unstructured/passageFiles/passagesFiles/6ae76771-8f14-4f86-8d3e-6cb345a154f4bf63ac2b86f2f421548be7a22af6ae1f43f7a216-passages.json\"},{\"type\":\"GcsFile\",\"contentLength\":3228,\"eTag\":\"CPnHjN+2qYQDEAE=\",\"lastModified\":\"2024-02-13T23:04:50Z\",\"url\":\"gcs://c3--gkev8c3apps/corneaguru/unstructured/passageFiles/passagesFiles/6ae91cae-fcd0-4163-ab13-05ecab0cf34e0f676139cce7ee50fc015f56069d53050d191f4e-passages.json\"},{\"type\":\"GcsFile\",\"contentLength\":11463,\"eTag\":\"CNuu/ZuN44MDEAE=\",\"lastModified\":\"2024-01-16T23:52:42Z\",\"url\":\"gcs://c3--gkev8c3apps/corneaguru/unstructured/passageFiles/passagesFiles/6af8d852-e6fa-49d5-935a-d99281b45b40cc1458950f3168071e7018ab60c2534aa205d364-passages.json\"},{\"type\":\"GcsFile\",\"contentLength\":6733,\"eTag\":\"COCftamBhoQDEAE=\",\"lastModified\":\"2024-01-30T21:02:40Z\",\"url\":\"gcs://c3--gkev8c3apps/corneaguru/unstructured/passageFiles/passagesFiles/6b00262a-d130-470a-9116-c60fc2fe0912ada274f4529edfda2dda3cdf12d0afe94e72cdc1-passages.json\"},{\"type\":\"GcsFile\",\"contentLength\":3056,\"eTag\":\"CKGTrp6N44MDEAE=\",\"lastModified\":\"2024-01-16T23:52:47Z\",\"url\":\"gcs://c3--gkev8c3apps/corneaguru/unstructured/passageFiles/passagesFiles/6b605aad-f5d4-4c70-828a-5b5fd2394f73ShantouNortheastAirfieldChinaMilitaryForces-passages.json\"},{\"type\":\"GcsFile\",\"contentLength\":3653,\"eTag\":\"CLHhiaqBhoQDEAE=\",\"lastModified\":\"2024-01-30T21:02:41Z\",\"url\":\"gcs://c3--gkev8c3apps/corneaguru/unstructured/passageFiles/passagesFiles/6ba2424f-6986-4af2-b059-bf7a0cd20196d0660c89b9f91a5c4fdbc7e7889488043ff83aa6-passages.json\"},{\"type\":\"GcsFile\",\"contentLength\":6372,\"eTag\":\"CKOJ5KqBhoQDEAE=\",\"lastModified\":\"2024-01-30T21:02:42Z\",\"url\":\"gcs://c3--gkev8c3apps/corneaguru/unstructured/passageFiles/passagesFiles/6bbd9752-aa73-4ed2-80a6-3b4fa430b99ea8d6ba59b902a5720cfb77b43548955fad741b10-passages.json\"},{\"type\":\"GcsFile\",\"contentLength\":2999,\"eTag\":\"CLCgxJXjhoQDEAE=\",\"lastModified\":\"2024-01-31T04:20:25Z\",\"url\":\"gcs://c3--gkev8c3apps/corneaguru/unstructured/passageFiles/passagesFiles/6bd4bb97-ba1f-4d0a-bff6-96565f1f98fb9d0fde68a75cdb4d44844de618452f480e7a203c-passages.json\"},{\"type\":\"GcsFile\",\"contentLength\":1499050,\"eTag\":\"CLTqqZy5zoQDEAE=\",\"lastModified\":\"2024-02-28T16:24:26Z\",\"url\":\"gcs://c3--gkev8c3apps/corneaguru/unstructured/passageFiles/passagesFiles/6bffa655-0ad8-45d4-9288-e215fdd3cb58chineseairforce-passages.json\"},{\"type\":\"GcsFile\",\"contentLength\":5487,\"eTag\":\"CMLKwZ6N44MDEAE=\",\"lastModified\":\"2024-01-16T23:52:47Z\",\"url\":\"gcs://c3--gkev8c3apps/corneaguru/unstructured/passageFiles/passagesFiles/6c455c01-298f-4c3a-b4e4-34dcf1a68c80GuangzhouBaiyunAirportChinaMilitaryForces-passages.json\"},{\"type\":\"GcsFile\",\"contentLength\":2203,\"eTag\":\"COaRgJ+N44MDEAE=\",\"lastModified\":\"2024-01-16T23:52:48Z\",\"url\":\"gcs://c3--gkev8c3apps/corneaguru/unstructured/passageFiles/passagesFiles/6ce84323-4afe-4c46-9c42-8cd57c69f5291b62a3d666808898aaa22f81e21a04a715ce4167-passages.json\"},{\"type\":\"GcsFile\",\"contentLength\":935,\"eTag\":\"CJ+d4KyBhoQDEAE=\",\"lastModified\":\"2024-01-30T21:02:47Z\",\"url\":\"gcs://c3--gkev8c3apps/corneaguru/unstructured/passageFiles/passagesFiles/6d084d6a-ea2b-424a-bbd7-2c708f865338TaiheAirbaseChinaMilitaryForces-passages.json\"},{\"type\":\"GcsFile\",\"contentLength\":8661,\"eTag\":\"CNagzZbjhoQDEAE=\",\"lastModified\":\"2024-01-31T04:20:27Z\",\"url\":\"gcs://c3--gkev8c3apps/corneaguru/unstructured/passageFiles/passagesFiles/6d0ca20d-9b12-431c-8615-4829c01690630bec840d0ec00b4260586402efb12e017d0120d7-passages.json\"},{\"type\":\"GcsFile\",\"contentLength\":8661,\"eTag\":\"CIGhr8Gci4QDEAE=\",\"lastModified\":\"2024-02-01T22:47:36Z\",\"url\":\"gcs://c3--gkev8c3apps/corneaguru/unstructured/passageFiles/passagesFiles/6d1bcc2f-b347-427d-84ee-c79c715c43330bec840d0ec00b4260586402efb12e017d0120d7-passages.json\"},{\"type\":\"GcsFile\",\"contentLength\":7884,\"eTag\":\"CL3FrZ+N44MDEAE=\",\"lastModified\":\"2024-01-16T23:52:49Z\",\"url\":\"gcs://c3--gkev8c3apps/corneaguru/unstructured/passageFiles/passagesFiles/6de6e1f8-4774-436b-89b9-3a7f9d2b78619bca539e67c10601c9865bd266b7b05fea2fd263-passages.json\"},{\"type\":\"GcsFile\",\"contentLength\":2983,\"eTag\":\"CIeezK2BhoQDEAE=\",\"lastModified\":\"2024-01-30T21:02:48Z\",\"url\":\"gcs://c3--gkev8c3apps/corneaguru/unstructured/passageFiles/passagesFiles/6e07218d-299a-49ac-9865-c33f4b56501bbba301c59dc7c095d390a192e50cc0a8687da1f1-passages.json\"},{\"type\":\"GcsFile\",\"contentLength\":3056,\"eTag\":\"CODomK6BhoQDEAE=\",\"lastModified\":\"2024-01-30T21:02:50Z\",\"url\":\"gcs://c3--gkev8c3apps/corneaguru/unstructured/passageFiles/passagesFiles/6e30561e-2ab5-4945-9182-c743ebd3e740ShantouNortheastAirfieldChinaMilitaryForces-passages.json\"},{\"type\":\"GcsFile\",\"contentLength\":7858,\"eTag\":\"CLHQnqquiIQDEAE=\",\"lastModified\":\"2024-01-31T19:29:20Z\",\"url\":\"gcs://c3--gkev8c3apps/corneaguru/unstructured/passageFiles/passagesFiles/6e3394c8-2bd1-42fd-81d9-6af09d6ce7f61c2f00778234144c1be238473b93bd68e37a77c0-passages.json\"},{\"type\":\"GcsFile\",\"contentLength\":1890,\"eTag\":\"CM7GzrCBhoQDEAE=\",\"lastModified\":\"2024-01-30T21:02:55Z\",\"url\":\"gcs://c3--gkev8c3apps/corneaguru/unstructured/passageFiles/passagesFiles/6e99358b-f56f-49ce-90e4-322f2c6eb3972dcd7889671df4f84a439c35613174fa3cd60a82-passages.json\"},{\"type\":\"GcsFile\",\"contentLength\":1303501,\"eTag\":\"CPzG/baBhoQDEAE=\",\"lastModified\":\"2024-01-30T21:03:08Z\",\"url\":\"gcs://c3--gkev8c3apps/corneaguru/unstructured/passageFiles/passagesFiles/6ea70861-1d67-4244-ae91-da83967195d920230130China'sAerospaceSecurityStrategicConcepttranslation-passages.json\"},{\"type\":\"GcsFile\",\"contentLength\":1592,\"eTag\":\"CPiF+JjjhoQDEAE=\",\"lastModified\":\"2024-01-31T04:20:32Z\",\"url\":\"gcs://c3--gkev8c3apps/corneaguru/unstructured/passageFiles/passagesFiles/6eb7d75a-b154-42ba-9da9-6893d2228024d9db89ecd09550d77d0bdb4d58c4946058d9ab20-passages.json\"},{\"type\":\"GcsFile\",\"contentLength\":3213,\"eTag\":\"CI24tLKBhoQDEAE=\",\"lastModified\":\"2024-01-30T21:02:58Z\",\"url\":\"gcs://c3--gkev8c3apps/corneaguru/unstructured/passageFiles/passagesFiles/6ec130fa-9b36-4964-83e1-0379ec8c77745890af616389979bdc16da40bf8fbc4d1c6537aa-passages.json\"},{\"type\":\"GcsFile\",\"contentLength\":1139,\"eTag\":\"CICU0qGN44MDEAE=\",\"lastModified\":\"2024-01-16T23:52:54Z\",\"url\":\"gcs://c3--gkev8c3apps/corneaguru/unstructured/passageFiles/passagesFiles/6ed7e69d-7f6b-4191-82eb-fa7ed8392bec14cb3b83fe3ef6667969519d47c8b01eb1b38394-passages.json\"},{\"type\":\"GcsFile\",\"contentLength\":2218,\"eTag\":\"CKyPm5njhoQDEAE=\",\"lastModified\":\"2024-01-31T04:20:32Z\",\"url\":\"gcs://c3--gkev8c3apps/corneaguru/unstructured/passageFiles/passagesFiles/6eeba1e9-26f6-418d-8d20-47ec8cb029317b5f090ea73e42e937e0c7768e33c67e46233d8c-passages.json\"},{\"type\":\"GcsFile\",\"contentLength\":1471,\"eTag\":\"CLT0m5O3h4QDEAE=\",\"lastModified\":\"2024-01-31T10:36:08Z\",\"url\":\"gcs://c3--gkev8c3apps/corneaguru/unstructured/passageFiles/passagesFiles/6f19819d-9665-4221-b972-9ddf3a57bf6aJinhuaAirbaseChinaMilitaryForces-passages.json\"},{\"type\":\"GcsFile\",\"contentLength\":3273,\"eTag\":\"CKLOoJO3h4QDEAE=\",\"lastModified\":\"2024-01-31T10:36:08Z\",\"url\":\"gcs://c3--gkev8c3apps/corneaguru/unstructured/passageFiles/passagesFiles/6f3b75d2-2d33-4777-835e-218f6eb0736bLianxiwangChinaNuclearForces-passages.json\"},{\"type\":\"GcsFile\",\"contentLength\":4308,\"eTag\":\"CIOIg6+uiIQDEAE=\",\"lastModified\":\"2024-01-31T19:29:30Z\",\"url\":\"gcs://c3--gkev8c3apps/corneaguru/unstructured/passageFiles/passagesFiles/6f425d0a-0118-483e-a5d7-7ee0f60111762cc1486dd0da20a29f0480a489fddac85ba92b08-passages.json\"},{\"type\":\"GcsFile\",\"contentLength\":9846,\"eTag\":\"CJmC9aGN44MDEAE=\",\"lastModified\":\"2024-01-16T23:52:54Z\",\"url\":\"gcs://c3--gkev8c3apps/corneaguru/unstructured/passageFiles/passagesFiles/6f6b6126-2bde-4697-ab43-5ae1592aac52373a802004eed6cdabf7eeb19a8e6a662677131b-passages.json\"},{\"type\":\"GcsFile\",\"contentLength\":170358,\"eTag\":\"CKeywprjhoQDEAE=\",\"lastModified\":\"2024-01-31T04:20:35Z\",\"url\":\"gcs://c3--gkev8c3apps/corneaguru/unstructured/passageFiles/passagesFiles/6f8d202c-9eb1-44b2-ac0f-526e8a12d51320230626RapidRunwayRepair-passages.json\"},{\"type\":\"GcsFile\",\"contentLength\":3146,\"eTag\":\"CLuw85njhoQDEAE=\",\"lastModified\":\"2024-01-31T04:20:34Z\",\"url\":\"gcs://c3--gkev8c3apps/corneaguru/unstructured/passageFiles/passagesFiles/6f95d4d1-8824-4571-9ea8-f3fd5e231990LongtianAirbaseChinaMilitaryForces-passages.json\"},{\"type\":\"GcsFile\",\"contentLength\":1587,\"eTag\":\"CM+S0ZO3h4QDEAE=\",\"lastModified\":\"2024-01-31T10:36:09Z\",\"url\":\"gcs://c3--gkev8c3apps/corneaguru/unstructured/passageFiles/passagesFiles/6fb5c9e7-f1d9-4230-a99b-13c7e1aee856a2a175736da11adad5acf50b2929954bc5119865-passages.json\"},{\"type\":\"GcsFile\",\"contentLength\":5523,\"eTag\":\"CLGe9ZnjhoQDEAE=\",\"lastModified\":\"2024-01-31T04:20:34Z\",\"url\":\"gcs://c3--gkev8c3apps/corneaguru/unstructured/passageFiles/passagesFiles/6fd1dd83-4e77-44b6-bfbc-03937728b1cccf68f518dfb6cc888a3fbe5c25067e84dbaa09e0-passages.json\"},{\"type\":\"GcsFile\",\"contentLength\":12991,\"eTag\":\"CJyexpSN44MDEAE=\",\"lastModified\":\"2024-01-16T23:52:26Z\",\"url\":\"gcs://c3--gkev8c3apps/corneaguru/unstructured/passageFiles/passagesFiles/6fd2024e-e60e-462c-9487-b1abf8a0f23003bdcb1db19846f297cf5a79702044766e967cdb-passages.json\"},{\"type\":\"GcsFile\",\"contentLength\":1784,\"eTag\":\"CLrziZWN44MDEAE=\",\"lastModified\":\"2024-01-16T23:52:27Z\",\"url\":\"gcs://c3--gkev8c3apps/corneaguru/unstructured/passageFiles/passagesFiles/6fd52ef5-9598-4182-bf97-e420d0a39072f93e6ecf458149e03986089908747b949ec95779-passages.json\"},{\"type\":\"GcsFile\",\"contentLength\":6906,\"eTag\":\"CI2Z1pO3h4QDEAE=\",\"lastModified\":\"2024-01-31T10:36:09Z\",\"url\":\"gcs://c3--gkev8c3apps/corneaguru/unstructured/passageFiles/passagesFiles/6ff7c3db-fe8f-4c2f-ad9b-ef52556179c7dc1fb8241d3a79e604baab54247f4f25ee05baad-passages.json\"},{\"type\":\"GcsFile\",\"contentLength\":2690,\"eTag\":\"CPbFxJS3h4QDEAE=\",\"lastModified\":\"2024-01-31T10:36:11Z\",\"url\":\"gcs://c3--gkev8c3apps/corneaguru/unstructured/passageFiles/passagesFiles/70487d56-658f-4596-b3b8-f1f227fc0d4e5e2901b96dc37c93dea985548f6f798509b8f50b-passages.json\"},{\"type\":\"GcsFile\",\"contentLength\":4093,\"eTag\":\"CMWx5rSBhoQDEAE=\",\"lastModified\":\"2024-01-30T21:03:03Z\",\"url\":\"gcs://c3--gkev8c3apps/corneaguru/unstructured/passageFiles/passagesFiles/70c28d32-27e7-4862-98dc-18f06e2e37758f148526ba992f77fdefa193e6526106d13ca13d-passages.json\"},{\"type\":\"GcsFile\",\"contentLength\":1822,\"eTag\":\"CN/Ew5S3h4QDEAE=\",\"lastModified\":\"2024-01-31T10:36:11Z\",\"url\":\"gcs://c3--gkev8c3apps/corneaguru/unstructured/passageFiles/passagesFiles/70c3b079-f9ec-43bd-bb88-28d0bb51955e43c696af3675cb7f3351af8ef0423ddf7f9534cb-passages.json\"},{\"type\":\"GcsFile\",\"contentLength\":1139,\"eTag\":\"CISun7aBhoQDEAE=\",\"lastModified\":\"2024-01-30T21:03:06Z\",\"url\":\"gcs://c3--gkev8c3apps/corneaguru/unstructured/passageFiles/passagesFiles/70d32f54-e120-4425-83e7-e36cc0780fc614cb3b83fe3ef6667969519d47c8b01eb1b38394-passages.json\"},{\"type\":\"GcsFile\",\"contentLength\":1736,\"eTag\":\"CJu81pS3h4QDEAE=\",\"lastModified\":\"2024-01-31T10:36:11Z\",\"url\":\"gcs://c3--gkev8c3apps/corneaguru/unstructured/passageFiles/passagesFiles/70eada6e-0379-41f5-9e5d-8e173362dd7685f3a5419881329c2ae62dbf9028f2f54a452230-passages.json\"},{\"type\":\"GcsFile\",\"contentLength\":5896,\"eTag\":\"CPnQgbeBhoQDEAE=\",\"lastModified\":\"2024-01-30T21:03:08Z\",\"url\":\"gcs://c3--gkev8c3apps/corneaguru/unstructured/passageFiles/passagesFiles/710a4d51-05d8-400e-b013-d76dc889d64fca56f74cce87d7ae967072fd0afd12303fa51784-passages.json\"},{\"type\":\"GcsFile\",\"contentLength\":1640,\"eTag\":\"COSOuYjjhoQDEAE=\",\"lastModified\":\"2024-01-31T04:19:57Z\",\"url\":\"gcs://c3--gkev8c3apps/corneaguru/unstructured/passageFiles/passagesFiles/711f5e2a-0597-4028-8d40-91fa4442f5157b704266e6d0c27f8aa4e00111de357aeefc41a1-passages.json\"},{\"type\":\"GcsFile\",\"contentLength\":7146,\"eTag\":\"CKOo6ojjhoQDEAE=\",\"lastModified\":\"2024-01-31T04:19:58Z\",\"url\":\"gcs://c3--gkev8c3apps/corneaguru/unstructured/passageFiles/passagesFiles/716319a7-df93-4f41-a04f-468d2ac0a5d886007af33e8bfa800826c1539a04844689d736c7-passages.json\"},{\"type\":\"GcsFile\",\"contentLength\":3118,\"eTag\":\"CLOSx7iBhoQDEAE=\",\"lastModified\":\"2024-01-30T21:03:11Z\",\"url\":\"gcs://c3--gkev8c3apps/corneaguru/unstructured/passageFiles/passagesFiles/71792c6c-164c-4fcc-b36c-a548efe9a2c7c473300d6d88db84210938c6cf0035b05ac42587-passages.json\"},{\"type\":\"GcsFile\",\"contentLength\":2983,\"eTag\":\"CICIroO3h4QDEAE=\",\"lastModified\":\"2024-01-31T10:35:35Z\",\"url\":\"gcs://c3--gkev8c3apps/corneaguru/unstructured/passageFiles/passagesFiles/71c3ed17-bc57-44d1-b23d-27c4995e8ce5bba301c59dc7c095d390a192e50cc0a8687da1f1-passages.json\"},{\"type\":\"GcsFile\",\"contentLength\":3842,\"eTag\":\"CN/EwbqBhoQDEAE=\",\"lastModified\":\"2024-01-30T21:03:15Z\",\"url\":\"gcs://c3--gkev8c3apps/corneaguru/unstructured/passageFiles/passagesFiles/71fa5ae1-2999-4262-b25f-0cf40047e28b70d4db3946d9392ef168a35a01c34fe7def1602b-passages.json\"},{\"type\":\"GcsFile\",\"contentLength\":57524,\"eTag\":\"CK/E14O3h4QDEAE=\",\"lastModified\":\"2024-01-31T10:35:36Z\",\"url\":\"gcs://c3--gkev8c3apps/corneaguru/unstructured/passageFiles/passagesFiles/721f84c6-e80d-4ed8-bb96-a21a0e7696d220230109TB001BallisticMissiles-passages.json\"},{\"type\":\"GcsFile\",\"contentLength\":2019,\"eTag\":\"COKqlPzsq4QDEAE=\",\"lastModified\":\"2024-02-14T22:12:46Z\",\"url\":\"gcs://c3--gkev8c3apps/corneaguru/unstructured/passageFiles/passagesFiles/7252bc24-b7ff-4a58-af2d-c35732b209530bd69d0ee90b739c34d7ba589ef174d4a6a8ed99-passages.json\"},{\"type\":\"GcsFile\",\"contentLength\":3404,\"eTag\":\"CI2kn7uBhoQDEAE=\",\"lastModified\":\"2024-01-30T21:03:17Z\",\"url\":\"gcs://c3--gkev8c3apps/corneaguru/unstructured/passageFiles/passagesFiles/72715acc-4b61-4480-894f-b8bc742676706745c832e8828e02a9f03ff1120d89bd985e572d-passages.json\"},{\"type\":\"GcsFile\",\"contentLength\":3504,\"eTag\":\"CIvigoW3h4QDEAE=\",\"lastModified\":\"2024-01-31T10:35:38Z\",\"url\":\"gcs://c3--gkev8c3apps/corneaguru/unstructured/passageFiles/passagesFiles/7279e2e2-85d7-4f0b-81af-b083b03836c563333c8c8cb731d3211c873a2f800db311ca8e77-passages.json\"},{\"type\":\"GcsFile\",\"contentLength\":12497,\"eTag\":\"CNKzrruBhoQDEAE=\",\"lastModified\":\"2024-01-30T21:03:17Z\",\"url\":\"gcs://c3--gkev8c3apps/corneaguru/unstructured/passageFiles/passagesFiles/72adde37-126c-4689-a056-d36f7aae7e166c66bbb13c8ae344cb88e2a33011b0d20d9dc6e5-passages.json\"},{\"type\":\"GcsFile\",\"contentLength\":8588,\"eTag\":\"CIHC/5SN44MDEAE=\",\"lastModified\":\"2024-01-16T23:52:27Z\",\"url\":\"gcs://c3--gkev8c3apps/corneaguru/unstructured/passageFiles/passagesFiles/72c1bc17-2ae1-4a68-8914-111c7d9f90e0367ff1e0b201a45be5f427f67ea4d0600b8531a8-passages.json\"},{\"type\":\"GcsFile\",\"contentLength\":6895,\"eTag\":\"CLeS4ZeN44MDEAE=\",\"lastModified\":\"2024-01-16T23:52:33Z\",\"url\":\"gcs://c3--gkev8c3apps/corneaguru/unstructured/passageFiles/passagesFiles/7331d7c4-bd5b-42ef-8ca2-c85de3ffae3a5ece5015e7a1ce070039bb854329049cdc862f33-passages.json\"},{\"type\":\"GcsFile\",\"contentLength\":1169,\"eTag\":\"CK2E2ryBhoQDEAE=\",\"lastModified\":\"2024-01-30T21:03:20Z\",\"url\":\"gcs://c3--gkev8c3apps/corneaguru/unstructured/passageFiles/passagesFiles/733dd63c-577c-47ed-a400-cd73ce87a5b51133c9129ea2e883edbffa86e58fe7ac83d92138-passages.json\"},{\"type\":\"GcsFile\",\"contentLength\":13403,\"eTag\":\"COWq776BhoQDEAE=\",\"lastModified\":\"2024-01-30T21:03:25Z\",\"url\":\"gcs://c3--gkev8c3apps/corneaguru/unstructured/passageFiles/passagesFiles/734953c8-062f-4e75-93a8-6a8ee3aa387bdfbf74bb3f94c9edfad5f4b9e26540df843d9915-passages.json\"},{\"type\":\"GcsFile\",\"contentLength\":3653,\"eTag\":\"CJH16JeN44MDEAE=\",\"lastModified\":\"2024-01-16T23:52:33Z\",\"url\":\"gcs://c3--gkev8c3apps/corneaguru/unstructured/passageFiles/passagesFiles/734db91e-17b0-460a-91bb-a5e0c586714cd0660c89b9f91a5c4fdbc7e7889488043ff83aa6-passages.json\"},{\"type\":\"GcsFile\",\"contentLength\":110458,\"eTag\":\"CLmhusaBhoQDEAE=\",\"lastModified\":\"2024-01-30T21:03:40Z\",\"url\":\"gcs://c3--gkev8c3apps/corneaguru/unstructured/passageFiles/passagesFiles/7365add0-d7ba-4713-a770-4640aa2a93ceOrbats-passages.json\"},{\"type\":\"GcsFile\",\"contentLength\":4633,\"eTag\":\"CKKmvb+BhoQDEAE=\",\"lastModified\":\"2024-01-30T21:03:26Z\",\"url\":\"gcs://c3--gkev8c3apps/corneaguru/unstructured/passageFiles/passagesFiles/7381bd53-93b1-4525-b640-c0e61669e4b8bf63ac2b86f2f421548be7a22af6ae1f43f7a216-passages.json\"},{\"type\":\"GcsFile\",\"contentLength\":364984,\"eTag\":\"CJnBgv3sq4QDEAE=\",\"lastModified\":\"2024-02-14T22:12:48Z\",\"url\":\"gcs://c3--gkev8c3apps/corneaguru/unstructured/passageFiles/passagesFiles/739b92cf-28e0-47f9-b24d-eca1e5481274(U)DIAChinaMilitaryPowerEstimate-passages.json\"},{\"type\":\"GcsFile\",\"contentLength\":4648,\"eTag\":\"CIWqjInjhoQDEAE=\",\"lastModified\":\"2024-01-31T04:19:58Z\",\"url\":\"gcs://c3--gkev8c3apps/corneaguru/unstructured/passageFiles/passagesFiles/739dfafe-d73e-4bb8-a369-e0d7581324fe302a6a78e4dc71d0e0a657af33caf111be53b7ab-passages.json\"},{\"type\":\"GcsFile\",\"contentLength\":8661,\"eTag\":\"CLORgbqPlYQDEAE=\",\"lastModified\":\"2024-02-05T21:15:49Z\",\"url\":\"gcs://c3--gkev8c3apps/corneaguru/unstructured/passageFiles/passagesFiles/73bbf223-f876-474c-8482-3eafbdece2170bec840d0ec00b4260586402efb12e017d0120d7-passages.json\"},{\"type\":\"GcsFile\",\"contentLength\":2741,\"eTag\":\"CJyisJiN44MDEAE=\",\"lastModified\":\"2024-01-16T23:52:34Z\",\"url\":\"gcs://c3--gkev8c3apps/corneaguru/unstructured/passageFiles/passagesFiles/73dfd259-7925-4123-a733-d931b579a114MacauInternationalAirportChinaMilitaryForces-passages.json\"},{\"type\":\"GcsFile\",\"contentLength\":43074,\"eTag\":\"CISZrKiN44MDEAE=\",\"lastModified\":\"2024-01-16T23:53:08Z\",\"url\":\"gcs://c3--gkev8c3apps/corneaguru/unstructured/passageFiles/passagesFiles/740470b8-d49f-4fd9-a6a9-77a5fb363f8b15LI_FEATURE-passages.json\"},{\"type\":\"GcsFile\",\"contentLength\":2486,\"eTag\":\"CKHJvr+BhoQDEAE=\",\"lastModified\":\"2024-01-30T21:03:26Z\",\"url\":\"gcs://c3--gkev8c3apps/corneaguru/unstructured/passageFiles/passagesFiles/742774c5-e8b1-4cbf-a3d7-1945750739c56f5e66088fa977fe78589c34e259f5f32f3865ef-passages.json\"},{\"type\":\"GcsFile\",\"contentLength\":3699,\"eTag\":\"CPuH0aiN44MDEAE=\",\"lastModified\":\"2024-01-16T23:53:08Z\",\"url\":\"gcs://c3--gkev8c3apps/corneaguru/unstructured/passageFiles/passagesFiles/743f682f-a9aa-4b96-8840-3aa90b2e722814cca8528db5c05ff3d6e51803452b76cf3c7163-passages.json\"},{\"type\":\"GcsFile\",\"contentLength\":25919,\"eTag\":\"CNPhjsGBhoQDEAE=\",\"lastModified\":\"2024-01-30T21:03:29Z\",\"url\":\"gcs://c3--gkev8c3apps/corneaguru/unstructured/passageFiles/passagesFiles/748e8952-ce29-4ee2-86e1-7f8a2fd3a1a4107b11fe673dc5479f50a1a34c3ecb53507d6837-passages.json\"},{\"type\":\"GcsFile\",\"contentLength\":1259,\"eTag\":\"CO7o8ojjhoQDEAE=\",\"lastModified\":\"2024-01-31T04:19:58Z\",\"url\":\"gcs://c3--gkev8c3apps/corneaguru/unstructured/passageFiles/passagesFiles/7501900f-0dd1-4a42-9750-c193f7103552ZhangshuCh'ingChiangAirbaseChinaMilitaryForces-passages.json\"},{\"type\":\"GcsFile\",\"contentLength\":18806,\"eTag\":\"COam0oa3h4QDEAE=\",\"lastModified\":\"2024-01-31T10:35:42Z\",\"url\":\"gcs://c3--gkev8c3apps/corneaguru/unstructured/passageFiles/passagesFiles/757148ca-6277-4501-8d99-16c3f7edd6d1a10587f3d884a1dc535ae5e324710ac3eb11b688-passages.json\"},{\"type\":\"GcsFile\",\"contentLength\":2203,\"eTag\":\"CNethb+xk4QDEAE=\",\"lastModified\":\"2024-02-05T04:42:46Z\",\"url\":\"gcs://c3--gkev8c3apps/corneaguru/unstructured/passageFiles/passagesFiles/7599a0bb-56d1-45c0-882c-9fd384b71e7d0fbcd00a0f076d2f6bb0260b7e3e682da98bcaf2-passages.json\"},{\"type\":\"GcsFile\",\"contentLength\":9787,\"eTag\":\"CMX37Ia3h4QDEAE=\",\"lastModified\":\"2024-01-31T10:35:42Z\",\"url\":\"gcs://c3--gkev8c3apps/corneaguru/unstructured/passageFiles/passagesFiles/76099499-9ca3-4be3-9700-e19045ea978277d9d860f66e4ade4611a51253b2c0e650ef6924-passages.json\"},{\"type\":\"GcsFile\",\"contentLength\":189881,\"eTag\":\"CP2soMOBhoQDEAE=\",\"lastModified\":\"2024-01-30T21:03:34Z\",\"url\":\"gcs://c3--gkev8c3apps/corneaguru/unstructured/passageFiles/passagesFiles/76333715-3a9d-45d2-a910-02810bcf5dc4CanChinaTakeTaiwanv5-passages.json\"},{\"type\":\"GcsFile\",\"contentLength\":3802,\"eTag\":\"CJ/CpKiH4IMDEAE=\",\"lastModified\":\"2024-01-15T18:48:18Z\",\"url\":\"gcs://c3--gkev8c3apps/corneaguru/unstructured/passageFiles/passagesFiles/767acaf0-8a40-4e9a-b727-2fb4d4bdca1dportion-passages.json\"},{\"type\":\"GcsFile\",\"contentLength\":7933,\"eTag\":\"CImWpYnjhoQDEAE=\",\"lastModified\":\"2024-01-31T04:19:59Z\",\"url\":\"gcs://c3--gkev8c3apps/corneaguru/unstructured/passageFiles/passagesFiles/768d886e-99cc-4bc2-aedf-2c3354594d298a5f6f3854e3925998a435484201ac8d19ac2013-passages.json\"},{\"type\":\"GcsFile\",\"contentLength\":2980,\"eTag\":\"CJHOxcOBhoQDEAE=\",\"lastModified\":\"2024-01-30T21:03:34Z\",\"url\":\"gcs://c3--gkev8c3apps/corneaguru/unstructured/passageFiles/passagesFiles/76be57e8-6225-4329-bd4e-18b0f5e98098530d8a0855199772a28e87ff2f8a0dab483dc2af-passages.json\"}]"
      ]
     },
     "execution_count": 25,
     "metadata": {},
     "output_type": "execute_result"
    }
   ],
   "source": [
    "old_files.files"
   ]
  },
  {
   "cell_type": "code",
   "execution_count": 29,
   "id": "7b774b82-864a-4574-b6d6-e20ff3b3efd7",
   "metadata": {
    "execution": {
     "iopub.execute_input": "2024-03-01T04:27:44.208782Z",
     "iopub.status.busy": "2024-03-01T04:27:44.207616Z",
     "iopub.status.idle": "2024-03-01T04:27:51.619447Z",
     "shell.execute_reply": "2024-03-01T04:27:51.618527Z",
     "shell.execute_reply.started": "2024-03-01T04:27:44.208742Z"
    },
    "tags": []
   },
   "outputs": [],
   "source": [
    "# fs.listFiles(vs_remote_mount).files\n",
    "for f in fs.listFiles(vs_remote_mount).files:\n",
    "    fs.deleteFiles(f,True)"
   ]
  },
  {
   "cell_type": "code",
   "execution_count": 32,
   "id": "1965615a-8b0a-4570-8d6a-58eb9ce360fe",
   "metadata": {
    "execution": {
     "iopub.execute_input": "2024-03-01T04:29:13.208320Z",
     "iopub.status.busy": "2024-03-01T04:29:13.207216Z",
     "iopub.status.idle": "2024-03-01T04:29:53.668877Z",
     "shell.execute_reply": "2024-03-01T04:29:53.667981Z",
     "shell.execute_reply.started": "2024-03-01T04:29:13.208285Z"
    },
    "tags": []
   },
   "outputs": [],
   "source": [
    "file_length = len(fs.listFiles(vs_remote_mount).files)\n",
    "while file_length > 0:\n",
    "    for f in fs.listFiles(vs_remote_mount).files:\n",
    "        fs.deleteFiles(f,True)\n",
    "    file_length = len(fs.listFiles(vs_remote_mount).files)"
   ]
  },
  {
   "cell_type": "code",
   "execution_count": 33,
   "id": "ef27257b-6ed7-48fa-9e9c-04526d23ea9d",
   "metadata": {
    "execution": {
     "iopub.execute_input": "2024-03-01T04:30:00.207862Z",
     "iopub.status.busy": "2024-03-01T04:30:00.207514Z",
     "iopub.status.idle": "2024-03-01T04:30:00.257400Z",
     "shell.execute_reply": "2024-03-01T04:30:00.256515Z",
     "shell.execute_reply.started": "2024-03-01T04:30:00.207837Z"
    },
    "tags": []
   },
   "outputs": [],
   "source": [
    "assert len(fs.listFiles(vs_remote_mount).files) == 0"
   ]
  },
  {
   "cell_type": "markdown",
   "id": "06997386-308b-46d6-aa58-31c420c7102d",
   "metadata": {},
   "source": [
    "## Get/Set COLBERT"
   ]
  },
  {
   "cell_type": "code",
   "execution_count": 41,
   "id": "a50c0d9a-4428-4a50-8337-718e4124d95c",
   "metadata": {
    "execution": {
     "iopub.execute_input": "2024-03-01T04:11:01.464881Z",
     "iopub.status.busy": "2024-03-01T04:11:01.464159Z",
     "iopub.status.idle": "2024-03-01T04:12:13.569805Z",
     "shell.execute_reply": "2024-03-01T04:12:13.568714Z",
     "shell.execute_reply.started": "2024-03-01T04:11:01.464848Z"
    },
    "tags": []
   },
   "outputs": [
    {
     "name": "stdout",
     "output_type": "stream",
     "text": [
      "  % Total    % Received % Xferd  Average Speed   Time    Time     Time  Current\n",
      "                                 Dload  Upload   Total   Spent    Left  Speed\n",
      "100  387M  100  387M    0     0  5538k      0  0:01:11  0:01:11 --:--:-- 5113k\n"
     ]
    }
   ],
   "source": [
    "# Notebook\n",
    "# pull ColBERT into local directory, may take a few seconds\n",
    "!curl -o colbertv2.0.tar.gz https://downloads.cs.stanford.edu/nlp/data/colbert/colbertv2/colbertv2.0.tar.gz"
   ]
  },
  {
   "cell_type": "code",
   "execution_count": 34,
   "id": "e8612c8d-1d88-47ce-b5e4-48441eb44f98",
   "metadata": {
    "execution": {
     "iopub.execute_input": "2024-03-01T04:30:04.525797Z",
     "iopub.status.busy": "2024-03-01T04:30:04.525414Z",
     "iopub.status.idle": "2024-03-01T04:30:04.559051Z",
     "shell.execute_reply": "2024-03-01T04:30:04.558243Z",
     "shell.execute_reply.started": "2024-03-01T04:30:04.525766Z"
    },
    "tags": []
   },
   "outputs": [],
   "source": [
    "fs = c3.FileSystem.inst()"
   ]
  },
  {
   "cell_type": "code",
   "execution_count": 35,
   "id": "49a182a2-3fe6-44b6-846b-fabf6526e29b",
   "metadata": {
    "execution": {
     "iopub.execute_input": "2024-03-01T04:30:04.918142Z",
     "iopub.status.busy": "2024-03-01T04:30:04.917773Z",
     "iopub.status.idle": "2024-03-01T04:30:04.954146Z",
     "shell.execute_reply": "2024-03-01T04:30:04.953315Z",
     "shell.execute_reply.started": "2024-03-01T04:30:04.918116Z"
    },
    "tags": []
   },
   "outputs": [],
   "source": [
    "mounts = fs.mounts()"
   ]
  },
  {
   "cell_type": "code",
   "execution_count": 36,
   "id": "dc055a94-c98b-46c4-8e5c-b3337d94d4d6",
   "metadata": {
    "execution": {
     "iopub.execute_input": "2024-03-01T04:30:05.558104Z",
     "iopub.status.busy": "2024-03-01T04:30:05.557747Z",
     "iopub.status.idle": "2024-03-01T04:30:05.821796Z",
     "shell.execute_reply": "2024-03-01T04:30:05.820547Z",
     "shell.execute_reply.started": "2024-03-01T04:30:05.558079Z"
    },
    "tags": []
   },
   "outputs": [
    {
     "data": {
      "text/plain": [
       "{\"artifact\":\"gcs://c3--gkev8c3apps/artifacts/\",\"system\":\"gcs://c3--gkev8c3apps/cornea1347/genaisearch/system/\",\"attachment\":\"gcs://c3--gkev8c3apps/cornea1347/genaisearch/attachment/\",\"vector-store\":\"gcs://c3--gkev8c3apps/corneaguru/vector-store/\",\"data-load\":\"gcs://c3--gkev8c3apps/cornea1347/genaisearch/dl/\",\"key-value\":\"gcs://c3--gkev8c3apps/cornea1347/genaisearch/kv/\",\"telemetry\":\"gcs://c3--gkev8c3apps/cornea1347/genaisearch/telemetry/\",\"corneaguru-mount\":\"gcs://c3--gkev8c3apps/corneaguru/\",\"datasets\":\"gcs://c3--gkev8c3apps/datasets/\",\"etl\":\"gcs://c3--gkev8c3apps/cornea1347/genaisearch/etl/\",\"/\":\"gcs://c3--gkev8c3apps/cornea1347/genaisearch/fs/\"}"
      ]
     },
     "execution_count": 36,
     "metadata": {},
     "output_type": "execute_result"
    }
   ],
   "source": [
    "mounts"
   ]
  },
  {
   "cell_type": "code",
   "execution_count": 37,
   "id": "b09202d1-59d1-4f8c-949d-9dfc3b0fcd7e",
   "metadata": {
    "execution": {
     "iopub.execute_input": "2024-03-01T04:30:07.945362Z",
     "iopub.status.busy": "2024-03-01T04:30:07.944169Z",
     "iopub.status.idle": "2024-03-01T04:30:07.948699Z",
     "shell.execute_reply": "2024-03-01T04:30:07.947905Z",
     "shell.execute_reply.started": "2024-03-01T04:30:07.945324Z"
    },
    "tags": []
   },
   "outputs": [],
   "source": [
    "# Notebook\n",
    "local_colbert_path = \"colbertv2.0.tar.gz\" \n",
    "remote_colbert_path = f\"{vs_remote_mount}colbertv2.0.tar.gz\""
   ]
  },
  {
   "cell_type": "code",
   "execution_count": 38,
   "id": "d2323afb-9e2c-42b6-b926-9d13106dffcd",
   "metadata": {
    "execution": {
     "iopub.execute_input": "2024-03-01T04:30:08.336978Z",
     "iopub.status.busy": "2024-03-01T04:30:08.336629Z",
     "iopub.status.idle": "2024-03-01T04:30:08.342316Z",
     "shell.execute_reply": "2024-03-01T04:30:08.341448Z",
     "shell.execute_reply.started": "2024-03-01T04:30:08.336952Z"
    },
    "tags": []
   },
   "outputs": [
    {
     "data": {
      "text/plain": [
       "'gcs://c3--gkev8c3apps/corneaguru/'"
      ]
     },
     "execution_count": 38,
     "metadata": {},
     "output_type": "execute_result"
    }
   ],
   "source": [
    "vs_remote_mount"
   ]
  },
  {
   "cell_type": "code",
   "execution_count": 39,
   "id": "b78271b8-cbfd-4065-864c-a413e504b57a",
   "metadata": {
    "execution": {
     "iopub.execute_input": "2024-03-01T04:30:08.862057Z",
     "iopub.status.busy": "2024-03-01T04:30:08.860956Z",
     "iopub.status.idle": "2024-03-01T04:30:08.866484Z",
     "shell.execute_reply": "2024-03-01T04:30:08.865660Z",
     "shell.execute_reply.started": "2024-03-01T04:30:08.862023Z"
    },
    "tags": []
   },
   "outputs": [
    {
     "data": {
      "text/plain": [
       "'gcs://c3--gkev8c3apps/corneaguru/colbertv2.0.tar.gz'"
      ]
     },
     "execution_count": 39,
     "metadata": {},
     "output_type": "execute_result"
    }
   ],
   "source": [
    "remote_colbert_path"
   ]
  },
  {
   "cell_type": "code",
   "execution_count": 40,
   "id": "966a4e92-c705-40c7-a9e2-396269f07df7",
   "metadata": {
    "execution": {
     "iopub.execute_input": "2024-03-01T04:30:11.207502Z",
     "iopub.status.busy": "2024-03-01T04:30:11.207133Z",
     "iopub.status.idle": "2024-03-01T04:30:11.286694Z",
     "shell.execute_reply": "2024-03-01T04:30:11.285932Z",
     "shell.execute_reply.started": "2024-03-01T04:30:11.207457Z"
    },
    "tags": []
   },
   "outputs": [
    {
     "data": {
      "text/plain": [
       "{\n",
       "  \"type\" : \"ListFilesResult\"\n",
       "}"
      ]
     },
     "execution_count": 40,
     "metadata": {},
     "output_type": "execute_result"
    }
   ],
   "source": [
    "fs.listFiles(remote_colbert_path)"
   ]
  },
  {
   "cell_type": "code",
   "execution_count": 41,
   "id": "b355aee2-d4b6-4911-8483-3bdedcbf1305",
   "metadata": {
    "execution": {
     "iopub.execute_input": "2024-03-01T04:30:11.959998Z",
     "iopub.status.busy": "2024-03-01T04:30:11.958908Z",
     "iopub.status.idle": "2024-03-01T04:30:11.964683Z",
     "shell.execute_reply": "2024-03-01T04:30:11.963787Z",
     "shell.execute_reply.started": "2024-03-01T04:30:11.959965Z"
    },
    "tags": []
   },
   "outputs": [
    {
     "data": {
      "text/plain": [
       "'colbertv2.0.tar.gz'"
      ]
     },
     "execution_count": 41,
     "metadata": {},
     "output_type": "execute_result"
    }
   ],
   "source": [
    "local_colbert_path"
   ]
  },
  {
   "cell_type": "code",
   "execution_count": 42,
   "id": "c59fcd5c-a999-46af-b31d-475681994a07",
   "metadata": {
    "execution": {
     "iopub.execute_input": "2024-03-01T04:30:12.898333Z",
     "iopub.status.busy": "2024-03-01T04:30:12.897965Z",
     "iopub.status.idle": "2024-03-01T04:30:25.845633Z",
     "shell.execute_reply": "2024-03-01T04:30:25.844741Z",
     "shell.execute_reply.started": "2024-03-01T04:30:12.898305Z"
    },
    "tags": []
   },
   "outputs": [],
   "source": [
    "# upload COLBERT to remote ColBERTvFaiss directory\n",
    "with open(local_colbert_path, 'rb') as f:\n",
    "    c3.Client.uploadFile(f, remote_colbert_path)"
   ]
  },
  {
   "cell_type": "code",
   "execution_count": 43,
   "id": "bc3220b2-fe26-4eed-b0d3-8adc68c9cbc2",
   "metadata": {
    "execution": {
     "iopub.execute_input": "2024-03-01T04:30:27.758442Z",
     "iopub.status.busy": "2024-03-01T04:30:27.757506Z",
     "iopub.status.idle": "2024-03-01T04:30:27.851265Z",
     "shell.execute_reply": "2024-03-01T04:30:27.850507Z",
     "shell.execute_reply.started": "2024-03-01T04:30:27.758408Z"
    },
    "tags": []
   },
   "outputs": [
    {
     "data": {
      "text/plain": [
       "{\n",
       "  \"type\" : \"ListFilesResult\",\n",
       "  \"files\" : [ {\n",
       "    \"type\" : \"GcsFile\",\n",
       "    \"contentLength\" : 405924985,\n",
       "    \"eTag\" : \"CMOi+K2d0oQDEAE=\",\n",
       "    \"lastModified\" : \"2024-03-01T04:30:25Z\",\n",
       "    \"url\" : \"gcs://c3--gkev8c3apps/corneaguru/colbertv2.0.tar.gz\"\n",
       "  } ]\n",
       "}"
      ]
     },
     "execution_count": 43,
     "metadata": {},
     "output_type": "execute_result"
    }
   ],
   "source": [
    "fs.listFiles(remote_colbert_path)"
   ]
  },
  {
   "cell_type": "markdown",
   "id": "dbd2ef48-0e7c-44e8-b1be-66a07c8c573c",
   "metadata": {},
   "source": [
    "## Init Vector Store and Genai (File) Source Collection"
   ]
  },
  {
   "cell_type": "code",
   "execution_count": 44,
   "id": "1ab8ba39-a211-4a9f-ba5f-d55c1e99a014",
   "metadata": {
    "execution": {
     "iopub.execute_input": "2024-03-01T04:30:30.493120Z",
     "iopub.status.busy": "2024-03-01T04:30:30.492554Z",
     "iopub.status.idle": "2024-03-01T04:30:30.497947Z",
     "shell.execute_reply": "2024-03-01T04:30:30.497227Z",
     "shell.execute_reply.started": "2024-03-01T04:30:30.493089Z"
    },
    "tags": []
   },
   "outputs": [
    {
     "data": {
      "text/plain": [
       "'gcs://c3--gkev8c3apps/corneaguru/'"
      ]
     },
     "execution_count": 44,
     "metadata": {},
     "output_type": "execute_result"
    }
   ],
   "source": [
    "projectRootDir"
   ]
  },
  {
   "cell_type": "code",
   "execution_count": 14,
   "id": "9d316865-93e9-4d0c-8715-693b3af33db0",
   "metadata": {
    "execution": {
     "iopub.execute_input": "2024-02-29T20:28:02.264450Z",
     "iopub.status.busy": "2024-02-29T20:28:02.263611Z",
     "iopub.status.idle": "2024-02-29T20:28:02.267571Z",
     "shell.execute_reply": "2024-02-29T20:28:02.266912Z",
     "shell.execute_reply.started": "2024-02-29T20:28:02.264418Z"
    },
    "tags": []
   },
   "outputs": [],
   "source": [
    "# customerName = \"corneaguru\""
   ]
  },
  {
   "cell_type": "markdown",
   "id": "3a38263c-d5e8-46e7-99e9-71799db91732",
   "metadata": {
    "execution": {
     "iopub.execute_input": "2024-03-01T02:18:43.872318Z",
     "iopub.status.busy": "2024-03-01T02:18:43.871233Z",
     "iopub.status.idle": "2024-03-01T02:18:43.876358Z",
     "shell.execute_reply": "2024-03-01T02:18:43.875408Z",
     "shell.execute_reply.started": "2024-03-01T02:18:43.872263Z"
    },
    "tags": []
   },
   "source": [
    "## Create Colbert"
   ]
  },
  {
   "cell_type": "code",
   "execution_count": 15,
   "id": "6c932ba3-d7c7-431a-9bdb-14ecd449d1c6",
   "metadata": {
    "execution": {
     "iopub.execute_input": "2024-02-29T20:28:03.290628Z",
     "iopub.status.busy": "2024-02-29T20:28:03.289782Z",
     "iopub.status.idle": "2024-02-29T20:28:03.295214Z",
     "shell.execute_reply": "2024-02-29T20:28:03.294444Z",
     "shell.execute_reply.started": "2024-02-29T20:28:03.290593Z"
    },
    "tags": []
   },
   "outputs": [
    {
     "ename": "SyntaxError",
     "evalue": "invalid syntax (2529689673.py, line 4)",
     "output_type": "error",
     "traceback": [
      "\u001b[0;36m  File \u001b[0;32m\"/tmp/ipykernel_142/2529689673.py\"\u001b[0;36m, line \u001b[0;32m4\u001b[0m\n\u001b[0;31m    var vectorStore = Genai.Retriever.ColBERT.make({\u001b[0m\n\u001b[0m        ^\u001b[0m\n\u001b[0;31mSyntaxError\u001b[0m\u001b[0;31m:\u001b[0m invalid syntax\n"
     ]
    }
   ],
   "source": [
    "customerName = 'corneaguru'\n",
    "projectRootDir = 'gcs://c3--gkev8c3apps/corneaguru/'\n",
    "\n",
    "var vectorStore = Genai.Retriever.ColBERT.make({\n",
    "    \"id\": customerName,\n",
    "    \"name\": customerName,\n",
    "    \"dataConfigName\": customerName\n",
    "}).upsert();\n",
    "\n",
    "var sourceCollection = Genai.SourceCollection.make({\n",
    "    \"name\": customerName,\n",
    "    \"id\": customerName,\n",
    "    \"description\": \"Collection of files for \" + customerName,\n",
    "    \"rootUrl\": projectRootDir + \"unstructured/docs/\",\n",
    "    \"targetUrl\": projectRootDir + \"unstructured/passageFiles/\"\n",
    "}).upsert().get()\n"
   ]
  },
  {
   "cell_type": "markdown",
   "id": "fef9eac2-abe5-46b9-9cb3-2b5e8bc7fb2a",
   "metadata": {},
   "source": [
    "## Create ELSER"
   ]
  },
  {
   "cell_type": "code",
   "execution_count": 245,
   "id": "56f919f7-6895-412e-8597-7abc39aea0cf",
   "metadata": {
    "execution": {
     "iopub.execute_input": "2024-03-01T06:21:48.877500Z",
     "iopub.status.busy": "2024-03-01T06:21:48.876512Z",
     "iopub.status.idle": "2024-03-01T06:21:48.912735Z",
     "shell.execute_reply": "2024-03-01T06:21:48.911882Z",
     "shell.execute_reply.started": "2024-03-01T06:21:48.877455Z"
    },
    "tags": []
   },
   "outputs": [],
   "source": [
    "e = c3.Genai.Retriever.Elser.make({\n",
    "    \"url\": \"https://ef5820953fd043b98fd9568dc18fbe57.us-east-1.aws.found.io:443\",\n",
    "    \"name\": \"0113corneaguru\",\n",
    "    \"modelId\": \".elser_model_2\",\n",
    "    \"apikey\": \"X2p0SDY0MEI3RXRYbkVwbzdheFY6X1NXMFQ0WlBRRUd0RXVwaXU1MGtwQQ==\"\n",
    "}).upsert();"
   ]
  },
  {
   "cell_type": "code",
   "execution_count": 244,
   "id": "c922b3a2-ce67-406e-afc1-53efd38e0440",
   "metadata": {
    "execution": {
     "iopub.execute_input": "2024-03-01T06:21:39.934170Z",
     "iopub.status.busy": "2024-03-01T06:21:39.933207Z",
     "iopub.status.idle": "2024-03-01T06:21:40.002624Z",
     "shell.execute_reply": "2024-03-01T06:21:40.001778Z",
     "shell.execute_reply.started": "2024-03-01T06:21:39.934128Z"
    },
    "tags": []
   },
   "outputs": [
    {
     "ename": "RuntimeError",
     "evalue": "Write failed: Required field Genai.Retriever.Elser.url not set.\n\nError calling /api/8/Genai.Retriever.Elser/upsert with [{\"type\":\"Genai.Retriever.Elser\",\"id\":\"1e261318-b0c0-496d-9c94-7ca6ef5d1686\",\"name\":\"0113corneaguru\",\"meta\":{\"type\":\"Meta\",\"created\":\"2024-03-01T06:21:34+00:00\",\"updated\":\"2024-03-01T06:21:34+00:00\",\"timestamp\":\"2024-03-01T06:21:34+00:00\"},\"version\":1}]",
     "output_type": "error",
     "traceback": [
      "\u001b[0;31m---------------------------------------------------------------------------\u001b[0m",
      "\u001b[0;31mRuntimeError\u001b[0m                              Traceback (most recent call last)",
      "\u001b[0;32m/tmp/ipykernel_1576/3555164234.py\u001b[0m in \u001b[0;36m<module>\u001b[0;34m\u001b[0m\n\u001b[0;32m----> 1\u001b[0;31m \u001b[0me\u001b[0m\u001b[0;34m.\u001b[0m\u001b[0mupsert\u001b[0m\u001b[0;34m(\u001b[0m\u001b[0;34m)\u001b[0m\u001b[0;34m\u001b[0m\u001b[0;34m\u001b[0m\u001b[0m\n\u001b[0m",
      "\u001b[0;32m/c3/platform/src/remote/ServerConnection.py-client.py\u001b[0m in \u001b[0;36mupsert\u001b[0;34m(*positional_args, **keyword_args)\u001b[0m\n",
      "\u001b[0;32m/c3/platform/src/remote/ServerConnection.py-client.py\u001b[0m in \u001b[0;36m_exec_method_common\u001b[0;34m(positional_args, keyword_args, method_name, typ, type_name, prototype_name, conn, is_static, is_by_ref)\u001b[0m\n",
      "\u001b[0;32m/c3/platform/src/remote/ServerConnection.py-client.py\u001b[0m in \u001b[0;36m_exec_remote_method\u001b[0;34m(first_arg, positional_args, keyword_args, method_name, typ, type_name, prototype_name, is_static, is_by_ref)\u001b[0m\n",
      "\u001b[0;32m/c3/platform/src/remote/ServerConnection.py-client.py\u001b[0m in \u001b[0;36m_parse_response\u001b[0;34m(response, type_name, action, rt)\u001b[0m\n",
      "\u001b[0;31mRuntimeError\u001b[0m: Write failed: Required field Genai.Retriever.Elser.url not set.\n\nError calling /api/8/Genai.Retriever.Elser/upsert with [{\"type\":\"Genai.Retriever.Elser\",\"id\":\"1e261318-b0c0-496d-9c94-7ca6ef5d1686\",\"name\":\"0113corneaguru\",\"meta\":{\"type\":\"Meta\",\"created\":\"2024-03-01T06:21:34+00:00\",\"updated\":\"2024-03-01T06:21:34+00:00\",\"timestamp\":\"2024-03-01T06:21:34+00:00\"},\"version\":1}]"
     ]
    }
   ],
   "source": [
    "e.upsert()"
   ]
  },
  {
   "cell_type": "code",
   "execution_count": 102,
   "id": "798dce63-a993-442f-a330-4bf4e3bedf03",
   "metadata": {
    "execution": {
     "iopub.execute_input": "2024-03-01T05:18:53.757972Z",
     "iopub.status.busy": "2024-03-01T05:18:53.757587Z",
     "iopub.status.idle": "2024-03-01T05:18:53.793110Z",
     "shell.execute_reply": "2024-03-01T05:18:53.792124Z",
     "shell.execute_reply.started": "2024-03-01T05:18:53.757941Z"
    },
    "tags": []
   },
   "outputs": [],
   "source": [
    "e = c3.Genai.Retriever.Elser.fetch({\"filter\": \"name == 'corneaguru_elser_240229_2331_test'\"}).objs[0]"
   ]
  },
  {
   "cell_type": "code",
   "execution_count": 103,
   "id": "65c9cf16-707c-4308-84ce-502b2efbe261",
   "metadata": {
    "execution": {
     "iopub.execute_input": "2024-03-01T05:18:54.805784Z",
     "iopub.status.busy": "2024-03-01T05:18:54.805395Z",
     "iopub.status.idle": "2024-03-01T05:18:54.810949Z",
     "shell.execute_reply": "2024-03-01T05:18:54.810119Z",
     "shell.execute_reply.started": "2024-03-01T05:18:54.805755Z"
    },
    "tags": []
   },
   "outputs": [
    {
     "data": {
      "text/plain": [
       "1"
      ]
     },
     "execution_count": 103,
     "metadata": {},
     "output_type": "execute_result"
    }
   ],
   "source": [
    "len(Elsers)"
   ]
  },
  {
   "cell_type": "code",
   "execution_count": null,
   "id": "4a583632-e803-456e-b0c1-d8a4e2d17153",
   "metadata": {},
   "outputs": [],
   "source": []
  },
  {
   "cell_type": "code",
   "execution_count": 221,
   "id": "2516f0cf-3205-4dd1-9fc2-4acfdbef5e37",
   "metadata": {
    "execution": {
     "iopub.execute_input": "2024-03-01T06:14:30.939006Z",
     "iopub.status.busy": "2024-03-01T06:14:30.938058Z",
     "iopub.status.idle": "2024-03-01T06:14:34.007032Z",
     "shell.execute_reply": "2024-03-01T06:14:34.006329Z",
     "shell.execute_reply.started": "2024-03-01T06:14:30.938969Z"
    },
    "tags": []
   },
   "outputs": [
    {
     "data": {
      "text/plain": [
       "{'acknowledged': True, 'shards_acknowledged': True, 'index': '0113corneaguru'}"
      ]
     },
     "execution_count": 221,
     "metadata": {},
     "output_type": "execute_result"
    }
   ],
   "source": [
    "e.createIndex()"
   ]
  },
  {
   "cell_type": "code",
   "execution_count": 222,
   "id": "3701b297-c5c8-4339-881d-89f456c8a774",
   "metadata": {
    "execution": {
     "iopub.execute_input": "2024-03-01T06:14:38.490264Z",
     "iopub.status.busy": "2024-03-01T06:14:38.489836Z",
     "iopub.status.idle": "2024-03-01T06:14:38.555307Z",
     "shell.execute_reply": "2024-03-01T06:14:38.554437Z",
     "shell.execute_reply.started": "2024-03-01T06:14:38.490235Z"
    },
    "tags": []
   },
   "outputs": [],
   "source": [
    "files = c3.Genai.SourceFile.fetch().objs"
   ]
  },
  {
   "cell_type": "code",
   "execution_count": 223,
   "id": "b73d96c2-280a-48b0-a164-fad86f3da704",
   "metadata": {
    "execution": {
     "iopub.execute_input": "2024-03-01T06:14:40.207508Z",
     "iopub.status.busy": "2024-03-01T06:14:40.207050Z",
     "iopub.status.idle": "2024-03-01T06:14:40.213512Z",
     "shell.execute_reply": "2024-03-01T06:14:40.212731Z",
     "shell.execute_reply.started": "2024-03-01T06:14:40.207460Z"
    },
    "tags": []
   },
   "outputs": [
    {
     "data": {
      "text/plain": [
       "10"
      ]
     },
     "execution_count": 223,
     "metadata": {},
     "output_type": "execute_result"
    }
   ],
   "source": [
    "len(files)"
   ]
  },
  {
   "cell_type": "code",
   "execution_count": 224,
   "id": "561c2179-0dc1-4217-ae88-4c882e843efa",
   "metadata": {
    "execution": {
     "iopub.execute_input": "2024-03-01T06:14:43.208276Z",
     "iopub.status.busy": "2024-03-01T06:14:43.207334Z",
     "iopub.status.idle": "2024-03-01T06:14:57.578174Z",
     "shell.execute_reply": "2024-03-01T06:14:57.577393Z",
     "shell.execute_reply.started": "2024-03-01T06:14:43.208240Z"
    },
    "tags": []
   },
   "outputs": [
    {
     "data": {
      "text/plain": [
       "{\n",
       "  \"type\" : \"ObjList<Genai.SourceFile>\",\n",
       "  \"objs\" : [ {\n",
       "    \"typeIdent\" : \"FL\",\n",
       "    \"id\" : \"2e9c8543-2165-4f82-ae6c-86f8f7998a74\",\n",
       "    \"meta\" : {\n",
       "      \"appCode\" : 1792261984851976342,\n",
       "      \"env\" : \"cornea1347\",\n",
       "      \"app\" : \"genaisearch\",\n",
       "      \"created\" : \"2024-03-01T04:32:31Z\",\n",
       "      \"createdBy\" : \"worker\",\n",
       "      \"updated\" : \"2024-03-01T04:33:04Z\",\n",
       "      \"updatedBy\" : \"worker\",\n",
       "      \"timestamp\" : \"2024-03-01T04:33:14Z\",\n",
       "      \"fetchInclude\" : \"[]\",\n",
       "      \"fetchType\" : \"Genai.SourceFile\"\n",
       "    },\n",
       "    \"version\" : 196611,\n",
       "    \"contentSize\" : 116990,\n",
       "    \"metadata\" : {\n",
       "      \"fileName\" : \"1c2f00778234144c1be238473b93bd68e37a77c0\",\n",
       "      \"fileType\" : \"pdf\",\n",
       "      \"tags\" : [ {\n",
       "        \"id\" : \"cornea\"\n",
       "      } ]\n",
       "    },\n",
       "    \"eTagWhenLastProcessed\" : \"CObCzNmd0oQDEAE=\",\n",
       "    \"modifiedTimeWhenLastProcessed\" : \"2024-03-01T04:31:57.387Z\",\n",
       "    \"passagesFile\" : {\n",
       "      \"type\" : \"GcsFile\",\n",
       "      \"url\" : \"gcs://c3--gkev8c3apps/corneaguru/unstructured/passageFiles/passagesFiles/2e9c8543-2165-4f82-ae6c-86f8f7998a741c2f00778234144c1be238473b93bd68e37a77c0-passages.json\"\n",
       "    },\n",
       "    \"status\" : {\n",
       "      \"timestamp\" : \"2024-03-01T04:33:04Z\",\n",
       "      \"value\" : \"Chunked\",\n",
       "      \"lastProcessedBy\" : \"worker@c3\"\n",
       "    },\n",
       "    \"displayUrl\" : \"https://gkev8c3apps.c3-e.com/cornea1347/genaisearch/file/gcs://c3--gkev8c3apps/corneaguru/unstructured/docs/1c2f00778234144c1be238473b93bd68e37a77c0.pdf\",\n",
       "    \"collection\" : {\n",
       "      \"id\" : \"corneaguru\"\n",
       "    },\n",
       "    \"originalFile\" : {\n",
       "      \"type\" : \"GcsFile\",\n",
       "      \"contentLength\" : 116990,\n",
       "      \"eTag\" : \"CObCzNmd0oQDEAE=\",\n",
       "      \"lastModified\" : \"2024-03-01T04:31:57Z\",\n",
       "      \"url\" : \"gcs://c3--gkev8c3apps/corneaguru/unstructured/docs/1c2f00778234144c1be238473b93bd68e37a77c0.pdf\"\n",
       "    },\n",
       "    \"groups\" : [ {\n",
       "      \"id\" : \"Genai.Common\"\n",
       "    }, {\n",
       "      \"id\" : \"C3.ClusterAdmin\"\n",
       "    }, {\n",
       "      \"id\" : \"C3.EnvAdmin\"\n",
       "    }, {\n",
       "      \"id\" : \"C3.AppAdmin\"\n",
       "    } ]\n",
       "  }, {\n",
       "    \"typeIdent\" : \"FL\",\n",
       "    \"id\" : \"3e2fdde3-ce33-4b93-926e-11ce36b30a64\",\n",
       "    \"meta\" : {\n",
       "      \"appCode\" : 1792261984851976342,\n",
       "      \"env\" : \"cornea1347\",\n",
       "      \"app\" : \"genaisearch\",\n",
       "      \"created\" : \"2024-03-01T04:32:31Z\",\n",
       "      \"createdBy\" : \"worker\",\n",
       "      \"updated\" : \"2024-03-01T04:33:04Z\",\n",
       "      \"updatedBy\" : \"worker\",\n",
       "      \"timestamp\" : \"2024-03-01T04:33:14Z\",\n",
       "      \"fetchInclude\" : \"[]\",\n",
       "      \"fetchType\" : \"Genai.SourceFile\"\n",
       "    },\n",
       "    \"version\" : 196611,\n",
       "    \"contentSize\" : 251285,\n",
       "    \"metadata\" : {\n",
       "      \"fileName\" : \"0bd69d0ee90b739c34d7ba589ef174d4a6a8ed99\",\n",
       "      \"fileType\" : \"pdf\",\n",
       "      \"tags\" : [ {\n",
       "        \"id\" : \"cornea\"\n",
       "      } ]\n",
       "    },\n",
       "    \"eTagWhenLastProcessed\" : \"CP2wp9md0oQDEAE=\",\n",
       "    \"modifiedTimeWhenLastProcessed\" : \"2024-03-01T04:31:56.779Z\",\n",
       "    \"passagesFile\" : {\n",
       "      \"type\" : \"GcsFile\",\n",
       "      \"url\" : \"gcs://c3--gkev8c3apps/corneaguru/unstructured/passageFiles/passagesFiles/3e2fdde3-ce33-4b93-926e-11ce36b30a640bd69d0ee90b739c34d7ba589ef174d4a6a8ed99-passages.json\"\n",
       "    },\n",
       "    \"status\" : {\n",
       "      \"timestamp\" : \"2024-03-01T04:33:04Z\",\n",
       "      \"value\" : \"Chunked\",\n",
       "      \"lastProcessedBy\" : \"worker@c3\"\n",
       "    },\n",
       "    \"displayUrl\" : \"https://gkev8c3apps.c3-e.com/cornea1347/genaisearch/file/gcs://c3--gkev8c3apps/corneaguru/unstructured/docs/0bd69d0ee90b739c34d7ba589ef174d4a6a8ed99.pdf\",\n",
       "    \"collection\" : {\n",
       "      \"id\" : \"corneaguru\"\n",
       "    },\n",
       "    \"originalFile\" : {\n",
       "      \"type\" : \"GcsFile\",\n",
       "      \"contentLength\" : 251285,\n",
       "      \"eTag\" : \"CP2wp9md0oQDEAE=\",\n",
       "      \"lastModified\" : \"2024-03-01T04:31:56Z\",\n",
       "      \"url\" : \"gcs://c3--gkev8c3apps/corneaguru/unstructured/docs/0bd69d0ee90b739c34d7ba589ef174d4a6a8ed99.pdf\"\n",
       "    },\n",
       "    \"groups\" : [ {\n",
       "      \"id\" : \"Genai.Common\"\n",
       "    }, {\n",
       "      \"id\" : \"C3.ClusterAdmin\"\n",
       "    }, {\n",
       "      \"id\" : \"C3.EnvAdmin\"\n",
       "    }, {\n",
       "      \"id\" : \"C3.AppAdmin\"\n",
       "    } ]\n",
       "  }, {\n",
       "    \"typeIdent\" : \"FL\",\n",
       "    \"id\" : \"4a683522-b30a-40b6-a42c-7288fc765755\",\n",
       "    \"meta\" : {\n",
       "      \"appCode\" : 1792261984851976342,\n",
       "      \"env\" : \"cornea1347\",\n",
       "      \"app\" : \"genaisearch\",\n",
       "      \"created\" : \"2024-03-01T04:32:31Z\",\n",
       "      \"createdBy\" : \"worker\",\n",
       "      \"updated\" : \"2024-03-01T04:33:04Z\",\n",
       "      \"updatedBy\" : \"worker\",\n",
       "      \"timestamp\" : \"2024-03-01T04:33:14Z\",\n",
       "      \"fetchInclude\" : \"[]\",\n",
       "      \"fetchType\" : \"Genai.SourceFile\"\n",
       "    },\n",
       "    \"version\" : 196611,\n",
       "    \"contentSize\" : 195645,\n",
       "    \"metadata\" : {\n",
       "      \"fileName\" : \"1b62a3d666808898aaa22f81e21a04a715ce4167\",\n",
       "      \"fileType\" : \"pdf\",\n",
       "      \"tags\" : [ {\n",
       "        \"id\" : \"cornea\"\n",
       "      } ]\n",
       "    },\n",
       "    \"eTagWhenLastProcessed\" : \"CLbfmtmd0oQDEAE=\",\n",
       "    \"modifiedTimeWhenLastProcessed\" : \"2024-03-01T04:31:56.571Z\",\n",
       "    \"passagesFile\" : {\n",
       "      \"type\" : \"GcsFile\",\n",
       "      \"url\" : \"gcs://c3--gkev8c3apps/corneaguru/unstructured/passageFiles/passagesFiles/4a683522-b30a-40b6-a42c-7288fc7657551b62a3d666808898aaa22f81e21a04a715ce4167-passages.json\"\n",
       "    },\n",
       "    \"status\" : {\n",
       "      \"timestamp\" : \"2024-03-01T04:33:04Z\",\n",
       "      \"value\" : \"Chunked\",\n",
       "      \"lastProcessedBy\" : \"worker@c3\"\n",
       "    },\n",
       "    \"displayUrl\" : \"https://gkev8c3apps.c3-e.com/cornea1347/genaisearch/file/gcs://c3--gkev8c3apps/corneaguru/unstructured/docs/1b62a3d666808898aaa22f81e21a04a715ce4167.pdf\",\n",
       "    \"collection\" : {\n",
       "      \"id\" : \"corneaguru\"\n",
       "    },\n",
       "    \"originalFile\" : {\n",
       "      \"type\" : \"GcsFile\",\n",
       "      \"contentLength\" : 195645,\n",
       "      \"eTag\" : \"CLbfmtmd0oQDEAE=\",\n",
       "      \"lastModified\" : \"2024-03-01T04:31:56Z\",\n",
       "      \"url\" : \"gcs://c3--gkev8c3apps/corneaguru/unstructured/docs/1b62a3d666808898aaa22f81e21a04a715ce4167.pdf\"\n",
       "    },\n",
       "    \"groups\" : [ {\n",
       "      \"id\" : \"Genai.Common\"\n",
       "    }, {\n",
       "      \"id\" : \"C3.ClusterAdmin\"\n",
       "    }, {\n",
       "      \"id\" : \"C3.EnvAdmin\"\n",
       "    }, {\n",
       "      \"id\" : \"C3.AppAdmin\"\n",
       "    } ]\n",
       "  }, {\n",
       "    \"typeIdent\" : \"FL\",\n",
       "    \"id\" : \"884c3458-8c38-43ce-a5f1-9c73cd9fbd4b\",\n",
       "    \"meta\" : {\n",
       "      \"appCode\" : 1792261984851976342,\n",
       "      \"env\" : \"cornea1347\",\n",
       "      \"app\" : \"genaisearch\",\n",
       "      \"created\" : \"2024-03-01T04:32:31Z\",\n",
       "      \"createdBy\" : \"worker\",\n",
       "      \"updated\" : \"2024-03-01T04:33:04Z\",\n",
       "      \"updatedBy\" : \"worker\",\n",
       "      \"timestamp\" : \"2024-03-01T04:33:14Z\",\n",
       "      \"fetchInclude\" : \"[]\",\n",
       "      \"fetchType\" : \"Genai.SourceFile\"\n",
       "    },\n",
       "    \"version\" : 196611,\n",
       "    \"contentSize\" : 526636,\n",
       "    \"metadata\" : {\n",
       "      \"fileName\" : \"0d6f77f6919516e173bd2c1dcd97523752c007a6\",\n",
       "      \"fileType\" : \"pdf\",\n",
       "      \"tags\" : [ {\n",
       "        \"id\" : \"cornea\"\n",
       "      } ]\n",
       "    },\n",
       "    \"eTagWhenLastProcessed\" : \"CIDx/did0oQDEAE=\",\n",
       "    \"modifiedTimeWhenLastProcessed\" : \"2024-03-01T04:31:56.099Z\",\n",
       "    \"passagesFile\" : {\n",
       "      \"type\" : \"GcsFile\",\n",
       "      \"url\" : \"gcs://c3--gkev8c3apps/corneaguru/unstructured/passageFiles/passagesFiles/884c3458-8c38-43ce-a5f1-9c73cd9fbd4b0d6f77f6919516e173bd2c1dcd97523752c007a6-passages.json\"\n",
       "    },\n",
       "    \"status\" : {\n",
       "      \"timestamp\" : \"2024-03-01T04:33:04Z\",\n",
       "      \"value\" : \"Chunked\",\n",
       "      \"lastProcessedBy\" : \"worker@c3\"\n",
       "    },\n",
       "    \"displayUrl\" : \"https://gkev8c3apps.c3-e.com/cornea1347/genaisearch/file/gcs://c3--gkev8c3apps/corneaguru/unstructured/docs/0d6f77f6919516e173bd2c1dcd97523752c007a6.pdf\",\n",
       "    \"collection\" : {\n",
       "      \"id\" : \"corneaguru\"\n",
       "    },\n",
       "    \"originalFile\" : {\n",
       "      \"type\" : \"GcsFile\",\n",
       "      \"contentLength\" : 526636,\n",
       "      \"eTag\" : \"CIDx/did0oQDEAE=\",\n",
       "      \"lastModified\" : \"2024-03-01T04:31:56Z\",\n",
       "      \"url\" : \"gcs://c3--gkev8c3apps/corneaguru/unstructured/docs/0d6f77f6919516e173bd2c1dcd97523752c007a6.pdf\"\n",
       "    },\n",
       "    \"groups\" : [ {\n",
       "      \"id\" : \"Genai.Common\"\n",
       "    }, {\n",
       "      \"id\" : \"C3.ClusterAdmin\"\n",
       "    }, {\n",
       "      \"id\" : \"C3.EnvAdmin\"\n",
       "    }, {\n",
       "      \"id\" : \"C3.AppAdmin\"\n",
       "    } ]\n",
       "  }, {\n",
       "    \"typeIdent\" : \"FL\",\n",
       "    \"id\" : \"8e592158-bbd3-4254-9a6f-343ec2bdb31d\",\n",
       "    \"meta\" : {\n",
       "      \"appCode\" : 1792261984851976342,\n",
       "      \"env\" : \"cornea1347\",\n",
       "      \"app\" : \"genaisearch\",\n",
       "      \"created\" : \"2024-03-01T04:32:31Z\",\n",
       "      \"createdBy\" : \"worker\",\n",
       "      \"updated\" : \"2024-03-01T04:33:13Z\",\n",
       "      \"updatedBy\" : \"worker\",\n",
       "      \"timestamp\" : \"2024-03-01T04:33:14Z\",\n",
       "      \"fetchInclude\" : \"[]\",\n",
       "      \"fetchType\" : \"Genai.SourceFile\"\n",
       "    },\n",
       "    \"version\" : 196611,\n",
       "    \"contentSize\" : 93651,\n",
       "    \"metadata\" : {\n",
       "      \"fileName\" : \"0bec840d0ec00b4260586402efb12e017d0120d7\",\n",
       "      \"fileType\" : \"pdf\",\n",
       "      \"tags\" : [ {\n",
       "        \"id\" : \"cornea\"\n",
       "      } ]\n",
       "    },\n",
       "    \"eTagWhenLastProcessed\" : \"CNy209id0oQDEAE=\",\n",
       "    \"modifiedTimeWhenLastProcessed\" : \"2024-03-01T04:31:55.404Z\",\n",
       "    \"passagesFile\" : {\n",
       "      \"type\" : \"GcsFile\",\n",
       "      \"url\" : \"gcs://c3--gkev8c3apps/corneaguru/unstructured/passageFiles/passagesFiles/8e592158-bbd3-4254-9a6f-343ec2bdb31d0bec840d0ec00b4260586402efb12e017d0120d7-passages.json\"\n",
       "    },\n",
       "    \"status\" : {\n",
       "      \"timestamp\" : \"2024-03-01T04:33:13Z\",\n",
       "      \"value\" : \"Chunked\",\n",
       "      \"lastProcessedBy\" : \"worker@c3\"\n",
       "    },\n",
       "    \"displayUrl\" : \"https://gkev8c3apps.c3-e.com/cornea1347/genaisearch/file/gcs://c3--gkev8c3apps/corneaguru/unstructured/docs/0bec840d0ec00b4260586402efb12e017d0120d7.pdf\",\n",
       "    \"collection\" : {\n",
       "      \"id\" : \"corneaguru\"\n",
       "    },\n",
       "    \"originalFile\" : {\n",
       "      \"type\" : \"GcsFile\",\n",
       "      \"contentLength\" : 93651,\n",
       "      \"eTag\" : \"CNy209id0oQDEAE=\",\n",
       "      \"lastModified\" : \"2024-03-01T04:31:55Z\",\n",
       "      \"url\" : \"gcs://c3--gkev8c3apps/corneaguru/unstructured/docs/0bec840d0ec00b4260586402efb12e017d0120d7.pdf\"\n",
       "    },\n",
       "    \"groups\" : [ {\n",
       "      \"id\" : \"Genai.Common\"\n",
       "    }, {\n",
       "      \"id\" : \"C3.ClusterAdmin\"\n",
       "    }, {\n",
       "      \"id\" : \"C3.EnvAdmin\"\n",
       "    }, {\n",
       "      \"id\" : \"C3.AppAdmin\"\n",
       "    } ]\n",
       "  }, {\n",
       "    \"typeIdent\" : \"FL\",\n",
       "    \"id\" : \"921d3822-7427-400d-b6df-36e7cb50c661\",\n",
       "    \"meta\" : {\n",
       "      \"appCode\" : 1792261984851976342,\n",
       "      \"env\" : \"cornea1347\",\n",
       "      \"app\" : \"genaisearch\",\n",
       "      \"created\" : \"2024-03-01T04:32:31Z\",\n",
       "      \"createdBy\" : \"worker\",\n",
       "      \"updated\" : \"2024-03-01T04:33:13Z\",\n",
       "      \"updatedBy\" : \"worker\",\n",
       "      \"timestamp\" : \"2024-03-01T04:33:14Z\",\n",
       "      \"fetchInclude\" : \"[]\",\n",
       "      \"fetchType\" : \"Genai.SourceFile\"\n",
       "    },\n",
       "    \"version\" : 196611,\n",
       "    \"contentSize\" : 477830,\n",
       "    \"metadata\" : {\n",
       "      \"fileName\" : \"1b9e966227c2d7d91b9659ec53abb30cdd4b809f\",\n",
       "      \"fileType\" : \"pdf\",\n",
       "      \"tags\" : [ {\n",
       "        \"id\" : \"cornea\"\n",
       "      } ]\n",
       "    },\n",
       "    \"eTagWhenLastProcessed\" : \"CLnG79id0oQDEAE=\",\n",
       "    \"modifiedTimeWhenLastProcessed\" : \"2024-03-01T04:31:55.863Z\",\n",
       "    \"passagesFile\" : {\n",
       "      \"type\" : \"GcsFile\",\n",
       "      \"url\" : \"gcs://c3--gkev8c3apps/corneaguru/unstructured/passageFiles/passagesFiles/921d3822-7427-400d-b6df-36e7cb50c6611b9e966227c2d7d91b9659ec53abb30cdd4b809f-passages.json\"\n",
       "    },\n",
       "    \"status\" : {\n",
       "      \"timestamp\" : \"2024-03-01T04:33:13Z\",\n",
       "      \"value\" : \"Chunked\",\n",
       "      \"lastProcessedBy\" : \"worker@c3\"\n",
       "    },\n",
       "    \"displayUrl\" : \"https://gkev8c3apps.c3-e.com/cornea1347/genaisearch/file/gcs://c3--gkev8c3apps/corneaguru/unstructured/docs/1b9e966227c2d7d91b9659ec53abb30cdd4b809f.pdf\",\n",
       "    \"collection\" : {\n",
       "      \"id\" : \"corneaguru\"\n",
       "    },\n",
       "    \"originalFile\" : {\n",
       "      \"type\" : \"GcsFile\",\n",
       "      \"contentLength\" : 477830,\n",
       "      \"eTag\" : \"CLnG79id0oQDEAE=\",\n",
       "      \"lastModified\" : \"2024-03-01T04:31:55Z\",\n",
       "      \"url\" : \"gcs://c3--gkev8c3apps/corneaguru/unstructured/docs/1b9e966227c2d7d91b9659ec53abb30cdd4b809f.pdf\"\n",
       "    },\n",
       "    \"groups\" : [ {\n",
       "      \"id\" : \"Genai.Common\"\n",
       "    }, {\n",
       "      \"id\" : \"C3.ClusterAdmin\"\n",
       "    }, {\n",
       "      \"id\" : \"C3.EnvAdmin\"\n",
       "    }, {\n",
       "      \"id\" : \"C3.AppAdmin\"\n",
       "    } ]\n",
       "  }, {\n",
       "    \"typeIdent\" : \"FL\",\n",
       "    \"id\" : \"b501ffa1-337f-45fc-8e5d-7cc0503860a9\",\n",
       "    \"meta\" : {\n",
       "      \"appCode\" : 1792261984851976342,\n",
       "      \"env\" : \"cornea1347\",\n",
       "      \"app\" : \"genaisearch\",\n",
       "      \"created\" : \"2024-03-01T04:32:31Z\",\n",
       "      \"createdBy\" : \"worker\",\n",
       "      \"updated\" : \"2024-03-01T04:33:13Z\",\n",
       "      \"updatedBy\" : \"worker\",\n",
       "      \"timestamp\" : \"2024-03-01T04:33:14Z\",\n",
       "      \"fetchInclude\" : \"[]\",\n",
       "      \"fetchType\" : \"Genai.SourceFile\"\n",
       "    },\n",
       "    \"version\" : 196611,\n",
       "    \"contentSize\" : 54270,\n",
       "    \"metadata\" : {\n",
       "      \"fileName\" : \"0fbcd00a0f076d2f6bb0260b7e3e682da98bcaf2\",\n",
       "      \"fileType\" : \"pdf\",\n",
       "      \"tags\" : [ {\n",
       "        \"id\" : \"cornea\"\n",
       "      } ]\n",
       "    },\n",
       "    \"eTagWhenLastProcessed\" : \"CLmpjdmd0oQDEAE=\",\n",
       "    \"modifiedTimeWhenLastProcessed\" : \"2024-03-01T04:31:56.353Z\",\n",
       "    \"passagesFile\" : {\n",
       "      \"type\" : \"GcsFile\",\n",
       "      \"url\" : \"gcs://c3--gkev8c3apps/corneaguru/unstructured/passageFiles/passagesFiles/b501ffa1-337f-45fc-8e5d-7cc0503860a90fbcd00a0f076d2f6bb0260b7e3e682da98bcaf2-passages.json\"\n",
       "    },\n",
       "    \"status\" : {\n",
       "      \"timestamp\" : \"2024-03-01T04:33:13Z\",\n",
       "      \"value\" : \"Chunked\",\n",
       "      \"lastProcessedBy\" : \"worker@c3\"\n",
       "    },\n",
       "    \"displayUrl\" : \"https://gkev8c3apps.c3-e.com/cornea1347/genaisearch/file/gcs://c3--gkev8c3apps/corneaguru/unstructured/docs/0fbcd00a0f076d2f6bb0260b7e3e682da98bcaf2.pdf\",\n",
       "    \"collection\" : {\n",
       "      \"id\" : \"corneaguru\"\n",
       "    },\n",
       "    \"originalFile\" : {\n",
       "      \"type\" : \"GcsFile\",\n",
       "      \"contentLength\" : 54270,\n",
       "      \"eTag\" : \"CLmpjdmd0oQDEAE=\",\n",
       "      \"lastModified\" : \"2024-03-01T04:31:56Z\",\n",
       "      \"url\" : \"gcs://c3--gkev8c3apps/corneaguru/unstructured/docs/0fbcd00a0f076d2f6bb0260b7e3e682da98bcaf2.pdf\"\n",
       "    },\n",
       "    \"groups\" : [ {\n",
       "      \"id\" : \"Genai.Common\"\n",
       "    }, {\n",
       "      \"id\" : \"C3.ClusterAdmin\"\n",
       "    }, {\n",
       "      \"id\" : \"C3.EnvAdmin\"\n",
       "    }, {\n",
       "      \"id\" : \"C3.AppAdmin\"\n",
       "    } ]\n",
       "  }, {\n",
       "    \"typeIdent\" : \"FL\",\n",
       "    \"id\" : \"bd382ce2-5eec-474d-bb4c-603421840f34\",\n",
       "    \"meta\" : {\n",
       "      \"appCode\" : 1792261984851976342,\n",
       "      \"env\" : \"cornea1347\",\n",
       "      \"app\" : \"genaisearch\",\n",
       "      \"created\" : \"2024-03-01T04:32:31Z\",\n",
       "      \"createdBy\" : \"worker\",\n",
       "      \"updated\" : \"2024-03-01T04:33:13Z\",\n",
       "      \"updatedBy\" : \"worker\",\n",
       "      \"timestamp\" : \"2024-03-01T04:33:14Z\",\n",
       "      \"fetchInclude\" : \"[]\",\n",
       "      \"fetchType\" : \"Genai.SourceFile\"\n",
       "    },\n",
       "    \"version\" : 196611,\n",
       "    \"contentSize\" : 808865,\n",
       "    \"metadata\" : {\n",
       "      \"fileName\" : \"1ab40f87be19f050df7d918504d92db96617dbff\",\n",
       "      \"fileType\" : \"pdf\",\n",
       "      \"tags\" : [ {\n",
       "        \"id\" : \"cornea\"\n",
       "      } ]\n",
       "    },\n",
       "    \"eTagWhenLastProcessed\" : \"CJCAtNmd0oQDEAE=\",\n",
       "    \"modifiedTimeWhenLastProcessed\" : \"2024-03-01T04:31:56.985Z\",\n",
       "    \"passagesFile\" : {\n",
       "      \"type\" : \"GcsFile\",\n",
       "      \"url\" : \"gcs://c3--gkev8c3apps/corneaguru/unstructured/passageFiles/passagesFiles/bd382ce2-5eec-474d-bb4c-603421840f341ab40f87be19f050df7d918504d92db96617dbff-passages.json\"\n",
       "    },\n",
       "    \"status\" : {\n",
       "      \"timestamp\" : \"2024-03-01T04:33:13Z\",\n",
       "      \"value\" : \"Chunked\",\n",
       "      \"lastProcessedBy\" : \"worker@c3\"\n",
       "    },\n",
       "    \"displayUrl\" : \"https://gkev8c3apps.c3-e.com/cornea1347/genaisearch/file/gcs://c3--gkev8c3apps/corneaguru/unstructured/docs/1ab40f87be19f050df7d918504d92db96617dbff.pdf\",\n",
       "    \"collection\" : {\n",
       "      \"id\" : \"corneaguru\"\n",
       "    },\n",
       "    \"originalFile\" : {\n",
       "      \"type\" : \"GcsFile\",\n",
       "      \"contentLength\" : 808865,\n",
       "      \"eTag\" : \"CJCAtNmd0oQDEAE=\",\n",
       "      \"lastModified\" : \"2024-03-01T04:31:56Z\",\n",
       "      \"url\" : \"gcs://c3--gkev8c3apps/corneaguru/unstructured/docs/1ab40f87be19f050df7d918504d92db96617dbff.pdf\"\n",
       "    },\n",
       "    \"groups\" : [ {\n",
       "      \"id\" : \"Genai.Common\"\n",
       "    }, {\n",
       "      \"id\" : \"C3.ClusterAdmin\"\n",
       "    }, {\n",
       "      \"id\" : \"C3.EnvAdmin\"\n",
       "    }, {\n",
       "      \"id\" : \"C3.AppAdmin\"\n",
       "    } ]\n",
       "  }, {\n",
       "    \"typeIdent\" : \"FL\",\n",
       "    \"id\" : \"dfc621ef-6b83-4c2e-b4ec-7252306437ce\",\n",
       "    \"meta\" : {\n",
       "      \"appCode\" : 1792261984851976342,\n",
       "      \"env\" : \"cornea1347\",\n",
       "      \"app\" : \"genaisearch\",\n",
       "      \"created\" : \"2024-03-01T04:32:31Z\",\n",
       "      \"createdBy\" : \"worker\",\n",
       "      \"updated\" : \"2024-03-01T04:33:21Z\",\n",
       "      \"updatedBy\" : \"worker\",\n",
       "      \"timestamp\" : \"2024-03-01T04:33:21Z\",\n",
       "      \"fetchInclude\" : \"[]\",\n",
       "      \"fetchType\" : \"Genai.SourceFile\"\n",
       "    },\n",
       "    \"version\" : 196611,\n",
       "    \"contentSize\" : 637295,\n",
       "    \"metadata\" : {\n",
       "      \"fileName\" : \"0f676139cce7ee50fc015f56069d53050d191f4e\",\n",
       "      \"fileType\" : \"pdf\",\n",
       "      \"tags\" : [ {\n",
       "        \"id\" : \"cornea\"\n",
       "      } ]\n",
       "    },\n",
       "    \"eTagWhenLastProcessed\" : \"CKm8wdmd0oQDEAE=\",\n",
       "    \"modifiedTimeWhenLastProcessed\" : \"2024-03-01T04:31:57.206Z\",\n",
       "    \"passagesFile\" : {\n",
       "      \"type\" : \"GcsFile\",\n",
       "      \"url\" : \"gcs://c3--gkev8c3apps/corneaguru/unstructured/passageFiles/passagesFiles/dfc621ef-6b83-4c2e-b4ec-7252306437ce0f676139cce7ee50fc015f56069d53050d191f4e-passages.json\"\n",
       "    },\n",
       "    \"status\" : {\n",
       "      \"timestamp\" : \"2024-03-01T04:33:21Z\",\n",
       "      \"value\" : \"Chunked\",\n",
       "      \"lastProcessedBy\" : \"worker@c3\"\n",
       "    },\n",
       "    \"displayUrl\" : \"https://gkev8c3apps.c3-e.com/cornea1347/genaisearch/file/gcs://c3--gkev8c3apps/corneaguru/unstructured/docs/0f676139cce7ee50fc015f56069d53050d191f4e.pdf\",\n",
       "    \"collection\" : {\n",
       "      \"id\" : \"corneaguru\"\n",
       "    },\n",
       "    \"originalFile\" : {\n",
       "      \"type\" : \"GcsFile\",\n",
       "      \"contentLength\" : 637295,\n",
       "      \"eTag\" : \"CKm8wdmd0oQDEAE=\",\n",
       "      \"lastModified\" : \"2024-03-01T04:31:57Z\",\n",
       "      \"url\" : \"gcs://c3--gkev8c3apps/corneaguru/unstructured/docs/0f676139cce7ee50fc015f56069d53050d191f4e.pdf\"\n",
       "    },\n",
       "    \"groups\" : [ {\n",
       "      \"id\" : \"Genai.Common\"\n",
       "    }, {\n",
       "      \"id\" : \"C3.ClusterAdmin\"\n",
       "    }, {\n",
       "      \"id\" : \"C3.EnvAdmin\"\n",
       "    }, {\n",
       "      \"id\" : \"C3.AppAdmin\"\n",
       "    } ]\n",
       "  }, {\n",
       "    \"typeIdent\" : \"FL\",\n",
       "    \"id\" : \"fdd44538-4152-4a18-96da-ca492a25322f\",\n",
       "    \"meta\" : {\n",
       "      \"appCode\" : 1792261984851976342,\n",
       "      \"env\" : \"cornea1347\",\n",
       "      \"app\" : \"genaisearch\",\n",
       "      \"created\" : \"2024-03-01T04:32:31Z\",\n",
       "      \"createdBy\" : \"worker\",\n",
       "      \"updated\" : \"2024-03-01T04:33:21Z\",\n",
       "      \"updatedBy\" : \"worker\",\n",
       "      \"timestamp\" : \"2024-03-01T04:33:21Z\",\n",
       "      \"fetchInclude\" : \"[]\",\n",
       "      \"fetchType\" : \"Genai.SourceFile\"\n",
       "    },\n",
       "    \"version\" : 196611,\n",
       "    \"contentSize\" : 204182,\n",
       "    \"metadata\" : {\n",
       "      \"fileName\" : \"1b96e52d649edf2a3c16bb8298c87c542c6eafe0\",\n",
       "      \"fileType\" : \"pdf\",\n",
       "      \"tags\" : [ {\n",
       "        \"id\" : \"cornea\"\n",
       "      } ]\n",
       "    },\n",
       "    \"eTagWhenLastProcessed\" : \"COrS4tid0oQDEAE=\",\n",
       "    \"modifiedTimeWhenLastProcessed\" : \"2024-03-01T04:31:55.653Z\",\n",
       "    \"passagesFile\" : {\n",
       "      \"type\" : \"GcsFile\",\n",
       "      \"url\" : \"gcs://c3--gkev8c3apps/corneaguru/unstructured/passageFiles/passagesFiles/fdd44538-4152-4a18-96da-ca492a25322f1b96e52d649edf2a3c16bb8298c87c542c6eafe0-passages.json\"\n",
       "    },\n",
       "    \"status\" : {\n",
       "      \"timestamp\" : \"2024-03-01T04:33:21Z\",\n",
       "      \"value\" : \"Chunked\",\n",
       "      \"lastProcessedBy\" : \"worker@c3\"\n",
       "    },\n",
       "    \"displayUrl\" : \"https://gkev8c3apps.c3-e.com/cornea1347/genaisearch/file/gcs://c3--gkev8c3apps/corneaguru/unstructured/docs/1b96e52d649edf2a3c16bb8298c87c542c6eafe0.pdf\",\n",
       "    \"collection\" : {\n",
       "      \"id\" : \"corneaguru\"\n",
       "    },\n",
       "    \"originalFile\" : {\n",
       "      \"type\" : \"GcsFile\",\n",
       "      \"contentLength\" : 204182,\n",
       "      \"eTag\" : \"COrS4tid0oQDEAE=\",\n",
       "      \"lastModified\" : \"2024-03-01T04:31:55Z\",\n",
       "      \"url\" : \"gcs://c3--gkev8c3apps/corneaguru/unstructured/docs/1b96e52d649edf2a3c16bb8298c87c542c6eafe0.pdf\"\n",
       "    },\n",
       "    \"groups\" : [ {\n",
       "      \"id\" : \"Genai.Common\"\n",
       "    }, {\n",
       "      \"id\" : \"C3.ClusterAdmin\"\n",
       "    }, {\n",
       "      \"id\" : \"C3.EnvAdmin\"\n",
       "    }, {\n",
       "      \"id\" : \"C3.AppAdmin\"\n",
       "    } ]\n",
       "  } ]\n",
       "}"
      ]
     },
     "execution_count": 224,
     "metadata": {},
     "output_type": "execute_result"
    }
   ],
   "source": [
    "e.indexFiles(files, True)"
   ]
  },
  {
   "cell_type": "code",
   "execution_count": 47,
   "id": "745de735-a627-4bb8-a263-24a6f2295277",
   "metadata": {
    "execution": {
     "iopub.execute_input": "2024-03-01T04:31:32.208391Z",
     "iopub.status.busy": "2024-03-01T04:31:32.207388Z",
     "iopub.status.idle": "2024-03-01T04:31:32.248504Z",
     "shell.execute_reply": "2024-03-01T04:31:32.247701Z",
     "shell.execute_reply.started": "2024-03-01T04:31:32.208356Z"
    },
    "tags": []
   },
   "outputs": [],
   "source": [
    "sourceCollection = c3.Genai.SourceCollection.forId(\"corneaguru\")"
   ]
  },
  {
   "cell_type": "code",
   "execution_count": 48,
   "id": "2982f659-98ca-4b11-a30f-20caa8a32b49",
   "metadata": {
    "execution": {
     "iopub.execute_input": "2024-03-01T04:31:33.209604Z",
     "iopub.status.busy": "2024-03-01T04:31:33.208617Z",
     "iopub.status.idle": "2024-03-01T04:31:33.710164Z",
     "shell.execute_reply": "2024-03-01T04:31:33.709404Z",
     "shell.execute_reply.started": "2024-03-01T04:31:33.209569Z"
    },
    "tags": []
   },
   "outputs": [
    {
     "data": {
      "text/plain": [
       "{\n",
       "  \"type\" : \"Genai.SourceCollection\",\n",
       "  \"name\" : \"corneaguru\",\n",
       "  \"id\" : \"corneaguru\",\n",
       "  \"meta\" : {\n",
       "    \"appCode\" : 1792261984851976342,\n",
       "    \"env\" : \"cornea1347\",\n",
       "    \"app\" : \"genaisearch\",\n",
       "    \"created\" : \"2024-03-01T04:30:42Z\",\n",
       "    \"createdBy\" : \"31cf4fee8caa1a6e301bd793d553853bc67613ddcd922b5cd585720d327e6f13\",\n",
       "    \"updated\" : \"2024-03-01T04:30:42Z\",\n",
       "    \"updatedBy\" : \"31cf4fee8caa1a6e301bd793d553853bc67613ddcd922b5cd585720d327e6f13\",\n",
       "    \"timestamp\" : \"2024-03-01T04:30:42Z\",\n",
       "    \"fetchInclude\" : \"[]\",\n",
       "    \"fetchType\" : \"Genai.SourceCollection\"\n",
       "  },\n",
       "  \"version\" : 1,\n",
       "  \"description\" : \"Collection of files for corneaguru\",\n",
       "  \"rootUrl\" : \"gcs://c3--gkev8c3apps/corneaguru/unstructured/docs/\",\n",
       "  \"targetUrl\" : \"gcs://c3--gkev8c3apps/corneaguru/unstructured/passageFiles/\",\n",
       "  \"groups\" : [ {\n",
       "    \"id\" : \"Genai.Common\"\n",
       "  }, {\n",
       "    \"id\" : \"C3.ClusterAdmin\"\n",
       "  }, {\n",
       "    \"id\" : \"C3.EnvAdmin\"\n",
       "  }, {\n",
       "    \"id\" : \"C3.AppAdmin\"\n",
       "  } ]\n",
       "}"
      ]
     },
     "execution_count": 48,
     "metadata": {},
     "output_type": "execute_result"
    }
   ],
   "source": [
    "sourceCollection"
   ]
  },
  {
   "cell_type": "code",
   "execution_count": 49,
   "id": "b7a91b1c-a7c7-48ca-8b97-8fa697427855",
   "metadata": {
    "execution": {
     "iopub.execute_input": "2024-03-01T04:31:36.788522Z",
     "iopub.status.busy": "2024-03-01T04:31:36.787602Z",
     "iopub.status.idle": "2024-03-01T04:31:38.399944Z",
     "shell.execute_reply": "2024-03-01T04:31:38.399191Z",
     "shell.execute_reply.started": "2024-03-01T04:31:36.788483Z"
    },
    "tags": []
   },
   "outputs": [
    {
     "data": {
      "text/plain": [
       "{\n",
       "  \"type\" : \"Genai.Retriever.ColBERT\",\n",
       "  \"id\" : \"corneaguru\",\n",
       "  \"name\" : \"corneaguru\",\n",
       "  \"meta\" : {\n",
       "    \"appCode\" : 1792261984851976342,\n",
       "    \"env\" : \"cornea1347\",\n",
       "    \"app\" : \"genaisearch\",\n",
       "    \"created\" : \"2024-03-01T04:30:40Z\",\n",
       "    \"createdBy\" : \"31cf4fee8caa1a6e301bd793d553853bc67613ddcd922b5cd585720d327e6f13\",\n",
       "    \"updated\" : \"2024-03-01T04:30:40Z\",\n",
       "    \"updatedBy\" : \"31cf4fee8caa1a6e301bd793d553853bc67613ddcd922b5cd585720d327e6f13\",\n",
       "    \"timestamp\" : \"2024-03-01T04:30:40Z\",\n",
       "    \"fetchInclude\" : \"[]\",\n",
       "    \"fetchType\" : \"Genai.Retriever.ColBERT\"\n",
       "  },\n",
       "  \"version\" : 1\n",
       "}"
      ]
     },
     "execution_count": 49,
     "metadata": {},
     "output_type": "execute_result"
    }
   ],
   "source": [
    "# Notebook\n",
    "customerName = \"corneaguru\"\n",
    "vectorStore = c3.Genai.Retriever.ColBERT.fetch(filter=f\"name == '{customerName}'\").objs[0].get()\n",
    "vectorStore"
   ]
  },
  {
   "cell_type": "code",
   "execution_count": null,
   "id": "cdfa7a74-6183-42f5-9d54-ab13fd139036",
   "metadata": {},
   "outputs": [],
   "source": []
  },
  {
   "cell_type": "code",
   "execution_count": null,
   "id": "70099dc8-d32e-4860-9d42-37bdeacb304d",
   "metadata": {
    "tags": []
   },
   "outputs": [],
   "source": [
    "vectorStore"
   ]
  },
  {
   "cell_type": "code",
   "execution_count": 50,
   "id": "5d83fa28-fa5f-470f-9712-9636222f9644",
   "metadata": {
    "execution": {
     "iopub.execute_input": "2024-03-01T04:31:41.251349Z",
     "iopub.status.busy": "2024-03-01T04:31:41.250064Z",
     "iopub.status.idle": "2024-03-01T04:31:41.755488Z",
     "shell.execute_reply": "2024-03-01T04:31:41.754473Z",
     "shell.execute_reply.started": "2024-03-01T04:31:41.251312Z"
    },
    "tags": []
   },
   "outputs": [],
   "source": [
    "# Notebook\n",
    "sourceCollection = c3.Genai.SourceCollection.fetch(filter=f\"name == '{customerName}'\").objs[0].get()"
   ]
  },
  {
   "cell_type": "code",
   "execution_count": 51,
   "id": "d45360fd-0a91-4c33-a1a1-b52721726377",
   "metadata": {
    "execution": {
     "iopub.execute_input": "2024-03-01T04:31:42.452354Z",
     "iopub.status.busy": "2024-03-01T04:31:42.451242Z",
     "iopub.status.idle": "2024-03-01T04:31:42.488348Z",
     "shell.execute_reply": "2024-03-01T04:31:42.487524Z",
     "shell.execute_reply.started": "2024-03-01T04:31:42.452316Z"
    },
    "tags": []
   },
   "outputs": [
    {
     "data": {
      "text/plain": [
       "{\n",
       "  \"type\" : \"Genai.SourceCollection\",\n",
       "  \"name\" : \"corneaguru\",\n",
       "  \"id\" : \"corneaguru\",\n",
       "  \"meta\" : {\n",
       "    \"appCode\" : 1792261984851976342,\n",
       "    \"env\" : \"cornea1347\",\n",
       "    \"app\" : \"genaisearch\",\n",
       "    \"created\" : \"2024-03-01T04:30:42Z\",\n",
       "    \"createdBy\" : \"31cf4fee8caa1a6e301bd793d553853bc67613ddcd922b5cd585720d327e6f13\",\n",
       "    \"updated\" : \"2024-03-01T04:30:42Z\",\n",
       "    \"updatedBy\" : \"31cf4fee8caa1a6e301bd793d553853bc67613ddcd922b5cd585720d327e6f13\",\n",
       "    \"timestamp\" : \"2024-03-01T04:30:42Z\",\n",
       "    \"fetchInclude\" : \"[]\",\n",
       "    \"fetchType\" : \"Genai.SourceCollection\"\n",
       "  },\n",
       "  \"version\" : 1,\n",
       "  \"description\" : \"Collection of files for corneaguru\",\n",
       "  \"rootUrl\" : \"gcs://c3--gkev8c3apps/corneaguru/unstructured/docs/\",\n",
       "  \"targetUrl\" : \"gcs://c3--gkev8c3apps/corneaguru/unstructured/passageFiles/\",\n",
       "  \"groups\" : [ {\n",
       "    \"id\" : \"Genai.Common\"\n",
       "  }, {\n",
       "    \"id\" : \"C3.ClusterAdmin\"\n",
       "  }, {\n",
       "    \"id\" : \"C3.EnvAdmin\"\n",
       "  }, {\n",
       "    \"id\" : \"C3.AppAdmin\"\n",
       "  } ]\n",
       "}"
      ]
     },
     "execution_count": 51,
     "metadata": {},
     "output_type": "execute_result"
    }
   ],
   "source": [
    "sourceCollection"
   ]
  },
  {
   "cell_type": "code",
   "execution_count": 52,
   "id": "dc332605-d1ee-4ae1-936c-0b5ce57a4ef0",
   "metadata": {
    "execution": {
     "iopub.execute_input": "2024-03-01T04:31:45.550372Z",
     "iopub.status.busy": "2024-03-01T04:31:45.550008Z",
     "iopub.status.idle": "2024-03-01T04:31:46.011014Z",
     "shell.execute_reply": "2024-03-01T04:31:46.010027Z",
     "shell.execute_reply.started": "2024-03-01T04:31:45.550344Z"
    },
    "tags": []
   },
   "outputs": [],
   "source": [
    "c3.Genai.Retriever.ColBERT.DataConfig(name=vectorStore.name).withColbertCheckpointFileLocation(remote_colbert_path).setConfig()"
   ]
  },
  {
   "cell_type": "code",
   "execution_count": 53,
   "id": "7d795ef7-db59-4d58-9874-5b86daa7e95e",
   "metadata": {
    "execution": {
     "iopub.execute_input": "2024-03-01T04:31:47.389827Z",
     "iopub.status.busy": "2024-03-01T04:31:47.389448Z",
     "iopub.status.idle": "2024-03-01T04:31:47.998570Z",
     "shell.execute_reply": "2024-03-01T04:31:47.997742Z",
     "shell.execute_reply.started": "2024-03-01T04:31:47.389800Z"
    },
    "tags": []
   },
   "outputs": [
    {
     "data": {
      "text/plain": [
       "{\n",
       "  \"type\" : \"Genai.Retriever.ColBERT.DataConfig\",\n",
       "  \"name\" : \"corneaguru\",\n",
       "  \"configOverride\" : \"APP\",\n",
       "  \"device\" : \"-1\",\n",
       "  \"maxTries\" : 3,\n",
       "  \"indexName\" : \"data\",\n",
       "  \"colbertCheckpointFileLocation\" : \"gcs://c3--gkev8c3apps/corneaguru/colbertv2.0.tar.gz\",\n",
       "  \"reindexingThreshold\" : 1000,\n",
       "  \"gpuIndexingThreshold\" : 1000,\n",
       "  \"scoreThreshold\" : 0.0,\n",
       "  \"fuzzyMatchRatioThreshold\" : 100,\n",
       "  \"docMaxlen\" : 500,\n",
       "  \"queryMaxlen\" : 32,\n",
       "  \"nGpus\" : 1,\n",
       "  \"nCells\" : 4,\n",
       "  \"centroidScoreThreshold\" : 0.4,\n",
       "  \"nDocs\" : 4096\n",
       "}"
      ]
     },
     "execution_count": 53,
     "metadata": {},
     "output_type": "execute_result"
    }
   ],
   "source": [
    "c3.Genai.Retriever.ColBERT.DataConfig(name=vectorStore.name).getConfig()"
   ]
  },
  {
   "cell_type": "code",
   "execution_count": 54,
   "id": "b7f3c058-e940-48b7-b858-0c65fbd73309",
   "metadata": {
    "execution": {
     "iopub.execute_input": "2024-03-01T04:31:49.768595Z",
     "iopub.status.busy": "2024-03-01T04:31:49.767590Z",
     "iopub.status.idle": "2024-03-01T04:31:49.773301Z",
     "shell.execute_reply": "2024-03-01T04:31:49.772606Z",
     "shell.execute_reply.started": "2024-03-01T04:31:49.768554Z"
    },
    "tags": []
   },
   "outputs": [
    {
     "data": {
      "text/plain": [
       "'gcs://c3--gkev8c3apps/corneaguru/colbertv2.0.tar.gz'"
      ]
     },
     "execution_count": 54,
     "metadata": {},
     "output_type": "execute_result"
    }
   ],
   "source": [
    "remote_colbert_path"
   ]
  },
  {
   "cell_type": "markdown",
   "id": "ff425788-b851-46ad-bb77-12cbb5e40a1d",
   "metadata": {},
   "source": [
    "## Ingestion"
   ]
  },
  {
   "cell_type": "code",
   "execution_count": 55,
   "id": "34f8750a-e9c1-4779-9313-10077d963e62",
   "metadata": {
    "execution": {
     "iopub.execute_input": "2024-03-01T04:31:54.558182Z",
     "iopub.status.busy": "2024-03-01T04:31:54.557738Z",
     "iopub.status.idle": "2024-03-01T04:31:54.563515Z",
     "shell.execute_reply": "2024-03-01T04:31:54.562792Z",
     "shell.execute_reply.started": "2024-03-01T04:31:54.558151Z"
    },
    "tags": []
   },
   "outputs": [
    {
     "data": {
      "text/plain": [
       "'gcs://c3--gkev8c3apps/corneaguru/unstructured/docs/'"
      ]
     },
     "execution_count": 55,
     "metadata": {},
     "output_type": "execute_result"
    }
   ],
   "source": [
    "sourceCollection.rootUrl"
   ]
  },
  {
   "cell_type": "code",
   "execution_count": 56,
   "id": "503c96d6-74e1-4d73-adc7-f0a1a2f81a63",
   "metadata": {
    "execution": {
     "iopub.execute_input": "2024-03-01T04:31:55.211869Z",
     "iopub.status.busy": "2024-03-01T04:31:55.211442Z",
     "iopub.status.idle": "2024-03-01T04:31:57.401071Z",
     "shell.execute_reply": "2024-03-01T04:31:57.400162Z",
     "shell.execute_reply.started": "2024-03-01T04:31:55.211838Z"
    },
    "tags": []
   },
   "outputs": [],
   "source": [
    "# Upload documents to the data folder\n",
    "# Notebook\n",
    "local_dir = 'data/'\n",
    "\n",
    "for filename in os.listdir(local_dir):\n",
    "        if filename.endswith(\".pdf\"):\n",
    "            new_filename = filename.replace(\" \", \"\").replace(\"-\", \"\").replace(\"[\", \"\").replace(\"]\", \"\")\n",
    "            old_filepath = os.path.join(local_dir, filename)\n",
    "            new_filepath = os.path.join(local_dir, new_filename)\n",
    "            os.rename(old_filepath, new_filepath)\n",
    "\n",
    "for fname in os.listdir(local_dir):\n",
    "    if fname.endswith(\".pdf\"):\n",
    "        local_fullname = os.path.join(local_dir, fname)\n",
    "        remote_fullname = os.path.join(sourceCollection.rootUrl, fname)\n",
    "        if os.path.isfile(local_fullname):  # check if file exists\n",
    "            with open(local_fullname, \"rb\") as f:\n",
    "                c3.Client.uploadFile(f, remote_fullname)\n",
    "                #print(f\"File {local_fullname} uploaded!\")\n",
    "        else:\n",
    "            print(f\"File {local_fullname} does not exist.\")"
   ]
  },
  {
   "cell_type": "code",
   "execution_count": 57,
   "id": "a0d88c4f-47e6-41f0-b4cc-01d2b9d0d726",
   "metadata": {
    "execution": {
     "iopub.execute_input": "2024-03-01T04:31:58.358625Z",
     "iopub.status.busy": "2024-03-01T04:31:58.357691Z",
     "iopub.status.idle": "2024-03-01T04:31:58.466000Z",
     "shell.execute_reply": "2024-03-01T04:31:58.465193Z",
     "shell.execute_reply.started": "2024-03-01T04:31:58.358584Z"
    },
    "tags": []
   },
   "outputs": [],
   "source": [
    "files = c3.FileSystem.inst().listFiles(sourceCollection.rootUrl, limit=300)"
   ]
  },
  {
   "cell_type": "code",
   "execution_count": 58,
   "id": "58af3c19-75a0-47bf-a218-f78829e75ba9",
   "metadata": {
    "execution": {
     "iopub.execute_input": "2024-03-01T04:31:59.341749Z",
     "iopub.status.busy": "2024-03-01T04:31:59.340776Z",
     "iopub.status.idle": "2024-03-01T04:31:59.346514Z",
     "shell.execute_reply": "2024-03-01T04:31:59.345777Z",
     "shell.execute_reply.started": "2024-03-01T04:31:59.341711Z"
    },
    "tags": []
   },
   "outputs": [
    {
     "data": {
      "text/plain": [
       "10"
      ]
     },
     "execution_count": 58,
     "metadata": {},
     "output_type": "execute_result"
    }
   ],
   "source": [
    "len(files.files)"
   ]
  },
  {
   "cell_type": "code",
   "execution_count": 59,
   "id": "14619b48-bb9b-4bce-9237-98034d81893e",
   "metadata": {
    "execution": {
     "iopub.execute_input": "2024-03-01T04:32:02.595153Z",
     "iopub.status.busy": "2024-03-01T04:32:02.594113Z",
     "iopub.status.idle": "2024-03-01T04:32:02.627800Z",
     "shell.execute_reply": "2024-03-01T04:32:02.627036Z",
     "shell.execute_reply.started": "2024-03-01T04:32:02.595115Z"
    },
    "tags": []
   },
   "outputs": [
    {
     "data": {
      "text/plain": [
       "{\n",
       "  \"type\" : \"GcsFile\",\n",
       "  \"contentLength\" : 251285,\n",
       "  \"eTag\" : \"CP2wp9md0oQDEAE=\",\n",
       "  \"lastModified\" : \"2024-03-01T04:31:56Z\",\n",
       "  \"url\" : \"gcs://c3--gkev8c3apps/corneaguru/unstructured/docs/0bd69d0ee90b739c34d7ba589ef174d4a6a8ed99.pdf\"\n",
       "}"
      ]
     },
     "execution_count": 59,
     "metadata": {},
     "output_type": "execute_result"
    }
   ],
   "source": [
    "files.files[0]"
   ]
  },
  {
   "cell_type": "code",
   "execution_count": null,
   "id": "897eb472-5245-4906-9140-02b04263a1ff",
   "metadata": {
    "tags": []
   },
   "outputs": [],
   "source": [
    "# check that now SourceFiles exist"
   ]
  },
  {
   "cell_type": "code",
   "execution_count": 60,
   "id": "0b4a19c8-28f1-46bf-ac02-17e2f329532b",
   "metadata": {
    "execution": {
     "iopub.execute_input": "2024-03-01T04:32:05.431165Z",
     "iopub.status.busy": "2024-03-01T04:32:05.430750Z",
     "iopub.status.idle": "2024-03-01T04:32:05.669872Z",
     "shell.execute_reply": "2024-03-01T04:32:05.669102Z",
     "shell.execute_reply.started": "2024-03-01T04:32:05.431137Z"
    },
    "tags": []
   },
   "outputs": [
    {
     "data": {
      "text/plain": [
       "14"
      ]
     },
     "execution_count": 60,
     "metadata": {},
     "output_type": "execute_result"
    }
   ],
   "source": [
    "c3.Genai.SourceFile.fetchCount({})"
   ]
  },
  {
   "cell_type": "code",
   "execution_count": 61,
   "id": "d630b43e-d746-408d-8052-5defbbcae589",
   "metadata": {
    "execution": {
     "iopub.execute_input": "2024-03-01T04:32:11.471869Z",
     "iopub.status.busy": "2024-03-01T04:32:11.470960Z",
     "iopub.status.idle": "2024-03-01T04:32:11.752726Z",
     "shell.execute_reply": "2024-03-01T04:32:11.752014Z",
     "shell.execute_reply.started": "2024-03-01T04:32:11.471832Z"
    },
    "tags": []
   },
   "outputs": [
    {
     "data": {
      "text/plain": [
       "14"
      ]
     },
     "execution_count": 61,
     "metadata": {},
     "output_type": "execute_result"
    }
   ],
   "source": [
    "c3.Genai.SourceFile.removeAll({}, True)"
   ]
  },
  {
   "cell_type": "code",
   "execution_count": 62,
   "id": "60238059-7f75-4bac-b063-5bd658231894",
   "metadata": {
    "execution": {
     "iopub.execute_input": "2024-03-01T04:32:12.656394Z",
     "iopub.status.busy": "2024-03-01T04:32:12.655986Z",
     "iopub.status.idle": "2024-03-01T04:32:13.097214Z",
     "shell.execute_reply": "2024-03-01T04:32:13.096451Z",
     "shell.execute_reply.started": "2024-03-01T04:32:12.656366Z"
    },
    "tags": []
   },
   "outputs": [],
   "source": [
    "assert len(c3.Genai.SourceFile.fetch().objs) == 0"
   ]
  },
  {
   "cell_type": "code",
   "execution_count": 63,
   "id": "0fe47131-f436-44cf-ab28-0d0a6e5be936",
   "metadata": {
    "execution": {
     "iopub.execute_input": "2024-03-01T04:32:15.866265Z",
     "iopub.status.busy": "2024-03-01T04:32:15.865256Z",
     "iopub.status.idle": "2024-03-01T04:32:15.870630Z",
     "shell.execute_reply": "2024-03-01T04:32:15.869833Z",
     "shell.execute_reply.started": "2024-03-01T04:32:15.866221Z"
    },
    "tags": []
   },
   "outputs": [],
   "source": [
    "# add metadata lambda function\n",
    "def applyMetadata(file):\n",
    "    import re\n",
    "    file_info = file.originalFile.fileName().split(\".\")\n",
    "    doc_type = None\n",
    "    doc_type = file_info[1]\n",
    "    tags = [\"cornea\"]\n",
    "    return c3.Genai.SourceFile.Metadata(fileName=file_info[0], tags=tags, fileType=doc_type)"
   ]
  },
  {
   "cell_type": "code",
   "execution_count": 64,
   "id": "f6757080-5928-4932-82a0-6191ab3e63f6",
   "metadata": {
    "execution": {
     "iopub.execute_input": "2024-03-01T04:32:16.990516Z",
     "iopub.status.busy": "2024-03-01T04:32:16.989553Z",
     "iopub.status.idle": "2024-03-01T04:32:17.377255Z",
     "shell.execute_reply": "2024-03-01T04:32:17.376283Z",
     "shell.execute_reply.started": "2024-03-01T04:32:16.990479Z"
    },
    "tags": []
   },
   "outputs": [
    {
     "ename": "RuntimeError",
     "evalue": "Error invoking JavaScript method Genai.SourceCollection#setMetadataConfig executing in runtime js on server: Error: The config has already been set. Please try again with a different config. (Genai.SourceCollection.js#384)\n    382      );\n    383    } else {\n  > 384      throw Error('The config has already been set. Please try again with a different config.');\n    385    }\n    386  }\n\nError calling /api/8/Genai.SourceCollection/setMetadataConfig with [{\"type\":\"Genai.SourceCollection\",\"name\":\"corneaguru\",\"id\":\"corneaguru\",\"meta\":{\"type\":\"Meta\",\"appCode\":1792261984851976342,\"env\":\"cornea1347\",\"app\":\"genaisearch\",\"created\":\"2024-03-01T04:30:42+00:00\",\"createdBy\":\"31cf4fee8caa1a6e301bd793d553853bc67613ddcd922b5cd585720d327e6f13\",\"updated\":\"2024-03-01T04:30:42+00:00\",\"updatedBy\":\"31cf4fee8caa1a6e301bd793d553853bc67613ddcd922b5cd585720d327e6f13\",\"timestamp\":\"2024-03-01T04:30:42+00:00\",\"fetchInclude\":\"[]\",\"fetchType\":\"Genai.SourceCollection\"},\"version\":1,\"description\":\"Collection of files for corneaguru\",\"rootUrl\":\"gcs://c3--gkev8c3apps/corneaguru/unstructured/docs/\",\"targetUrl\":\"gcs://c3--gkev8c3apps/corneaguru/unstructured/passageFiles/\",\"groups\":{\"type\":\"[Role]\",\"value\":[{\"type\":\"Role\",\"id\":\"Genai.Common\"},{\"type\":\"Role\",\"id\":\"C3.ClusterAdmin\"},{\"type\":\"Role\",\"id\":\"C3.EnvAdmin\"},{\"type\":\"Role\",\"id\":\"C3.AppAdmin\"}]}},{\"embedMetadata\":true}]",
     "output_type": "error",
     "traceback": [
      "\u001b[0;31m---------------------------------------------------------------------------\u001b[0m",
      "\u001b[0;31mRuntimeError\u001b[0m                              Traceback (most recent call last)",
      "\u001b[0;32m/tmp/ipykernel_1576/639065440.py\u001b[0m in \u001b[0;36m<module>\u001b[0;34m\u001b[0m\n\u001b[1;32m      1\u001b[0m \u001b[0;31m# Notebook\u001b[0m\u001b[0;34m\u001b[0m\u001b[0;34m\u001b[0m\u001b[0m\n\u001b[0;32m----> 2\u001b[0;31m \u001b[0mc3\u001b[0m\u001b[0;34m.\u001b[0m\u001b[0mGenai\u001b[0m\u001b[0;34m.\u001b[0m\u001b[0mSourceCollection\u001b[0m\u001b[0;34m.\u001b[0m\u001b[0mforId\u001b[0m\u001b[0;34m(\u001b[0m\u001b[0mcustomerName\u001b[0m\u001b[0;34m)\u001b[0m\u001b[0;34m.\u001b[0m\u001b[0msetMetadataConfig\u001b[0m\u001b[0;34m(\u001b[0m\u001b[0;34m{\u001b[0m\u001b[0;34m\"embedMetadata\"\u001b[0m\u001b[0;34m:\u001b[0m \u001b[0;32mTrue\u001b[0m\u001b[0;34m}\u001b[0m\u001b[0;34m)\u001b[0m\u001b[0;34m\u001b[0m\u001b[0;34m\u001b[0m\u001b[0m\n\u001b[0m\u001b[1;32m      3\u001b[0m \u001b[0mc3\u001b[0m\u001b[0;34m.\u001b[0m\u001b[0mGenai\u001b[0m\u001b[0;34m.\u001b[0m\u001b[0mSourceCollection\u001b[0m\u001b[0;34m.\u001b[0m\u001b[0mforId\u001b[0m\u001b[0;34m(\u001b[0m\u001b[0mcustomerName\u001b[0m\u001b[0;34m)\u001b[0m\u001b[0;34m.\u001b[0m\u001b[0mconfig\u001b[0m\u001b[0;34m(\u001b[0m\u001b[0;34m)\u001b[0m\u001b[0;34m\u001b[0m\u001b[0;34m\u001b[0m\u001b[0m\n",
      "\u001b[0;32m/c3/platform/src/remote/ServerConnection.py-client.py\u001b[0m in \u001b[0;36msetMetadataConfig\u001b[0;34m(*positional_args, **keyword_args)\u001b[0m\n",
      "\u001b[0;32m/c3/platform/src/remote/ServerConnection.py-client.py\u001b[0m in \u001b[0;36m_exec_method_common\u001b[0;34m(positional_args, keyword_args, method_name, typ, type_name, prototype_name, conn, is_static, is_by_ref)\u001b[0m\n",
      "\u001b[0;32m/c3/platform/src/remote/ServerConnection.py-client.py\u001b[0m in \u001b[0;36m_exec_remote_method\u001b[0;34m(first_arg, positional_args, keyword_args, method_name, typ, type_name, prototype_name, is_static, is_by_ref)\u001b[0m\n",
      "\u001b[0;32m/c3/platform/src/remote/ServerConnection.py-client.py\u001b[0m in \u001b[0;36m_parse_response\u001b[0;34m(response, type_name, action, rt)\u001b[0m\n",
      "\u001b[0;31mRuntimeError\u001b[0m: Error invoking JavaScript method Genai.SourceCollection#setMetadataConfig executing in runtime js on server: Error: The config has already been set. Please try again with a different config. (Genai.SourceCollection.js#384)\n    382      );\n    383    } else {\n  > 384      throw Error('The config has already been set. Please try again with a different config.');\n    385    }\n    386  }\n\nError calling /api/8/Genai.SourceCollection/setMetadataConfig with [{\"type\":\"Genai.SourceCollection\",\"name\":\"corneaguru\",\"id\":\"corneaguru\",\"meta\":{\"type\":\"Meta\",\"appCode\":1792261984851976342,\"env\":\"cornea1347\",\"app\":\"genaisearch\",\"created\":\"2024-03-01T04:30:42+00:00\",\"createdBy\":\"31cf4fee8caa1a6e301bd793d553853bc67613ddcd922b5cd585720d327e6f13\",\"updated\":\"2024-03-01T04:30:42+00:00\",\"updatedBy\":\"31cf4fee8caa1a6e301bd793d553853bc67613ddcd922b5cd585720d327e6f13\",\"timestamp\":\"2024-03-01T04:30:42+00:00\",\"fetchInclude\":\"[]\",\"fetchType\":\"Genai.SourceCollection\"},\"version\":1,\"description\":\"Collection of files for corneaguru\",\"rootUrl\":\"gcs://c3--gkev8c3apps/corneaguru/unstructured/docs/\",\"targetUrl\":\"gcs://c3--gkev8c3apps/corneaguru/unstructured/passageFiles/\",\"groups\":{\"type\":\"[Role]\",\"value\":[{\"type\":\"Role\",\"id\":\"Genai.Common\"},{\"type\":\"Role\",\"id\":\"C3.ClusterAdmin\"},{\"type\":\"Role\",\"id\":\"C3.EnvAdmin\"},{\"type\":\"Role\",\"id\":\"C3.AppAdmin\"}]}},{\"embedMetadata\":true}]"
     ]
    }
   ],
   "source": [
    "# Notebook\n",
    "c3.Genai.SourceCollection.forId(customerName).setMetadataConfig({\"embedMetadata\": True})\n",
    "c3.Genai.SourceCollection.forId(customerName).config()"
   ]
  },
  {
   "cell_type": "code",
   "execution_count": 65,
   "id": "8a876d65-a34d-41d3-afff-9a79730da10c",
   "metadata": {
    "execution": {
     "iopub.execute_input": "2024-03-01T04:32:19.991640Z",
     "iopub.status.busy": "2024-03-01T04:32:19.990813Z",
     "iopub.status.idle": "2024-03-01T04:32:20.330840Z",
     "shell.execute_reply": "2024-03-01T04:32:20.330024Z",
     "shell.execute_reply.started": "2024-03-01T04:32:19.991595Z"
    },
    "tags": []
   },
   "outputs": [
    {
     "data": {
      "text/plain": [
       "{\n",
       "  \"type\" : \"Genai.SourceCollection\",\n",
       "  \"id\" : \"corneaguru\",\n",
       "  \"version\" : 2\n",
       "}"
      ]
     },
     "execution_count": 65,
     "metadata": {},
     "output_type": "execute_result"
    }
   ],
   "source": [
    "# Notebook\n",
    "func = c3.Lambda.fromPyFunc(applyMetadata)\n",
    "c3.Genai.SourceCollection.forId(customerName).withSyncMetadataLambda(func).upsert()"
   ]
  },
  {
   "cell_type": "code",
   "execution_count": 66,
   "id": "b1012110-386f-4331-b18b-088ffa6d81f5",
   "metadata": {
    "execution": {
     "iopub.execute_input": "2024-03-01T04:32:22.758196Z",
     "iopub.status.busy": "2024-03-01T04:32:22.757217Z",
     "iopub.status.idle": "2024-03-01T04:32:23.047506Z",
     "shell.execute_reply": "2024-03-01T04:32:23.046782Z",
     "shell.execute_reply.started": "2024-03-01T04:32:22.758159Z"
    },
    "tags": []
   },
   "outputs": [
    {
     "data": {
      "text/plain": [
       "{\n",
       "  \"type\" : \"Genai.SourceCollection\",\n",
       "  \"name\" : \"corneaguru\",\n",
       "  \"id\" : \"corneaguru\",\n",
       "  \"meta\" : {\n",
       "    \"appCode\" : 1792261984851976342,\n",
       "    \"env\" : \"cornea1347\",\n",
       "    \"app\" : \"genaisearch\",\n",
       "    \"created\" : \"2024-03-01T04:30:42Z\",\n",
       "    \"createdBy\" : \"31cf4fee8caa1a6e301bd793d553853bc67613ddcd922b5cd585720d327e6f13\",\n",
       "    \"updated\" : \"2024-03-01T04:32:20Z\",\n",
       "    \"updatedBy\" : \"31cf4fee8caa1a6e301bd793d553853bc67613ddcd922b5cd585720d327e6f13\",\n",
       "    \"timestamp\" : \"2024-03-01T04:32:20Z\",\n",
       "    \"fetchInclude\" : \"[]\",\n",
       "    \"fetchType\" : \"Genai.SourceCollection\"\n",
       "  },\n",
       "  \"version\" : 2,\n",
       "  \"description\" : \"Collection of files for corneaguru\",\n",
       "  \"rootUrl\" : \"gcs://c3--gkev8c3apps/corneaguru/unstructured/docs/\",\n",
       "  \"targetUrl\" : \"gcs://c3--gkev8c3apps/corneaguru/unstructured/passageFiles/\",\n",
       "  \"syncMetadataLambda\" : {\n",
       "    \"type\" : \"Lambda<function(file: any): any>\",\n",
       "    \"language\" : \"Python\",\n",
       "    \"implementation\" : \"def applyMetadata(file):\\n    import re\\n    file_info = file.originalFile.fileName().split('.')\\n    doc_type = None\\n    doc_type = file_info[1]\\n    tags = ['cornea']\\n    return c3.Genai.SourceFile.Metadata(fileName=file_info[0], tags=tags, fileType=doc_type)\"\n",
       "  },\n",
       "  \"groups\" : [ {\n",
       "    \"id\" : \"Genai.Common\"\n",
       "  }, {\n",
       "    \"id\" : \"C3.ClusterAdmin\"\n",
       "  }, {\n",
       "    \"id\" : \"C3.EnvAdmin\"\n",
       "  }, {\n",
       "    \"id\" : \"C3.AppAdmin\"\n",
       "  } ]\n",
       "}"
      ]
     },
     "execution_count": 66,
     "metadata": {},
     "output_type": "execute_result"
    }
   ],
   "source": [
    "c3.Genai.SourceCollection.forId(customerName)"
   ]
  },
  {
   "cell_type": "code",
   "execution_count": 67,
   "id": "71ff96b1-9b8e-47da-95c2-6098db171ee0",
   "metadata": {
    "execution": {
     "iopub.execute_input": "2024-03-01T04:32:26.208834Z",
     "iopub.status.busy": "2024-03-01T04:32:26.207794Z",
     "iopub.status.idle": "2024-03-01T04:32:26.275285Z",
     "shell.execute_reply": "2024-03-01T04:32:26.274424Z",
     "shell.execute_reply.started": "2024-03-01T04:32:26.208795Z"
    },
    "tags": []
   },
   "outputs": [
    {
     "name": "stdout",
     "output_type": "stream",
     "text": [
      "FetchResult<mixing Genai.SourceFile> (empty)\n"
     ]
    }
   ],
   "source": [
    "sfs = c3.Genai.SourceFile.fetch()\n",
    "print(sfs)"
   ]
  },
  {
   "cell_type": "code",
   "execution_count": 68,
   "id": "294b00ca-44bd-447d-b12d-f2c106b152cd",
   "metadata": {
    "execution": {
     "iopub.execute_input": "2024-03-01T04:32:28.568266Z",
     "iopub.status.busy": "2024-03-01T04:32:28.567333Z",
     "iopub.status.idle": "2024-03-01T04:32:29.351547Z",
     "shell.execute_reply": "2024-03-01T04:32:29.350828Z",
     "shell.execute_reply.started": "2024-03-01T04:32:28.568230Z"
    },
    "tags": []
   },
   "outputs": [
    {
     "data": {
      "text/plain": [
       "{\n",
       "  \"type\" : \"Genai.SourceCollection.SyncJobs\",\n",
       "  \"fileSystemJob\" : {\n",
       "    \"typeIdent\" : \"BATCHJ:FSBJ\",\n",
       "    \"id\" : \"gcs://c3--gkev8c3apps/corneaguru/unstructured/docs/\",\n",
       "    \"version\" : 7\n",
       "  }\n",
       "}"
      ]
     },
     "execution_count": 68,
     "metadata": {},
     "output_type": "execute_result"
    }
   ],
   "source": [
    "# Notebook\n",
    "c3.Genai.SourceCollection.forId(customerName).sync()"
   ]
  },
  {
   "cell_type": "code",
   "execution_count": 69,
   "id": "efed483a-5723-483a-82b5-557ccae7f961",
   "metadata": {
    "execution": {
     "iopub.execute_input": "2024-03-01T04:32:32.645401Z",
     "iopub.status.busy": "2024-03-01T04:32:32.644426Z",
     "iopub.status.idle": "2024-03-01T04:32:34.438339Z",
     "shell.execute_reply": "2024-03-01T04:32:34.437380Z",
     "shell.execute_reply.started": "2024-03-01T04:32:32.645362Z"
    },
    "tags": []
   },
   "outputs": [
    {
     "name": "stdout",
     "output_type": "stream",
     "text": [
      "  | id                                   | contentSize | metadata.fileName                        | metadata.fileType | metadata.tags | eTagWhenLastProcessed | modifiedTimeWhenLastProcessed | displayUrl                                         | collection.id | originalFile                                       | groups | typeIdent | meta | version\n",
      "--+--------------------------------------+-------------+------------------------------------------+-------------------+---------------+-----------------------+-------------------------------+----------------------------------------------------+---------------+----------------------------------------------------+--------+-----------+------+--------\n",
      "0 | 2e9c8543-2165-4f82-ae6c-86f8f7998a74 |     116,990 | 1c2f00778234144c1be238473b93bd68e37a77c0 | pdf               | [1]           | CObCzNmd0oQDEAE=      | 2024-03-01T04:31:57.387Z      | https://gkev8c3apps.c3-e.com/cornea1347/genaisearc | corneaguru    | gcs://c3--gkev8c3apps/corneaguru/unstructured/docs | [4]    | FL        | {…}  |       2\n",
      "1 | 3e2fdde3-ce33-4b93-926e-11ce36b30a64 |     251,285 | 0bd69d0ee90b739c34d7ba589ef174d4a6a8ed99 | pdf               | [1]           | CP2wp9md0oQDEAE=      | 2024-03-01T04:31:56.779Z      | https://gkev8c3apps.c3-e.com/cornea1347/genaisearc | corneaguru    | gcs://c3--gkev8c3apps/corneaguru/unstructured/docs | [4]    | FL        | {…}  |       2\n",
      "2 | 4a683522-b30a-40b6-a42c-7288fc765755 |     195,645 | 1b62a3d666808898aaa22f81e21a04a715ce4167 | pdf               | [1]           | CLbfmtmd0oQDEAE=      | 2024-03-01T04:31:56.571Z      | https://gkev8c3apps.c3-e.com/cornea1347/genaisearc | corneaguru    | gcs://c3--gkev8c3apps/corneaguru/unstructured/docs | [4]    | FL        | {…}  |       2\n",
      "3 | 884c3458-8c38-43ce-a5f1-9c73cd9fbd4b |     526,636 | 0d6f77f6919516e173bd2c1dcd97523752c007a6 | pdf               | [1]           | CIDx/did0oQDEAE=      | 2024-03-01T04:31:56.099Z      | https://gkev8c3apps.c3-e.com/cornea1347/genaisearc | corneaguru    | gcs://c3--gkev8c3apps/corneaguru/unstructured/docs | [4]    | FL        | {…}  |       2\n",
      "4 | 8e592158-bbd3-4254-9a6f-343ec2bdb31d |      93,651 | 0bec840d0ec00b4260586402efb12e017d0120d7 | pdf               | [1]           | CNy209id0oQDEAE=      | 2024-03-01T04:31:55.404Z      | https://gkev8c3apps.c3-e.com/cornea1347/genaisearc | corneaguru    | gcs://c3--gkev8c3apps/corneaguru/unstructured/docs | [4]    | FL        | {…}  |       2\n",
      "5 | 921d3822-7427-400d-b6df-36e7cb50c661 |     477,830 | 1b9e966227c2d7d91b9659ec53abb30cdd4b809f | pdf               | [1]           | CLnG79id0oQDEAE=      | 2024-03-01T04:31:55.863Z      | https://gkev8c3apps.c3-e.com/cornea1347/genaisearc | corneaguru    | gcs://c3--gkev8c3apps/corneaguru/unstructured/docs | [4]    | FL        | {…}  |       2\n",
      "6 | b501ffa1-337f-45fc-8e5d-7cc0503860a9 |      54,270 | 0fbcd00a0f076d2f6bb0260b7e3e682da98bcaf2 | pdf               | [1]           | CLmpjdmd0oQDEAE=      | 2024-03-01T04:31:56.353Z      | https://gkev8c3apps.c3-e.com/cornea1347/genaisearc | corneaguru    | gcs://c3--gkev8c3apps/corneaguru/unstructured/docs | [4]    | FL        | {…}  |       2\n",
      "7 | bd382ce2-5eec-474d-bb4c-603421840f34 |     808,865 | 1ab40f87be19f050df7d918504d92db96617dbff | pdf               | [1]           | CJCAtNmd0oQDEAE=      | 2024-03-01T04:31:56.985Z      | https://gkev8c3apps.c3-e.com/cornea1347/genaisearc | corneaguru    | gcs://c3--gkev8c3apps/corneaguru/unstructured/docs | [4]    | FL        | {…}  |       2\n",
      "8 | dfc621ef-6b83-4c2e-b4ec-7252306437ce |     637,295 | 0f676139cce7ee50fc015f56069d53050d191f4e | pdf               | [1]           | CKm8wdmd0oQDEAE=      | 2024-03-01T04:31:57.206Z      | https://gkev8c3apps.c3-e.com/cornea1347/genaisearc | corneaguru    | gcs://c3--gkev8c3apps/corneaguru/unstructured/docs | [4]    | FL        | {…}  |       2\n",
      "9 | fdd44538-4152-4a18-96da-ca492a25322f |     204,182 | 1b96e52d649edf2a3c16bb8298c87c542c6eafe0 | pdf               | [1]           | COrS4tid0oQDEAE=      | 2024-03-01T04:31:55.653Z      | https://gkev8c3apps.c3-e.com/cornea1347/genaisearc | corneaguru    | gcs://c3--gkev8c3apps/corneaguru/unstructured/docs | [4]    | FL        | {…}  |       2\n",
      "\n",
      "[ FetchResult<mixing Genai.SourceFile>: 10 rows × 14 columns ]\n",
      "\n"
     ]
    }
   ],
   "source": [
    "sfs = c3.Genai.SourceFile.fetch()\n",
    "print(sfs)"
   ]
  },
  {
   "cell_type": "code",
   "execution_count": null,
   "id": "1990e1e4-e161-4f8b-912e-dffa016013ad",
   "metadata": {
    "tags": []
   },
   "outputs": [],
   "source": [
    "# wait for the sync operation to finish"
   ]
  },
  {
   "cell_type": "markdown",
   "id": "c25746e5-84b4-4dd9-a8f9-13d4b92ce085",
   "metadata": {},
   "source": [
    "## Index"
   ]
  },
  {
   "cell_type": "code",
   "execution_count": null,
   "id": "0adb71cd-f284-4254-b0e2-acc0ef3a9ddf",
   "metadata": {
    "tags": []
   },
   "outputs": [],
   "source": [
    "txs = c3.Genai.SourceFile.TextSplitter.Spec.make({'textSplitter': 'TokenTextSplitter'})"
   ]
  },
  {
   "cell_type": "code",
   "execution_count": null,
   "id": "87c8fc13-6cfa-4e0f-9d4c-d591f0514aca",
   "metadata": {
    "tags": []
   },
   "outputs": [],
   "source": [
    "pdfChunkerSpec = c3.Genai.SourceFile.Chunker.UniversalChunker.Spec.make({'chunker': c3.Genai.SourceFile.Chunker.PyPdf, 'textSplitters': [txs]})"
   ]
  },
  {
   "cell_type": "code",
   "execution_count": null,
   "id": "25232a3c-5a58-4908-8842-f986c88d9c6d",
   "metadata": {
    "tags": []
   },
   "outputs": [],
   "source": [
    "fileExtMap = {\n",
    "  '.pdf': pdfChunkerSpec,\n",
    "}\n",
    "\n",
    "chunkerSpec = c3.Genai.SourceFile.Chunker.UniversalChunker.Spec.make({'chunker': c3.Genai.SourceFile.Chunker.Universal, 'textSplitters': [txs], 'fileExtToChunkerSpecMap': fileExtMap})"
   ]
  },
  {
   "cell_type": "code",
   "execution_count": null,
   "id": "dae4f1a3-4808-4ecf-88d0-4eaab428a7b8",
   "metadata": {
    "tags": []
   },
   "outputs": [],
   "source": [
    "chunkerSpec"
   ]
  },
  {
   "cell_type": "code",
   "execution_count": null,
   "id": "697bc056-8c27-45b5-8ea9-d95718f19b45",
   "metadata": {
    "tags": []
   },
   "outputs": [],
   "source": [
    "# clear queues before anything is executed!!!"
   ]
  },
  {
   "cell_type": "code",
   "execution_count": null,
   "id": "c0b09206-089a-493a-bf98-2040d2690839",
   "metadata": {},
   "outputs": [],
   "source": [
    "# Console\n",
    "# run in single batches to avoid r/w corruption\n",
    "var batchSize = 1;\n",
    "var spec = BatchFetchSpec.builder().batchSize(batchSize).include(\"id, this\").filter(\"!exists(passagesFile)\").build();\n",
    " \n",
    "job = ObjBatchMapReduceJob.forId(Genai.SourceFile.eachObjBatch(spec, (objs, ctx) => {\n",
    "    txs = Genai.SourceFile.TextSplitter.Spec.make({'textSplitter': 'TokenTextSplitter'});\n",
    "    pdfChunkerSpec = Genai.SourceFile.Chunker.UniversalChunker.Spec.make({'chunker': Genai.SourceFile.Chunker.PyPdf, 'textSplitters': [txs]})\n",
    "\n",
    " \n",
    "    fileExtMap = {\n",
    "      '.pdf': pdfChunkerSpec,\n",
    "    }\n",
    " \n",
    "    chunkerSpec = Genai.SourceFile.Chunker.UniversalChunker.Spec.make({'chunker': Genai.SourceFile.Chunker.Universal, 'textSplitters': [txs], 'fileExtToChunkerSpecMap': fileExtMap})\n",
    "    chunkerSpec.chunker.chunkFilesBatch(objs, chunkerSpec);\n",
    "}))"
   ]
  },
  {
   "cell_type": "markdown",
   "id": "0e3230e6-a6c3-4ab5-9d79-262466c30f0e",
   "metadata": {},
   "source": [
    "### Wait for job to complete\n",
    "monitor job\n",
    "\n",
    "```js\n",
    "while (job.status != \"complete\"\n",
    "```"
   ]
  },
  {
   "cell_type": "markdown",
   "id": "3ec8480c-fdc4-495e-9461-3c4fc811af5b",
   "metadata": {
    "execution": {
     "iopub.execute_input": "2024-01-11T21:26:13.155350Z",
     "iopub.status.busy": "2024-01-11T21:26:13.154538Z",
     "iopub.status.idle": "2024-01-11T21:26:13.888244Z",
     "shell.execute_reply": "2024-01-11T21:26:13.887110Z",
     "shell.execute_reply.started": "2024-01-11T21:26:13.155320Z"
    },
    "tags": []
   },
   "source": [
    "Console check, should be 0\n",
    "```js\n",
    "Genai.SourceFile.fetchCount({filter: \"!exists(passagesFile)\"});\n",
    "```"
   ]
  },
  {
   "cell_type": "code",
   "execution_count": null,
   "id": "9cfadc82-cab3-4242-9c1c-e8de25a6cef7",
   "metadata": {
    "tags": []
   },
   "outputs": [],
   "source": [
    "## Validate that Remote Retriever Service not being Used"
   ]
  },
  {
   "cell_type": "code",
   "execution_count": 70,
   "id": "4258b5db-ce4b-4e76-957c-f5c15675f7c9",
   "metadata": {
    "execution": {
     "iopub.execute_input": "2024-03-01T04:34:14.229974Z",
     "iopub.status.busy": "2024-03-01T04:34:14.228600Z",
     "iopub.status.idle": "2024-03-01T04:34:14.234694Z",
     "shell.execute_reply": "2024-03-01T04:34:14.233817Z",
     "shell.execute_reply.started": "2024-03-01T04:34:14.229922Z"
    },
    "tags": []
   },
   "outputs": [],
   "source": [
    "def _dispatch_remote(this):\n",
    "    # If useRemote is True and we are not already in the remote App, send the request to the remote Microservice\n",
    "    return config(this).useRemote and c3.pkg().name() != \"genAiRetrieverService\""
   ]
  },
  {
   "cell_type": "code",
   "execution_count": 71,
   "id": "9f9b397f-8fe4-4dc6-873c-155d150a0807",
   "metadata": {
    "execution": {
     "iopub.execute_input": "2024-03-01T04:34:14.789644Z",
     "iopub.status.busy": "2024-03-01T04:34:14.789219Z",
     "iopub.status.idle": "2024-03-01T04:34:15.109393Z",
     "shell.execute_reply": "2024-03-01T04:34:15.108592Z",
     "shell.execute_reply.started": "2024-03-01T04:34:14.789614Z"
    },
    "tags": []
   },
   "outputs": [],
   "source": [
    "c3.Genai.Retriever.ColBERT.DataConfig(name=customerName).setConfigValue(\"useRemote\", False)"
   ]
  },
  {
   "cell_type": "code",
   "execution_count": 72,
   "id": "d089d54a-fffa-49b9-9713-a3e0f8c53fe4",
   "metadata": {
    "execution": {
     "iopub.execute_input": "2024-03-01T04:34:16.208159Z",
     "iopub.status.busy": "2024-03-01T04:34:16.207274Z",
     "iopub.status.idle": "2024-03-01T04:34:16.271538Z",
     "shell.execute_reply": "2024-03-01T04:34:16.270408Z",
     "shell.execute_reply.started": "2024-03-01T04:34:16.208114Z"
    },
    "tags": []
   },
   "outputs": [
    {
     "data": {
      "text/plain": [
       "{\n",
       "  \"type\" : \"Genai.Retriever.ColBERT.DataConfig\",\n",
       "  \"name\" : \"corneaguru\",\n",
       "  \"configOverride\" : \"APP\",\n",
       "  \"device\" : \"-1\",\n",
       "  \"maxTries\" : 3,\n",
       "  \"indexName\" : \"data\",\n",
       "  \"colbertCheckpointFileLocation\" : \"gcs://c3--gkev8c3apps/corneaguru/colbertv2.0.tar.gz\",\n",
       "  \"reindexingThreshold\" : 1000,\n",
       "  \"gpuIndexingThreshold\" : 1000,\n",
       "  \"scoreThreshold\" : 0.0,\n",
       "  \"fuzzyMatchRatioThreshold\" : 100,\n",
       "  \"docMaxlen\" : 500,\n",
       "  \"queryMaxlen\" : 32,\n",
       "  \"nGpus\" : 1,\n",
       "  \"nCells\" : 4,\n",
       "  \"centroidScoreThreshold\" : 0.4,\n",
       "  \"nDocs\" : 4096\n",
       "}"
      ]
     },
     "execution_count": 72,
     "metadata": {},
     "output_type": "execute_result"
    }
   ],
   "source": [
    "c3.Genai.Retriever.ColBERT.DataConfig(name=customerName).getConfig()"
   ]
  },
  {
   "cell_type": "code",
   "execution_count": 73,
   "id": "e4186358-9a3e-44ab-94e1-b40bc41e3187",
   "metadata": {
    "execution": {
     "iopub.execute_input": "2024-03-01T04:34:19.207610Z",
     "iopub.status.busy": "2024-03-01T04:34:19.206632Z",
     "iopub.status.idle": "2024-03-01T04:34:20.515268Z",
     "shell.execute_reply": "2024-03-01T04:34:20.514239Z",
     "shell.execute_reply.started": "2024-03-01T04:34:19.207573Z"
    },
    "tags": []
   },
   "outputs": [],
   "source": [
    "# Notebook\n",
    "mergedPassages = sourceCollection.mergedPassages(True, True)"
   ]
  },
  {
   "cell_type": "code",
   "execution_count": 74,
   "id": "573be297-5f3d-4113-a7e2-f653ee5e3d66",
   "metadata": {
    "execution": {
     "iopub.execute_input": "2024-03-01T04:34:21.717701Z",
     "iopub.status.busy": "2024-03-01T04:34:21.716715Z",
     "iopub.status.idle": "2024-03-01T04:34:21.752706Z",
     "shell.execute_reply": "2024-03-01T04:34:21.751832Z",
     "shell.execute_reply.started": "2024-03-01T04:34:21.717660Z"
    },
    "tags": []
   },
   "outputs": [
    {
     "data": {
      "text/plain": [
       "{\n",
       "  \"type\" : \"GcsFile\",\n",
       "  \"url\" : \"gcs://c3--gkev8c3apps/corneaguru/unstructured/passageFiles/corneaguru_combinedPassagesFile\"\n",
       "}"
      ]
     },
     "execution_count": 74,
     "metadata": {},
     "output_type": "execute_result"
    }
   ],
   "source": [
    "mergedPassages"
   ]
  },
  {
   "cell_type": "code",
   "execution_count": 75,
   "id": "875dd37d-5baa-4fe8-b8d2-8fd817268096",
   "metadata": {
    "execution": {
     "iopub.execute_input": "2024-03-01T04:34:24.210089Z",
     "iopub.status.busy": "2024-03-01T04:34:24.209112Z",
     "iopub.status.idle": "2024-03-01T04:34:24.753113Z",
     "shell.execute_reply": "2024-03-01T04:34:24.752166Z",
     "shell.execute_reply.started": "2024-03-01T04:34:24.210047Z"
    },
    "tags": []
   },
   "outputs": [],
   "source": [
    "# Notebook check, should be NOT empty\n",
    "sourceCollectionPassages = sourceCollection.readPassages()"
   ]
  },
  {
   "cell_type": "code",
   "execution_count": 76,
   "id": "89c2f0f7-0b49-429b-a04f-51a534cd45a6",
   "metadata": {
    "collapsed": true,
    "execution": {
     "iopub.execute_input": "2024-03-01T04:34:25.705152Z",
     "iopub.status.busy": "2024-03-01T04:34:25.704775Z",
     "iopub.status.idle": "2024-03-01T04:34:26.254070Z",
     "shell.execute_reply": "2024-03-01T04:34:26.252753Z",
     "shell.execute_reply.started": "2024-03-01T04:34:25.705127Z"
    },
    "jupyter": {
     "outputs_hidden": true
    },
    "scrolled": true,
    "tags": []
   },
   "outputs": [
    {
     "name": "stdout",
     "output_type": "stream",
     "text": [
      "[{\"source\":{\"id\":\"2e9c8543-2165-4f82-ae6c-86f8f7998a74\"},\"intraSourceId\":\"0\",\"contentStr\":\"For Training Use Only\\nExported (UTC) @ 7/12/23, 1:26 AMQW-4 Chinese Man-Portable Infrared Guided\\nSurface-to-Air Missile\\nTiers:\\nDomain: Air, Air Defense, Man-Portable Air-Defense Systems (MANPADS)\\nProliferation: China\\nOrigin: China, People's Republic of\\nNotes\\n1\\n\",\"pageNumber\":1}, {\"source\":{\"id\":\"2e9c8543-2165-4f82-ae6c-86f8f7998a74\"},\"intraSourceId\":\"1\",\"contentStr\":\"For Training Use Only\\nExported (UTC) @ 7/12/23, 1:26 AMThe newest member of QW series with the fuze similar to that of QW-2, and a new thermal imaging seeker. The\\nnew fully electric control surfaces provide smoother flight path curves, thus greatly improved accuracy.\\nVariants\\nQW-1M: QW-1M is a development of QW-1, and first revealed in Zhuhai Air Show. The missile is considered\\nas a third generation MANPAD by Chinese, and many domestic Chinese media sources claim that it is the\\nChinese equivalent of Soviet SA-18 Grouse, which it strongly resembles. Like its predecessor QW-1, QW-1M\\nalso appeared to incorporate technologies of FIM-92 Stinger. Various western sources have postulated that\\nChina had likely obtained FIM-92 Stinger samples from either Afghan guerrilla or Pakistan, or even Iran, but\\nsuch claims have yet to be confirmed. The missile is slightly heavier than QW-1, weighing at 18 kg for the\\nentire system, and it is claimed to have better ECCM capability and better capability to engage low-flying\\naircraft in comparison to QW-1.[citation needed] Some have been supplied to Kata'ib Hezbollah.\\nQW-1A: QW-1A is a derivative of QW-1M, with the adaptation of man-portable radar weighing 30 kg and a\\nrange of 15 km, and it is carried by the observer. The associating fire control system enables various QW-1A\\nunits to be linked up and thus increasing the effectiveness by forming an air defense network, which in turn,\\ncould be integrated into large air defense network. Although the entire QW-1A system including radar / fire\\ncontrol system could be carried by a crew of 2-men team, it is often mounted on vehicles.\\nQW-11 (QW-1G): QW-11 is a development of QW family that is specifically designed to engage terrain hugging\\ncruise missiles, while retaining the capability of engaging low-flying aircraft. QW-11 was first revealed at\\nZhuhai Air Show in 2002. A new combined impact and proximity fuze is developed to provide better capability\\nagainst cruise missiles. Length: 1.477 m Missile weight: 10\",\"pageNumber\":2}, {\"source\":{\"id\":\"2e9c8543-2165-4f82-ae6c-86f8f7998a74\"},\"intraSourceId\":\"2\",\"contentStr\":\" is often mounted on vehicles.\\nQW-11 (QW-1G): QW-11 is a development of QW family that is specifically designed to engage terrain hugging\\ncruise missiles, while retaining the capability of engaging low-flying aircraft. QW-11 was first revealed at\\nZhuhai Air Show in 2002. A new combined impact and proximity fuze is developed to provide better capability\\nagainst cruise missiles. Length: 1.477 m Missile weight: 10.69 kg System weight: 16.9 kg Warhead: 1.42 kg\\nRange: 0.5 – 5000 m Altitude: 30 m - 4 km Reaction time: 10 sec\\nQW-18: QW-18 is the development of the QW-11G with an improved seeker. QW-18 first appeared in Zhuai Air\\nShow with QW-11 and QW-11G in 2002. An enhanced dual band infrared seeker is developed so that the\\ntarget is not only tracked via the exhaust heat, but also the temperature difference of the skin of the target.\\nThese improvements provided better capabilities against terrain-hugging cruise missiles at supersonic speed.\\nExternally, QW-18 is identical to QW-11G / QW-11.\\nQW-2: QW-2 is a missile with all aspect attack capability and improved ECCM capability. There are two types\\nof seeker for QW-2: the first is the dual band infrared passive seeker first revealed in 1998, and an imaging IR\\n2\\n\",\"pageNumber\":2}, {\"source\":{\"id\":\"2e9c8543-2165-4f82-ae6c-86f8f7998a74\"},\"intraSourceId\":\"3\",\"contentStr\":\"For Training Use Only\\nExported (UTC) @ 7/12/23, 1:26 AM(ImIR) seeker has been designed sometimes later. The fuse is similar to that of QW-18. The minimum altitude is\\ndecreased to 10 m, thus further improving the capability against low-flying cruise missile and hovering\\nhelicopters that suddenly pop up from hiding.\\nQW-3: This is the Chinese equivalent of French Mistral missile, with fuse developed from that of QW-2. The\\nmissile is unique among Chinese MANPAD in that this is the only surface-to-air missile that adopts the semi-\\nactive laser guidance similar to AGM-114 Hellfire. The gyro stabilized seeker provides very high degree of\\naccuracy and is extremely effective against low altitude cruise missiles. The 15 degrees per second tracking\\nrate of the seeker is relatively low in comparison for other MANPAD for supersonic targets in high g maneuver\\nat very high altitudes, but this is by no means handicapping the performance because such targets are not\\nintended to be for QW-3, which is specifically designed to engage terrain hugging helicopters and UAV's and\\nother fast flying targets at extremely low altitudes, including supersonic sea skimming cruise missiles.\\nQW-4: The newest member of QW series with the fuze similar to that of QW-2, and a new thermal imaging\\nseeker. The new fully electric control surfaces provide smoother flight path curves, thus greatly improved\\naccuracy.\\nAnza Mk 2: INA\\nAnza Mk 3: INA\\nTD-2000B: To increase the capability of TD-2000, China National Precision Machinery Import and Export\\nCorporation (CNPMIEC) also revealed a development of TD-2000, dubbed as TD-2000B at the same Zhuhai\\nAirshow, where TD-2000B was displayed as part of the subsystem of TD-2000B. The primary improvement\\nover the original system is the extra C4ISR capability added so that in addition to control the QW-4 missiles of\\nTD-2000, TD-2000B can also simultaneously control up to 6 anti-aircraft artillery pieces.\\nSystem\\n:\\n:\\n:\\nQW-4 Man-Portable Infrared Guided Surface-to-Air Missile\\n3\",\"pageNumber\":3}, {\"source\":{\"id\":\"2e9c8543-2165-4f82-ae6c-86f8f7998a74\"},\"intraSourceId\":\"4\",\"contentStr\":\" where TD-2000B was displayed as part of the subsystem of TD-2000B. The primary improvement\\nover the original system is the extra C4ISR capability added so that in addition to control the QW-4 missiles of\\nTD-2000, TD-2000B can also simultaneously control up to 6 anti-aircraft artillery pieces.\\nSystem\\n:\\n:\\n:\\nQW-4 Man-Portable Infrared Guided Surface-to-Air Missile\\n3\\n\",\"pageNumber\":3}, {\"source\":{\"id\":\"2e9c8543-2165-4f82-ae6c-86f8f7998a74\"},\"intraSourceId\":\"5\",\"contentStr\":\"For Training Use Only\\nExported (UTC) @ 7/12/23, 1:26 AMName: QW-4\\nType: Infrared Imaging Guided Surface-to-Air Missile\\nManufactured: China Precision Machinery Import-Export Corp. (CPMIEC), Beijing, China China Aerospace\\nScience and Industry Corporation (CASIC), Shenyang, China\\nLength: 2.10 m\\nDiameter: 72 mm\\nLauncher Weight: INA\\nMissile Weight: 23.0 kg\\nPropulsion: two-stage solid-propellant rocket\\nMaximum Speed: 750 m/sec, Mach 2.2\\nMaximum Engagement Altitude: 4km\\nMinimum Engagement Altitude: 4 m\\nMaximum Range: 8,000 m\\nMinimum Range: 8 m\\nGuidance System: Infrared Imaging Guidance System\\n4\\n\",\"pageNumber\":4}, {\"source\":{\"id\":\"3e2fdde3-ce33-4b93-926e-11ce36b30a64\"},\"intraSourceId\":\"0\",\"contentStr\":\"For Training Use Only\\nExported (UTC) @ 7/12/23, 1:34 AMARK 40 Chinese Unmanned Aerial Vehicle (UAV)\\nTiers:\\nDomain: Air, Aircraft, Unmanned Aerial Vehicles (UAVs), Close-Range UAVs (6-50 km Range)\\nProliferation: China\\nOrigin: China, People's Republic of\\nNotes\\nThe ARK 40 Chinese Unmanned Aerial Vehicle (UAV) is a drone with an octocopter configuration. It has a\\nredundant navigation system, flight control system, propulsion system, and battery system, and is equipped\\nwith an emergency landing system. With these features, the reliability and safety of Ark are at the top level in\\nthe industry. Moreover, the design of the propeller is optimized in cruise flight conditions to achieve a longer\\nrange. Ark is designed for short-to-middle range end delivery missions. Its payload volume is more than 50L,\\nwhich makes it suitable for many cargo delivery scenarios.\\nSystem\\nAlternate Designation: ARK 40\\nType: Vertical Take-Off and Landing (VTOL) Unmanned Aerial Vehicle (UAV)\\n1\\n\",\"pageNumber\":1}, {\"source\":{\"id\":\"3e2fdde3-ce33-4b93-926e-11ce36b30a64\"},\"intraSourceId\":\"1\",\"contentStr\":\"For Training Use Only\\nExported (UTC) @ 7/12/23, 1:34 AMManufacturer: Shenzhen Skylab M&C Technology Company\\nCrew: Unmanned\\nControl System: Ground Control Station\\nPayload Capacity: 10 kg\\nLaunching System: Vertical Take-Off and Landing (VTOL)\\nRecovery System: Vertical Take-Off and Landing (VTOL)\\nOperating Temperature: – 25 ° to + 60 ° C\\nDimensions\\nLength: 2.5 m\\nWidth: 2.5 m\\nHeight: 0.60 m\\nMaximum Takeoff Weight: 35 kg\\nAutomotive\\nEngine Name: INA\\nEngine Type: Electric\\nEngine Power: INA\\nMaximum Speed: INA\\nCruising Speed: 72 km/h\\nService Ceiling: INA\\nMaximum Range: 20 km\\n2\\n\",\"pageNumber\":2}, {\"source\":{\"id\":\"3e2fdde3-ce33-4b93-926e-11ce36b30a64\"},\"intraSourceId\":\"2\",\"contentStr\":\"For Training Use Only\\nExported (UTC) @ 7/12/23, 1:34 AMEndurance: 2.5 hours with a 2 kg payload\\n3\\n\",\"pageNumber\":3}, {\"source\":{\"id\":\"4a683522-b30a-40b6-a42c-7288fc765755\"},\"intraSourceId\":\"0\",\"contentStr\":\"For Training Use Only\\nExported (UTC) @ 7/12/23, 1:05 AMKWT-TMOP-100 Chinese Tethered Unmanned\\nAerial Vehicle (UAV)\\nTiers:\\nDomain: Air, Aircraft, Unmanned Aerial Vehicles (UAVs), Tethered UAVs\\nProliferation: China\\nOrigin: China, People's Republic of\\nNotes\\nThe KWT-TMOP-100 Chinese Tethered Unmanned Aerial Vehicle (UAV) is used for industrial applications,\\naerial photography, telecom applications, inspection, instrument, monitoring, civilian, offshore applications,\\nmapping, logistics, observation, reconnaissance, for the movie industry, for exterior security applications, for\\nphotogrammetry, gas detection, for heavy loads.\\nVariants\\nKWT-TMOP-300: Is used for industrial applications, aerial photography, telecom applications, inspection,\\ninstrument, monitoring, civilian, offshore applications, mapping, logistics, observation, reconnaissance, for the\\nmovie industry, for exterior security applications, for photogrammetry, gas detection, for heavy loads.\\n1\\n\",\"pageNumber\":1}, {\"source\":{\"id\":\"4a683522-b30a-40b6-a42c-7288fc765755\"},\"intraSourceId\":\"1\",\"contentStr\":\"For Training Use Only\\nExported (UTC) @ 7/12/23, 1:05 AMSystem\\nAlternate Designation: KWT-TMOP-100\\nType: Tethered Unmanned Aerial Vehicle (UAV)\\nManufacturer: Shenzhen Keweitai Enterprise Development Co.,Ltd\\nAutonomy: Semi-Autonomous\\nCrew: Unmanned\\nCable Length: 120 m\\nDeployment Time: less than 4 min\\nLaunching System: Vertical Take-Off and Landing (VTOL)\\nRecovery System: Vertical Take-Off and Landing (VTOL)\\nDimensions\\nLength: INA\\nWingspan: 620 mm\\nMotor Wheelbase: 1,600 mm\\nFuselage Height: INA\\nWeight, Empty: 2 kg\\nMaximum Takeoff Weight: 15 kg\\nAutomotive\\nEngine Name: INA\\nEngine Type: INA\\n2\\n\",\"pageNumber\":2}, {\"source\":{\"id\":\"4a683522-b30a-40b6-a42c-7288fc765755\"},\"intraSourceId\":\"2\",\"contentStr\":\"For Training Use Only\\nExported (UTC) @ 7/12/23, 1:05 AMEngine Power: INA\\nContinuous Working Time: 8 hours\\nTethered Flight Height: 100 m\\nHeight Holding Performance: 2 m\\nHovering Accuracy: 1.5 m\\nHeading Angle Accuracy: 3 deg\\nEmergency Landing Time: 2 min\\nEndurance: 8 hours\\n3\\n\",\"pageNumber\":3}, {\"source\":{\"id\":\"884c3458-8c38-43ce-a5f1-9c73cd9fbd4b\"},\"intraSourceId\":\"0\",\"contentStr\":\"For Training Use Only\\nExported (UTC) @ 7/12/23, 1:33 AMPL-12 Chinese Air-to-Air Missile\\nTiers:\\nDomain: Air, Aircraft Armament, Aircraft Missiles, Air-to-Air Missiles\\nProliferation: China\\nOrigin: China, People's Republic of\\nNotes\\nThe PL-12 (Chinese: -12; pinyin: Pī Lì-12; literally: 'Thunderbolt-12') is an active radar-guided beyond-visual-\\nrange air-to-air missile developed by the People's Republic of China. It is considered comparable to the\\nAmerican AIM-120 AMRAAM and the Russian R-77. The first public information of the Leihua Electronic\\nTechnology Research Institute's PL-12 – then called the SD-10 – emerged in 2001. Development was assisted\\nby Vympel NPO and Agat of Russia. Liang Xiaogeng is believed to have been the chief designer. Four\\nsuccessful test firings were made in 2004. By 2005, the missile was also known as the PL-12. The PL-12 may\\nuse the radar and data link from the Russian R-77,[13] or otherwise use systems benefiting from technology\\ntransfers from Russia. The missile uses a Chinese rocket motor and airframe. The PL-12 may have a passive\\nhoming mode for use against jammers and AEW aircraft.\\nVariants\\nSD-10: Export version of the PL-12. There is also a SD-10B.\\n1\\n\",\"pageNumber\":1}, {\"source\":{\"id\":\"884c3458-8c38-43ce-a5f1-9c73cd9fbd4b\"},\"intraSourceId\":\"1\",\"contentStr\":\"For Training Use Only\\nExported (UTC) @ 7/12/23, 1:33 AMDK-10A: Surface-to-air variant with a range of 3 to 50 km and altitude from 30 m to 20 km.\\nSystem\\n:\\n:\\n:\\nPL-12 Air-to-Air Missile\\nName: PL-12\\nType: Air-to-Air Missile\\nLength: INA\\nDiameter: INA\\nWeight: 180 kg\\nOperational Range: 100 km\\nGuidance System: Active Radar\\n2\\n\",\"pageNumber\":2}, {\"source\":{\"id\":\"8e592158-bbd3-4254-9a6f-343ec2bdb31d\"},\"intraSourceId\":\"0\",\"contentStr\":\"For Training Use Only\\nExported (UTC) @ 7/12/23, 1:28 AMYJ-91 Chinese Anti-Ship Missile\\nTiers:\\nDomain: Air, Aircraft Armament, Aircraft Missiles, Anti-Ship Missiles\\nProliferation: China\\nOrigin: China, People's Republic of\\nNotes\\nYJ-91 is the Chinese version of the Kh-31. YJ is short for Ying Ji (Yingji, ) meaning eagle strike. After\\npurchasing 200 Kh-31Ps from Russia, China decided to develop its own version, because the original Kh-31\\nmissile did not fully satisfy Chinese requirements. The resulting YJ-91 missile was developed by Hongdu\\nAviation Industry Corporation, the same manufacturer of the Silkworm missile. The experience gained from YJ-\\n91 also helped the engine development of another supersonic missile indigenously developed in China, YJ-\\n1\\n\",\"pageNumber\":1}, {\"source\":{\"id\":\"8e592158-bbd3-4254-9a6f-343ec2bdb31d\"},\"intraSourceId\":\"1\",\"contentStr\":\"For Training Use Only\\nExported (UTC) @ 7/12/23, 1:28 AM12, which is sometimes confused by non-Chinese sources with the YJ-91, as both share the same origin for\\ntheir propulsion systems. YJ-91 Anti-Ship Missile The Chinese have also developed an anti-ship version of the\\nYJ-91 missile. However, this version is an indigenous development of the Chinese from the Kh-31P anti-\\nradiation missile, and not from the Kh-31A anti-ship missile. China did not order any of the Kh-31A. The\\nChinese felt that the original Kh-31A could not fully satisfy their requirements, because the high-low trajectory\\nof the missile meant early detection, thus it is prone to interception. In contrast, the low-low trajectory usually\\nadopted by subsonic anti-ship missiles better uses the supersonic speed of Kh-31A. Such a trajectory shortens\\nthe detection range and the high-speed reduces the target’s reaction time, once the missile is detected. As a\\nresult, China did not order any Kh-31A anti-ship missiles. The resulting anti-ship version of the YJ-91 is\\ncapable of sea-skimming. Its cruising altitude is no more than 20 metre above sea level. At the terminal attack\\nstage (usually after the active radar seeker of the missile is turned on), the missile drops to 7 metre above sea\\nlevel. This attack altitude can be further reduced to just 1.2 metre above sea level, when the sea state allows.\\nAlternatively, the missile can be programmed to popup-and-dive like that the Boeing Harpoon. However, such\\nsea-skimming capability comes at the expense of maximum range: in comparison to the original 70 km range of\\nthe Kh-31A, the maximum range of YJ-91 anti-ship missile was reduced by more than a quarter to 50 km. Like\\nthe anti-radiation version, it is reported that many planned upgrades are in development. An application for\\nresearch grants to develop a submerged launched version of YJ-91 anti-ship missile once appeared on\\nChinese websites on the Internet, indicating China is attempting to develop a version for its submarine fleet.\\nVariants\\nYJ-91 Anti-Radiation Missile: The anti-radiation version of the\",\"pageNumber\":2}, {\"source\":{\"id\":\"8e592158-bbd3-4254-9a6f-343ec2bdb31d\"},\"intraSourceId\":\"2\",\"contentStr\":\"-ship missile was reduced by more than a quarter to 50 km. Like\\nthe anti-radiation version, it is reported that many planned upgrades are in development. An application for\\nresearch grants to develop a submerged launched version of YJ-91 anti-ship missile once appeared on\\nChinese websites on the Internet, indicating China is attempting to develop a version for its submarine fleet.\\nVariants\\nYJ-91 Anti-Radiation Missile: The anti-radiation version of the YJ-91 missile was developed from the Kh-31P,\\nwhich uses a wide array of seekers to cover the entire radar frequency band. The Chinese were not satisfied\\nwith the requirement to include multiple seekers and preferred to have a single seeker capable of covering\\nmultiple frequency bands, like the AGM-88 HARM. However, such ambitions proved to be too great for the\\nChinese microelectronics industry. They could not achieve the goal in a single step within the required timeline\\noriginally specified by the Chinese military. Instead, a two-step approach was implemented: The completion of\\nthe development of a single seeker covering multiple frequency bands was pushed back, while a stopgap\\nmeasure was adopted in the meantime. The Kh-31P was modified so that the seekers could be rapidly\\nchanged in the forward airstrips (providing the specialized tooling is available), so that missile would not need\\nto be sent back to depots or factories to perform such operation. The resulting anti-radiation version of YJ-91\\nmissile has a slightly increased the range to 120 km in comparison to 110 km of the original Kh-31P. In addition\\n2\\n\",\"pageNumber\":2}, {\"source\":{\"id\":\"8e592158-bbd3-4254-9a6f-343ec2bdb31d\"},\"intraSourceId\":\"3\",\"contentStr\":\"For Training Use Only\\nExported (UTC) @ 7/12/23, 1:28 AMto a seeker that covers multiple frequency bands, additional measures to upgrade the missile are in\\ndevelopment, such as, an open software architecture. Additional measures reportedly include prioritizing\\nthreats, which could be uploaded to the onboard computer from the ground or by the pilots while in flight.\\nThreats could then be updated in real time. The multi-band seeker is of higher priority.\\nYJ-91 Anti-Ship Missile: The Chinese have also developed an anti-ship version of the YJ-91 missile.\\nHowever, this version is an indigenous development of the Chinese from the Kh-31P anti-radiation missile, and\\nnot from the Kh-31A anti-ship missile. China did not order any of the Kh-31A. The Chinese felt that the original\\nKh-31A could not fully satisfy their requirements, because the high-low trajectory of the missile meant early\\ndetection, thus it is prone to interception. In contrast, the low-low trajectory usually adopted by subsonic anti-\\nship missiles better uses the supersonic speed of Kh-31A. Such a trajectory shortens the detection range and\\nthe high-speed reduces the target’s reaction time, once the missile is detected. As a result, China did not order\\nany Kh-31A anti-ship missiles. The resulting anti-ship version of the YJ-91 is capable of sea-skimming. Its\\ncruising altitude is no more than 20 metre above sea level. At the terminal attack stage (usually after the active\\nradar seeker of the missile is turned on), the missile drops to 7 metre above sea level. This attack altitude can\\nbe further reduced to just 1.2 metre above sea level, when the sea state allows. Alternatively, the missile can\\nbe programmed to popup-and-dive like that the Boeing Harpoon. However, such sea-skimming capability\\ncomes at the expense of maximum range: in comparison to the original 70 km range of the Kh-31A, the\\nmaximum range of YJ-91 anti-ship missile was reduced by more than a quarter to 50 km. Like the anti-radiation\\nversion, it is reported that many planned upgrades are in development. An application for research grants to\\ndevelop a submerged launched version of Y\",\"pageNumber\":3}, {\"source\":{\"id\":\"8e592158-bbd3-4254-9a6f-343ec2bdb31d\"},\"intraSourceId\":\"4\",\"contentStr\":\"-dive like that the Boeing Harpoon. However, such sea-skimming capability\\ncomes at the expense of maximum range: in comparison to the original 70 km range of the Kh-31A, the\\nmaximum range of YJ-91 anti-ship missile was reduced by more than a quarter to 50 km. Like the anti-radiation\\nversion, it is reported that many planned upgrades are in development. An application for research grants to\\ndevelop a submerged launched version of YJ-91 anti-ship missile once appeared on Chinese websites on the\\nInternet, indicating China is attempting to develop a version for its submarine fleet.\\nSystem\\n:\\n:\\n:\\nYJ-91 Anti-Radiation Missile\\nName: YJ-91\\n3\\n\",\"pageNumber\":3}, {\"source\":{\"id\":\"8e592158-bbd3-4254-9a6f-343ec2bdb31d\"},\"intraSourceId\":\"5\",\"contentStr\":\"For Training Use Only\\nExported (UTC) @ 7/12/23, 1:28 AMType: Anti-Ship Missile\\nManufacturer: Hongdu Aviation Industry Corporation\\nLength: 4.7 m\\nDiameter: 0.3602 m\\nWeight: 0.6 ton\\nWarhead: 165 kg\\nDetonation Mechanism: Semi-armor-piercing and other\\nEngine: Ramjet\\nPropellant: Liquid fuel\\nOperational Range: 50-120 km\\nMaximum Speed: Mach 4.5\\nCruising Altitude: Its cruising altitude is no more than 20 metre above sea level. At the terminal attack stage\\n(usually after the active radar seeker of the missile is turned on), the missile drops to 7 metre above sea level.\\nThis attack altitude can be further reduced to just 1.2 metre above sea level, when the sea state allows.\\nGuidance System: ARH / PRH\\n4\\n\",\"pageNumber\":4}, {\"source\":{\"id\":\"921d3822-7427-400d-b6df-36e7cb50c661\"},\"intraSourceId\":\"0\",\"contentStr\":\"For Training Use Only\\nExported (UTC) @ 7/12/23, 1:14 AMYJ-12B Chinese Coastal Defense Missile System\\nTiers:\\nDomain: Air, Air Defense, Radar Guided Missile Systems, Long-Range Missile Systems (More than 80 km)\\nProliferation: China\\nOrigin: China, People's Republic of\\nNotes\\nThe YJ-12B is a new China's coastal defense missile system. Its images first emerged in 2018. This system\\nwas first publicly revealed in 2019. It is in service with the China's military. It is a general purpose heavy duty\\nmissile transporter developed from the original WS2500 and is built by Wanshan Special Vehicle. Its other\\ncontemporary is the larger HTF5680A1. The WS2600 is a heavy duty TEL co-developed by a joint Chinese\\nand Belarusian venture. The WS2600 is slightly bigger than the WS2500 and a larger version of the original\\nWS2400 with an additional axle to support the increased payload. Due to its larger size, the WS2600 is able to\\ncarry much heftier missiles, of which its most common payload is the DF-21C medium-range ballistic missile\\nand the DF-21D anti-ship ballistic missile. Both the WS2500 and WS2600 form one of the main TEL carriers of\\nChina's MRBM and ASBM stockpiles. Like the WS2500, the TEL has a 4-door cab, which allows the WS2600\\nto easily accommodates the driver and 7 additional passengers.\\nSystem\\nAlternative Designation: YJ-12B\\n1\\n\",\"pageNumber\":1}, {\"source\":{\"id\":\"921d3822-7427-400d-b6df-36e7cb50c661\"},\"intraSourceId\":\"1\",\"contentStr\":\"For Training Use Only\\nExported (UTC) @ 7/12/23, 1:14 AMType: Coastal Defense Missile System\\nManufacturer: INA\\nIn Service: 2019-Present\\nCrew: INA\\nConfiguration: 10x8\\nCab Seating: INA\\nDimensions\\nLength: 16.35 m\\nWidth: 3.05 m\\nHeight: 2.82 m\\nWeight, Curb: 22.5 t\\nPayload Capacity: 42.5 t\\nAutomotive\\nEngine Name: Deutz\\nEngine Type: Diesel\\nEngine Power: 544\\nCruising Range: 650\\nSpeed, Maximum Road: 70\\nSpeed, Average Cross: INA\\nSpeed Maximum Swim: Not Amphibious\\n2\\n\",\"pageNumber\":2}, {\"source\":{\"id\":\"921d3822-7427-400d-b6df-36e7cb50c661\"},\"intraSourceId\":\"2\",\"contentStr\":\"For Training Use Only\\nExported (UTC) @ 7/12/23, 1:14 AMGradient: 40\\nSide Slope: 20\\nVertical Step: 0.4\\nTrench: 2.5\\nFording Depth: 1.2\\nMain Weapon System\\nLauncher\\nName: YJ-12B\\nNote: The YJ-12B can be seen as a ground-launched version of the naval YJ-12 anti-ship missile, that is\\ncarried by warships.\\nMissile\\nName: YJ-12 Missile\\nType: Supersonic Anti-Ship Cruise Missile\\nLength: 6.3 m\\nDiameter: 0.756 m\\nWeight: 2,500 kg\\nWarhead Type: HE-FRAG\\nEngine: integrated ramjet/booster propulsion system\\nOperational Range: 500 km\\nMaximum Speed: Mach 3\\n3\\n\",\"pageNumber\":3}, {\"source\":{\"id\":\"921d3822-7427-400d-b6df-36e7cb50c661\"},\"intraSourceId\":\"3\",\"contentStr\":\"For Training Use Only\\nExported (UTC) @ 7/12/23, 1:14 AMGuidance System: Inertial with active radar homing\\nProtection\\nArmor: Protection from small arms and shell splinters\\nApplique Armor: INA\\nActive Protection System: No\\nMine Clearing: No\\nNBC Protection: INA\\nSmoke Equipment: No\\n4\\n\",\"pageNumber\":4}, {\"source\":{\"id\":\"b501ffa1-337f-45fc-8e5d-7cc0503860a9\"},\"intraSourceId\":\"0\",\"contentStr\":\"For Training Use Only\\nExported (UTC) @ 7/12/23, 12:50 AMSY-400 Chinese Short-Range Ballistic Missile\\nTiers:\\nDomain: Air, Ballistic Missiles, Short-Range Ballistic Missiles (SRBM) (301 km - 1,000 km), Ground-Launched\\nBallistic Missiles (GLBM) (301 km - 1,000 km)\\nProliferation: China\\nOrigin: China, People's Republic of\\nSY-400 Missile (C)\\n SY-400 Missile (B)\\n SY-400 Missile (A)\\nNotes\\nThe SY-400 Chinese Short-Range Ballistic Missile is a short-range precision-attack ballistic missile system.\\nSystem\\nAlternative Designation: SY-400\\nType: Short-Range Ballistic Missile\\nManufacturer: INA\\nCrew: INA\\nChassis: Wanshan 8x8 high-mobility wheeled launcher.\\nNote: The SY-400 is supported by a reloading vehicle, fitted with a crane, which carries a full set of reload\\ncontainers.\\nDimensions\\nLength: 12.0 m\\n1\\n\",\"pageNumber\":1}, {\"source\":{\"id\":\"b501ffa1-337f-45fc-8e5d-7cc0503860a9\"},\"intraSourceId\":\"1\",\"contentStr\":\"For Training Use Only\\nExported (UTC) @ 7/12/23, 12:50 AMWidth: 3.0 m\\nHeight: 5.0 m\\nWeight, Combat: 35 tons\\nAutomotive\\nEngine Name: Deutz\\nEngine Type: Diesel\\nEngine Power: 530 hp\\nMaximum Speed: 75 km/h\\nMaximum Range : 400 km\\nAmphibious : No\\nGradient : 60%\\nSide Sloper : 30%\\nVertical Step : 0.5 m\\nTrench : 2.5 m\\nFording : 1.2 m\\nMissile System\\nName: INA\\nType: Short-Range Ballistic Missile\\nMissile Length : INA\\nMissile Diameter : INA\\n2\\n\",\"pageNumber\":2}, {\"source\":{\"id\":\"b501ffa1-337f-45fc-8e5d-7cc0503860a9\"},\"intraSourceId\":\"2\",\"contentStr\":\"For Training Use Only\\nExported (UTC) @ 7/12/23, 12:50 AMMissile Weight : INA\\nWarhead Type : Conventional\\nWarhead Weight : 200 kg\\nMaximum Firing Range : 400 km\\nAccuracy : INA\\nNote #1: The SY-400 system has 8 containers with solid fuel ballistic missiles. Missiles are factory-fitted into\\nthese containers.\\nNote #2: The launcher can be configured to carry one pod with four SY-400 missiles and one pod with BP-12A\\nmissile.\\nFire Control\\nFire Control System\\nNote: The missiles are fitted with GPS/INS guidance system.\\nProtection\\nHull Armor: INA\\nNBC Protection: INA\\nSmoke Equipment: No\\n3\\n\",\"pageNumber\":3}, {\"source\":{\"id\":\"bd382ce2-5eec-474d-bb4c-603421840f34\"},\"intraSourceId\":\"0\",\"contentStr\":\"For Training Use Only\\nExported (UTC) @ 7/7/23, 9:19 AMLD 2000 (LuDun-2000) Chinese 8x8 Mobile Air\\nDefense Gun Missile System\\nTiers:\\nDomain: Air, Air Defense, Hybrid Missile Systems\\nProliferation: China\\nOrigin: China, People's Republic of\\nNotes\\nThe LD2000 (LuDun-2000) is a ground-based anti-aircraft air defense weapon system designed, developed,\\nand manufactured by the Chinese Defense Company NORINCO (China North Industries Corporation). The\\nsystem was unveiled during the defense exhibition IDEX in 2005. Modern critical ground assets are vulnerable\\nto a growing number of precision-guided weapon and aerial threats, and particularly to cruise missiles. In\\nresponse. China North Industries Corporation (NORINCO) has developed a unique and effective solution to\\nthese threats - the LD2000 Ground-Based Close-In Weapon System based on the proven CIWS of naval\\napplication. LD2000 is an effective and efficient weapon system for close-in air defense in various scenarios.\\nWith highly accurate firepower and multiple target engagement capability. The LD2000 achieves satisfying hit\\nprobability to typical low-altitude, high-speed cruise missile targets. The system is also highly capable of\\nintercepting low-altitude aircraft and UAVs. The LD2000 can intercept flying targets at a velocity of Mach 2 or\\nbelow. It has a reaction time of 9.8 sec and the capability to track up to 48 targets.\\n1\\n\",\"pageNumber\":1}, {\"source\":{\"id\":\"bd382ce2-5eec-474d-bb4c-603421840f34\"},\"intraSourceId\":\"1\",\"contentStr\":\"For Training Use Only\\nExported (UTC) @ 7/7/23, 9:19 AMVariants\\nLD 2000 with Missiles: Some LD 2000s have up to 6 SAMs attached to the side(s) of the gun mount (see\\npictures). Versions with missiles have an additional radar mounted on top of the shelter between the cab of the\\ntruck and the gun. Missile option include: TY-90, DK-9, and HQ-10 SAM\\nLD 2000 with 11 barreled \\\"Gatling\\\" gun: Has higher rate of fire than the seven-barreled version.\\nSystem\\nAlternative Designation: HQ-6A, LD2000 Gai,\\nChassis: 8 x 8, WS-2400\\nManufactuer: NORINCO\\nCrew: 9\\nTarget: Low altitude, high speed cruise missiles; low altitude aircraft; and UAVs traveling less than Mach 2\\nNumber of Tracks System Can Manage: Up to 48\\nReaction Time: 9.8\\nRange: 2.5 km for gun attacking air threats and 3km attacking ground threats; 6km for SAMs\\nIn Service: 2005-Present\\nNote: LD2000 includes a combat unit that consists of an Intelligence & Command Vehicle (ICV) and up to eight\\nCombat Vehicles (CV), supported by Ammunition Supply Vehicles (ASV). and other combat support vehicles.\\nBesides the ready-to-service basic configuration and extended configuration, LD2000 also can be upgraded to\\nmulti-layer gun-missile integrated air defense system\\nDimensions (Chassis: WS2400)\\nLength: 11.44\\nWidth: 3.05\\n2\\n\",\"pageNumber\":2}, {\"source\":{\"id\":\"bd382ce2-5eec-474d-bb4c-603421840f34\"},\"intraSourceId\":\"2\",\"contentStr\":\"For Training Use Only\\nExported (UTC) @ 7/7/23, 9:19 AMHeight: 2.97\\nWeight, Empty: 19\\nAutomotive (Chassis: WS2400)\\nEngine Name: Deutz Diesel\\nEngine Type: Diesel\\nEngine Power: 517\\nOperational Range: 650\\nSpeed: 75\\nPayload Capacity: 22\\nCommunications\\nMain Weapon System\\nNote #1: The 30-mm cannon is remotely controlled and mounted to the rear of the truck\\nNote #2: The cannon is operated by a gunner in the fully enclosed module to the behind the cab\\nSystem\\nName: 1 x Type 730C (Land Based) Gatling Gun\\nType: Gatling Gun\\nCaliber: 30\\nCrew: Automated, with human oversight\\nBarrels: 7\\nLength: INA\\n3\\n\",\"pageNumber\":3}, {\"source\":{\"id\":\"bd382ce2-5eec-474d-bb4c-603421840f34\"},\"intraSourceId\":\"3\",\"contentStr\":\"For Training Use Only\\nExported (UTC) @ 7/7/23, 9:19 AMDiameter: INA\\nTraverse Range: 360\\nTraverse Left: 180\\nTraverse Right: 180\\nMaximum Elevation: INA\\nFire on Move: No\\nMinimum Elevation: INA\\nReaction Time: 9.8\\nRate of Fire: 4,600 - 5,800 cyclic\\nMaximum Effective Range: 2.5 km attacking air threats and 3km attacking ground threats\\nFeed System: Two ammunition boxes, each holding 500 rounds (total 1000 rounds)\\nGuidance System: TR47C J-band radar OFC-3 electro-optical fire control system\\nBasic Load: 1,000 rounds (500 rounds in each of two magazines located on either side of the cannons. Each\\nmagazine is loaded with a type of 30mm ammunition, AP, APDS, or HEI)\\nAmmunitionn\\nName: INA\\nType: Sabot Armor-Piercing Rounds\\nCaliber: 30\\nMuzzle Velocity: INA\\nBasic Load: 1,000 rounds (500 rounds in each of two magazines located on either side of the cannons. Each\\nmagazine is loaded with a type of 30mm ammunition, AP, APDS, or HEI)\\n4\\n\",\"pageNumber\":4}, {\"source\":{\"id\":\"bd382ce2-5eec-474d-bb4c-603421840f34\"},\"intraSourceId\":\"4\",\"contentStr\":\"For Training Use Only\\nExported (UTC) @ 7/7/23, 9:19 AMNote: The LD2000 can fire tungsten APDS and HEI ammunitions for improved airborne weapon target\\ndestruction. One direct hit of APDS projectile will definitely detonate the warhead of incoming air-to-ground\\nweapon target\\nAuxiliary Weapon System\\nMissile System\\nName: 6 x TY-90 (Sky Swallow-90) Surface-to-Air Missile\\nType: Surface-to-Air Missile\\nManufacturer: China Aviation Industry Corporation\\nLength: 1.9\\nDiameter: 90\\nWeight: 20\\nWarhead Weight: 3\\nDetonation Mechanism: Impact / proximity\\nEngine: Solid-fuel rocket motor\\nPropellant: Solid fuel\\nOperational Range: 0.5 – 6 km\\nFlight Ceiling: 6\\nFlight Altitude: 0 – 6 km\\nSpeed: > Mach 2\\nGuidance System: ImIR IR\\nBasic Load: 6 x TY-90 (Sky Swallow-90) Surface-to-Air Missile\\n5\\n\",\"pageNumber\":5}, {\"source\":{\"id\":\"bd382ce2-5eec-474d-bb4c-603421840f34\"},\"intraSourceId\":\"5\",\"contentStr\":\"For Training Use Only\\nExported (UTC) @ 7/7/23, 9:19 AMFire Control System\\nFCS Name: OFC-3\\nComputerized FCS: Yes\\nFCS Type: Photoelectric tracking system\\nLaser Rangefinder: Yes\\nIFF: INA\\nGuidance System: TR47C J-band radar OFC-3 electro-optical fire control system\\nMain Gun Stabilization: INA\\nNight Vision Camera: Yes\\nRadar\\nName: TR47C\\nType: Fire Control Radar\\nBand: J\\nCCD Camera: Yes\\nLaser Rangefinder: Yes\\nInfrared Thermal Imager: Yes\\nDetection Range, Small Target: 10\\nAzimuth Scan: The Azimuth is scanned mechanically, while the elevation is scanned electronically,\\nincorporating a total of 169 transceivers of phased array technology that enables the radar to pick up the\\nsplashes of 30 mm rounds.\\nNumber of targets: Up to 48\\n6\\n\",\"pageNumber\":6}, {\"source\":{\"id\":\"bd382ce2-5eec-474d-bb4c-603421840f34\"},\"intraSourceId\":\"6\",\"contentStr\":\"For Training Use Only\\nExported (UTC) @ 7/7/23, 9:19 AMNote: The system can track a sea-skimming target with 0.1 square metre radar cross section at 8 km, extended\\nto 15 km if the radar cross section is increased to 2 square metres, and further extended to 20 km if the radar\\ncross section is increased to 10 square metres, though the targets could not be engaged until much closer (3\\nkm) due to the limited range of the gun\\nProtection\\nHull Armor: INA\\nTurret Armor: INA\\nApplique Armor: INA\\nExplosive Reactive Armor: No\\nActive Protection System: INA\\nMine Clearing: No\\nSelf-Entrenching Blade: No\\nNBC Protection: Yes\\nSmoke Equipment: INA\\n7\\n\",\"pageNumber\":7}, {\"source\":{\"id\":\"dfc621ef-6b83-4c2e-b4ec-7252306437ce\"},\"intraSourceId\":\"0\",\"contentStr\":\"For Training Use Only\\nExported (UTC) @ 7/12/23, 1:32 AMPL-5EII Chinese Short-Range Infrared-Homing\\nAir-to-Air Missile\\nTiers:\\nDomain: Air, Aircraft Armament, Aircraft Missiles, Air-to-Air Missiles\\nProliferation: Bangladesh, China, Egypt, Iran (Islamic Republic of), Iraq, Myanmar, Pakistan, Sri Lanka,\\nSudan, Tanzania, Venezuela (Bolivarian Republic of), Zimbabwe\\nOrigin: China, People's Republic of\\nNotes\\nThe PL-5 (-5) air-to-air missile (PL stands for Pi Li, \\\"Thunderbolt\\\" in Chinese, the generic designation for all\\nPRC air-to-air missiles) is a short-range, Infrared homing missile use by Chinese fighters. It is based on AA-2\\nAtoll technology and resembles the AIM-9 Sidewinder. The PL-5 was designed and developed at China's\\nLuoyang Electro-Optics Technology Development Centre (EOTDC), also known as Institute 612; its design\\nteam members included Chen Jiali (), Dong Chunfeng, Hu Rongchao (), Huang Bin, Zhang Ming (), and\\nZheng Zhiwei (). It was reportedly produced at the Hanzhong Nanfeng Machine Factory (also known as the\\nHanzhong Air-to-Air Missile Factory) of China Aviation Industry Corporation I. The PL-5 have been\\ncontinuously upgraded by Luoyang and the latest variant, the PL-5EII added a dual band, multi-element\\ndetector as well as a laser proximity fuse similar to the PL-9. According to Chinese export/import agency\\nCATIC, the PL5E has an all-aspect capability with the seeker having a maximum off boresight angle of ±25°\\n1\\n\",\"pageNumber\":1}, {\"source\":{\"id\":\"dfc621ef-6b83-4c2e-b4ec-7252306437ce\"},\"intraSourceId\":\"1\",\"contentStr\":\" with the seeker having a maximum off boresight angle of ±25°\\n1\\n\",\"pageNumber\":1}, {\"source\":{\"id\":\"dfc621ef-6b83-4c2e-b4ec-7252306437ce\"},\"intraSourceId\":\"2\",\"contentStr\":\"For Training Use Only\\nExported (UTC) @ 7/12/23, 1:32 AMbefore launch, and ±40° after launch. PLAAF J-10 and J-11 fighter jets are mainly using PL-8 missile, which is\\nmore advanced comparing PL-5. However, due to greater weight and dimension of PL-8 missile, for F-7 and\\nJH-7, PL-5 is still the preferable air-to-air missile at this stage.\\nVariants\\nPl-5: The PL-5 (-5) air-to-air missile (PL stands for Pi Li, \\\"Thunderbolt\\\" in Chinese, the generic designation for\\nall PRC air-to-air missiles) is a short-range, Infrared homing missile use by Chinese fighters. It is based on AA-\\n2 Atoll technology and resembles the AIM-9 Sidewinder.\\nSystem\\n:\\n:\\n:\\nPL-5EII Short-Range Air-to-Air Missile\\nName: PL-5EII\\nType: Short-Range Air-to-Air Missile\\nManufacturer: Luoyang Electro-Optics Technology Development Centre (EOTDC), Hanzhong Nanfeng\\nMachine Factor\\nLength: 2.893m\\nDiameter: 0.127m\\nWingspan: 0.617m\\nWeight: 83kg\\nWarhead: 6kg blast-frag, or expanding rod (RF-fuse)\\nDetonation Mechanism: Active infrared, laser proximity fuse\\n2\\n\",\"pageNumber\":2}, {\"source\":{\"id\":\"dfc621ef-6b83-4c2e-b4ec-7252306437ce\"},\"intraSourceId\":\"3\",\"contentStr\":\"For Training Use Only\\nExported (UTC) @ 7/12/23, 1:32 AMEngine: Solid-fuel rocket\\nOperational Range: 16~18km\\nMaximum Speed: Mach 2.5\\nGuidance System: Infrared homing, multi-element, dual band detector\\n3\\n\",\"pageNumber\":3}, {\"source\":{\"id\":\"fdd44538-4152-4a18-96da-ca492a25322f\"},\"intraSourceId\":\"0\",\"contentStr\":\"For Training Use Only\\nExported (UTC) @ 7/12/23, 12:55 AMY-9JB (GX-8) Chinese Electronic Intelligence\\nAircraft\\nTiers:\\nDomain: Air, Aircraft, Fixed Wing Aircraft, Airborne Early Warning and Control Aircraft\\nProliferation: China, Myanmar\\nOrigin: China, People's Republic of\\nNotes\\nY-9JB (GX-8) Electronic intelligence variant. At least three GX-8s are in service with the 2nd Air Division of\\nChina's North Sea Fleet.\\nVariants\\nY-9: The Shaanxi Y-9 (Chinese: -9; pinyin: Yùn-9) is a medium military transport aircraft produced by Shaanxi\\nAircraft Company in China. It is a stretched and upgraded development of the Shaanxi Y-8F.\\nY-9E: Export version\\nY-9G (GX-11): Electronic warfare variant\\nGX-8: Electronic intelligence variant\\nKJ-500: Airborne early warning and control variant. Five hour endurance, and fitted with lighter version of KJ-\\n2000 AESA radar.\\n1\\n\",\"pageNumber\":1}, {\"source\":{\"id\":\"fdd44538-4152-4a18-96da-ca492a25322f\"},\"intraSourceId\":\"1\",\"contentStr\":\"For Training Use Only\\nExported (UTC) @ 7/12/23, 12:55 AMSystem\\nAlternate Designation(s): Y-9JB; GX-8\\nPrimary Function / Type: Electronic Intelligence Aircraft\\nManufacturer: Shaanxi Aircraft Company\\nCrew: 4\\nTroops: 132\\nNumber of Engines: 3\\nNumber of Hard Points: INA\\nDimensions\\nLength: 36.065 m\\nWidth (Wing Span): 38 m\\nHeight: 11.3 m\\nWing Area: 121.9 m2\\nCabin Length: 16.2 m\\nCabin Width: 3.2 m\\nCabin Height: 2.4 m\\nEmpty Weight: 39,000 kg\\nMaximum Takeoff Weight: 77,000 kg\\nOverload Takeoff Weight: 81,000 kg\\nNormal Payload: 25,000 kg\\n2\\n\",\"pageNumber\":2}, {\"source\":{\"id\":\"fdd44538-4152-4a18-96da-ca492a25322f\"},\"intraSourceId\":\"2\",\"contentStr\":\"For Training Use Only\\nExported (UTC) @ 7/12/23, 12:55 AMMaximum Payload: 30,000 kg\\nAutomotive\\nEngine Name: 4 x WJ-6C\\nNumber of Engines: 4\\nEngine Type: Turboprop\\nEngine Power: INA\\nMaximum Speed: INA\\nCruise Speed: 600-650 km/h\\nCeiling: 9,000 m\\nMaximum Range with Maximum Payload: 7,900 km\\nOperational Range: 5,800 km\\nEndurance: 12 hours\\nFire Control / Avionics\\nFCS Name: INA\\nComputerized FCS: No\\nNavigation Radar: INA\\nSatellite Communications Dome: Yes\\nProtection\\nStealth Properties: No\\nHeat Signature Reduction: No\\n3\\n\",\"pageNumber\":3}, {\"source\":{\"id\":\"fdd44538-4152-4a18-96da-ca492a25322f\"},\"intraSourceId\":\"3\",\"contentStr\":\"For Training Use Only\\nExported (UTC) @ 7/12/23, 12:55 AMAdd on Armor: No\\nNBC Protection: INA\\nEW Counter Measures: No\\nChaffs/Flares: No\\n4\\n\",\"pageNumber\":4}]\n"
     ]
    }
   ],
   "source": [
    "print(sourceCollectionPassages)"
   ]
  },
  {
   "cell_type": "code",
   "execution_count": null,
   "id": "4650bc82-0a36-412d-bc6a-8c7938b930df",
   "metadata": {
    "tags": []
   },
   "outputs": [],
   "source": [
    "\"\"\"\n",
    "At this point we have passages that can be indexed\n",
    "\"\"\""
   ]
  },
  {
   "cell_type": "code",
   "execution_count": 77,
   "id": "eff02a5c-c7d3-4462-9567-2958993a3c33",
   "metadata": {
    "execution": {
     "iopub.execute_input": "2024-03-01T04:34:32.240485Z",
     "iopub.status.busy": "2024-03-01T04:34:32.239366Z",
     "iopub.status.idle": "2024-03-01T04:34:32.300758Z",
     "shell.execute_reply": "2024-03-01T04:34:32.299992Z",
     "shell.execute_reply.started": "2024-03-01T04:34:32.240436Z"
    },
    "tags": []
   },
   "outputs": [
    {
     "data": {
      "text/plain": [
       "'gcs://c3--gkev8c3apps/corneaguru/vector-store/vectorStore.zip'"
      ]
     },
     "execution_count": 77,
     "metadata": {},
     "output_type": "execute_result"
    }
   ],
   "source": [
    "# Notebook\n",
    "indexZipUrl = c3.FileSystem.mounts().get(\"vector-store\") + \"vectorStore.zip\";\n",
    "indexZipUrl"
   ]
  },
  {
   "cell_type": "code",
   "execution_count": 78,
   "id": "41864e7a-9d7a-4012-be9d-e3388fdfaedb",
   "metadata": {
    "execution": {
     "iopub.execute_input": "2024-03-01T04:34:33.714430Z",
     "iopub.status.busy": "2024-03-01T04:34:33.713273Z",
     "iopub.status.idle": "2024-03-01T04:34:33.718777Z",
     "shell.execute_reply": "2024-03-01T04:34:33.718014Z",
     "shell.execute_reply.started": "2024-03-01T04:34:33.714394Z"
    },
    "tags": []
   },
   "outputs": [
    {
     "data": {
      "text/plain": [
       "'gcs://c3--gkev8c3apps/corneaguru/vector-store/vectorStore.zip'"
      ]
     },
     "execution_count": 78,
     "metadata": {},
     "output_type": "execute_result"
    }
   ],
   "source": [
    "indexZipUrl"
   ]
  },
  {
   "cell_type": "code",
   "execution_count": 79,
   "id": "af595423-2139-435a-b53c-e98bbc1f62b5",
   "metadata": {
    "execution": {
     "iopub.execute_input": "2024-03-01T04:34:34.722614Z",
     "iopub.status.busy": "2024-03-01T04:34:34.721380Z",
     "iopub.status.idle": "2024-03-01T04:34:34.852453Z",
     "shell.execute_reply": "2024-03-01T04:34:34.851649Z",
     "shell.execute_reply.started": "2024-03-01T04:34:34.722574Z"
    },
    "tags": []
   },
   "outputs": [
    {
     "data": {
      "text/plain": [
       "[]"
      ]
     },
     "execution_count": 79,
     "metadata": {},
     "output_type": "execute_result"
    }
   ],
   "source": [
    "c3.FileSystem.inst().listFiles(indexZipUrl).files"
   ]
  },
  {
   "cell_type": "code",
   "execution_count": 80,
   "id": "e82d953c-bc86-4e47-94da-232d99690720",
   "metadata": {
    "execution": {
     "iopub.execute_input": "2024-03-01T04:34:37.208133Z",
     "iopub.status.busy": "2024-03-01T04:34:37.207088Z",
     "iopub.status.idle": "2024-03-01T04:34:37.570322Z",
     "shell.execute_reply": "2024-03-01T04:34:37.569488Z",
     "shell.execute_reply.started": "2024-03-01T04:34:37.208088Z"
    },
    "tags": []
   },
   "outputs": [],
   "source": [
    "# Notebook\n",
    "c3.Genai.Retriever.ColBERT.DataConfig.make({\"name\": customerName}).getConfig().setConfigValue(\"indexZipUrl\", indexZipUrl);"
   ]
  },
  {
   "cell_type": "code",
   "execution_count": 81,
   "id": "50d36d73-e73c-4de4-9122-4016adf2dc3a",
   "metadata": {
    "execution": {
     "iopub.execute_input": "2024-03-01T04:34:38.496773Z",
     "iopub.status.busy": "2024-03-01T04:34:38.495838Z",
     "iopub.status.idle": "2024-03-01T04:34:38.882209Z",
     "shell.execute_reply": "2024-03-01T04:34:38.881346Z",
     "shell.execute_reply.started": "2024-03-01T04:34:38.496735Z"
    },
    "tags": []
   },
   "outputs": [
    {
     "data": {
      "text/plain": [
       "{\n",
       "  \"type\" : \"Genai.Retriever.ColBERT.DataConfig\",\n",
       "  \"name\" : \"corneaguru\",\n",
       "  \"configOverride\" : \"APP\",\n",
       "  \"indexZipUrl\" : \"gcs://c3--gkev8c3apps/corneaguru/vector-store/vectorStore.zip\",\n",
       "  \"device\" : \"-1\",\n",
       "  \"maxTries\" : 3,\n",
       "  \"indexName\" : \"data\",\n",
       "  \"colbertCheckpointFileLocation\" : \"gcs://c3--gkev8c3apps/corneaguru/colbertv2.0.tar.gz\",\n",
       "  \"reindexingThreshold\" : 1000,\n",
       "  \"gpuIndexingThreshold\" : 1000,\n",
       "  \"scoreThreshold\" : 0.0,\n",
       "  \"fuzzyMatchRatioThreshold\" : 100,\n",
       "  \"docMaxlen\" : 500,\n",
       "  \"queryMaxlen\" : 32,\n",
       "  \"nGpus\" : 1,\n",
       "  \"nCells\" : 4,\n",
       "  \"centroidScoreThreshold\" : 0.4,\n",
       "  \"nDocs\" : 4096\n",
       "}"
      ]
     },
     "execution_count": 81,
     "metadata": {},
     "output_type": "execute_result"
    }
   ],
   "source": [
    "c3.Genai.Retriever.ColBERT.DataConfig.make({\"name\": customerName}).getConfig()"
   ]
  },
  {
   "cell_type": "code",
   "execution_count": 82,
   "id": "fae191d7-55ec-47b6-899a-11007cd12582",
   "metadata": {
    "execution": {
     "iopub.execute_input": "2024-03-01T04:34:41.360259Z",
     "iopub.status.busy": "2024-03-01T04:34:41.359359Z",
     "iopub.status.idle": "2024-03-01T04:34:41.364748Z",
     "shell.execute_reply": "2024-03-01T04:34:41.363987Z",
     "shell.execute_reply.started": "2024-03-01T04:34:41.360224Z"
    },
    "tags": []
   },
   "outputs": [
    {
     "data": {
      "text/plain": [
       "'corneaguru'"
      ]
     },
     "execution_count": 82,
     "metadata": {},
     "output_type": "execute_result"
    }
   ],
   "source": [
    "customerName"
   ]
  },
  {
   "cell_type": "markdown",
   "id": "4b2c0b30-a30b-4144-8ec4-1f3600d446f1",
   "metadata": {
    "execution": {
     "iopub.execute_input": "2024-01-10T22:33:50.030264Z",
     "iopub.status.busy": "2024-01-10T22:33:50.029089Z",
     "iopub.status.idle": "2024-01-10T22:33:50.036032Z",
     "shell.execute_reply": "2024-01-10T22:33:50.034808Z",
     "shell.execute_reply.started": "2024-01-10T22:33:50.030222Z"
    },
    "tags": []
   },
   "source": [
    "### Run in console.\n",
    "\n",
    "``` js\n",
    "function serializeArray(typeName, typeArray) {\n",
    "    var retVal = [];\n",
    "    for (i = 0; i < typeArray.length; i++) {\n",
    "        retVal.push(typeName.make(typeArray[i]))\n",
    "    }\n",
    "    return retVal;\n",
    "}\n",
    "var gsc = Genai.SourceCollection.forId(customerName).get(\"this\");\n",
    "var passages = gsc.readPassages()\n",
    "passages = serializeArray(Genai.SourcePassage, passages)\n",
    "// this is for if you only want to do a subsection vs iteratively\n",
    "// passages = serializeArray(Genai.SourcePassage, passages.slice(0, 5))\n",
    "```"
   ]
  },
  {
   "cell_type": "markdown",
   "id": "3ac84c8b-4a1f-4348-be1e-45614058daa9",
   "metadata": {
    "execution": {
     "iopub.execute_input": "2024-01-08T17:52:58.322797Z",
     "iopub.status.busy": "2024-01-08T17:52:58.321745Z",
     "iopub.status.idle": "2024-01-08T17:52:58.444847Z",
     "shell.execute_reply": "2024-01-08T17:52:58.444128Z",
     "shell.execute_reply.started": "2024-01-08T17:52:58.322731Z"
    },
    "tags": []
   },
   "source": [
    "### Run in console\n",
    "\n",
    "```js\n",
    "// customerName = <output of above cell>\n",
    "var gsc = Genai.SourceCollection.forId(customerName).get(\"this\");\n",
    "var passages = gsc.readPassages()\n",
    "var vs = Genai.Retriever.ColBERT.forId(customerName).get(\"this\");\n",
    "vs.indexPassages(passages)\n",
    "```"
   ]
  },
  {
   "cell_type": "code",
   "execution_count": 83,
   "id": "e5be4580-c232-48a4-aaaa-83ead19367b7",
   "metadata": {
    "execution": {
     "iopub.execute_input": "2024-03-01T04:35:09.548263Z",
     "iopub.status.busy": "2024-03-01T04:35:09.547843Z",
     "iopub.status.idle": "2024-03-01T04:35:09.553171Z",
     "shell.execute_reply": "2024-03-01T04:35:09.552457Z",
     "shell.execute_reply.started": "2024-03-01T04:35:09.548232Z"
    },
    "tags": []
   },
   "outputs": [
    {
     "data": {
      "text/plain": [
       "'gcs://c3--gkev8c3apps/corneaguru/vector-store/vectorStore.zip'"
      ]
     },
     "execution_count": 83,
     "metadata": {},
     "output_type": "execute_result"
    }
   ],
   "source": [
    "indexZipUrl"
   ]
  },
  {
   "cell_type": "code",
   "execution_count": 84,
   "id": "f40db7fb-a6c2-4862-ac2f-a9127321c77b",
   "metadata": {
    "execution": {
     "iopub.execute_input": "2024-03-01T04:35:11.662630Z",
     "iopub.status.busy": "2024-03-01T04:35:11.662187Z",
     "iopub.status.idle": "2024-03-01T04:35:11.746931Z",
     "shell.execute_reply": "2024-03-01T04:35:11.745837Z",
     "shell.execute_reply.started": "2024-03-01T04:35:11.662594Z"
    },
    "tags": []
   },
   "outputs": [
    {
     "data": {
      "text/plain": [
       "[]"
      ]
     },
     "execution_count": 84,
     "metadata": {},
     "output_type": "execute_result"
    }
   ],
   "source": [
    "# should be non-empty\n",
    "c3.FileSystem.inst().listFiles(indexZipUrl).files"
   ]
  },
  {
   "cell_type": "code",
   "execution_count": null,
   "id": "86637cc5-882b-4554-9224-0899ac8ebf76",
   "metadata": {
    "tags": []
   },
   "outputs": [],
   "source": [
    "\"\"\"\n",
    "At this point index should be created\n",
    "\"\"\""
   ]
  },
  {
   "cell_type": "markdown",
   "id": "7f2d58b6-0784-4be9-935b-6458d8888c58",
   "metadata": {},
   "source": [
    "## Init Orchestrator, Chatbot, and Tools"
   ]
  },
  {
   "cell_type": "code",
   "execution_count": null,
   "id": "985ecb65-6df0-45cd-ac66-00a4859d4956",
   "metadata": {
    "tags": []
   },
   "outputs": [],
   "source": [
    "# orchestrator"
   ]
  },
  {
   "cell_type": "markdown",
   "id": "75aa7aef-47ea-4ab0-a81d-af1db0cb1333",
   "metadata": {},
   "source": [
    "**Before running the below cell, be sure to remove all the jsons in \"/gurusearch/gen/cache/Pkg.issue\"**"
   ]
  },
  {
   "cell_type": "code",
   "execution_count": null,
   "id": "e3c1a950-a7d1-4340-b5f6-81eccf0e558b",
   "metadata": {
    "tags": []
   },
   "outputs": [],
   "source": [
    "orchestrator = c3.Genai.Agent.QueryOrchestrator(name='QueryOrchestrator_default')\n",
    "orchestrator.ensureInitialized(True)"
   ]
  },
  {
   "cell_type": "code",
   "execution_count": null,
   "id": "1e74f5e5-dfc4-468a-be95-59913b577800",
   "metadata": {},
   "outputs": [],
   "source": [
    "# query engine"
   ]
  },
  {
   "cell_type": "code",
   "execution_count": null,
   "id": "caa2156d-7b49-4a5b-a9f4-cf48cf0fa9c4",
   "metadata": {
    "tags": []
   },
   "outputs": [],
   "source": [
    "vs = c3.Genai.Retriever.ColBERT.forId(customerName)\n",
    "\n",
    "c3.Genai.UnstructuredQuery.Engine.Config.inst() \\\n",
    "    .withName('alabamaBond') \\\n",
    "    .withVectorStore(vs) \\\n",
    "    .withModelConfigName('azureDavinci') \\\n",
    "    .withExtractionModelConfigName('azureDavinci') \\\n",
    "    .withQuestionRewritingModelConfigName('azureDavinci') \\\n",
    "    .withFramework(c3.Genai.UnstructuredQuery.Framework.RA) \\\n",
    "    .withPromptConfigName(\"raDefault\") \\\n",
    "    .withExecutorParams({\"maxHops\": 1, \"numSources\": 4, \"previousContextSelector\": True}) \\\n",
    "    .withNumPassages(4) \\\n",
    "    .setConfig()\n",
    "\n",
    "c3.Genai.UnstructuredQuery.Engine.Config.setDefault(\"alabamaBond\")\n",
    "c3.Genai.UnstructuredQuery.Engine.initialize()"
   ]
  },
  {
   "cell_type": "code",
   "execution_count": null,
   "id": "fd9b7005-6431-426d-88e8-da5adadaff59",
   "metadata": {
    "tags": []
   },
   "outputs": [],
   "source": [
    "c3.Genai.UnstructuredQuery.Engine.Config.inst()"
   ]
  },
  {
   "cell_type": "code",
   "execution_count": null,
   "id": "0316775b-d7f1-4669-b42f-98e715a44730",
   "metadata": {
    "tags": []
   },
   "outputs": [],
   "source": [
    "# chatbot"
   ]
  },
  {
   "cell_type": "code",
   "execution_count": null,
   "id": "aa594485-2b06-43cd-b2d6-89a8d85c35f0",
   "metadata": {
    "tags": []
   },
   "outputs": [],
   "source": [
    "c3.Genai.ChatBot.Config().setConfigValue(\"handlerTypeName\", \"Genai.Agent.QueryOrchestrator\")"
   ]
  },
  {
   "cell_type": "code",
   "execution_count": null,
   "id": "75ab26a1-76d3-4332-bcf5-7f7ddf102441",
   "metadata": {
    "tags": []
   },
   "outputs": [],
   "source": [
    "# tracktool init because seeding is inconsistent"
   ]
  },
  {
   "cell_type": "code",
   "execution_count": null,
   "id": "5dea5583-b5c2-4fc1-8c55-267e72c71ad5",
   "metadata": {
    "tags": []
   },
   "outputs": [],
   "source": [
    "customerName"
   ]
  },
  {
   "cell_type": "code",
   "execution_count": null,
   "id": "93704a5a-582f-4584-830e-b96e213d57b2",
   "metadata": {
    "tags": []
   },
   "outputs": [],
   "source": [
    "c3.Pkg.setDevMode(True)"
   ]
  },
  {
   "cell_type": "code",
   "execution_count": null,
   "id": "e31a38c3-99c0-4ee7-87a0-dddb731f4f67",
   "metadata": {
    "tags": []
   },
   "outputs": [],
   "source": [
    "# track_tool_name = customerName\n",
    "# trackTool = c3.Genai.TrackTool(id=track_tool_name).upsert()\n",
    "trackTool = c3.Genai.TrackTool.forId('TrackTool_default')\n",
    "trackTool.config().setConfigValue(\"toolName\", \"trackTool()\")\n",
    "trackTool.config().setConfigValue(\"toolDescription\", \"trackTool() : the track tool will query the track api based on information about location latitude longitude date datetime and bounding box\")\n",
    "trackTool.config().setConfigValue(\"textAnswerFromDataPrompt\", \"{input} \\n Output all of the dates and latudes and longitudes from the data: this is the data {observation}\")\n",
    "trackTool.config().setConfigValue(\"textAnswerFromDataModelConfigName\", \"default_openai_model\")\n",
    "trackTool.config()"
   ]
  },
  {
   "cell_type": "code",
   "execution_count": null,
   "id": "e0b2b5c4-30d8-4a10-9429-0b1a1b3e798c",
   "metadata": {
    "tags": []
   },
   "outputs": [],
   "source": [
    "trackTool.config().setConfigValue(\"doNotGenerateAnswerFromLlm\", \"true\")\n",
    "trackTool.config().setConfigValue(\"textAnswerFromDataModelConfigName\", \"default_openai_model\")\n",
    "trackTool.config().setConfigValue(\"numRowsForLlm\", \"1\")\n",
    "trackTool.config()"
   ]
  },
  {
   "cell_type": "code",
   "execution_count": null,
   "id": "86d6de2a-5cc3-4357-b336-c94d994751dd",
   "metadata": {
    "tags": []
   },
   "outputs": [],
   "source": [
    "# get all tools"
   ]
  },
  {
   "cell_type": "code",
   "execution_count": null,
   "id": "890ceec5-a6d8-4447-a30b-ba020a32509a",
   "metadata": {
    "tags": []
   },
   "outputs": [],
   "source": [
    "unstructured = c3.Genai.Agent.Tool.forId(\"UnstructuredQueryTool_default\")\n",
    "unstructured"
   ]
  },
  {
   "cell_type": "code",
   "execution_count": null,
   "id": "220b951a-3dda-4145-bbf4-22c535cd9f32",
   "metadata": {
    "tags": []
   },
   "outputs": [],
   "source": [
    "tracktool = c3.Genai.TrackTool.forId(id='TrackTool_default')\n",
    "tracktool.initialize(True)"
   ]
  },
  {
   "cell_type": "code",
   "execution_count": null,
   "id": "d04d74c4-2821-46a8-a4aa-3fac920491f2",
   "metadata": {
    "tags": []
   },
   "outputs": [],
   "source": [
    "tracktool"
   ]
  },
  {
   "cell_type": "code",
   "execution_count": null,
   "id": "5d459016-c024-43fc-83fe-66918cd80a85",
   "metadata": {
    "tags": []
   },
   "outputs": [],
   "source": [
    "distancecalc = c3.Genai.DistanceCalculationTool.forId(\"DistanceCalculationTool_default\")\n",
    "distancecalc"
   ]
  },
  {
   "cell_type": "code",
   "execution_count": null,
   "id": "5b2ef89a-e4c8-46da-a488-3eee20fa451f",
   "metadata": {
    "tags": []
   },
   "outputs": [],
   "source": [
    "c3.Genai.Agent.Toolkit.fetch()"
   ]
  },
  {
   "cell_type": "code",
   "execution_count": null,
   "id": "9389a56b-2a31-45f5-a805-e26fd829fefc",
   "metadata": {
    "tags": []
   },
   "outputs": [],
   "source": [
    "# update toolkit for all tools \n",
    "# For SNE use only\n",
    "toolkit_genai = c3.Genai.Agent.Toolkit(name=\"QueryOrchestrator_default\", tools = [unstructured, trackTool, distancecalc], description = \"track toolkit\").upsert()"
   ]
  },
  {
   "cell_type": "code",
   "execution_count": null,
   "id": "f5f9b6b5-23f6-470d-bb7a-61edbdf2ff9c",
   "metadata": {
    "tags": []
   },
   "outputs": [],
   "source": [
    "toolkit_genai = c3.Genai.Agent.Toolkit.forName(\"QueryOrchestrator_default\")"
   ]
  },
  {
   "cell_type": "code",
   "execution_count": null,
   "id": "cf6491f8-7a5c-432e-ad3f-e5a341c3c1c7",
   "metadata": {
    "tags": []
   },
   "outputs": [],
   "source": [
    "toolkit_genai"
   ]
  },
  {
   "cell_type": "code",
   "execution_count": null,
   "id": "6dce861d-b133-41cd-a52a-7b415c89df50",
   "metadata": {
    "tags": []
   },
   "outputs": [],
   "source": [
    "toolkit_genai"
   ]
  },
  {
   "cell_type": "code",
   "execution_count": null,
   "id": "f3f24d8c-2f51-4f3d-b749-3fbfba7cce98",
   "metadata": {
    "tags": []
   },
   "outputs": [],
   "source": [
    "# get orchestrator\n",
    "orchestrator = c3.Genai.Agent.QueryOrchestrator(name=\"QueryOrchestrator_default\")\n",
    "orchestrator.ensureInitialized(True)"
   ]
  },
  {
   "cell_type": "markdown",
   "id": "29e30dd5-0833-48ed-b12b-b83bc865eb8b",
   "metadata": {
    "execution": {
     "iopub.execute_input": "2023-12-27T07:06:48.445068Z",
     "iopub.status.busy": "2023-12-27T07:06:48.443932Z",
     "iopub.status.idle": "2023-12-27T07:06:48.462626Z",
     "shell.execute_reply": "2023-12-27T07:06:48.461673Z",
     "shell.execute_reply.started": "2023-12-27T07:06:48.445035Z"
    },
    "tags": []
   },
   "source": [
    "## Test"
   ]
  },
  {
   "cell_type": "code",
   "execution_count": null,
   "id": "3e511ade-ba4f-4f3d-bd8b-227124d52536",
   "metadata": {
    "tags": []
   },
   "outputs": [],
   "source": [
    "import random\n",
    "get_id = lambda x: x + str(random.randint(0, 9999999999))"
   ]
  },
  {
   "cell_type": "markdown",
   "id": "ea69ea2e-df32-4b8e-ab4c-aa7b41521f7c",
   "metadata": {
    "tags": []
   },
   "source": [
    "## Question 1: Distance Calc"
   ]
  },
  {
   "cell_type": "code",
   "execution_count": null,
   "id": "25348283-ee11-40e9-9c3e-cd2404f05f04",
   "metadata": {
    "tags": []
   },
   "outputs": [],
   "source": [
    "c3.Genai.UnstructuredQuery.Engine.stopAllHandlers()\n",
    "c3.Py.closeAllPy4jInterpreters()"
   ]
  },
  {
   "cell_type": "code",
   "execution_count": null,
   "id": "1b6d0e8a-9957-4fb6-9597-b20646e63bb5",
   "metadata": {
    "tags": []
   },
   "outputs": [],
   "source": [
    "get_id(\"q_1_\")"
   ]
  },
  {
   "cell_type": "code",
   "execution_count": null,
   "id": "ba717061-f715-4887-ae2e-4c78e21334be",
   "metadata": {
    "tags": []
   },
   "outputs": [],
   "source": [
    "q = \"How far is Lhasa Gonggar airport from Chengdu Shuangliu international airport?\""
   ]
  },
  {
   "cell_type": "code",
   "execution_count": null,
   "id": "dfd86a4d-3888-49aa-8650-20263d62ce0b",
   "metadata": {
    "tags": []
   },
   "outputs": [],
   "source": [
    "evalRes = c3.Genai.Query.Result(searchQuery=c3.Genai.Query.fromString(\"What is the PL-21?\")).upsert().get()"
   ]
  },
  {
   "cell_type": "code",
   "execution_count": null,
   "id": "63bc817c-150f-47d1-b946-b19e047e6c0c",
   "metadata": {
    "tags": []
   },
   "outputs": [],
   "source": [
    "evalRes = c3.Genai.Query.Result(id=get_id(\"q_1_\"),searchQuery=c3.Genai.Query(rawQuery=q,baseQuery=q, standaloneQuery=q)).upsert().get(\"this\")"
   ]
  },
  {
   "cell_type": "code",
   "execution_count": null,
   "id": "7de4e69a-2a11-42e9-abec-07ffd2d4c795",
   "metadata": {
    "tags": []
   },
   "outputs": [],
   "source": [
    "res = orchestrator.query(evalRes)"
   ]
  },
  {
   "cell_type": "code",
   "execution_count": null,
   "id": "fd305170-954a-42cb-8b36-72206ca0d189",
   "metadata": {
    "tags": []
   },
   "outputs": [],
   "source": [
    "res"
   ]
  },
  {
   "cell_type": "code",
   "execution_count": null,
   "id": "83fd3644-696a-4f43-91cf-233364944e9a",
   "metadata": {
    "tags": []
   },
   "outputs": [],
   "source": [
    "res"
   ]
  },
  {
   "cell_type": "markdown",
   "id": "48725497-5ec3-47cc-b4b6-ce5a0b1411d6",
   "metadata": {
    "execution": {
     "iopub.execute_input": "2023-12-27T07:08:11.217903Z",
     "iopub.status.busy": "2023-12-27T07:08:11.216719Z",
     "iopub.status.idle": "2023-12-27T07:08:11.221995Z",
     "shell.execute_reply": "2023-12-27T07:08:11.221144Z",
     "shell.execute_reply.started": "2023-12-27T07:08:11.217860Z"
    },
    "tags": []
   },
   "source": [
    "## Question 2: Track Tool"
   ]
  },
  {
   "cell_type": "code",
   "execution_count": null,
   "id": "4ce26183-ed96-46d5-a77f-35f601c8d48c",
   "metadata": {
    "tags": []
   },
   "outputs": [],
   "source": [
    "q = \"what tracks from lat 10.0 to 90.0 and lon 10.0 to 180.0 on September 20, 2023 and callSign of 1349215073?\"\n",
    "\n",
    "evalRes = c3.Genai.Query.Result(id=get_id(\"q_2_\"),searchQuery= c3.Genai.Query(rawQuery=q,baseQuery=q, standaloneQuery=q)).upsert().get()"
   ]
  },
  {
   "cell_type": "code",
   "execution_count": null,
   "id": "d673a5ee-b886-4ec4-b96b-4abedc3c0164",
   "metadata": {
    "tags": []
   },
   "outputs": [],
   "source": [
    "res = orchestrator.query(evalRes)"
   ]
  },
  {
   "cell_type": "code",
   "execution_count": null,
   "id": "9f5c8b46-3493-49cc-aaa9-d44448f8770d",
   "metadata": {
    "tags": []
   },
   "outputs": [],
   "source": [
    "res"
   ]
  },
  {
   "cell_type": "code",
   "execution_count": null,
   "id": "f3dcf51a-50c8-403c-8657-2ffd8aeca943",
   "metadata": {
    "tags": []
   },
   "outputs": [],
   "source": [
    "res"
   ]
  },
  {
   "cell_type": "markdown",
   "id": "f2975458-e902-42fd-bde9-5bd8e961719d",
   "metadata": {},
   "source": [
    "## Question 3: Unstructured"
   ]
  },
  {
   "cell_type": "code",
   "execution_count": null,
   "id": "ad2eb3ff-9a38-4bb9-b752-614b492fca7e",
   "metadata": {
    "tags": []
   },
   "outputs": [],
   "source": [
    "q = \"What is China's latest radar guided long range air-to-air missle?\"\n",
    "\n",
    "evalRes = c3.Genai.Query.Result(id=get_id(\"q_3_\"),searchQuery=c3.Genai.Query(rawQuery=q,baseQuery=q, standaloneQuery=q)).upsert().get(\"this\")"
   ]
  },
  {
   "cell_type": "code",
   "execution_count": null,
   "id": "63f5b2c6-11a9-4f9d-a0b0-d505efbfa7c8",
   "metadata": {
    "tags": []
   },
   "outputs": [],
   "source": [
    "res = orchestrator.query(evalRes)"
   ]
  },
  {
   "cell_type": "code",
   "execution_count": null,
   "id": "b3f3b521-6c71-4e7a-97a3-ade2e88ecf86",
   "metadata": {
    "tags": []
   },
   "outputs": [],
   "source": [
    "res"
   ]
  },
  {
   "cell_type": "markdown",
   "id": "14e41c7a-0d3c-44e2-ad09-b3035a03adb2",
   "metadata": {},
   "source": [
    "## Question 4: Unstructured "
   ]
  },
  {
   "cell_type": "code",
   "execution_count": null,
   "id": "9b8cbea9-c372-4050-ba77-69b5cafb13e2",
   "metadata": {
    "tags": []
   },
   "outputs": [],
   "source": [
    "q = \"What type of engine does the PL-21 have?\"\n",
    "evalRes = c3.Genai.Query.Result(id=get_id(\"q_4_\"),searchQuery=c3.Genai.Query(rawQuery=q,baseQuery=q, standaloneQuery=q)).upsert().get(\"this\")"
   ]
  },
  {
   "cell_type": "code",
   "execution_count": null,
   "id": "7c1eb450-adea-4769-a857-a1599c314405",
   "metadata": {
    "tags": []
   },
   "outputs": [],
   "source": [
    "res = orchestrator.query(evalRes)"
   ]
  },
  {
   "cell_type": "code",
   "execution_count": null,
   "id": "7efefc82-6c95-45ad-b7cf-d8869f56a9c7",
   "metadata": {
    "tags": []
   },
   "outputs": [],
   "source": [
    "res"
   ]
  },
  {
   "cell_type": "code",
   "execution_count": null,
   "id": "3e5137fa-9c68-4e61-a264-f2bfe1ab90c3",
   "metadata": {
    "tags": []
   },
   "outputs": [],
   "source": [
    "res"
   ]
  },
  {
   "cell_type": "markdown",
   "id": "b1f4f686-098b-4fb6-a0df-10c9695db850",
   "metadata": {},
   "source": [
    "## Question 5: Unstructured"
   ]
  },
  {
   "cell_type": "code",
   "execution_count": null,
   "id": "53198873-3a7f-4e80-8e66-cc3112f5e531",
   "metadata": {
    "tags": []
   },
   "outputs": [],
   "source": [
    "q = \"What aircraft can arm the PL-21?\"\n",
    "evalRes = c3.Genai.Query.Result(id=get_id(\"q_5_\"),searchQuery=c3.Genai.Query(rawQuery=q,baseQuery=q, standaloneQuery=q)).upsert().get(\"this\")"
   ]
  },
  {
   "cell_type": "code",
   "execution_count": null,
   "id": "bc6daa7c-9f71-4f4c-98f4-85aeb3713784",
   "metadata": {
    "tags": []
   },
   "outputs": [],
   "source": [
    "res = orchestrator.query(evalRes)"
   ]
  },
  {
   "cell_type": "code",
   "execution_count": null,
   "id": "ecb46391-8355-4d6c-b8cb-1771acba1e2e",
   "metadata": {
    "tags": []
   },
   "outputs": [],
   "source": [
    "res"
   ]
  },
  {
   "cell_type": "code",
   "execution_count": null,
   "id": "36293838-5554-4d44-91a5-4676c9d8e42d",
   "metadata": {
    "tags": []
   },
   "outputs": [],
   "source": [
    "res"
   ]
  },
  {
   "cell_type": "markdown",
   "id": "0798e610-0f82-4d3d-b354-ee3ab4c59637",
   "metadata": {},
   "source": [
    "## TESTING ELSER "
   ]
  },
  {
   "cell_type": "code",
   "execution_count": 248,
   "id": "eb6bf08f-498a-4bc7-ab86-305230ba0223",
   "metadata": {
    "execution": {
     "iopub.execute_input": "2024-03-01T06:24:57.942613Z",
     "iopub.status.busy": "2024-03-01T06:24:57.941559Z",
     "iopub.status.idle": "2024-03-01T06:24:58.100387Z",
     "shell.execute_reply": "2024-03-01T06:24:58.099490Z",
     "shell.execute_reply.started": "2024-03-01T06:24:57.942572Z"
    },
    "tags": []
   },
   "outputs": [],
   "source": [
    "e = c3.Genai.Retriever.Elser.make({\n",
    "    \"url\": \"https://ef5820953fd043b98fd9568dc18fbe57.us-east-1.aws.found.io:443\",\n",
    "    \"name\": \"0113corneaguru\",\n",
    "    \"modelId\": \".elser_model_2\",\n",
    "    \"apikey\": \"X2p0SDY0MEI3RXRYbkVwbzdheFY6X1NXMFQ0WlBRRUd0RXVwaXU1MGtwQQ==\"\n",
    "}).upsert();"
   ]
  },
  {
   "cell_type": "code",
   "execution_count": 112,
   "id": "de7960b1-3686-4184-a1bc-b60890a728f2",
   "metadata": {
    "execution": {
     "iopub.execute_input": "2024-03-01T05:24:21.497027Z",
     "iopub.status.busy": "2024-03-01T05:24:21.496613Z",
     "iopub.status.idle": "2024-03-01T05:24:21.645559Z",
     "shell.execute_reply": "2024-03-01T05:24:21.644729Z",
     "shell.execute_reply.started": "2024-03-01T05:24:21.497002Z"
    },
    "tags": []
   },
   "outputs": [],
   "source": [
    "e = c3.Genai.Retriever.Elser.fetch({\"filter\": \"name == 'corneaguru_elser_240229_2331_test'\"}).objs[0]"
   ]
  },
  {
   "cell_type": "code",
   "execution_count": 228,
   "id": "2a227b18-30dc-4481-95ea-75b71cf6c7ab",
   "metadata": {
    "execution": {
     "iopub.execute_input": "2024-03-01T06:15:41.653400Z",
     "iopub.status.busy": "2024-03-01T06:15:41.652425Z",
     "iopub.status.idle": "2024-03-01T06:15:41.656694Z",
     "shell.execute_reply": "2024-03-01T06:15:41.656049Z",
     "shell.execute_reply.started": "2024-03-01T06:15:41.653361Z"
    },
    "tags": []
   },
   "outputs": [],
   "source": [
    "rawQuery = \"What is the YJ-91?\""
   ]
  },
  {
   "cell_type": "code",
   "execution_count": 249,
   "id": "d9b31c79-4db4-4a74-bd5b-38ce0bc27a3e",
   "metadata": {
    "execution": {
     "iopub.execute_input": "2024-03-01T06:25:01.990769Z",
     "iopub.status.busy": "2024-03-01T06:25:01.990312Z",
     "iopub.status.idle": "2024-03-01T06:25:02.031591Z",
     "shell.execute_reply": "2024-03-01T06:25:02.030875Z",
     "shell.execute_reply.started": "2024-03-01T06:25:01.990734Z"
    },
    "tags": []
   },
   "outputs": [
    {
     "data": {
      "text/plain": [
       "{\n",
       "  \"type\" : \"Genai.Query\",\n",
       "  \"rawQuery\" : \"What is the YJ-91?\"\n",
       "}"
      ]
     },
     "execution_count": 249,
     "metadata": {},
     "output_type": "execute_result"
    }
   ],
   "source": [
    "query = c3.Genai.Query.make({\n",
    "    \"rawQuery\": rawQuery\n",
    "})\n",
    "query"
   ]
  },
  {
   "cell_type": "code",
   "execution_count": 250,
   "id": "f0377ec0-818f-4f70-927e-d1fede111248",
   "metadata": {
    "execution": {
     "iopub.execute_input": "2024-03-01T06:25:11.208186Z",
     "iopub.status.busy": "2024-03-01T06:25:11.207731Z",
     "iopub.status.idle": "2024-03-01T06:25:11.249007Z",
     "shell.execute_reply": "2024-03-01T06:25:11.248101Z",
     "shell.execute_reply.started": "2024-03-01T06:25:11.208143Z"
    },
    "tags": []
   },
   "outputs": [
    {
     "data": {
      "text/plain": [
       "{\n",
       "  \"type\" : \"Genai.Retriever.SearchSpec\",\n",
       "  \"searchQuery\" : {\n",
       "    \"type\" : \"Genai.Query\",\n",
       "    \"rawQuery\" : \"What is the YJ-91?\"\n",
       "  }\n",
       "}"
      ]
     },
     "execution_count": 250,
     "metadata": {},
     "output_type": "execute_result"
    }
   ],
   "source": [
    "spec = c3.Genai.Retriever.SearchSpec.make({\n",
    "    \"searchQuery\": query,\n",
    "})\n",
    "spec"
   ]
  },
  {
   "cell_type": "code",
   "execution_count": 252,
   "id": "de9bce80-5a16-4776-84af-f501559ddb57",
   "metadata": {
    "execution": {
     "iopub.execute_input": "2024-03-01T06:25:37.418857Z",
     "iopub.status.busy": "2024-03-01T06:25:37.418487Z",
     "iopub.status.idle": "2024-03-01T06:25:40.179214Z",
     "shell.execute_reply": "2024-03-01T06:25:40.178271Z",
     "shell.execute_reply.started": "2024-03-01T06:25:37.418831Z"
    },
    "tags": []
   },
   "outputs": [],
   "source": [
    "response = e.similaritySearch(spec)"
   ]
  },
  {
   "cell_type": "code",
   "execution_count": 256,
   "id": "4accd552-863a-4d2c-a5ad-fe5ff7f33125",
   "metadata": {
    "execution": {
     "iopub.execute_input": "2024-03-01T06:26:40.508305Z",
     "iopub.status.busy": "2024-03-01T06:26:40.507939Z",
     "iopub.status.idle": "2024-03-01T06:26:40.513428Z",
     "shell.execute_reply": "2024-03-01T06:26:40.512768Z",
     "shell.execute_reply.started": "2024-03-01T06:26:40.508280Z"
    },
    "tags": []
   },
   "outputs": [
    {
     "data": {
      "text/plain": [
       "\"For Training Use Only\\nExported (UTC) @ 7/12/23, 1:28 AMYJ-91 Chinese Anti-Ship Missile\\nTiers:\\nDomain: Air, Aircraft Armament, Aircraft Missiles, Anti-Ship Missiles\\nProliferation: China\\nOrigin: China, People's Republic of\\nNotes\\nYJ-91 is the Chinese version of the Kh-31. YJ is short for Ying Ji (Yingji, ) meaning eagle strike. After\\npurchasing 200 Kh-31Ps from Russia, China decided to develop its own version, because the original Kh-31\\nmissile did not fully satisfy Chinese requirements. The resulting YJ-91 missile was developed by Hongdu\\nAviation Industry Corporation, the same manufacturer of the Silkworm missile. The experience gained from YJ-\\n91 also helped the engine development of another supersonic missile indigenously developed in China, YJ-\\n1\\n\""
      ]
     },
     "execution_count": 256,
     "metadata": {},
     "output_type": "execute_result"
    }
   ],
   "source": [
    "response[0].page_content"
   ]
  },
  {
   "cell_type": "code",
   "execution_count": 236,
   "id": "0d6cf978-2815-4ad2-949e-eabfef624aad",
   "metadata": {
    "execution": {
     "iopub.execute_input": "2024-03-01T06:17:20.208414Z",
     "iopub.status.busy": "2024-03-01T06:17:20.207958Z",
     "iopub.status.idle": "2024-03-01T06:17:20.217151Z",
     "shell.execute_reply": "2024-03-01T06:17:20.216255Z",
     "shell.execute_reply.started": "2024-03-01T06:17:20.208380Z"
    },
    "tags": []
   },
   "outputs": [],
   "source": [
    "def similaritySearch(this, spec):\n",
    "    # Search for documents that are similar to a given vector\n",
    "\n",
    "    import requests\n",
    "    import json\n",
    "\n",
    "    this = this.get(\"this\")\n",
    "    url = this.url\n",
    "    modelId = this.modelId\n",
    "    apikey = this.apikey\n",
    "    apikey = 'X2p0SDY0MEI3RXRYbkVwbzdheFY6X1NXMFQ0WlBRRUd0RXVwaXU1MGtwQQ=='\n",
    "    name = this.name\n",
    "    \n",
    "    import base64\n",
    "    # b = base64.b64encode('elastic:dSu9sJxt7YNm3iy9OyWCWcdr', 'utf-8') # bytes\n",
    "    \n",
    "    data = {\n",
    "        \"query\":{\n",
    "            \"text_expansion\":{\n",
    "                \"ml.tokens\":{\n",
    "                    \"model_id\":'.elser_model_2',\n",
    "                    \"model_text\": spec.searchQuery.rawQuery\n",
    "                }\n",
    "            }\n",
    "        },\n",
    "        \"size\": 5\n",
    "    }\n",
    "    headers = {'Content-Type': 'application/json', 'Authorization': 'ApiKey ' + apikey}\n",
    "    # print(url)\n",
    "    # print(name)\n",
    "    # print(json.dumps(data))\n",
    "    # print(headers)\n",
    "    # return\n",
    "    response = requests.get(url+f'/{name}'+'/_search', data=json.dumps(data), headers=headers)\n",
    "    response = response.json()\n",
    "    res = []\n",
    "    \n",
    "    print(response)\n",
    "    # return\n",
    "\n",
    "    # convert to VectorStore.SearchResult\n",
    "    for rank, hit in enumerate(response['hits']['hits'], 1):\n",
    "        sourcePassage = {'source': {'id': hit['_source']['fileId']},\n",
    "                 'intraSourceId': hit['_source']['intraSourceId'],\n",
    "                 'contentStr': hit['_source']['contentStr'],\n",
    "                 'pageNumber': int(hit['_source']['pageNumber'])}\n",
    "        metadata = {\"source_passage\":sourcePassage,\n",
    "                    \"score\": hit['_score'],\n",
    "                    'rank': rank,\n",
    "                    'source': hit['_source']['fileId'] + \"#\" + hit['_source']['intraSourceId'],\n",
    "                    'source_id': hit['_source']['fileId'],\n",
    "                    'source_type_name': 'Genai.SourceFile'}\n",
    "        tempres = c3.VectorStore.SimilaritySearchResult(page_content = hit['_source']['contentStr'],\n",
    "                                                         rank = rank,\n",
    "                                                         score = hit['_score'],\n",
    "                                                         sourceFile={\"id\": hit['_source']['fileId']},\n",
    "                                                         sourcePassage=sourcePassage,\n",
    "                                                         metadata=metadata)\n",
    "        res.append(tempres)\n",
    "\n",
    "    return res"
   ]
  },
  {
   "cell_type": "code",
   "execution_count": 235,
   "id": "c84f08b6-a3d7-4b92-b3fb-b9a95d7f5c93",
   "metadata": {
    "execution": {
     "iopub.execute_input": "2024-03-01T06:16:04.209089Z",
     "iopub.status.busy": "2024-03-01T06:16:04.207919Z",
     "iopub.status.idle": "2024-03-01T06:16:04.655928Z",
     "shell.execute_reply": "2024-03-01T06:16:04.654967Z",
     "shell.execute_reply.started": "2024-03-01T06:16:04.209053Z"
    },
    "tags": []
   },
   "outputs": [
    {
     "name": "stdout",
     "output_type": "stream",
     "text": [
      "{'took': 11, 'timed_out': False, '_shards': {'total': 1, 'successful': 1, 'skipped': 0, 'failed': 0}, 'hits': {'total': {'value': 42, 'relation': 'eq'}, 'max_score': 28.00724, 'hits': [{'_index': '0113corneaguru', '_id': 'taum-I0BbYAOcXXVslUN', '_score': 28.00724, '_ignored': ['contentStr.keyword'], '_source': {'intraSourceId': '0', 'pageNumber': 1, 'contentStr': \"For Training Use Only\\nExported (UTC) @ 7/12/23, 1:28 AMYJ-91 Chinese Anti-Ship Missile\\nTiers:\\nDomain: Air, Aircraft Armament, Aircraft Missiles, Anti-Ship Missiles\\nProliferation: China\\nOrigin: China, People's Republic of\\nNotes\\nYJ-91 is the Chinese version of the Kh-31. YJ is short for Ying Ji (Yingji, ) meaning eagle strike. After\\npurchasing 200 Kh-31Ps from Russia, China decided to develop its own version, because the original Kh-31\\nmissile did not fully satisfy Chinese requirements. The resulting YJ-91 missile was developed by Hongdu\\nAviation Industry Corporation, the same manufacturer of the Silkworm missile. The experience gained from YJ-\\n91 also helped the engine development of another supersonic missile indigenously developed in China, YJ-\\n1\\n\", 'combined_field': \"  For Training Use Only\\\\nExported (UTC) @ 7/12/23, 1:28 AMYJ-91 Chinese Anti-Ship Missile\\\\nTiers:\\\\nDomain: Air, Aircraft Armament, Aircraft Missiles, Anti-Ship Missiles\\\\nProliferation: China\\\\nOrigin: China, People's Republic of\\\\nNotes\\\\nYJ-91 is the Chinese version of the Kh-31. YJ is short for Ying Ji (Yingji, ) meaning eagle strike. After\\\\npurchasing 200 Kh-31Ps from Russia, China decided to develop its own version, because the original Kh-31\\\\nmissile did not fully satisfy Chinese requirements. The resulting YJ-91 missile was developed by Hongdu\\\\nAviation Industry Corporation, the same manufacturer of the Silkworm missile. The experience gained from YJ-\\\\n91 also helped the engine development of another supersonic missile indigenously developed in China, YJ-\\\\n1\\\\n\", 'fileId': '8e592158-bbd3-4254-9a6f-343ec2bdb31d', 'ml': {'tokens': {'armament': 0.73272896, 'rocket': 0.79680663, '##h': 1.4021863, 'ship': 1.336503, 'hmm': 0.045207884, '##i': 0.039975192, '##j': 1.8590093, '##p': 0.45004863, 'engines': 0.365765, '911': 0.1426815, 'missiles': 1.1444783, 'brand': 0.033474702, 'invented': 0.5624383, 'vietnam': 0.16824389, 'version': 0.8830136, '-': 0.50681937, 'badge': 0.39203775, '##oli': 0.31139335, 'wing': 0.34913677, 'flight': 0.2710305, '23': 0.11404433, '29': 0.070343316, 'manual': 0.10942603, 'sea': 0.31583855, '##via': 1.3290668, 'submarine': 0.60353965, 'defense': 0.321961, 'attack': 0.15099272, '##ssi': 0.49153268, 'comet': 0.23421042, '##fera': 1.0890062, 'nickname': 0.13282074, '30': 0.29852176, '31': 1.7792063, '32': 0.55245024, 'latest': 0.18074341, 'silk': 1.6989398, '33': 0.95771235, 'mine': 0.3976406, '34': 0.46883515, 'j': 0.75117445, 'launch': 0.13783863, 'k': 1.5308425, 'n': 0.9938151, 'soviet': 0.20632719, '##sonic': 1.2332352, '##ps': 0.9757115, 'armed': 0.318984, 'x': 0.2449966, 'y': 1.8697482, 'fighter': 0.03500394, 'z': 0.15359014, 'fleet': 0.11888943, 'notes': 0.79972, 'republic': 0.51237917, 'available': 0.15266733, 'bomb': 0.776754, 'developed': 0.76764166, 'specifications': 0.14301063, 'chinese': 1.5516765, 'sniper': 0.3441368, 'japanese': 0.17025816, 'apache': 0.035158865, 'shipping': 0.45051885, 'missile': 1.7760022, '##ai': 0.2723104, 'jet': 0.17147876, 'variant': 0.09123568, 'military': 0.24328429, '##tion': 0.8932806, 'develop': 0.0835633, '##worm': 1.6241033, '##31': 0.82366824, 'drone': 0.45887116, 'taiwan': 0.35229623, 'naval': 0.6756775, 'shi': 0.096435554, 'name': 0.08242533, 'training': 1.5983908, 'beijing': 0.3493811, 'nor': 1.2107325, 'weapon': 0.9729574, 'laser': 0.46608695, 'engine': 0.65663785, 'trainer': 0.69498444, 'nuclear': 0.45893896, '##du': 0.5527572, 'trident': 0.19667931, 'kris': 0.006068732, 'asia': 0.0350608, 'ying': 1.626577, 'npr': 0.60411847, 'china': 1.4448441, 'short': 0.018812565, '86': 0.06505857, '87': 0.03082252, 'worms': 1.2405872, 'practice': 0.065184556, 'ya': 0.67674154, 'dragon': 0.034412567, 'type': 0.4065293, 'eagles': 0.55558205, 'russia': 0.5954629, '##notes': 1.2105863, '90': 0.030978324, 'vessel': 0.028808748, '91': 1.8836759, '92': 0.8198582, 'typhoon': 0.46183643, 'model': 0.62682617, '93': 0.61303407, '##dom': 0.97046626, 'torpedo': 0.0414338, 'worm': 1.1047143, 'russian': 0.7689885, 'is': 0.047478866, 'hong': 0.7437166, 'ships': 0.39734188, '##port': 0.6955605, 'weapons': 0.8015792, 'ji': 1.3159539, 'gun': 0.47651395, 'aim': 0.13909921, 'falcon': 0.046420384, 'range': 0.0035829651, 'air': 0.49044052, 'aero': 0.038968243, 'anti': 1.4266176, 'manufacturer': 0.36167216, 'native': 0.39287445, '1992': 0.15861134, '1991': 1.2421256, 'kg': 0.005834809, 'manufactured': 0.1520633, 'nato': 0.1474715, 'ki': 0.23117916, '##iers': 0.8561013, 'strike': 1.3620906, 'ku': 0.24887359, 'ballistic': 0.26981768, 'prototype': 0.7302801, '##ig': 0.9158903, 'boat': 0.44662732, 'radar': 0.25572067, '300': 0.034511384, 'airbus': 0.31907758, 'fake': 0.054111853, 'arrow': 0.12847684, '##ja': 0.34661615, 'own': 0.017107889, '##note': 0.7266204, '##ier': 0.043850053, 'pakistan': 0.3029921, 'aviation': 0.543131, 'rockets': 0.12302961, 'while': 0.45752665, '##ji': 1.0027912, 'commander': 0.2982217, 'helicopters': 0.24351978, '##in': 0.7282952, 'indigenous': 0.7719749, 'insect': 0.39852118, 'only': 0.32334504, 'development': 0.56281126, 'mp': 0.14115188, 'moth': 0.84649897, 'utc': 0.51865304, 'army': 0.47051767, '200': 0.79903716, 'na': 0.66169596, 'alan': 0.27664393, 'eagle': 1.7528253, 'cruise': 0.40167487, '##js': 0.054433767, 'hawk': 0.2972919, 'arsenal': 0.4650259, 'note': 0.81633615, 'np': 0.385443, 'nt': 0.5737133, 'ny': 1.581955, 'amy': 1.9638518, '##1': 1.0015113, 'along': 0.0395638, 'design': 0.19443235, '##9': 1.0799453, '##lib': 0.16993365, 'savage': 0.046790626, 'designed': 0.01409998, 'ammunition': 0.6440056, '__': 0.02436817, 'factory': 0.42585394, 'requirements': 0.5443873, 'built': 0.2940031, 'aircraft': 0.82441163, 'requirement': 0.16100714, 'super': 0.14511974, 'york': 0.75886947, 'threat': 0.09891887}, 'model_id': '.elser_model_2'}}}, {'_index': '0113corneaguru', '_id': '6jum-I0B7EtXnEpos6_Y', '_score': 23.054996, '_ignored': ['contentStr.keyword'], '_source': {'intraSourceId': '2', 'pageNumber': 2, 'contentStr': '-ship missile was reduced by more than a quarter to 50 km. Like\\nthe anti-radiation version, it is reported that many planned upgrades are in development. An application for\\nresearch grants to develop a submerged launched version of YJ-91 anti-ship missile once appeared on\\nChinese websites on the Internet, indicating China is attempting to develop a version for its submarine fleet.\\nVariants\\nYJ-91 Anti-Radiation Missile: The anti-radiation version of the YJ-91 missile was developed from the Kh-31P,\\nwhich uses a wide array of seekers to cover the entire radar frequency band. The Chinese were not satisfied\\nwith the requirement to include multiple seekers and preferred to have a single seeker capable of covering\\nmultiple frequency bands, like the AGM-88 HARM. However, such ambitions proved to be too great for the\\nChinese microelectronics industry. They could not achieve the goal in a single step within the required timeline\\noriginally specified by the Chinese military. Instead, a two-step approach was implemented: The completion of\\nthe development of a single seeker covering multiple frequency bands was pushed back, while a stopgap\\nmeasure was adopted in the meantime. The Kh-31P was modified so that the seekers could be rapidly\\nchanged in the forward airstrips (providing the specialized tooling is available), so that missile would not need\\nto be sent back to depots or factories to perform such operation. The resulting anti-radiation version of YJ-91\\nmissile has a slightly increased the range to 120 km in comparison to 110 km of the original Kh-31P. In addition\\n2\\n', 'combined_field': '  -ship missile was reduced by more than a quarter to 50 km. Like\\\\nthe anti-radiation version, it is reported that many planned upgrades are in development. An application for\\\\nresearch grants to develop a submerged launched version of YJ-91 anti-ship missile once appeared on\\\\nChinese websites on the Internet, indicating China is attempting to develop a version for its submarine fleet.\\\\nVariants\\\\nYJ-91 Anti-Radiation Missile: The anti-radiation version of the YJ-91 missile was developed from the Kh-31P,\\\\nwhich uses a wide array of seekers to cover the entire radar frequency band. The Chinese were not satisfied\\\\nwith the requirement to include multiple seekers and preferred to have a single seeker capable of covering\\\\nmultiple frequency bands, like the AGM-88 HARM. However, such ambitions proved to be too great for the\\\\nChinese microelectronics industry. They could not achieve the goal in a single step within the required timeline\\\\noriginally specified by the Chinese military. Instead, a two-step approach was implemented: The completion of\\\\nthe development of a single seeker covering multiple frequency bands was pushed back, while a stopgap\\\\nmeasure was adopted in the meantime. The Kh-31P was modified so that the seekers could be rapidly\\\\nchanged in the forward airstrips (providing the specialized tooling is available), so that missile would not need\\\\nto be sent back to depots or factories to perform such operation. The resulting anti-radiation version of YJ-91\\\\nmissile has a slightly increased the range to 120 km in comparison to 110 km of the original Kh-31P. In addition\\\\n2\\\\n', 'fileId': '8e592158-bbd3-4254-9a6f-343ec2bdb31d', 'ml': {'tokens': {'siren': 0.033771172, 'radioactive': 0.20904905, 'rocket': 0.68990976, '##h': 1.5445663, '##ian': 0.67690235, 'ship': 1.4375323, 'hmm': 0.028537104, '##j': 1.5637686, 'infrared': 0.05390088, 'echo': 0.017452596, 'pollution': 0.11643851, '##m': 0.4437498, '##o': 0.47343433, '110': 1.0545261, '##p': 1.0303916, 'cover': 0.4703245, 'twins': 0.068118386, 'introduced': 0.06992534, '911': 0.4625657, 'band': 0.7512518, 'missiles': 1.1774676, 'invented': 0.21351743, 'proposal': 0.2922648, 'upgrade': 1.1162055, 'ag': 1.1267292, 'mile': 0.52929974, 'vietnam': 0.50132036, 'ray': 0.3680832, 'version': 0.9047497, '-': 0.17869025, 'each': 0.15098052, '120': 1.1764845, 'ar': 0.04161769, 'size': 0.8423146, 'rf': 0.40135852, 'stop': 0.307801, 'underwater': 1.0989106, 'wing': 0.24957936, 'flight': 0.3641295, 'sub': 0.13981168, 'increased': 0.20799209, 'northwest': 0.26262665, 'industry': 0.2791959, 'two': 0.009080423, 'sea': 0.30294615, 'marine': 0.12842306, '130': 0.09697893, 'extended': 0.015507238, 'tsunami': 0.101287335, 'submarine': 1.2554696, 'helicopter': 0.09532223, 'defense': 0.27764452, 'attack': 0.0654414, '##ssi': 0.9780833, 'comet': 0.30683184, 'mir': 0.007056316, 'particle': 0.138377, 'acquisition': 0.050569408, '31': 1.546762, 'sami': 0.35184076, '32': 0.320447, 'latest': 0.036144245, '33': 0.6316075, 'mine': 0.4844741, '34': 0.14563844, 'website': 0.0071937353, 'mini': 0.17278372, 'wingspan': 0.029554376, 'seekers': 1.3840634, 'launch': 0.68032897, 'j': 0.080707274, 'drilling': 0.0555765, 'k': 1.3022157, 'team': 0.07899638, 'ta': 0.036162414, 'n': 0.42789567, 'soviet': 0.32881907, 'single': 0.24619235, 'tumor': 0.13451739, 'w': 0.08947079, 'x': 0.4200109, 'y': 1.6114384, 'timeline': 0.22182117, 'maximum': 0.056924596, 'fighter': 0.0014056811, 'z': 0.09174122, 'operation': 0.34302172, '##ar': 1.0609517, 'fleet': 0.9845882, '##as': 0.4866186, 'nme': 0.8333764, 'project': 0.34272084, 'developing': 0.23599568, 'nmi': 0.80568385, 'bomb': 0.7992173, 'developed': 0.747472, '150': 0.247149, 'down': 0.08217501, 'frequency': 1.0982236, '##ron': 0.66645825, 'chinese': 1.3271848, 'sniper': 0.2841338, 'japanese': 0.14759319, 'shipping': 0.42345792, 'missile': 1.785566, 'jet': 0.11074212, 'military': 0.53144795, 'implement': 0.12941669, '50': 0.69570273, 'disadvantage': 0.037381098, '##se': 1.3745391, 'develop': 0.36794773, 'engineering': 0.30050737, 'gps': 0.093051344, 'modification': 0.5541735, '##31': 0.69090444, 'decrease': 0.38023263, 'drone': 0.34747267, '1942': 0.0036605275, 'taiwan': 0.44339886, 'korea': 0.098562464, 'channels': 0.037867423, 'naval': 0.6460892, 'distance': 0.7536046, 'harm': 0.74481505, 'beijing': 0.38652816, 'india': 0.1378085, 'peru': 0.037999067, 'submarines': 0.5168349, 'wave': 0.37199792, 'speed': 0.076420516, 'miles': 0.87877077, 'weapon': 0.9035461, 'laser': 0.8085502, '##ch': 0.7788902, 'ranged': 0.17250858, 'scope': 0.2959733, 'gap': 0.025739571, 'seeker': 1.3693835, 'satellite': 0.2159478, '##hic': 1.0960524, 'nuclear': 0.67126125, 'grants': 0.38380116, 'trident': 0.37684548, 'wide': 0.6560941, 'multiple': 0.9927288, 'length': 0.91223323, '##ese': 1.4175333, 'solo': 0.012548068, 'technology': 0.27635217, 'target': 0.16663322, 'ranging': 0.118864976, '2019': 0.0016808681, 'china': 1.4446563, 'micro': 0.6583785, '##ure': 0.34893253, 'step': 0.7398254, 'cancer': 0.3927332, '82': 0.28381017, 'grant': 0.8444337, '87': 0.22374657, '88': 1.181796, 'yard': 0.2541388, '##hang': 0.8988255, 'ya': 0.41039282, 'variants': 0.11624071, 'type': 0.07264091, 'upgrades': 0.8448246, 'approach': 0.039917808, '##hine': 1.4377753, 'multi': 0.53844684, 'loss': 0.16507089, 'upgraded': 0.8312033, 'russia': 0.5899296, 'vessel': 0.4495651, '90': 0.31990537, '91': 1.7738515, 'typhoon': 0.6855656, '92': 0.39435226, '93': 0.49374464, 'model': 0.19420217, 'obstacle': 0.034006715, 'reduce': 0.97424966, 'torpedo': 0.16006067, 'phase': 0.093760036, 'russian': 0.6699059, 'iran': 0.4958972, 'distant': 0.12135557, 'reduced': 0.99151653, '##ga': 1.1825014, 'ships': 0.63896, 'spectrum': 0.49131742, 'versions': 0.053995192, '##var': 1.405619, 'weapons': 0.55842423, 'gun': 0.23794962, 'aim': 0.41731703, 'against': 0.20730674, 'range': 1.1735308, 'planned': 0.69407946, 'bands': 0.7829016, '##he': 0.90729076, 'anti': 1.482916, '1992': 0.19723468, '1991': 1.1640862, '##trip': 0.5462983, 'ki': 0.21577345, 'deployment': 0.15349372, 'km': 1.0568377, 'funding': 0.5698442, 'forward': 0.14720237, 'ku': 0.026682973, 'ballistic': 0.08499642, 'prototype': 0.74728763, 'boat': 0.6413721, 'singapore': 0.09676869, 'radar': 1.328155, 'airbus': 0.22904006, '##ye': 0.08740636, 'indian': 0.053825423, 'dimensions': 0.29200745, 'rotor': 0.07023498, 'beam': 0.18536533, 'depot': 0.7767416, 'navy': 0.23788348, 'precision': 0.051149495, 'craft': 0.08566445, 'pakistan': 0.5051715, 'while': 0.38378882, 'launched': 0.73569584, 'radio': 0.30454758, 'helicopters': 0.54075503, 'commander': 0.094118915, '##ip': 1.0435791, 'limit': 0.29843545, 'modified': 0.39523423, '##ir': 0.15689132, 'tower': 0.15642951, 'development': 0.8272069, '##ult': 0.9039663, 'steps': 0.70584947, 'water': 0.025658939, 'expansion': 0.11147188, 'army': 0.39495102, 'na': 0.258119, 'proposed': 0.41621944, 'nc': 0.87269235, 'cruise': 0.09648805, 'ni': 0.120187536, 'rays': 0.13020945, 'hawk': 0.364985, 'nm': 0.81884885, 'arsenal': 0.21027529, '##ele': 0.8003097, 'specialized': 0.32499814, '##ith': 0.2654415, 'nr': 1.1728199, 'nt': 1.1625079, '##ics': 0.35175598, '##le': 0.7615669, 'nw': 0.122622855, 'factories': 0.10922961, 'combat': 0.064846754, 'ny': 1.185938, 'sonar': 0.65153265, 'asteroid': 0.15069306, 'meters': 0.20661907, '##2': 0.15148604, 'total': 0.079831004, 'award': 0.14605077, 'array': 0.7366791, 'floating': 0.4545142, 'design': 0.27211136, 'construction': 0.04004918, 'camouflage': 0.03433908, 'microwave': 0.19276975, 'ammunition': 0.041841336, 'factory': 0.36029083, 'submerged': 1.2710623, 'requirements': 0.28779724, 'built': 0.2662293, 'limited': 0.09937164, 'aircraft': 0.14108272, 'requirement': 0.5493916, 'increase': 0.5049827, 'probe': 0.01066886, '100': 0.305096, 'application': 0.6322936, 'radiation': 1.3846645, 'build': 0.22604737, 'kilometers': 0.65155095, 'treaty': 0.20920195, '109': 0.3456757, 'wireless': 0.19041604, 'threat': 0.37115967, 'reduction': 0.7195347, 'strategy': 0.18994491, 'frequencies': 0.5006408, 'collapse': 0.25612834}, 'model_id': '.elser_model_2'}}}, {'_index': '0113corneaguru', '_id': '6zum-I0B7EtXnEpota-p', '_score': 22.871983, '_ignored': ['contentStr.keyword'], '_source': {'intraSourceId': '4', 'pageNumber': 3, 'contentStr': '-dive like that the Boeing Harpoon. However, such sea-skimming capability\\ncomes at the expense of maximum range: in comparison to the original 70 km range of the Kh-31A, the\\nmaximum range of YJ-91 anti-ship missile was reduced by more than a quarter to 50 km. Like the anti-radiation\\nversion, it is reported that many planned upgrades are in development. An application for research grants to\\ndevelop a submerged launched version of YJ-91 anti-ship missile once appeared on Chinese websites on the\\nInternet, indicating China is attempting to develop a version for its submarine fleet.\\nSystem\\n:\\n:\\n:\\nYJ-91 Anti-Radiation Missile\\nName: YJ-91\\n3\\n', 'combined_field': '  -dive like that the Boeing Harpoon. However, such sea-skimming capability\\\\ncomes at the expense of maximum range: in comparison to the original 70 km range of the Kh-31A, the\\\\nmaximum range of YJ-91 anti-ship missile was reduced by more than a quarter to 50 km. Like the anti-radiation\\\\nversion, it is reported that many planned upgrades are in development. An application for research grants to\\\\ndevelop a submerged launched version of YJ-91 anti-ship missile once appeared on Chinese websites on the\\\\nInternet, indicating China is attempting to develop a version for its submarine fleet.\\\\nSystem\\\\n:\\\\n:\\\\n:\\\\nYJ-91 Anti-Radiation Missile\\\\nName: YJ-91\\\\n3\\\\n', 'fileId': '8e592158-bbd3-4254-9a6f-343ec2bdb31d', 'ml': {'tokens': {'##a': 0.5121084, 'vladimir': 0.012928593, 'optimal': 0.79728013, 'radioactive': 0.25658092, 'rocket': 0.6288518, '##h': 1.1708179, 'ship': 1.2131252, '##j': 1.5980179, 'dev': 0.39212456, '##cel': 0.08250756, '##ome': 1.4727336, '911': 0.42724115, 'missiles': 1.1249521, 'proposal': 0.040927123, 'upgrade': 1.0786492, 'mile': 0.5926083, 'vietnam': 0.33293986, 'ray': 0.09440933, 'version': 0.56364113, '-': 0.22899114, 'size': 0.5511375, 'underwater': 1.0244229, 'boost': 0.090437315, 'wing': 0.17263137, 'flight': 0.38426414, 'sub': 0.25966427, '##dev': 1.1635736, 'sea': 1.2840192, 'marine': 0.20523813, 'capability': 0.6978124, 'submarine': 1.34509, 'helicopter': 0.186489, 'defense': 0.48041663, 'attack': 0.18477687, '\\\\': 0.124524884, '31': 1.5822489, 'latest': 0.00033897377, '33': 0.7854707, 'mine': 0.5779203, 'sweep': 0.46349627, '##version': 1.3982015, '34': 0.2579057, 'mini': 0.018305177, 'launch': 0.6405062, 'j': 0.45395085, 'drilling': 0.03440347, 'k': 1.2541666, 'n': 1.1782424, 'soviet': 0.40262508, 'plunge': 0.040341992, 'fish': 0.23587911, 'x': 0.5084995, 'y': 1.8273991, 'maximum': 0.9607679, 'z': 0.22982275, 'fleet': 0.93405235, '##mming': 1.6863264, '##ax': 1.1937078, 'available': 0.09084975, 'developing': 0.1614502, 'project': 0.07345881, 'dip': 0.016156932, 'bomb': 0.64407516, 'developed': 0.5198892, 'research': 0.52789366, 'chinese': 1.1365768, 'sniper': 0.42346844, 'japanese': 0.067453235, 'shipping': 0.30803266, 'duck': 0.02734772, 'missile': 1.605529, 'jet': 0.33491397, 'military': 0.2345551, '50': 0.35943115, 'develop': 0.13367745, 'boeing': 1.4679427, 'modification': 0.27235153, '##31': 0.7604122, 'drone': 0.2511808, 'decrease': 0.14282474, 'taiwan': 0.13941242, 'ocean': 0.45172176, 'naval': 0.7885149, 'distance': 0.6841316, '##imum': 0.5970321, 'ranges': 0.40519026, 'harp': 1.6821796, 'capable': 0.10498606, 'beijing': 0.3012578, 'peru': 0.017709348, 'submarines': 0.6435411, 'wave': 0.10233389, 'miles': 0.8948055, 'weapon': 0.8737734, 'laser': 0.65293956, 'ranged': 0.59883475, 'scope': 0.5043992, '70': 1.5233011, '71': 0.15319654, '737': 0.4467417, 'nuclear': 0.774367, 'trident': 0.39012784, 'capabilities': 0.26563695, 'length': 0.67129517, 'technology': 0.25150168, 'target': 0.12271048, 'ranging': 0.109622724, 'china': 1.3298234, 'cancer': 0.14262858, '82': 0.086761355, 'grant': 0.17551208, '##nte': 1.2187288, 'yard': 0.36686525, 'reach': 0.2173553, 'ya': 0.64202756, 'type': 0.14836623, 'upgrades': 0.8163407, 'ski': 1.5189762, 'diving': 1.2047597, 'upgraded': 0.83919257, 'russia': 0.71675247, '90': 0.403343, 'vessel': 0.31621295, '91': 1.8039868, '##em': 0.3475247, 'typhoon': 0.48709363, '92': 0.3409584, '93': 0.4168898, 'model': 0.079974405, 'reduce': 0.5513104, 'torpedo': 0.41657546, 'similar': 0.05371878, 'russian': 0.77582353, 'mph': 0.07499097, 'iran': 0.5122676, 'reduced': 0.58569586, 'ships': 0.43528998, 'spectrum': 0.06754895, 'weapons': 0.5488418, 'gun': 0.21301852, 'aim': 0.17563349, 'falcon': 0.2839073, 'against': 0.17478307, 'range': 1.4903444, 'planned': 0.4920914, 'anti': 1.4987761, 'capacity': 0.28031427, '1991': 1.1426733, 'ability': 0.63097435, 'ki': 0.19590853, 'km': 0.9505684, 'funding': 0.26415205, 'max': 0.28460428, 'ku': 0.25178698, 'ballistic': 0.31544992, '##ming': 0.5456108, 'prototype': 0.6487004, 'boat': 0.75800467, 'radar': 0.7230945, 'airbus': 0.70487297, 'navy': 0.32718584, 'precision': 0.3156879, 'craft': 0.3763384, 'pakistan': 0.42564365, 'launched': 0.67110497, 'radio': 0.005423475, 'helicopters': 0.32998514, 'commander': 0.0022578957, 'divers': 0.74238795, '##rnet': 0.76428294, 'tower': 0.15124874, 'development': 0.64159036, 'ideal': 0.29253218, 'comparison': 0.1501148, 'like': 0.09637396, 'equipment': 0.07468789, '##ging': 0.18018387, 'water': 0.16603969, 'army': 0.09316723, 'proposed': 0.35714915, 'nc': 1.0634395, '##elo': 1.3013008, 'cruise': 0.40710804, 'ni': 0.8162113, 'hawk': 0.43717483, 'nm': 1.1538545, 'arsenal': 0.34476113, 'shrimp': 0.27250212, '##yst': 1.1361073, 'ns': 0.59028774, 'stalking': 0.20316525, 'combat': 0.20754758, 'ny': 1.3623111, 'sonar': 0.5688334, 'bow': 0.09805702, 'meters': 0.17084427, '##oon': 1.2213004, '##3': 0.4393557, 'array': 0.2775914, 'floating': 0.2902416, 'design': 0.09695026, 'dive': 1.5932815, 'designed': 0.13385694, 'ammunition': 0.19311397, 'submerged': 1.252124, 'built': 0.14977609, 'fishing': 0.40527007, 'aircraft': 0.18825963, 'zoom': 0.27510017, 'application': 0.06265098, 'radiation': 1.4041473, 'build': 0.19611648, 'kilometers': 0.5094036, 'york': 0.23359574, 'threat': 0.34884793, 'reduction': 0.17734796, 'strategy': 0.12631834}, 'model_id': '.elser_model_2'}}}, {'_index': '0113corneaguru', '_id': 'tqum-I0BbYAOcXXVslX2', '_score': 22.608194, '_ignored': ['contentStr.keyword'], '_source': {'intraSourceId': '1', 'pageNumber': 2, 'contentStr': 'For Training Use Only\\nExported (UTC) @ 7/12/23, 1:28 AM12, which is sometimes confused by non-Chinese sources with the YJ-91, as both share the same origin for\\ntheir propulsion systems. YJ-91 Anti-Ship Missile The Chinese have also developed an anti-ship version of the\\nYJ-91 missile. However, this version is an indigenous development of the Chinese from the Kh-31P anti-\\nradiation missile, and not from the Kh-31A anti-ship missile. China did not order any of the Kh-31A. The\\nChinese felt that the original Kh-31A could not fully satisfy their requirements, because the high-low trajectory\\nof the missile meant early detection, thus it is prone to interception. In contrast, the low-low trajectory usually\\nadopted by subsonic anti-ship missiles better uses the supersonic speed of Kh-31A. Such a trajectory shortens\\nthe detection range and the high-speed reduces the target’s reaction time, once the missile is detected. As a\\nresult, China did not order any Kh-31A anti-ship missiles. The resulting anti-ship version of the YJ-91 is\\ncapable of sea-skimming. Its cruising altitude is no more than 20 metre above sea level. At the terminal attack\\nstage (usually after the active radar seeker of the missile is turned on), the missile drops to 7 metre above sea\\nlevel. This attack altitude can be further reduced to just 1.2 metre above sea level, when the sea state allows.\\nAlternatively, the missile can be programmed to popup-and-dive like that the Boeing Harpoon. However, such\\nsea-skimming capability comes at the expense of maximum range: in comparison to the original 70 km range of\\nthe Kh-31A, the maximum range of YJ-91 anti-ship missile was reduced by more than a quarter to 50 km. Like\\nthe anti-radiation version, it is reported that many planned upgrades are in development. An application for\\nresearch grants to develop a submerged launched version of YJ-91 anti-ship missile once appeared on\\nChinese websites on the Internet, indicating China is attempting to develop a version for its submarine fleet.\\nVariants\\nYJ-91 Anti-Radiation Missile: The anti-radiation version of the', 'combined_field': '  For Training Use Only\\\\nExported (UTC) @ 7/12/23, 1:28 AM12, which is sometimes confused by non-Chinese sources with the YJ-91, as both share the same origin for\\\\ntheir propulsion systems. YJ-91 Anti-Ship Missile The Chinese have also developed an anti-ship version of the\\\\nYJ-91 missile. However, this version is an indigenous development of the Chinese from the Kh-31P anti-\\\\nradiation missile, and not from the Kh-31A anti-ship missile. China did not order any of the Kh-31A. The\\\\nChinese felt that the original Kh-31A could not fully satisfy their requirements, because the high-low trajectory\\\\nof the missile meant early detection, thus it is prone to interception. In contrast, the low-low trajectory usually\\\\nadopted by subsonic anti-ship missiles better uses the supersonic speed of Kh-31A. Such a trajectory shortens\\\\nthe detection range and the high-speed reduces the target’s reaction time, once the missile is detected. As a\\\\nresult, China did not order any Kh-31A anti-ship missiles. The resulting anti-ship version of the YJ-91 is\\\\ncapable of sea-skimming. Its cruising altitude is no more than 20 metre above sea level. At the terminal attack\\\\nstage (usually after the active radar seeker of the missile is turned on), the missile drops to 7 metre above sea\\\\nlevel. This attack altitude can be further reduced to just 1.2 metre above sea level, when the sea state allows.\\\\nAlternatively, the missile can be programmed to popup-and-dive like that the Boeing Harpoon. However, such\\\\nsea-skimming capability comes at the expense of maximum range: in comparison to the original 70 km range of\\\\nthe Kh-31A, the maximum range of YJ-91 anti-ship missile was reduced by more than a quarter to 50 km. Like\\\\nthe anti-radiation version, it is reported that many planned upgrades are in development. An application for\\\\nresearch grants to develop a submerged launched version of YJ-91 anti-ship missile once appeared on\\\\nChinese websites on the Internet, indicating China is attempting to develop a version for its submarine fleet.\\\\nVariants\\\\nYJ-91 Anti-Radiation Missile: The anti-radiation version of the', 'fileId': '8e592158-bbd3-4254-9a6f-343ec2bdb31d', 'ml': {'tokens': {'##a': 0.8312227, '##f': 0.7632689, 'rocket': 0.7391744, 'tug': 0.012558545, '##h': 1.4539031, 'ship': 1.4773189, 'hmm': 0.09572821, '##j': 1.6536826, 'echo': 0.07049353, '##l': 0.41562825, '##m': 0.09114906, '##p': 0.10652364, 'above': 0.54255974, '911': 0.12620255, 'missiles': 1.1622967, 'invented': 0.3488174, 'height': 0.71028763, 'nova': 0.052884456, 'upgrade': 0.64551896, 'mile': 0.18189673, 'vietnam': 0.3402571, 'ak': 0.10905475, 'version': 0.883462, '-': 0.3667754, 'badge': 0.020775678, 'size': 0.15799654, 'underwater': 0.691997, 'difference': 0.12172253, 'wing': 0.18486635, '20': 0.07086319, 'flight': 0.54099137, 'sub': 0.29024264, 'seizure': 0.314419, 'ordering': 0.21489851, '##apa': 0.7458906, 'sea': 1.1957923, 'marine': 0.19133992, 'pop': 0.97311085, 'submarine': 1.0308204, 'helicopter': 0.06943101, 'defense': 0.25906137, 'attack': 0.75199413, 'blocking': 0.08024871, '31': 1.5641586, '32': 0.33052552, 'latest': 0.039657872, '33': 0.51169646, 'mine': 0.3416145, 'sweep': 0.23110811, 'detection': 0.9071464, 'reaction': 0.2242552, 'launch': 0.554791, 'j': 0.17862375, 'k': 1.2715747, 'cruising': 0.82250094, 'm': 0.08471246, 'soviet': 0.057016596, '##sonic': 1.2121823, 'interception': 1.2791829, 'x': 0.34559646, 'y': 1.5607977, 'maximum': 0.6935285, 'z': 0.090247594, 'inch': 0.0060442043, 'fleet': 0.6843426, '##ar': 0.42800888, '##mming': 1.4753374, 'available': 0.16003284, 'developing': 0.0022928636, '##eve': 0.6295305, 'developed': 0.6898212, 'bomb': 0.6818104, 'chinese': 1.4449255, 'sniper': 0.42133167, 'shipping': 0.5942461, 'missile': 1.7194842, 'jet': 0.22041883, 'military': 0.30452025, 'up': 0.3997813, 'disadvantage': 0.12877768, '##se': 1.0290065, 'this': 0.0036345157, '##tion': 0.98984164, 'develop': 0.33459932, 'boeing': 1.1940415, 'drone': 0.46740925, '##31': 0.24237856, 'taiwan': 0.42423293, 'ocean': 0.013440714, 'naval': 0.6657394, 'port': 0.2139513, 'sailing': 0.6751823, 'confusion': 0.5029668, 'drop': 0.43187743, 'distance': 0.2920168, 'harp': 1.3015317, 'origin': 0.80079126, 'detect': 0.5277594, 'training': 1.6214474, 'beijing': 0.24502721, 'india': 0.12062497, 'peru': 0.014540658, 'submarines': 0.22773989, 'speed': 0.49511105, 'miles': 0.34223443, 'weapon': 0.9716942, 'laser': 0.44625932, 'trainer': 0.7655295, 'scope': 0.27047998, '70': 0.61095876, 'seeker': 0.25157428, '737': 0.3311098, 'nuclear': 0.25916725, 'trident': 0.41486448, 'length': 0.48850417, '##ese': 0.39017674, '##up': 1.0552834, 'technology': 0.08846131, '##ea': 0.8869476, 'trajectory': 0.9546028, 'interceptions': 0.38764125, 'target': 0.41496012, '2019': 0.053402178, 'china': 1.4978715, 'detected': 0.17228042, '82': 0.09367429, 'yard': 0.12393751, 'practice': 0.09468134, 'ya': 0.24995889, 'dragon': 0.23350231, 'type': 0.34045124, 'upgrades': 0.38791522, '##adia': 1.313397, '##hine': 1.308421, 'ski': 1.2886634, 'nad': 0.40122733, 'diving': 0.48043293, 'upgraded': 0.46181053, 'russia': 0.47042876, 'vessel': 0.501607, '90': 0.22057162, '91': 1.906071, 'typhoon': 0.7109226, '92': 0.46115556, '93': 0.42145222, 'model': 0.38114464, 'obstacle': 0.161191, '##es': 0.48836336, 'order': 0.74782544, 'torpedo': 0.22129305, 'reduce': 0.07520728, 'russian': 0.64254653, 'iran': 0.32785064, 'propulsion': 1.0600771, 'reduced': 0.05718605, 'ships': 0.5338719, 'intercept': 0.7550053, 'programmed': 0.73129165, '##port': 0.07119074, 'weapons': 0.6952659, 'gun': 0.35968086, 'assault': 0.10227126, 'aim': 0.31520483, 'drones': 0.068008356, 'onboard': 0.1826018, 'range': 1.0917413, '##lter': 0.64267814, '##he': 0.7938868, 'anti': 1.566609, '##hei': 1.2666978, 'frigate': 0.1393502, 'low': 1.0889535, 'native': 0.25518227, '1991': 1.1600771, 'ke': 0.027371498, 'confusing': 0.1887288, 'ability': 0.10496684, 'ki': 0.17503206, 'deployment': 0.08363863, 'km': 0.51884663, 'ku': 0.084223956, 'ballistic': 0.2415945, 'prototype': 0.6490862, 'boat': 0.68829453, 'singapore': 0.116086386, '##hi': 0.063465446, 'radar': 0.8230915, 'airbus': 0.27685192, 'projectile': 0.04472204, 'indian': 0.11088777, 'navy': 0.3114756, 'precision': 0.06199428, 'pakistan': 0.5595305, 'while': 0.14365424, 'launched': 0.5850195, 'intercepted': 0.36014348, 'confused': 0.5070516, 'high': 0.51524013, 'helicopters': 0.4150217, 'commander': 0.15286082, 'uss': 0.09809171, 'indigenous': 0.61531836, 'only': 0.023097286, 'tower': 0.0558834, 'development': 0.6840002, '##ult': 0.7567491, 'utc': 0.17295691, 'below': 0.11190515, 'level': 0.094599135, 'meter': 0.28519645, 'army': 0.38651237, 'na': 0.40489537, 'nc': 0.5995985, '##tage': 0.76449823, 'cruise': 0.9403584, 'eagle': 0.06559101, 'thrust': 0.30823308, 'hawk': 0.22771682, 'nl': 0.3959414, 'arsenal': 0.38837242, 'altitude': 1.2718676, 'no': 0.15734753, 'shrimp': 0.13907659, 'nr': 0.965684, 'ns': 0.32039058, 'nt': 0.9684519, 'combat': 0.12911446, 'ny': 1.347516, 'sonar': 0.35282972, 'meters': 0.45656085, '##oon': 0.96756184, 'floating': 0.3687091, 'design': 0.10099428, 'dive': 0.86667943, 'direction': 0.19746788, 'elevation': 0.69746953, 'ammunition': 0.17987242, 'submerged': 0.90506136, 'requirements': 0.48942766, 'built': 0.29887795, 'aircraft': 0.28122336, 'fishing': 0.07787648, 'zoom': 0.07412009, 'terminal': 1.3075958, 'requirement': 0.22523335, 'velocity': 0.18834475, 'super': 0.16498782, 'radiation': 0.5636393, 'build': 0.0011955503, 'york': 0.30529404, 'treaty': 0.16530737, 'threat': 0.3183847}, 'is_truncated': True, 'model_id': '.elser_model_2'}}}, {'_index': '0113corneaguru', '_id': 't6um-I0BbYAOcXXVtFXG', '_score': 21.000053, '_ignored': ['contentStr.keyword'], '_source': {'intraSourceId': '3', 'pageNumber': 3, 'contentStr': 'For Training Use Only\\nExported (UTC) @ 7/12/23, 1:28 AMto a seeker that covers multiple frequency bands, additional measures to upgrade the missile are in\\ndevelopment, such as, an open software architecture. Additional measures reportedly include prioritizing\\nthreats, which could be uploaded to the onboard computer from the ground or by the pilots while in flight.\\nThreats could then be updated in real time. The multi-band seeker is of higher priority.\\nYJ-91 Anti-Ship Missile: The Chinese have also developed an anti-ship version of the YJ-91 missile.\\nHowever, this version is an indigenous development of the Chinese from the Kh-31P anti-radiation missile, and\\nnot from the Kh-31A anti-ship missile. China did not order any of the Kh-31A. The Chinese felt that the original\\nKh-31A could not fully satisfy their requirements, because the high-low trajectory of the missile meant early\\ndetection, thus it is prone to interception. In contrast, the low-low trajectory usually adopted by subsonic anti-\\nship missiles better uses the supersonic speed of Kh-31A. Such a trajectory shortens the detection range and\\nthe high-speed reduces the target’s reaction time, once the missile is detected. As a result, China did not order\\nany Kh-31A anti-ship missiles. The resulting anti-ship version of the YJ-91 is capable of sea-skimming. Its\\ncruising altitude is no more than 20 metre above sea level. At the terminal attack stage (usually after the active\\nradar seeker of the missile is turned on), the missile drops to 7 metre above sea level. This attack altitude can\\nbe further reduced to just 1.2 metre above sea level, when the sea state allows. Alternatively, the missile can\\nbe programmed to popup-and-dive like that the Boeing Harpoon. However, such sea-skimming capability\\ncomes at the expense of maximum range: in comparison to the original 70 km range of the Kh-31A, the\\nmaximum range of YJ-91 anti-ship missile was reduced by more than a quarter to 50 km. Like the anti-radiation\\nversion, it is reported that many planned upgrades are in development. An application for research grants to\\ndevelop a submerged launched version of Y', 'combined_field': '  For Training Use Only\\\\nExported (UTC) @ 7/12/23, 1:28 AMto a seeker that covers multiple frequency bands, additional measures to upgrade the missile are in\\\\ndevelopment, such as, an open software architecture. Additional measures reportedly include prioritizing\\\\nthreats, which could be uploaded to the onboard computer from the ground or by the pilots while in flight.\\\\nThreats could then be updated in real time. The multi-band seeker is of higher priority.\\\\nYJ-91 Anti-Ship Missile: The Chinese have also developed an anti-ship version of the YJ-91 missile.\\\\nHowever, this version is an indigenous development of the Chinese from the Kh-31P anti-radiation missile, and\\\\nnot from the Kh-31A anti-ship missile. China did not order any of the Kh-31A. The Chinese felt that the original\\\\nKh-31A could not fully satisfy their requirements, because the high-low trajectory of the missile meant early\\\\ndetection, thus it is prone to interception. In contrast, the low-low trajectory usually adopted by subsonic anti-\\\\nship missiles better uses the supersonic speed of Kh-31A. Such a trajectory shortens the detection range and\\\\nthe high-speed reduces the target’s reaction time, once the missile is detected. As a result, China did not order\\\\nany Kh-31A anti-ship missiles. The resulting anti-ship version of the YJ-91 is capable of sea-skimming. Its\\\\ncruising altitude is no more than 20 metre above sea level. At the terminal attack stage (usually after the active\\\\nradar seeker of the missile is turned on), the missile drops to 7 metre above sea level. This attack altitude can\\\\nbe further reduced to just 1.2 metre above sea level, when the sea state allows. Alternatively, the missile can\\\\nbe programmed to popup-and-dive like that the Boeing Harpoon. However, such sea-skimming capability\\\\ncomes at the expense of maximum range: in comparison to the original 70 km range of the Kh-31A, the\\\\nmaximum range of YJ-91 anti-ship missile was reduced by more than a quarter to 50 km. Like the anti-radiation\\\\nversion, it is reported that many planned upgrades are in development. An application for research grants to\\\\ndevelop a submerged launched version of Y', 'fileId': '8e592158-bbd3-4254-9a6f-343ec2bdb31d', 'ml': {'tokens': {'##a': 0.9166492, 'optimal': 0.2444774, 'rocket': 0.73393744, '##h': 1.4946982, 'ship': 1.3160542, 'hmm': 0.11916671, '##j': 1.3885175, 'echo': 0.2684955, '##m': 0.07547306, '##p': 0.44753557, '##r': 0.3085411, 'dev': 0.26053444, 'above': 0.027005365, '##y': 0.66897404, '##ome': 0.6176206, 'band': 1.1904309, 'missiles': 1.2035702, 'invented': 0.16089235, 'height': 0.63331556, 'pearl': 0.2656524, 'upgrade': 1.4941106, 'mile': 0.1774423, 'vietnam': 0.36468396, 'ray': 0.121582456, 'version': 0.8603183, '-': 0.23166692, 'badge': 0.016445445, 'size': 0.36837497, 'rf': 0.08808206, 'underwater': 0.43828642, 'boost': 0.28625146, 'wing': 0.2896028, 'zulu': 0.091155484, 'ba': 0.29849327, 'flight': 0.9022831, 'sub': 0.26912606, '23': 0.12160589, 'ordering': 0.47786337, 'cabin': 0.35106224, '##dev': 1.0645604, '##tec': 0.42547035, '##uge': 0.1652519, 'sea': 1.1723346, 'marine': 0.08950883, 'pop': 0.8279113, 'capability': 0.24866946, 'search': 0.03299212, 'submarine': 0.5546011, 'helicopter': 0.09082689, 'defense': 0.14820199, 'attack': 0.71210015, 'blocking': 0.032938715, '##zing': 0.34388393, 'comet': 0.14432725, 'mir': 0.11749997, 'acquisition': 0.1528197, '31': 1.6807314, '32': 0.53677374, 'latest': 0.14609547, '33': 0.5063976, 'sweep': 0.4703312, 'mine': 0.35957438, '##version': 0.9261447, 'ordered': 0.032018866, '34': 0.030407924, 'detection': 0.7812572, 'reaction': 0.27958822, 'mini': 0.13147654, 'h': 0.023297042, 'seekers': 0.622311, 'launch': 0.28074992, 'k': 1.168717, 'm': 0.16373609, 'n': 0.7295532, '##sonic': 1.1677382, 'stage': 0.4143874, 'interception': 0.6648253, 'x': 0.219929, 'y': 1.4044551, 'maximum': 0.44022638, 'open': 0.50797033, 'fleet': 0.29754752, '##at': 0.9162198, '##mming': 1.4361498, 'bomb': 0.6531112, 'developed': 0.55881834, 'frequency': 1.2529806, '##ba': 0.7630714, 'chinese': 1.3481809, 'sniper': 0.3202234, 'shipping': 0.48852655, 'prior': 1.0278705, 'missile': 1.9886839, 'jet': 0.16333534, 'military': 0.20194398, '50': 0.33118674, 'disadvantage': 0.3021663, 'engineering': 0.116430126, 'boeing': 1.419786, 'modification': 0.35473663, 'drone': 0.45847073, '##31': 0.3694998, 'taiwan': 0.29061705, '##be': 1.5669689, 'measure': 1.0016042, '##ru': 0.168877, 'naval': 0.57233906, '##ver': 0.8179218, 'updated': 0.50066847, 'drop': 0.5056966, 'distance': 0.3120264, 'harp': 1.5207249, 'update': 0.38646337, 'detect': 0.36772665, 'training': 1.5974064, 'capable': 0.24801898, 'learning': 0.19606337, 'beijing': 0.3497108, 'malaysia': 0.15005293, 'india': 0.13946137, 'speed': 0.515105, 'wave': 0.26869616, 'miles': 0.43101746, '##hip': 0.94975466, 'weapon': 0.85967606, 'drops': 0.08102601, 'laser': 0.6647002, 'trainer': 0.78638285, 'scope': 0.30283722, 'seeker': 1.469665, '70': 0.7403411, '737': 0.6572104, 'satellite': 0.11702596, 'nuclear': 0.4501684, 'enhance': 0.057988897, '##owe': 1.1463054, 'trident': 0.59395975, 'pilot': 0.41953245, 'multiple': 0.56461036, 'length': 0.5184528, '##up': 0.67017525, 'technology': 0.21096702, 'improvement': 0.16247784, 'trajectory': 0.8393752, 'target': 0.6508646, '2019': 0.3892272, 'china': 1.5293769, '82': 0.14240374, '##pment': 1.3759255, 'yard': 0.085303836, 'mod': 0.10239738, 'software': 0.74300927, 'ya': 0.06838739, 'dragon': 0.4125136, 'upgrades': 0.7180709, 'multi': 1.0382798, 'ski': 1.3715701, 'measures': 0.8655994, 'upgraded': 0.8229107, 'diving': 0.33580393, 'russia': 0.5052732, 'vessel': 0.3698633, '90': 0.18651383, '91': 1.8202713, 'typhoon': 0.64377344, '92': 0.5167649, 'nan': 0.9974639, '93': 0.6556553, 'model': 0.22247967, 'obstacle': 0.16741015, 'order': 0.91273445, 'algorithm': 0.13792047, 'reduce': 0.30615184, 'torpedo': 0.20656294, 'russian': 0.6545573, 'iran': 0.39152035, '##ising': 0.5435412, 'reduced': 0.36446798, 'priority': 0.795283, 'ships': 0.41071725, 'shuttle': 0.3723821, 'spectrum': 0.6087637, 'intercept': 0.36344737, 'programmed': 0.577291, '##port': 0.4732582, 'weapons': 0.50518906, 'gun': 0.35418668, 'assault': 0.011609258, 'aim': 0.32600185, 'drones': 0.050089903, 'onboard': 1.2118989, 'falcon': 0.24174015, 'range': 1.0333092, 'planned': 0.18155499, 'bands': 0.833862, 'anti': 1.386655, 'computer': 0.21486823, 'frigate': 0.20147766, 'low': 0.89887774, 'native': 0.078515224, '1991': 1.2118794, 'uploaded': 0.46658507, 'ke': 0.11986803, 'ability': 0.27144232, 'ki': 0.13893789, 'deployment': 0.1912584, 'architecture': 0.023571743, 'km': 0.6603261, 'ballistic': 0.19138786, '##ming': 0.43487087, 'prototype': 0.4953261, 'boat': 0.55280036, 'singapore': 0.24594675, '##hi': 0.21989168, 'radar': 0.7830115, 'airbus': 0.5329261, 'indian': 0.121004544, 'beam': 0.053269267, 'navy': 0.20833266, 'arrow': 0.043859065, 'precision': 0.28193706, 'craft': 0.06654788, 'pakistan': 0.46823248, 'while': 0.0024719655, '##not': 0.2699321, 'intercepted': 0.044271544, 'radio': 0.1062125, 'high': 0.6114965, 'download': 0.08314171, 'helicopters': 0.3513446, 'commander': 0.2950887, 'uss': 0.15427805, 'indigenous': 0.5963061, 'limit': 0.028467588, 'tower': 0.16818857, 'development': 0.49306524, 'pilots': 0.48125824, 'upgrading': 0.3822238, 'utc': 0.6992985, 'level': 0.15206534, 'meter': 0.39843956, 'thai': 0.06358068, 'real': 0.10768344, 'revision': 0.022491485, 'army': 0.31019855, 'nc': 0.39136124, '##elo': 1.1329887, 'improve': 0.45840523, 'effect': 0.005867756, 'cruise': 0.5949893, 'eagle': 0.085273184, 'nh': 0.24036604, 'nk': 0.3862307, 'hawk': 0.31985456, '##ats': 1.3669518, 'nm': 0.4842655, 'arsenal': 0.24080718, '##iti': 1.240784, '##ada': 1.2365052, 'altitude': 1.2236428, 'shrimp': 0.07299138, 'nr': 0.68328613, '##hre': 1.0740242, 'ns': 0.7322359, 'nt': 0.6855156, 'bot': 0.034812495, 'combat': 0.26919466, 'ny': 1.1319557, 'sonar': 0.6316521, 'meters': 0.51347995, '##oon': 1.0999072, 'can': 0.6897268, 'floating': 0.07537246, 'design': 0.18156761, 'dive': 0.82008743, 'direction': 0.06774882, 'elevation': 0.7596202, 'ammunition': 0.10351242, 'requirements': 0.37549388, 'built': 0.14641371, 'sar': 0.0037209815, 'aircraft': 0.06589965, 'zoom': 0.20145388, 'terminal': 1.0635914, 'super': 0.16550864, 'radiation': 1.1053576, 'build': 0.24402492, 'york': 0.19288753, 'wireless': 0.22081798, 'threat': 0.44927496, 'further': 0.016808901, 'frequencies': 0.57326895}, 'is_truncated': True, 'model_id': '.elser_model_2'}}}]}}\n"
     ]
    },
    {
     "ename": "AttributeError",
     "evalue": "Missing C3 Type VectorStore",
     "output_type": "error",
     "traceback": [
      "\u001b[0;31m---------------------------------------------------------------------------\u001b[0m",
      "\u001b[0;31mRuntimeError\u001b[0m                              Traceback (most recent call last)",
      "\u001b[0;32m/c3/platform/src/remote/ServerConnection.py\u001b[0m in \u001b[0;36m__getattr__\u001b[0;34m(self, item)\u001b[0m\n",
      "\u001b[0;32m/c3/platform/src/remote/ServerConnection.py\u001b[0m in \u001b[0;36mgetType\u001b[0;34m(this, name, failIfMissing)\u001b[0m\n",
      "\u001b[0;32m/c3/platform/src/remote/ServerConnection.py\u001b[0m in \u001b[0;36m__get__\u001b[0;34m(self, instance, owner)\u001b[0m\n",
      "\u001b[0;32m/c3/platform/src/remote/ServerConnection.py-client.py\u001b[0m in \u001b[0;36m__init__\u001b[0;34m(self, cls, connection, isNativeRemix)\u001b[0m\n",
      "\u001b[0;32m/c3/platform/src/remote/ServerConnection.py-client.py\u001b[0m in \u001b[0;36mgetMetaJson\u001b[0;34m(self, kls)\u001b[0m\n",
      "\u001b[0;31mRuntimeError\u001b[0m: Metadata request for type \"VectorStore\" failed (status 500):\nError invoking Java method Remote.PyTypeLoader#metaJsons: Missing TypeMeta VectorStore.\n\nError calling /api/8/Remote.PyTypeLoader/metaJsons with [\"Remote.PyTypeLoader\",[\"VectorStore\"],\"py-colbertfaiss-client-ipython\"]",
      "\nDuring handling of the above exception, another exception occurred:\n",
      "\u001b[0;31mAttributeError\u001b[0m                            Traceback (most recent call last)",
      "\u001b[0;32m/tmp/ipykernel_1576/1606566347.py\u001b[0m in \u001b[0;36m<module>\u001b[0;34m\u001b[0m\n\u001b[0;32m----> 1\u001b[0;31m \u001b[0mresponse\u001b[0m \u001b[0;34m=\u001b[0m \u001b[0msimilaritySearch\u001b[0m\u001b[0;34m(\u001b[0m\u001b[0me\u001b[0m\u001b[0;34m,\u001b[0m \u001b[0mspec\u001b[0m\u001b[0;34m)\u001b[0m\u001b[0;34m\u001b[0m\u001b[0;34m\u001b[0m\u001b[0m\n\u001b[0m",
      "\u001b[0;32m/tmp/ipykernel_1576/28039836.py\u001b[0m in \u001b[0;36msimilaritySearch\u001b[0;34m(this, spec)\u001b[0m\n\u001b[1;32m     51\u001b[0m                     \u001b[0;34m'source_id'\u001b[0m\u001b[0;34m:\u001b[0m \u001b[0mhit\u001b[0m\u001b[0;34m[\u001b[0m\u001b[0;34m'_source'\u001b[0m\u001b[0;34m]\u001b[0m\u001b[0;34m[\u001b[0m\u001b[0;34m'fileId'\u001b[0m\u001b[0;34m]\u001b[0m\u001b[0;34m,\u001b[0m\u001b[0;34m\u001b[0m\u001b[0;34m\u001b[0m\u001b[0m\n\u001b[1;32m     52\u001b[0m                     'source_type_name': 'Genai.SourceFile'}\n\u001b[0;32m---> 53\u001b[0;31m         tempres = c3.VectorStore.SimilaritySearchResult(page_content = hit['_source']['contentStr'],\n\u001b[0m\u001b[1;32m     54\u001b[0m                                                          \u001b[0mrank\u001b[0m \u001b[0;34m=\u001b[0m \u001b[0mrank\u001b[0m\u001b[0;34m,\u001b[0m\u001b[0;34m\u001b[0m\u001b[0;34m\u001b[0m\u001b[0m\n\u001b[1;32m     55\u001b[0m                                                          \u001b[0mscore\u001b[0m \u001b[0;34m=\u001b[0m \u001b[0mhit\u001b[0m\u001b[0;34m[\u001b[0m\u001b[0;34m'_score'\u001b[0m\u001b[0;34m]\u001b[0m\u001b[0;34m,\u001b[0m\u001b[0;34m\u001b[0m\u001b[0;34m\u001b[0m\u001b[0m\n",
      "\u001b[0;32m/c3/platform/src/remote/ServerConnection.py\u001b[0m in \u001b[0;36m__getattr__\u001b[0;34m(self, item)\u001b[0m\n",
      "\u001b[0;31mAttributeError\u001b[0m: Missing C3 Type VectorStore"
     ]
    }
   ],
   "source": [
    "response = similaritySearch(e, spec)"
   ]
  },
  {
   "cell_type": "code",
   "execution_count": 187,
   "id": "e7630213-897f-4890-9434-7a7648452ba9",
   "metadata": {
    "execution": {
     "iopub.execute_input": "2024-03-01T06:02:33.209483Z",
     "iopub.status.busy": "2024-03-01T06:02:33.208499Z",
     "iopub.status.idle": "2024-03-01T06:02:33.212998Z",
     "shell.execute_reply": "2024-03-01T06:02:33.212187Z",
     "shell.execute_reply.started": "2024-03-01T06:02:33.209422Z"
    },
    "tags": []
   },
   "outputs": [],
   "source": [
    "response"
   ]
  },
  {
   "cell_type": "code",
   "execution_count": null,
   "id": "a542aef2-7598-4f48-9a90-e34a5ef7b17b",
   "metadata": {},
   "outputs": [],
   "source": []
  }
 ],
 "metadata": {
  "has_local_update": false,
  "is_local": true,
  "is_remote": true,
  "kernelspec": {
   "display_name": "py-colbertfaiss",
   "language": "python",
   "name": "py-colbertfaiss"
  },
  "language_info": {
   "codemirror_mode": {
    "name": "ipython",
    "version": 3
   },
   "file_extension": ".py",
   "mimetype": "text/x-python",
   "name": "python",
   "nbconvert_exporter": "python",
   "pygments_lexer": "ipython3",
   "version": "3.9.18"
  },
  "last_sync_time": "2024-02-29T21:30:53.608968"
 },
 "nbformat": 4,
 "nbformat_minor": 5
}
