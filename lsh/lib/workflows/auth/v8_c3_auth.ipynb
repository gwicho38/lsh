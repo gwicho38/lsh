{
 "cells": [
  {
   "cell_type": "code",
   "execution_count": null,
   "metadata": {},
   "outputs": [],
   "source": []
  },
  {
   "cell_type": "code",
   "execution_count": null,
   "metadata": {},
   "outputs": [
    {
     "ename": "",
     "evalue": "",
     "output_type": "error",
     "traceback": [
      "\u001b[1;31mFailed to start the Kernel. \n",
      "\u001b[1;31m/Users/lefv/.nvm/versions/node/v16.15.1/lib/node_modules/ijavascript/node_modules/node-gyp-build/node-gyp-build.js:60\n",
      "\u001b[1;31m  throw new Error('No native build was found for ' + target + '\\n    loaded from: ' + dir + '\\n')\n",
      "\u001b[1;31m  ^\n",
      "\u001b[1;31m\n",
      "\u001b[1;31mError: No native build was found for platform=darwin arch=x64 runtime=electron abi=93 uv=1 libc=glibc node=16.15.1\n",
      "\u001b[1;31m    loaded from: /Users/lefv/.nvm/versions/node/v16.15.1/lib/node_modules/ijavascript/node_modules/zeromq\n",
      "\u001b[1;31m\n",
      "\u001b[1;31m    at Function.load.resolve.load.path (/Users/lefv/.nvm/versions/node/v16.15.1/lib/node_modules/ijavascript/node_modules/node-gyp-build/node-gyp-build.js:60:9)\n",
      "\u001b[1;31m    at load (/Users/lefv/.nvm/versions/node/v16.15.1/lib/node_modules/ijavascript/node_modules/node-gyp-build/node-gyp-build.js:22:30)\n",
      "\u001b[1;31m    at Object.<anonymous> (/Users/lefv/.nvm/versions/node/v16.15.1/lib/node_modules/ijavascript/node_modules/zeromq/binding.js:1:43)\n",
      "\u001b[1;31m    at Module._compile (node:internal/modules/cjs/loader:1105:14)\n",
      "\u001b[1;31m    at Object.Module._extensions..js (node:internal/modules/cjs/loader:1159:10)\n",
      "\u001b[1;31m    at Module.load (node:internal/modules/cjs/loader:981:32)\n",
      "\u001b[1;31m    at Function.Module._load (node:internal/modules/cjs/loader:822:12)\n",
      "\u001b[1;31m    at Module.require (node:internal/modules/cjs/loader:1005:19)\n",
      "\u001b[1;31m    at require (node:internal/modules/cjs/helpers:102:18)\n",
      "\u001b[1;31m    at Object.<anonymous> (/Users/lefv/.nvm/versions/node/v16.15.1/lib/node_modules/ijavascript/node_modules/zeromq/lib/index.js:6:11). \n",
      "\u001b[1;31mView Jupyter <a href='command:jupyter.viewOutput'>log</a> for further details."
     ]
    }
   ],
   "source": [
    "import axios from 'axios';"
   ]
  },
  {
   "cell_type": "code",
   "execution_count": null,
   "metadata": {},
   "outputs": [],
   "source": []
  }
 ],
 "metadata": {
  "kernelspec": {
   "display_name": "JavaScript (Node.js)",
   "language": "javascript",
   "name": "javascript"
  },
  "language_info": {
   "name": "javascript"
  }
 },
 "nbformat": 4,
 "nbformat_minor": 2
}
