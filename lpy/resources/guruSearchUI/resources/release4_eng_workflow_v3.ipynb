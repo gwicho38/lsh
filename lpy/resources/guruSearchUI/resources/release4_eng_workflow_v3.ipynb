{
 "cells": [
  {
   "cell_type": "code",
   "execution_count": null,
   "id": "3d0e78b0-2830-4d14-b184-1890fa1f2d62",
   "metadata": {},
   "outputs": [],
   "source": [
    "# Package Path\n",
    "# meta://guruSearchUI"
   ]
  },
  {
   "cell_type": "markdown",
   "id": "95613e72-7d39-436d-965d-8a2e9069a695",
   "metadata": {},
   "source": [
    "## Local Jupyter Lab"
   ]
  },
  {
   "cell_type": "markdown",
   "id": "9acdbc92-a94a-42fd-af89-640c989b54e0",
   "metadata": {},
   "source": [
    "### Install Jupyter Lab"
   ]
  },
  {
   "cell_type": "markdown",
   "id": "31aca19c-738b-4603-b02f-43189b9787e1",
   "metadata": {},
   "source": [
    "`pip3 install jupyterlab`"
   ]
  },
  {
   "cell_type": "markdown",
   "id": "e98b5991-381e-4797-843a-bb28779ce538",
   "metadata": {},
   "source": [
    "`jupyter lab`"
   ]
  },
  {
   "cell_type": "markdown",
   "id": "89d628a8-f530-4ebd-b898-c3084a99c8ea",
   "metadata": {},
   "source": [
    "### Set HW Profile"
   ]
  },
  {
   "cell_type": "markdown",
   "id": "c824a198-8ba9-498f-a248-6d86827e0306",
   "metadata": {},
   "source": [
    "```js\n",
    "var cpus = 8;\n",
    "var memory = 64000;\n",
    "var jvmRatio = 0.5;\n",
    "C3.app().nodePool(\"singlenode\").setHardwareProfile(cpus, memory, 0).setJvmSpec(jvmRatio).update();\n",
    "```"
   ]
  },
  {
   "cell_type": "markdown",
   "id": "2936b4e9-1362-4b6c-afb9-ac93ca895300",
   "metadata": {},
   "source": [
    "### Connect to C3 (only for local)"
   ]
  },
  {
   "cell_type": "code",
   "execution_count": null,
   "id": "b2d68ade-c280-4035-a138-281f279056c5",
   "metadata": {
    "tags": []
   },
   "outputs": [],
   "source": [
    "# only run this if on local jupyter instance\n",
    "import os\n",
    "def load_c3(url, auth):\n",
    "    \"\"\"Returns c3 remote type system for python.\"\"\"\n",
    "    from urllib.request import urlopen\n",
    "    src = urlopen(os.path.join(url, 'remote/c3.py')).read()\n",
    "    exec_scope = {}\n",
    "    exec(src, exec_scope)  # pylint: disable=exec-used\n",
    "    return exec_scope[\"get_c3\"](url=url, authz=auth)\n",
    " \n",
    "## copy(Authenticator.generateActionAuthToken()) from console"
   ]
  },
  {
   "cell_type": "code",
   "execution_count": null,
   "id": "3626c090-d952-4e87-8dfa-f5d794a67e34",
   "metadata": {
    "tags": []
   },
   "outputs": [],
   "source": [
    "TOKEN = \"eyJ0eXAiOiJKV1QiLCJhbGciOiJSUzUxMiJ9.eyJhcHAiOiJna2V2OGRldi0yMDI0MDEwNHYwLWd1cnVzZWFyY2h1aSIsImlzcyI6ImMzLmFpIiwiZ3JvdXBzIjpbIkMzLkFwcEFkbWluIiwiQzMuRW52QWRtaW4iXSwic2lkIjoxLCJhdWQiOiJjMy5haSIsImlkcCI6IiIsImMzZ3JvdXBzIjpbIkMzLkFwcEFkbWluIiwiQzMuRW52QWRtaW4iXSwiaWRwZ3JvdXBzIjoie1wiT2lkY0lkcENvbmZpZzo6Z2tldjhkZXYuYzNkZXYuY2xvdWRcIjpbXCJkZXYuT2lkY0RlZmF1bHRHcm91cFwiXX0iLCJzc2lkeCI6IiIsIm5hbWUiOiJmYzgwNDEzYjE5NjViMDFhYjMxZjEzMTMyYWMxOTYyOGQ2NDA3NGE2NTI2NDJlMmM4ZDBiMTgwYTU1ZmNlYzlmIiwiYWN0aW9uaWQiOiI5NDEzLjU4MDczNjY1IiwiaWQiOiJmYzgwNDEzYjE5NjViMDFhYjMxZjEzMTMyYWMxOTYyOGQ2NDA3NGE2NTI2NDJlMmM4ZDBiMTgwYTU1ZmNlYzlmIiwiZXhwIjoxNzA0NDkzMjM1MDAwLCJlbWFpbCI6Imx1aXMuZmVybmFuZGV6LWRlLWxhLXZhcmFAYzMuYWkifQ.So4hLVNn6eoMd7Eiqi8w7hgm5ii8bKZSe-cKbVAUAAyocjogVE8kMolaGJ4A_ZeBb7ys46ENfHfxsJxrs-IAOyk_p3IdJ8vguO-AgsdTaKbmIjwPxn8E7qBoE7T0hew85Z6MRPMsqvL37Tjug8Mer3LPCFM6x23-qwhfSvCIL4vtabIxhYvANcHbWTJeMRjCFKXyjpFIGkAFM385Ub-lcthLcpkpb3mqu3irC3ZJW7-7v7WV-WpL-w5wwC4HbtgNDH-JXusJ3PF9ysx89nfNU0Aazg5v6oG5_-X3gQ_WmS092vo2U17YLeUkn_y6KnIasjhsMr-Y7Oe-ILVC8uuPxg\""
   ]
  },
  {
   "cell_type": "code",
   "execution_count": null,
   "id": "b6e60ed2-100e-4c92-8efa-ec36888ea14c",
   "metadata": {
    "tags": []
   },
   "outputs": [],
   "source": [
    "url = \"https://gkev8dev.c3dev.cloud/20240104v0/gurusearchui/\""
   ]
  },
  {
   "cell_type": "code",
   "execution_count": null,
   "id": "05855cae-8f29-4bf6-bdd1-bcceb318f490",
   "metadata": {
    "tags": []
   },
   "outputs": [],
   "source": [
    "c3 = load_c3(url=url, auth=TOKEN)"
   ]
  },
  {
   "cell_type": "markdown",
   "id": "df443af9-ee87-4e2c-aecc-d803d71df154",
   "metadata": {},
   "source": [
    "## Debug"
   ]
  },
  {
   "cell_type": "code",
   "execution_count": null,
   "id": "fac44386-790c-4490-8daf-87b090875b4b",
   "metadata": {
    "tags": []
   },
   "outputs": [],
   "source": [
    "# https://gkev8c3apps.c3-e.com/opensearch/goto/de55cfbb842e3c4b83e66bcf3d74afa3"
   ]
  },
  {
   "cell_type": "code",
   "execution_count": null,
   "id": "dc5561e6-89e8-43f6-ad81-dcef33c6308f",
   "metadata": {
    "tags": []
   },
   "outputs": [],
   "source": [
    "# https://gkev8dev.c3dev.cloud/opensearch/app/discover#/?_g=(filters:!(),refreshInterval:(pause:!t,value:0),time:(from:now-15m,to:now))&_a=(columns:!(environment,message),filters:!(('$state':(store:appState),meta:(alias:!n,disabled:!f,index:'4a087be0-8572-11ee-ba67-2ffaa880f192',key:environment,negate:!f,params:(query:'20240104v0'),type:phrase),query:(match_phrase:(environment:'20240104v0')))),index:'4a087be0-8572-11ee-ba67-2ffaa880f192',interval:auto,query:(language:kuery,query:''),sort:!())"
   ]
  },
  {
   "cell_type": "code",
   "execution_count": null,
   "id": "fbf8d29e-ff38-4c34-8899-e2ec224afe56",
   "metadata": {
    "tags": []
   },
   "outputs": [],
   "source": [
    "queues = c3.InvalidationQueue.countAll()"
   ]
  },
  {
   "cell_type": "code",
   "execution_count": null,
   "id": "311cbed8-b023-46e3-8ba4-4c475b7a14ad",
   "metadata": {
    "tags": []
   },
   "outputs": [],
   "source": [
    "c3.app().actionDump()"
   ]
  },
  {
   "cell_type": "markdown",
   "id": "424790c5-fcb8-4c6c-b278-ca307caf1fbe",
   "metadata": {},
   "source": [
    "## Reset State"
   ]
  },
  {
   "cell_type": "code",
   "execution_count": null,
   "id": "831b25c4-790f-4df8-a857-f7877852c3e0",
   "metadata": {
    "tags": []
   },
   "outputs": [],
   "source": [
    "# Notebook\n",
    "c3.Py.closeAllPy4jInterpreters()"
   ]
  },
  {
   "cell_type": "code",
   "execution_count": null,
   "id": "b22ae1f7-1cdd-44d1-a86c-990fb4a40854",
   "metadata": {},
   "outputs": [],
   "source": [
    "# Probably should skip this cell\n",
    "c3.Server.restart()"
   ]
  },
  {
   "cell_type": "code",
   "execution_count": null,
   "id": "12971fef-eee3-4042-8ab6-e7e317326478",
   "metadata": {
    "tags": []
   },
   "outputs": [],
   "source": [
    "# Notebook\n",
    "c3.Pkg.setDevMode(True)"
   ]
  },
  {
   "cell_type": "code",
   "execution_count": null,
   "id": "c8c43375-aa3e-43d7-bf1e-ae6533446737",
   "metadata": {
    "tags": []
   },
   "outputs": [],
   "source": [
    "# customerName = BASE_CUSTOMER_NAME + CURRENT_DATETIME\n",
    "customerName = \"anistartercustomer\""
   ]
  },
  {
   "cell_type": "code",
   "execution_count": null,
   "id": "9cefab08-d181-4f1d-b115-3fcd06cdd010",
   "metadata": {
    "tags": []
   },
   "outputs": [],
   "source": [
    "print(customerName)"
   ]
  },
  {
   "cell_type": "code",
   "execution_count": null,
   "id": "742dede2-9123-43a6-9ca3-6324942e4869",
   "metadata": {
    "tags": []
   },
   "outputs": [],
   "source": [
    "c3.SourceFile.fetchCount()"
   ]
  },
  {
   "cell_type": "code",
   "execution_count": null,
   "id": "bed03c2a-bfe0-45bd-9c2f-006af6898909",
   "metadata": {
    "tags": []
   },
   "outputs": [],
   "source": [
    "# Notebook\n",
    "c3.Py.closeAllPy4jInterpreters()\n",
    "c3.SourceFile.removeAll({}, True)\n",
    "c3.Genai.Retriever.ColBERT.removeAll({}, True)\n",
    "c3.Genai.SourceCollection.forId(customerName).removeAll({}, True)\n",
    "# c3.Server.restart()\n",
    "# error on line 'c3.Genai.SourceCollection.forId(customerName).removeAll({}, True)' is OK"
   ]
  },
  {
   "cell_type": "code",
   "execution_count": null,
   "id": "1bc8ce76-5b3e-4a3c-babb-c3569a8a87f6",
   "metadata": {
    "tags": []
   },
   "outputs": [],
   "source": [
    "# if production bundle needed\n",
    "# c3.UiSdlConfig.setConfigValue(\"infrastructure.webpackMode\", \"production\");\n",
    "# c3.UiBundler.generateBundles()"
   ]
  },
  {
   "cell_type": "code",
   "execution_count": null,
   "id": "d800ea4b-1b67-443f-8370-3f09dd8d70b6",
   "metadata": {
    "tags": []
   },
   "outputs": [],
   "source": [
    "# Notebook\n",
    "c3.UiSdlConfig.setConfigValue(\"infrastructure.webpackMode\", \"development\");"
   ]
  },
  {
   "cell_type": "code",
   "execution_count": null,
   "id": "cb6159e9-7fc5-4d1d-a7f7-b4de24f9a1e1",
   "metadata": {
    "tags": []
   },
   "outputs": [],
   "source": [
    "# Notebook\n",
    "c3.EnableAclPrivilege.removeAll(confirm=True)"
   ]
  },
  {
   "cell_type": "code",
   "execution_count": null,
   "id": "8f014644-30c5-4010-8da8-23fed7d4f09f",
   "metadata": {
    "tags": []
   },
   "outputs": [],
   "source": [
    "c3.Genai.Query.Result.fetchCount()"
   ]
  },
  {
   "cell_type": "code",
   "execution_count": null,
   "id": "bae12cd2-ff8f-4a61-87d2-c61c9d51dfde",
   "metadata": {
    "tags": []
   },
   "outputs": [],
   "source": [
    "c3.Genai.Query.Result.removeAll({}, True)"
   ]
  },
  {
   "cell_type": "markdown",
   "id": "b3002e8a-0c98-44d9-8471-eb52d39eeaa0",
   "metadata": {},
   "source": [
    "## Set Secrets"
   ]
  },
  {
   "cell_type": "code",
   "execution_count": null,
   "id": "09f6a95e-a1ef-4356-bf90-4d27a48ea08d",
   "metadata": {
    "tags": []
   },
   "outputs": [],
   "source": [
    "# Notebook\n",
    "c3.UiSdlMapboxConfig.setSecretValue('accessToken', 'pk.eyJ1IjoiYzNsdWlzZmVybmFuZGV6ZGVsYXZhcmEiLCJhIjoiY2w3Z21oemR0MDYwbDNwcWkzaG5jMnQ4bCJ9.3z8k2ii6JRH_mS8Bl6n-2g')"
   ]
  },
  {
   "cell_type": "code",
   "execution_count": null,
   "id": "89659030-5957-4883-8d3e-be22e8ee994b",
   "metadata": {
    "tags": []
   },
   "outputs": [],
   "source": [
    "# Notebook\n",
    "c3.Genai.Llm.OpenAI.Config.make().setSecretValue(\"apiKey\", \"6abe24ddab0d40bca880276485ca211f\")"
   ]
  },
  {
   "cell_type": "markdown",
   "id": "7303662b-057e-43c3-948b-7fd47959d930",
   "metadata": {
    "execution": {
     "iopub.execute_input": "2023-12-27T06:39:28.868705Z",
     "iopub.status.busy": "2023-12-27T06:39:28.867651Z",
     "iopub.status.idle": "2023-12-27T06:39:28.871608Z",
     "shell.execute_reply": "2023-12-27T06:39:28.870987Z",
     "shell.execute_reply.started": "2023-12-27T06:39:28.868668Z"
    },
    "tags": []
   },
   "source": [
    "## Create VS Mount"
   ]
  },
  {
   "cell_type": "code",
   "execution_count": null,
   "id": "61ceb696-5051-4710-ab2f-9fb16126e4fd",
   "metadata": {
    "tags": []
   },
   "outputs": [],
   "source": [
    "customerName"
   ]
  },
  {
   "cell_type": "code",
   "execution_count": null,
   "id": "c50ba58b-6b9f-4f2d-8333-8f3f383e70a4",
   "metadata": {
    "tags": []
   },
   "outputs": [],
   "source": [
    "# e.g.: 'gcs://c3--gkev8c3apps/corneaguru1622/'\n",
    "customerName = 'anistartercustomer'\n",
    "projectRootDir = [c3.FileSystem.parseRootUrl().scheme, \"://\", c3.FileSystem.parseRootUrl().host, \"/\", customerName, \"/\"]"
   ]
  },
  {
   "cell_type": "code",
   "execution_count": null,
   "id": "0045b51d-c236-4ec2-870e-3cbf8515d521",
   "metadata": {
    "tags": []
   },
   "outputs": [],
   "source": [
    "projectRootDir = \"\".join(projectRootDir)"
   ]
  },
  {
   "cell_type": "code",
   "execution_count": null,
   "id": "5a8b7713-29f5-487b-9476-f82ea194279b",
   "metadata": {
    "tags": []
   },
   "outputs": [],
   "source": [
    "projectRootDir"
   ]
  },
  {
   "cell_type": "code",
   "execution_count": null,
   "id": "fe48e8cd-4353-4268-a83c-a62eef8ca834",
   "metadata": {
    "tags": []
   },
   "outputs": [],
   "source": [
    "c3.FileSystem.setMount(customerName + \"-mount\", projectRootDir)\n",
    "c3.FileSystem.setMount(\"vector-store\", projectRootDir + \"vector-store/\")\n",
    "c3.FileSystem.inst().listFiles(\"vector-store\", projectRootDir + \"vector-store/\")"
   ]
  },
  {
   "cell_type": "code",
   "execution_count": null,
   "id": "df269dd7-7b1b-4933-b5a4-0a9224638a37",
   "metadata": {
    "tags": []
   },
   "outputs": [],
   "source": [
    "fs = c3.FileSystem.inst()"
   ]
  },
  {
   "cell_type": "code",
   "execution_count": null,
   "id": "04098ca3-b663-4fd1-86dc-76dabb2eb171",
   "metadata": {
    "tags": []
   },
   "outputs": [],
   "source": [
    "mount = c3.FileSystem.mounts().get(f'{customerName}-mount')\n",
    "mount"
   ]
  },
  {
   "cell_type": "code",
   "execution_count": null,
   "id": "0f116b40-2480-4d0f-a663-f3b667858331",
   "metadata": {
    "tags": []
   },
   "outputs": [],
   "source": [
    "fs"
   ]
  },
  {
   "cell_type": "code",
   "execution_count": null,
   "id": "60472281-70d7-4302-9035-64117d326511",
   "metadata": {
    "tags": []
   },
   "outputs": [],
   "source": [
    "mount"
   ]
  },
  {
   "cell_type": "markdown",
   "id": "10c02c9a-50c1-4072-ae3a-68f8737622b2",
   "metadata": {},
   "source": [
    "## Clear Old Files"
   ]
  },
  {
   "cell_type": "code",
   "execution_count": null,
   "id": "15248fd3-627a-452a-9c19-f33d1ba49d5e",
   "metadata": {
    "tags": []
   },
   "outputs": [],
   "source": [
    "vs_remote_mount = mount"
   ]
  },
  {
   "cell_type": "code",
   "execution_count": null,
   "id": "93edab77-d63f-4c98-90f5-bb79908d7411",
   "metadata": {
    "tags": []
   },
   "outputs": [],
   "source": [
    "vs_remote_mount"
   ]
  },
  {
   "cell_type": "code",
   "execution_count": null,
   "id": "b1c88765-d7ef-4ce0-b163-99ae708389e2",
   "metadata": {
    "tags": []
   },
   "outputs": [],
   "source": [
    "old_files = fs.listFiles(vs_remote_mount)"
   ]
  },
  {
   "cell_type": "code",
   "execution_count": null,
   "id": "f23fd957-9865-40d3-8a00-ecfd52acbc60",
   "metadata": {
    "tags": []
   },
   "outputs": [],
   "source": [
    "old_files.files"
   ]
  },
  {
   "cell_type": "code",
   "execution_count": null,
   "id": "7b774b82-864a-4574-b6d6-e20ff3b3efd7",
   "metadata": {
    "tags": []
   },
   "outputs": [],
   "source": [
    "# fs.listFiles(vs_remote_mount).files\n",
    "for f in fs.listFiles(vs_remote_mount).files:\n",
    "    fs.deleteFiles(f,True)"
   ]
  },
  {
   "cell_type": "code",
   "execution_count": null,
   "id": "ef27257b-6ed7-48fa-9e9c-04526d23ea9d",
   "metadata": {
    "tags": []
   },
   "outputs": [],
   "source": [
    "assert len(fs.listFiles(vs_remote_mount).files) == 0"
   ]
  },
  {
   "cell_type": "markdown",
   "id": "06997386-308b-46d6-aa58-31c420c7102d",
   "metadata": {},
   "source": [
    "## Get/Set COLBERT"
   ]
  },
  {
   "cell_type": "code",
   "execution_count": null,
   "id": "a50c0d9a-4428-4a50-8337-718e4124d95c",
   "metadata": {
    "tags": []
   },
   "outputs": [],
   "source": [
    "# Notebook\n",
    "# pull ColBERT into local directory, may take a few seconds\n",
    "!curl -o colbertv2.0.tar.gz https://downloads.cs.stanford.edu/nlp/data/colbert/colbertv2/colbertv2.0.tar.gz"
   ]
  },
  {
   "cell_type": "code",
   "execution_count": null,
   "id": "e8612c8d-1d88-47ce-b5e4-48441eb44f98",
   "metadata": {
    "tags": []
   },
   "outputs": [],
   "source": [
    "fs = c3.FileSystem.inst()"
   ]
  },
  {
   "cell_type": "code",
   "execution_count": null,
   "id": "49a182a2-3fe6-44b6-846b-fabf6526e29b",
   "metadata": {
    "tags": []
   },
   "outputs": [],
   "source": [
    "mounts = fs.mounts()"
   ]
  },
  {
   "cell_type": "code",
   "execution_count": null,
   "id": "dc055a94-c98b-46c4-8e5c-b3337d94d4d6",
   "metadata": {
    "tags": []
   },
   "outputs": [],
   "source": [
    "mounts"
   ]
  },
  {
   "cell_type": "code",
   "execution_count": null,
   "id": "b09202d1-59d1-4f8c-949d-9dfc3b0fcd7e",
   "metadata": {
    "tags": []
   },
   "outputs": [],
   "source": [
    "# Notebook\n",
    "local_colbert_path = \"colbertv2.0.tar.gz\" \n",
    "remote_colbert_path = f\"{vs_remote_mount}colbertv2.0.tar.gz\""
   ]
  },
  {
   "cell_type": "code",
   "execution_count": null,
   "id": "d2323afb-9e2c-42b6-b926-9d13106dffcd",
   "metadata": {
    "tags": []
   },
   "outputs": [],
   "source": [
    "vs_remote_mount"
   ]
  },
  {
   "cell_type": "code",
   "execution_count": null,
   "id": "b78271b8-cbfd-4065-864c-a413e504b57a",
   "metadata": {
    "tags": []
   },
   "outputs": [],
   "source": [
    "remote_colbert_path"
   ]
  },
  {
   "cell_type": "code",
   "execution_count": null,
   "id": "966a4e92-c705-40c7-a9e2-396269f07df7",
   "metadata": {
    "tags": []
   },
   "outputs": [],
   "source": [
    "fs.listFiles(remote_colbert_path)"
   ]
  },
  {
   "cell_type": "code",
   "execution_count": null,
   "id": "b355aee2-d4b6-4911-8483-3bdedcbf1305",
   "metadata": {
    "tags": []
   },
   "outputs": [],
   "source": [
    "local_colbert_path"
   ]
  },
  {
   "cell_type": "code",
   "execution_count": null,
   "id": "c59fcd5c-a999-46af-b31d-475681994a07",
   "metadata": {
    "tags": []
   },
   "outputs": [],
   "source": [
    "# upload COLBERT to remote ColBERTvFaiss directory\n",
    "with open(local_colbert_path, 'rb') as f:\n",
    "    c3.Client.uploadFile(f, remote_colbert_path)"
   ]
  },
  {
   "cell_type": "code",
   "execution_count": null,
   "id": "bc3220b2-fe26-4eed-b0d3-8adc68c9cbc2",
   "metadata": {
    "tags": []
   },
   "outputs": [],
   "source": [
    "fs.listFiles(remote_colbert_path)"
   ]
  },
  {
   "cell_type": "markdown",
   "id": "dbd2ef48-0e7c-44e8-b1be-66a07c8c573c",
   "metadata": {},
   "source": [
    "## Init Vector Store and Genai (File) Source Collection"
   ]
  },
  {
   "cell_type": "code",
   "execution_count": null,
   "id": "1ab8ba39-a211-4a9f-ba5f-d55c1e99a014",
   "metadata": {
    "tags": []
   },
   "outputs": [],
   "source": [
    "projectRootDir"
   ]
  },
  {
   "cell_type": "code",
   "execution_count": null,
   "id": "9d316865-93e9-4d0c-8715-693b3af33db0",
   "metadata": {
    "tags": []
   },
   "outputs": [],
   "source": [
    "customerName"
   ]
  },
  {
   "cell_type": "code",
   "execution_count": null,
   "id": "6c932ba3-d7c7-431a-9bdb-14ecd449d1c6",
   "metadata": {},
   "outputs": [],
   "source": [
    "# customerName = 'anistartercustomer'\n",
    "# projectRootDir = 'gcs://c3--gkev8c3apps/anistartercustomer/'\n",
    "# Console\n",
    "var vectorStore = Genai.Retriever.ColBERT.make({\n",
    "    \"id\": customerName,\n",
    "    \"name\": customerName,\n",
    "    \"dataConfigName\": customerName\n",
    "}).upsert();\n",
    "\n",
    "var sourceCollection = Genai.SourceCollection.make({\n",
    "    \"name\": customerName,\n",
    "    \"id\": customerName,\n",
    "    \"description\": \"Collection of files for \" + customerName,\n",
    "    \"rootUrl\": projectRootDir + \"unstructured/docs/\",\n",
    "    \"targetUrl\": projectRootDir + \"unstructured/passageFiles/\"\n",
    "}).upsert().get()\n"
   ]
  },
  {
   "cell_type": "code",
   "execution_count": null,
   "id": "b7a91b1c-a7c7-48ca-8b97-8fa697427855",
   "metadata": {
    "tags": []
   },
   "outputs": [],
   "source": [
    "# Notebook\n",
    "# customerName = \"corneaguru\"\n",
    "vectorStore = c3.Genai.Retriever.ColBERT.fetch(filter=f\"name == '{customerName}'\").objs[0].get()\n",
    "vectorStore"
   ]
  },
  {
   "cell_type": "code",
   "execution_count": null,
   "id": "70099dc8-d32e-4860-9d42-37bdeacb304d",
   "metadata": {
    "tags": []
   },
   "outputs": [],
   "source": [
    "vectorStore"
   ]
  },
  {
   "cell_type": "code",
   "execution_count": null,
   "id": "5d83fa28-fa5f-470f-9712-9636222f9644",
   "metadata": {
    "tags": []
   },
   "outputs": [],
   "source": [
    "# Notebook\n",
    "sourceCollection = c3.Genai.SourceCollection.fetch(filter=f\"name == '{customerName}'\").objs[0].get()"
   ]
  },
  {
   "cell_type": "code",
   "execution_count": null,
   "id": "d45360fd-0a91-4c33-a1a1-b52721726377",
   "metadata": {
    "tags": []
   },
   "outputs": [],
   "source": [
    "sourceCollection"
   ]
  },
  {
   "cell_type": "code",
   "execution_count": null,
   "id": "dc332605-d1ee-4ae1-936c-0b5ce57a4ef0",
   "metadata": {
    "tags": []
   },
   "outputs": [],
   "source": [
    "c3.Genai.Retriever.ColBERT.DataConfig(name=vectorStore.name).withColbertCheckpointFileLocation(remote_colbert_path).setConfig()"
   ]
  },
  {
   "cell_type": "code",
   "execution_count": null,
   "id": "7d795ef7-db59-4d58-9874-5b86daa7e95e",
   "metadata": {
    "tags": []
   },
   "outputs": [],
   "source": [
    "c3.Genai.Retriever.ColBERT.DataConfig(name=vectorStore.name).getConfig()"
   ]
  },
  {
   "cell_type": "code",
   "execution_count": null,
   "id": "b7f3c058-e940-48b7-b858-0c65fbd73309",
   "metadata": {
    "tags": []
   },
   "outputs": [],
   "source": [
    "remote_colbert_path"
   ]
  },
  {
   "cell_type": "markdown",
   "id": "ff425788-b851-46ad-bb77-12cbb5e40a1d",
   "metadata": {},
   "source": [
    "## Ingestion"
   ]
  },
  {
   "cell_type": "code",
   "execution_count": null,
   "id": "34f8750a-e9c1-4779-9313-10077d963e62",
   "metadata": {
    "tags": []
   },
   "outputs": [],
   "source": [
    "sourceCollection.rootUrl"
   ]
  },
  {
   "cell_type": "code",
   "execution_count": null,
   "id": "503c96d6-74e1-4d73-adc7-f0a1a2f81a63",
   "metadata": {
    "tags": []
   },
   "outputs": [],
   "source": [
    "# Upload documents to the data folder\n",
    "# Notebook\n",
    "local_dir = 'data/'\n",
    "\n",
    "for filename in os.listdir(local_dir):\n",
    "        if filename.endswith(\".pdf\"):\n",
    "            new_filename = filename.replace(\" \", \"\").replace(\"-\", \"\").replace(\"[\", \"\").replace(\"]\", \"\")\n",
    "            old_filepath = os.path.join(local_dir, filename)\n",
    "            new_filepath = os.path.join(local_dir, new_filename)\n",
    "            os.rename(old_filepath, new_filepath)\n",
    "\n",
    "for fname in os.listdir(local_dir):\n",
    "    if fname.endswith(\".pdf\"):\n",
    "        local_fullname = os.path.join(local_dir, fname)\n",
    "        remote_fullname = os.path.join(sourceCollection.rootUrl, fname)\n",
    "        if os.path.isfile(local_fullname):  # check if file exists\n",
    "            with open(local_fullname, \"rb\") as f:\n",
    "                c3.Client.uploadFile(f, remote_fullname)\n",
    "                #print(f\"File {local_fullname} uploaded!\")\n",
    "        else:\n",
    "            print(f\"File {local_fullname} does not exist.\")"
   ]
  },
  {
   "cell_type": "code",
   "execution_count": null,
   "id": "a0d88c4f-47e6-41f0-b4cc-01d2b9d0d726",
   "metadata": {
    "tags": []
   },
   "outputs": [],
   "source": [
    "files = c3.FileSystem.inst().listFiles(sourceCollection.rootUrl, limit=300)"
   ]
  },
  {
   "cell_type": "code",
   "execution_count": null,
   "id": "58af3c19-75a0-47bf-a218-f78829e75ba9",
   "metadata": {
    "tags": []
   },
   "outputs": [],
   "source": [
    "len(files.files)"
   ]
  },
  {
   "cell_type": "code",
   "execution_count": null,
   "id": "14619b48-bb9b-4bce-9237-98034d81893e",
   "metadata": {
    "tags": []
   },
   "outputs": [],
   "source": [
    "files.files[0]"
   ]
  },
  {
   "cell_type": "code",
   "execution_count": null,
   "id": "897eb472-5245-4906-9140-02b04263a1ff",
   "metadata": {
    "tags": []
   },
   "outputs": [],
   "source": [
    "# check that now SourceFiles exist"
   ]
  },
  {
   "cell_type": "code",
   "execution_count": null,
   "id": "0b4a19c8-28f1-46bf-ac02-17e2f329532b",
   "metadata": {
    "tags": []
   },
   "outputs": [],
   "source": [
    "c3.Genai.SourceFile.fetchCount({})"
   ]
  },
  {
   "cell_type": "code",
   "execution_count": null,
   "id": "d630b43e-d746-408d-8052-5defbbcae589",
   "metadata": {
    "tags": []
   },
   "outputs": [],
   "source": [
    "c3.Genai.SourceFile.removeAll({}, True)"
   ]
  },
  {
   "cell_type": "code",
   "execution_count": null,
   "id": "60238059-7f75-4bac-b063-5bd658231894",
   "metadata": {
    "tags": []
   },
   "outputs": [],
   "source": [
    "assert len(c3.Genai.SourceFile.fetch().objs) == 0"
   ]
  },
  {
   "cell_type": "code",
   "execution_count": null,
   "id": "0fe47131-f436-44cf-ab28-0d0a6e5be936",
   "metadata": {
    "tags": []
   },
   "outputs": [],
   "source": [
    "# add metadata lambda function\n",
    "def applyMetadata(file):\n",
    "    import re\n",
    "    file_info = file.originalFile.fileName().split(\".\")\n",
    "    doc_type = None\n",
    "    doc_type = file_info[1]\n",
    "    tags = [\"cornea\"]\n",
    "    return c3.Genai.SourceFile.Metadata(fileName=file_info[0], tags=tags, fileType=doc_type)"
   ]
  },
  {
   "cell_type": "code",
   "execution_count": null,
   "id": "f6757080-5928-4932-82a0-6191ab3e63f6",
   "metadata": {
    "tags": []
   },
   "outputs": [],
   "source": [
    "# Notebook\n",
    "c3.Genai.SourceCollection.forId(customerName).setMetadataConfig({\"embedMetadata\": True})\n",
    "c3.Genai.SourceCollection.forId(customerName).config()"
   ]
  },
  {
   "cell_type": "code",
   "execution_count": null,
   "id": "8a876d65-a34d-41d3-afff-9a79730da10c",
   "metadata": {
    "tags": []
   },
   "outputs": [],
   "source": [
    "# Notebook\n",
    "func = c3.Lambda.fromPyFunc(applyMetadata)\n",
    "c3.Genai.SourceCollection.forId(customerName).withSyncMetadataLambda(func).upsert()"
   ]
  },
  {
   "cell_type": "code",
   "execution_count": null,
   "id": "b1012110-386f-4331-b18b-088ffa6d81f5",
   "metadata": {
    "tags": []
   },
   "outputs": [],
   "source": [
    "c3.Genai.SourceCollection.forId(customerName)"
   ]
  },
  {
   "cell_type": "code",
   "execution_count": null,
   "id": "71ff96b1-9b8e-47da-95c2-6098db171ee0",
   "metadata": {
    "tags": []
   },
   "outputs": [],
   "source": [
    "sfs = c3.Genai.SourceFile.fetch()\n",
    "print(sfs)"
   ]
  },
  {
   "cell_type": "code",
   "execution_count": null,
   "id": "294b00ca-44bd-447d-b12d-f2c106b152cd",
   "metadata": {
    "tags": []
   },
   "outputs": [],
   "source": [
    "# Notebook\n",
    "c3.Genai.SourceCollection.forId(customerName).sync()"
   ]
  },
  {
   "cell_type": "code",
   "execution_count": null,
   "id": "efed483a-5723-483a-82b5-557ccae7f961",
   "metadata": {
    "tags": []
   },
   "outputs": [],
   "source": [
    "sfs = c3.Genai.SourceFile.fetch()\n",
    "print(sfs)"
   ]
  },
  {
   "cell_type": "code",
   "execution_count": null,
   "id": "1990e1e4-e161-4f8b-912e-dffa016013ad",
   "metadata": {
    "tags": []
   },
   "outputs": [],
   "source": [
    "# wait for the sync operation to finish"
   ]
  },
  {
   "cell_type": "markdown",
   "id": "c25746e5-84b4-4dd9-a8f9-13d4b92ce085",
   "metadata": {},
   "source": [
    "## Index"
   ]
  },
  {
   "cell_type": "code",
   "execution_count": null,
   "id": "0adb71cd-f284-4254-b0e2-acc0ef3a9ddf",
   "metadata": {
    "tags": []
   },
   "outputs": [],
   "source": [
    "txs = c3.Genai.SourceFile.TextSplitter.Spec.make({'textSplitter': 'TokenTextSplitter'})"
   ]
  },
  {
   "cell_type": "code",
   "execution_count": null,
   "id": "87c8fc13-6cfa-4e0f-9d4c-d591f0514aca",
   "metadata": {
    "tags": []
   },
   "outputs": [],
   "source": [
    "pdfChunkerSpec = c3.Genai.SourceFile.Chunker.UniversalChunker.Spec.make({'chunker': c3.Genai.SourceFile.Chunker.PyPdf, 'textSplitters': [txs]})"
   ]
  },
  {
   "cell_type": "code",
   "execution_count": null,
   "id": "25232a3c-5a58-4908-8842-f986c88d9c6d",
   "metadata": {
    "tags": []
   },
   "outputs": [],
   "source": [
    "fileExtMap = {\n",
    "  '.pdf': pdfChunkerSpec,\n",
    "}\n",
    "\n",
    "chunkerSpec = c3.Genai.SourceFile.Chunker.UniversalChunker.Spec.make({'chunker': c3.Genai.SourceFile.Chunker.Universal, 'textSplitters': [txs], 'fileExtToChunkerSpecMap': fileExtMap})"
   ]
  },
  {
   "cell_type": "code",
   "execution_count": null,
   "id": "dae4f1a3-4808-4ecf-88d0-4eaab428a7b8",
   "metadata": {
    "tags": []
   },
   "outputs": [],
   "source": [
    "chunkerSpec"
   ]
  },
  {
   "cell_type": "code",
   "execution_count": null,
   "id": "697bc056-8c27-45b5-8ea9-d95718f19b45",
   "metadata": {
    "tags": []
   },
   "outputs": [],
   "source": [
    "# clear queues before anything is executed!!!"
   ]
  },
  {
   "cell_type": "code",
   "execution_count": null,
   "id": "c0b09206-089a-493a-bf98-2040d2690839",
   "metadata": {},
   "outputs": [],
   "source": [
    "# Console\n",
    "# run in single batches to avoid r/w corruption\n",
    "var batchSize = 1;\n",
    "var spec = BatchFetchSpec.builder().batchSize(batchSize).include(\"id, this\").filter(\"!exists(passagesFile)\").build();\n",
    " \n",
    "job = ObjBatchMapReduceJob.forId(Genai.SourceFile.eachObjBatch(spec, (objs, ctx) => {\n",
    "    txs = Genai.SourceFile.TextSplitter.Spec.make({'textSplitter': 'TokenTextSplitter'});\n",
    "    pdfChunkerSpec = Genai.SourceFile.Chunker.UniversalChunker.Spec.make({'chunker': Genai.SourceFile.Chunker.PyPdf, 'textSplitters': [txs]})\n",
    "\n",
    " \n",
    "    fileExtMap = {\n",
    "      '.pdf': pdfChunkerSpec,\n",
    "    }\n",
    " \n",
    "    chunkerSpec = Genai.SourceFile.Chunker.UniversalChunker.Spec.make({'chunker': Genai.SourceFile.Chunker.Universal, 'textSplitters': [txs], 'fileExtToChunkerSpecMap': fileExtMap})\n",
    "    chunkerSpec.chunker.chunkFilesBatch(objs, chunkerSpec);\n",
    "}))"
   ]
  },
  {
   "cell_type": "markdown",
   "id": "0e3230e6-a6c3-4ab5-9d79-262466c30f0e",
   "metadata": {},
   "source": [
    "### Wait for job to complete\n",
    "monitor job\n",
    "\n",
    "```js\n",
    "while (job.status != \"complete\"\n",
    "```"
   ]
  },
  {
   "cell_type": "markdown",
   "id": "3ec8480c-fdc4-495e-9461-3c4fc811af5b",
   "metadata": {
    "execution": {
     "iopub.execute_input": "2024-01-11T21:26:13.155350Z",
     "iopub.status.busy": "2024-01-11T21:26:13.154538Z",
     "iopub.status.idle": "2024-01-11T21:26:13.888244Z",
     "shell.execute_reply": "2024-01-11T21:26:13.887110Z",
     "shell.execute_reply.started": "2024-01-11T21:26:13.155320Z"
    },
    "tags": []
   },
   "source": [
    "Console check, should be 0\n",
    "```js\n",
    "Genai.SourceFile.fetchCount({filter: \"!exists(passagesFile)\"});\n",
    "```"
   ]
  },
  {
   "cell_type": "code",
   "execution_count": null,
   "id": "9cfadc82-cab3-4242-9c1c-e8de25a6cef7",
   "metadata": {
    "tags": []
   },
   "outputs": [],
   "source": [
    "## Validate that Remote Retriever Service not being Used"
   ]
  },
  {
   "cell_type": "code",
   "execution_count": null,
   "id": "4258b5db-ce4b-4e76-957c-f5c15675f7c9",
   "metadata": {
    "tags": []
   },
   "outputs": [],
   "source": [
    "def _dispatch_remote(this):\n",
    "    # If useRemote is True and we are not already in the remote App, send the request to the remote Microservice\n",
    "    return config(this).useRemote and c3.pkg().name() != \"genAiRetrieverService\""
   ]
  },
  {
   "cell_type": "code",
   "execution_count": null,
   "id": "9f9b397f-8fe4-4dc6-873c-155d150a0807",
   "metadata": {
    "tags": []
   },
   "outputs": [],
   "source": [
    "c3.Genai.Retriever.ColBERT.DataConfig(name=customerName).setConfigValue(\"useRemote\", False)"
   ]
  },
  {
   "cell_type": "code",
   "execution_count": null,
   "id": "d089d54a-fffa-49b9-9713-a3e0f8c53fe4",
   "metadata": {
    "tags": []
   },
   "outputs": [],
   "source": [
    "c3.Genai.Retriever.ColBERT.DataConfig(name=customerName).getConfig()"
   ]
  },
  {
   "cell_type": "code",
   "execution_count": null,
   "id": "e4186358-9a3e-44ab-94e1-b40bc41e3187",
   "metadata": {
    "tags": []
   },
   "outputs": [],
   "source": [
    "# Notebook\n",
    "mergedPassages = sourceCollection.mergedPassages(True, True)"
   ]
  },
  {
   "cell_type": "code",
   "execution_count": null,
   "id": "573be297-5f3d-4113-a7e2-f653ee5e3d66",
   "metadata": {
    "tags": []
   },
   "outputs": [],
   "source": [
    "mergedPassages"
   ]
  },
  {
   "cell_type": "code",
   "execution_count": null,
   "id": "875dd37d-5baa-4fe8-b8d2-8fd817268096",
   "metadata": {
    "tags": []
   },
   "outputs": [],
   "source": [
    "# Notebook check, should be NOT empty\n",
    "sourceCollectionPassages = sourceCollection.readPassages()"
   ]
  },
  {
   "cell_type": "code",
   "execution_count": null,
   "id": "89c2f0f7-0b49-429b-a04f-51a534cd45a6",
   "metadata": {
    "scrolled": true,
    "tags": []
   },
   "outputs": [],
   "source": [
    "print(sourceCollectionPassages)"
   ]
  },
  {
   "cell_type": "code",
   "execution_count": null,
   "id": "4650bc82-0a36-412d-bc6a-8c7938b930df",
   "metadata": {
    "tags": []
   },
   "outputs": [],
   "source": [
    "\"\"\"\n",
    "At this point we have passages that can be indexed\n",
    "\"\"\""
   ]
  },
  {
   "cell_type": "code",
   "execution_count": null,
   "id": "eff02a5c-c7d3-4462-9567-2958993a3c33",
   "metadata": {
    "tags": []
   },
   "outputs": [],
   "source": [
    "# Notebook\n",
    "indexZipUrl = c3.FileSystem.mounts().get(\"vector-store\") + \"vectorStore.zip\";\n",
    "indexZipUrl"
   ]
  },
  {
   "cell_type": "code",
   "execution_count": null,
   "id": "41864e7a-9d7a-4012-be9d-e3388fdfaedb",
   "metadata": {
    "tags": []
   },
   "outputs": [],
   "source": [
    "indexZipUrl"
   ]
  },
  {
   "cell_type": "code",
   "execution_count": null,
   "id": "af595423-2139-435a-b53c-e98bbc1f62b5",
   "metadata": {
    "tags": []
   },
   "outputs": [],
   "source": [
    "c3.FileSystem.inst().listFiles(indexZipUrl).files"
   ]
  },
  {
   "cell_type": "code",
   "execution_count": null,
   "id": "e82d953c-bc86-4e47-94da-232d99690720",
   "metadata": {
    "tags": []
   },
   "outputs": [],
   "source": [
    "# Notebook\n",
    "c3.Genai.Retriever.ColBERT.DataConfig.make({\"name\": customerName}).getConfig().setConfigValue(\"indexZipUrl\", indexZipUrl);"
   ]
  },
  {
   "cell_type": "code",
   "execution_count": null,
   "id": "50d36d73-e73c-4de4-9122-4016adf2dc3a",
   "metadata": {
    "tags": []
   },
   "outputs": [],
   "source": [
    "c3.Genai.Retriever.ColBERT.DataConfig.make({\"name\": customerName}).getConfig()"
   ]
  },
  {
   "cell_type": "code",
   "execution_count": null,
   "id": "fae191d7-55ec-47b6-899a-11007cd12582",
   "metadata": {
    "tags": []
   },
   "outputs": [],
   "source": [
    "customerName"
   ]
  },
  {
   "cell_type": "markdown",
   "id": "4b2c0b30-a30b-4144-8ec4-1f3600d446f1",
   "metadata": {
    "execution": {
     "iopub.execute_input": "2024-01-10T22:33:50.030264Z",
     "iopub.status.busy": "2024-01-10T22:33:50.029089Z",
     "iopub.status.idle": "2024-01-10T22:33:50.036032Z",
     "shell.execute_reply": "2024-01-10T22:33:50.034808Z",
     "shell.execute_reply.started": "2024-01-10T22:33:50.030222Z"
    },
    "tags": []
   },
   "source": [
    "### Run in console.\n",
    "\n",
    "``` js\n",
    "function serializeArray(typeName, typeArray) {\n",
    "    var retVal = [];\n",
    "    for (i = 0; i < typeArray.length; i++) {\n",
    "        retVal.push(typeName.make(typeArray[i]))\n",
    "    }\n",
    "    return retVal;\n",
    "}\n",
    "var gsc = Genai.SourceCollection.forId(customerName).get(\"this\");\n",
    "var passages = gsc.readPassages()\n",
    "passages = serializeArray(Genai.SourcePassage, passages)\n",
    "// this is for if you only want to do a subsection vs iteratively\n",
    "// passages = serializeArray(Genai.SourcePassage, passages.slice(0, 5))\n",
    "```"
   ]
  },
  {
   "cell_type": "markdown",
   "id": "3ac84c8b-4a1f-4348-be1e-45614058daa9",
   "metadata": {
    "execution": {
     "iopub.execute_input": "2024-01-08T17:52:58.322797Z",
     "iopub.status.busy": "2024-01-08T17:52:58.321745Z",
     "iopub.status.idle": "2024-01-08T17:52:58.444847Z",
     "shell.execute_reply": "2024-01-08T17:52:58.444128Z",
     "shell.execute_reply.started": "2024-01-08T17:52:58.322731Z"
    },
    "tags": []
   },
   "source": [
    "### Run in console\n",
    "\n",
    "```js\n",
    "// customerName = <output of above cell>\n",
    "var gsc = Genai.SourceCollection.forId(customerName).get(\"this\");\n",
    "var passages = gsc.readPassages()\n",
    "var vs = Genai.Retriever.ColBERT.forId(customerName).get(\"this\");\n",
    "vs.indexPassages(passages)\n",
    "```"
   ]
  },
  {
   "cell_type": "code",
   "execution_count": null,
   "id": "e5be4580-c232-48a4-aaaa-83ead19367b7",
   "metadata": {
    "tags": []
   },
   "outputs": [],
   "source": [
    "indexZipUrl"
   ]
  },
  {
   "cell_type": "code",
   "execution_count": null,
   "id": "f40db7fb-a6c2-4862-ac2f-a9127321c77b",
   "metadata": {
    "tags": []
   },
   "outputs": [],
   "source": [
    "# should be non-empty\n",
    "c3.FileSystem.inst().listFiles(indexZipUrl).files"
   ]
  },
  {
   "cell_type": "code",
   "execution_count": null,
   "id": "86637cc5-882b-4554-9224-0899ac8ebf76",
   "metadata": {
    "tags": []
   },
   "outputs": [],
   "source": [
    "\"\"\"\n",
    "At this point index should be created\n",
    "\"\"\""
   ]
  },
  {
   "cell_type": "markdown",
   "id": "7f2d58b6-0784-4be9-935b-6458d8888c58",
   "metadata": {},
   "source": [
    "## Init Orchestrator, Chatbot, and Tools"
   ]
  },
  {
   "cell_type": "code",
   "execution_count": null,
   "id": "985ecb65-6df0-45cd-ac66-00a4859d4956",
   "metadata": {
    "tags": []
   },
   "outputs": [],
   "source": [
    "# orchestrator"
   ]
  },
  {
   "cell_type": "markdown",
   "id": "75aa7aef-47ea-4ab0-a81d-af1db0cb1333",
   "metadata": {},
   "source": [
    "**Before running the below cell, be sure to remove all the jsons in \"/gurusearch/gen/cache/Pkg.issue\"**"
   ]
  },
  {
   "cell_type": "code",
   "execution_count": null,
   "id": "e3c1a950-a7d1-4340-b5f6-81eccf0e558b",
   "metadata": {
    "tags": []
   },
   "outputs": [],
   "source": [
    "orchestrator = c3.Genai.Agent.QueryOrchestrator(name='QueryOrchestrator_default')\n",
    "orchestrator.ensureInitialized(True)"
   ]
  },
  {
   "cell_type": "code",
   "execution_count": null,
   "id": "1e74f5e5-dfc4-468a-be95-59913b577800",
   "metadata": {},
   "outputs": [],
   "source": [
    "# query engine"
   ]
  },
  {
   "cell_type": "code",
   "execution_count": null,
   "id": "caa2156d-7b49-4a5b-a9f4-cf48cf0fa9c4",
   "metadata": {
    "tags": []
   },
   "outputs": [],
   "source": [
    "vs = c3.Genai.Retriever.ColBERT.forId(customerName)\n",
    "\n",
    "c3.Genai.UnstructuredQuery.Engine.Config.inst() \\\n",
    "    .withName('alabamaBond') \\\n",
    "    .withVectorStore(vs) \\\n",
    "    .withModelConfigName('azureDavinci') \\\n",
    "    .withExtractionModelConfigName('azureDavinci') \\\n",
    "    .withQuestionRewritingModelConfigName('azureDavinci') \\\n",
    "    .withFramework(c3.Genai.UnstructuredQuery.Framework.RA) \\\n",
    "    .withPromptConfigName(\"raDefault\") \\\n",
    "    .withExecutorParams({\"maxHops\": 1, \"numSources\": 4, \"previousContextSelector\": True}) \\\n",
    "    .withNumPassages(4) \\\n",
    "    .setConfig()\n",
    "\n",
    "c3.Genai.UnstructuredQuery.Engine.Config.setDefault(\"alabamaBond\")\n",
    "c3.Genai.UnstructuredQuery.Engine.initialize()"
   ]
  },
  {
   "cell_type": "code",
   "execution_count": null,
   "id": "fd9b7005-6431-426d-88e8-da5adadaff59",
   "metadata": {
    "tags": []
   },
   "outputs": [],
   "source": [
    "c3.Genai.UnstructuredQuery.Engine.Config.inst()"
   ]
  },
  {
   "cell_type": "code",
   "execution_count": null,
   "id": "0316775b-d7f1-4669-b42f-98e715a44730",
   "metadata": {
    "tags": []
   },
   "outputs": [],
   "source": [
    "# chatbot"
   ]
  },
  {
   "cell_type": "code",
   "execution_count": null,
   "id": "aa594485-2b06-43cd-b2d6-89a8d85c35f0",
   "metadata": {
    "tags": []
   },
   "outputs": [],
   "source": [
    "c3.Genai.ChatBot.Config().setConfigValue(\"handlerTypeName\", \"Genai.Agent.QueryOrchestrator\")"
   ]
  },
  {
   "cell_type": "code",
   "execution_count": null,
   "id": "75ab26a1-76d3-4332-bcf5-7f7ddf102441",
   "metadata": {
    "tags": []
   },
   "outputs": [],
   "source": [
    "# tracktool init because seeding is inconsistent"
   ]
  },
  {
   "cell_type": "code",
   "execution_count": null,
   "id": "5dea5583-b5c2-4fc1-8c55-267e72c71ad5",
   "metadata": {
    "tags": []
   },
   "outputs": [],
   "source": [
    "customerName"
   ]
  },
  {
   "cell_type": "code",
   "execution_count": null,
   "id": "93704a5a-582f-4584-830e-b96e213d57b2",
   "metadata": {
    "tags": []
   },
   "outputs": [],
   "source": [
    "c3.Pkg.setDevMode(True)"
   ]
  },
  {
   "cell_type": "code",
   "execution_count": null,
   "id": "e31a38c3-99c0-4ee7-87a0-dddb731f4f67",
   "metadata": {
    "tags": []
   },
   "outputs": [],
   "source": [
    "# track_tool_name = customerName\n",
    "# trackTool = c3.Genai.TrackTool(id=track_tool_name).upsert()\n",
    "trackTool = c3.Genai.TrackTool.forId('TrackTool_default')\n",
    "trackTool.config().setConfigValue(\"toolName\", \"trackTool()\")\n",
    "trackTool.config().setConfigValue(\"toolDescription\", \"trackTool() : the track tool will query the track api based on information about location latitude longitude date datetime and bounding box\")\n",
    "trackTool.config().setConfigValue(\"textAnswerFromDataPrompt\", \"{input} \\n Output all of the dates and latudes and longitudes from the data: this is the data {observation}\")\n",
    "trackTool.config().setConfigValue(\"textAnswerFromDataModelConfigName\", \"default_openai_model\")\n",
    "trackTool.config()"
   ]
  },
  {
   "cell_type": "code",
   "execution_count": null,
   "id": "e0b2b5c4-30d8-4a10-9429-0b1a1b3e798c",
   "metadata": {
    "tags": []
   },
   "outputs": [],
   "source": [
    "trackTool.config().setConfigValue(\"doNotGenerateAnswerFromLlm\", \"true\")\n",
    "trackTool.config().setConfigValue(\"textAnswerFromDataModelConfigName\", \"default_openai_model\")\n",
    "trackTool.config().setConfigValue(\"numRowsForLlm\", \"1\")\n",
    "trackTool.config()"
   ]
  },
  {
   "cell_type": "code",
   "execution_count": null,
   "id": "86d6de2a-5cc3-4357-b336-c94d994751dd",
   "metadata": {
    "tags": []
   },
   "outputs": [],
   "source": [
    "# get all tools"
   ]
  },
  {
   "cell_type": "code",
   "execution_count": null,
   "id": "890ceec5-a6d8-4447-a30b-ba020a32509a",
   "metadata": {
    "tags": []
   },
   "outputs": [],
   "source": [
    "unstructured = c3.Genai.Agent.Tool.forId(\"UnstructuredQueryTool_default\")\n",
    "unstructured"
   ]
  },
  {
   "cell_type": "code",
   "execution_count": null,
   "id": "220b951a-3dda-4145-bbf4-22c535cd9f32",
   "metadata": {
    "tags": []
   },
   "outputs": [],
   "source": [
    "tracktool = c3.Genai.TrackTool.forId(id='TrackTool_default')\n",
    "tracktool.initialize(True)"
   ]
  },
  {
   "cell_type": "code",
   "execution_count": null,
   "id": "d04d74c4-2821-46a8-a4aa-3fac920491f2",
   "metadata": {
    "tags": []
   },
   "outputs": [],
   "source": [
    "tracktool"
   ]
  },
  {
   "cell_type": "code",
   "execution_count": null,
   "id": "5d459016-c024-43fc-83fe-66918cd80a85",
   "metadata": {
    "tags": []
   },
   "outputs": [],
   "source": [
    "distancecalc = c3.Genai.DistanceCalculationTool.forId(\"DistanceCalculationTool_default\")\n",
    "distancecalc"
   ]
  },
  {
   "cell_type": "code",
   "execution_count": null,
   "id": "5b2ef89a-e4c8-46da-a488-3eee20fa451f",
   "metadata": {
    "tags": []
   },
   "outputs": [],
   "source": [
    "c3.Genai.Agent.Toolkit.fetch()"
   ]
  },
  {
   "cell_type": "code",
   "execution_count": null,
   "id": "9389a56b-2a31-45f5-a805-e26fd829fefc",
   "metadata": {
    "tags": []
   },
   "outputs": [],
   "source": [
    "# update toolkit for all tools \n",
    "# For SNE use only\n",
    "toolkit_genai = c3.Genai.Agent.Toolkit(name=\"QueryOrchestrator_default\", tools = [unstructured, trackTool, distancecalc], description = \"track toolkit\").upsert()"
   ]
  },
  {
   "cell_type": "code",
   "execution_count": null,
   "id": "f5f9b6b5-23f6-470d-bb7a-61edbdf2ff9c",
   "metadata": {
    "tags": []
   },
   "outputs": [],
   "source": [
    "toolkit_genai = c3.Genai.Agent.Toolkit.forName(\"QueryOrchestrator_default\")"
   ]
  },
  {
   "cell_type": "code",
   "execution_count": null,
   "id": "cf6491f8-7a5c-432e-ad3f-e5a341c3c1c7",
   "metadata": {
    "tags": []
   },
   "outputs": [],
   "source": [
    "toolkit_genai"
   ]
  },
  {
   "cell_type": "code",
   "execution_count": null,
   "id": "6dce861d-b133-41cd-a52a-7b415c89df50",
   "metadata": {
    "tags": []
   },
   "outputs": [],
   "source": [
    "toolkit_genai"
   ]
  },
  {
   "cell_type": "code",
   "execution_count": null,
   "id": "f3f24d8c-2f51-4f3d-b749-3fbfba7cce98",
   "metadata": {
    "tags": []
   },
   "outputs": [],
   "source": [
    "# get orchestrator\n",
    "orchestrator = c3.Genai.Agent.QueryOrchestrator(name=\"QueryOrchestrator_default\")\n",
    "orchestrator.ensureInitialized(True)"
   ]
  },
  {
   "cell_type": "markdown",
   "id": "29e30dd5-0833-48ed-b12b-b83bc865eb8b",
   "metadata": {
    "execution": {
     "iopub.execute_input": "2023-12-27T07:06:48.445068Z",
     "iopub.status.busy": "2023-12-27T07:06:48.443932Z",
     "iopub.status.idle": "2023-12-27T07:06:48.462626Z",
     "shell.execute_reply": "2023-12-27T07:06:48.461673Z",
     "shell.execute_reply.started": "2023-12-27T07:06:48.445035Z"
    },
    "tags": []
   },
   "source": [
    "## Test"
   ]
  },
  {
   "cell_type": "code",
   "execution_count": null,
   "id": "3e511ade-ba4f-4f3d-bd8b-227124d52536",
   "metadata": {
    "tags": []
   },
   "outputs": [],
   "source": [
    "import random\n",
    "get_id = lambda x: x + str(random.randint(0, 9999999999))"
   ]
  },
  {
   "cell_type": "markdown",
   "id": "ea69ea2e-df32-4b8e-ab4c-aa7b41521f7c",
   "metadata": {
    "tags": []
   },
   "source": [
    "## Question 1: Distance Calc"
   ]
  },
  {
   "cell_type": "code",
   "execution_count": null,
   "id": "25348283-ee11-40e9-9c3e-cd2404f05f04",
   "metadata": {
    "tags": []
   },
   "outputs": [],
   "source": [
    "c3.Genai.UnstructuredQuery.Engine.stopAllHandlers()\n",
    "c3.Py.closeAllPy4jInterpreters()"
   ]
  },
  {
   "cell_type": "code",
   "execution_count": null,
   "id": "1b6d0e8a-9957-4fb6-9597-b20646e63bb5",
   "metadata": {
    "tags": []
   },
   "outputs": [],
   "source": [
    "get_id(\"q_1_\")"
   ]
  },
  {
   "cell_type": "code",
   "execution_count": null,
   "id": "ba717061-f715-4887-ae2e-4c78e21334be",
   "metadata": {
    "tags": []
   },
   "outputs": [],
   "source": [
    "q = \"How far is Lhasa Gonggar airport from Chengdu Shuangliu international airport?\""
   ]
  },
  {
   "cell_type": "code",
   "execution_count": null,
   "id": "dfd86a4d-3888-49aa-8650-20263d62ce0b",
   "metadata": {
    "tags": []
   },
   "outputs": [],
   "source": [
    "evalRes = c3.Genai.Query.Result(searchQuery=c3.Genai.Query.fromString(\"What is the PL-21?\")).upsert().get()"
   ]
  },
  {
   "cell_type": "code",
   "execution_count": null,
   "id": "63bc817c-150f-47d1-b946-b19e047e6c0c",
   "metadata": {
    "tags": []
   },
   "outputs": [],
   "source": [
    "evalRes = c3.Genai.Query.Result(id=get_id(\"q_1_\"),searchQuery=c3.Genai.Query(rawQuery=q,baseQuery=q, standaloneQuery=q)).upsert().get(\"this\")"
   ]
  },
  {
   "cell_type": "code",
   "execution_count": null,
   "id": "7de4e69a-2a11-42e9-abec-07ffd2d4c795",
   "metadata": {
    "tags": []
   },
   "outputs": [],
   "source": [
    "res = orchestrator.query(evalRes)"
   ]
  },
  {
   "cell_type": "code",
   "execution_count": null,
   "id": "fd305170-954a-42cb-8b36-72206ca0d189",
   "metadata": {
    "tags": []
   },
   "outputs": [],
   "source": [
    "res"
   ]
  },
  {
   "cell_type": "code",
   "execution_count": null,
   "id": "83fd3644-696a-4f43-91cf-233364944e9a",
   "metadata": {
    "tags": []
   },
   "outputs": [],
   "source": [
    "res"
   ]
  },
  {
   "cell_type": "markdown",
   "id": "48725497-5ec3-47cc-b4b6-ce5a0b1411d6",
   "metadata": {
    "execution": {
     "iopub.execute_input": "2023-12-27T07:08:11.217903Z",
     "iopub.status.busy": "2023-12-27T07:08:11.216719Z",
     "iopub.status.idle": "2023-12-27T07:08:11.221995Z",
     "shell.execute_reply": "2023-12-27T07:08:11.221144Z",
     "shell.execute_reply.started": "2023-12-27T07:08:11.217860Z"
    },
    "tags": []
   },
   "source": [
    "## Question 2: Track Tool"
   ]
  },
  {
   "cell_type": "code",
   "execution_count": null,
   "id": "4ce26183-ed96-46d5-a77f-35f601c8d48c",
   "metadata": {
    "tags": []
   },
   "outputs": [],
   "source": [
    "q = \"what tracks from lat 10.0 to 90.0 and lon 10.0 to 180.0 on September 20, 2023 and callSign of 1349215073?\"\n",
    "\n",
    "evalRes = c3.Genai.Query.Result(id=get_id(\"q_2_\"),searchQuery= c3.Genai.Query(rawQuery=q,baseQuery=q, standaloneQuery=q)).upsert().get()"
   ]
  },
  {
   "cell_type": "code",
   "execution_count": null,
   "id": "d673a5ee-b886-4ec4-b96b-4abedc3c0164",
   "metadata": {
    "tags": []
   },
   "outputs": [],
   "source": [
    "res = orchestrator.query(evalRes)"
   ]
  },
  {
   "cell_type": "code",
   "execution_count": null,
   "id": "9f5c8b46-3493-49cc-aaa9-d44448f8770d",
   "metadata": {
    "tags": []
   },
   "outputs": [],
   "source": [
    "res"
   ]
  },
  {
   "cell_type": "code",
   "execution_count": null,
   "id": "f3dcf51a-50c8-403c-8657-2ffd8aeca943",
   "metadata": {
    "tags": []
   },
   "outputs": [],
   "source": [
    "res"
   ]
  },
  {
   "cell_type": "markdown",
   "id": "f2975458-e902-42fd-bde9-5bd8e961719d",
   "metadata": {},
   "source": [
    "## Question 3: Unstructured"
   ]
  },
  {
   "cell_type": "code",
   "execution_count": null,
   "id": "ad2eb3ff-9a38-4bb9-b752-614b492fca7e",
   "metadata": {
    "tags": []
   },
   "outputs": [],
   "source": [
    "q = \"What is China's latest radar guided long range air-to-air missle?\"\n",
    "\n",
    "evalRes = c3.Genai.Query.Result(id=get_id(\"q_3_\"),searchQuery=c3.Genai.Query(rawQuery=q,baseQuery=q, standaloneQuery=q)).upsert().get(\"this\")"
   ]
  },
  {
   "cell_type": "code",
   "execution_count": null,
   "id": "63f5b2c6-11a9-4f9d-a0b0-d505efbfa7c8",
   "metadata": {
    "tags": []
   },
   "outputs": [],
   "source": [
    "res = orchestrator.query(evalRes)"
   ]
  },
  {
   "cell_type": "code",
   "execution_count": null,
   "id": "b3f3b521-6c71-4e7a-97a3-ade2e88ecf86",
   "metadata": {
    "tags": []
   },
   "outputs": [],
   "source": [
    "res"
   ]
  },
  {
   "cell_type": "markdown",
   "id": "14e41c7a-0d3c-44e2-ad09-b3035a03adb2",
   "metadata": {},
   "source": [
    "## Question 4: Unstructured "
   ]
  },
  {
   "cell_type": "code",
   "execution_count": null,
   "id": "9b8cbea9-c372-4050-ba77-69b5cafb13e2",
   "metadata": {
    "tags": []
   },
   "outputs": [],
   "source": [
    "q = \"What type of engine does the PL-21 have?\"\n",
    "evalRes = c3.Genai.Query.Result(id=get_id(\"q_4_\"),searchQuery=c3.Genai.Query(rawQuery=q,baseQuery=q, standaloneQuery=q)).upsert().get(\"this\")"
   ]
  },
  {
   "cell_type": "code",
   "execution_count": null,
   "id": "7c1eb450-adea-4769-a857-a1599c314405",
   "metadata": {
    "tags": []
   },
   "outputs": [],
   "source": [
    "res = orchestrator.query(evalRes)"
   ]
  },
  {
   "cell_type": "code",
   "execution_count": null,
   "id": "7efefc82-6c95-45ad-b7cf-d8869f56a9c7",
   "metadata": {
    "tags": []
   },
   "outputs": [],
   "source": [
    "res"
   ]
  },
  {
   "cell_type": "code",
   "execution_count": null,
   "id": "3e5137fa-9c68-4e61-a264-f2bfe1ab90c3",
   "metadata": {
    "tags": []
   },
   "outputs": [],
   "source": [
    "res"
   ]
  },
  {
   "cell_type": "markdown",
   "id": "b1f4f686-098b-4fb6-a0df-10c9695db850",
   "metadata": {},
   "source": [
    "## Question 5: Unstructured"
   ]
  },
  {
   "cell_type": "code",
   "execution_count": null,
   "id": "53198873-3a7f-4e80-8e66-cc3112f5e531",
   "metadata": {
    "tags": []
   },
   "outputs": [],
   "source": [
    "q = \"What aircraft can arm the PL-21?\"\n",
    "evalRes = c3.Genai.Query.Result(id=get_id(\"q_5_\"),searchQuery=c3.Genai.Query(rawQuery=q,baseQuery=q, standaloneQuery=q)).upsert().get(\"this\")"
   ]
  },
  {
   "cell_type": "code",
   "execution_count": null,
   "id": "bc6daa7c-9f71-4f4c-98f4-85aeb3713784",
   "metadata": {
    "tags": []
   },
   "outputs": [],
   "source": [
    "res = orchestrator.query(evalRes)"
   ]
  },
  {
   "cell_type": "code",
   "execution_count": null,
   "id": "ecb46391-8355-4d6c-b8cb-1771acba1e2e",
   "metadata": {
    "tags": []
   },
   "outputs": [],
   "source": [
    "res"
   ]
  },
  {
   "cell_type": "code",
   "execution_count": null,
   "id": "36293838-5554-4d44-91a5-4676c9d8e42d",
   "metadata": {
    "tags": []
   },
   "outputs": [],
   "source": [
    "res"
   ]
  },
  {
   "cell_type": "code",
   "execution_count": null,
   "id": "68fefd12-cabe-4ade-8b21-19fc0eda5ae8",
   "metadata": {},
   "outputs": [],
   "source": []
  }
 ],
 "metadata": {
  "has_local_update": false,
  "is_local": true,
  "is_remote": true,
  "kernelspec": {
   "display_name": "py-data-science",
   "language": "python",
   "name": "py-data-science"
  },
  "language_info": {
   "codemirror_mode": {
    "name": "ipython",
    "version": 3
   },
   "file_extension": ".py",
   "mimetype": "text/x-python",
   "name": "python",
   "nbconvert_exporter": "python",
   "pygments_lexer": "ipython3",
   "version": "3.9.18"
  },
  "last_sync_time": "2024-01-11T21:02:32.566440"
 },
 "nbformat": 4,
 "nbformat_minor": 5
}
