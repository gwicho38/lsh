{
 "cells": [
  {
   "cell_type": "code",
   "execution_count": null,
   "metadata": {},
   "outputs": [],
   "source": [
    "c3server/tools/bundler/test/subProcesses/setupWorkingDir/createPackageJsonFiles.test.ts\n"
   ]
  },
  {
   "cell_type": "code",
   "execution_count": null,
   "metadata": {},
   "outputs": [],
   "source": [
    "c3server/platform/zoo/src/test/java/c3/platform/security/authz/Authorizer_Test.java\n"
   ]
  },
  {
   "cell_type": "code",
   "execution_count": null,
   "metadata": {},
   "outputs": [],
   "source": [
    "https://c3energy.atlassian.net/wiki/spaces/~634705bfcba49e29097196eb/pages/8489665256/V8+Development+on+SuiteCase"
   ]
  },
  {
   "cell_type": "code",
   "execution_count": null,
   "metadata": {},
   "outputs": [],
   "source": [
    "var runtimes = [\n",
    "  // 'py-tf-server-py4j',\n",
    "  // 'py-chunker'\n",
    "\n",
    "\n",
    "  'py-data_answering-server-py4j',\n",
    "  'py-transformers-server-py4j',\n",
    "  'py-query_orchestrator-server-py4j',\n",
    "  'py-data_answering-server-py4j-test',\n",
    "  'py-vllm-server-py4j'\n",
    "];\n",
    "\n",
    "runtimes.forEach(function(rt) {\n",
    "    var myFunc = C3.Lambda.fromPySrc('lambda p1, p2: p1 + p2', rt)\n",
    "\n",
    "    console.log(myFunc.call(\"runtime installed: \", rt));\n",
    "});"
   ]
  },
  {
   "cell_type": "code",
   "execution_count": null,
   "metadata": {},
   "outputs": [],
   "source": [
    "https://c3energy.atlassian.net/wiki/spaces/SAM/pages/8252033596/v8+Local+Deployment"
   ]
  },
  {
   "cell_type": "code",
   "execution_count": null,
   "metadata": {},
   "outputs": [],
   "source": [
    "https://c3energy.atlassian.net/wiki/spaces/SAM/pages/8461058246/Building+V8+Server+Locally"
   ]
  },
  {
   "cell_type": "code",
   "execution_count": null,
   "metadata": {},
   "outputs": [],
   "source": [
    "# MAIN\n",
    "\n",
    "## UI \n",
    "\n",
    "## Environment \n",
    "\n",
    "> CRUD environment:\n",
    "\n",
    "```javascript\n",
    "\n",
    "// Setup Env\n",
    "Cluster.startEnv({\n",
    "  \"name\": \"dev\", // your initials\n",
    "  \"singleNode\": true,    // use false so that you can have task nodes.  \n",
    "  \"serverVersion\": \"8.2.0-dev+8777\"\n",
    "});\n",
    "\n",
    "// Setup App\n",
    "var spec = Env.StartAppSpec.make({\n",
    "  \"name\": \"dftest\", \n",
    "  \"rootPkg\": \"demandForecasting\" //, \n",
    "  // \"serverVersion\": \"8.2.0-dev+8777\", // This is not needed for DDEs (single Node = true)\n",
    "});\n",
    "\n",
    "// Start App\n",
    "Env.forName(\"mab\").startApp(spec)\n",
    "\n",
    "// Delete App\n",
    "Env.forName('mab').terminateApp(App.forName('dftest'),true)\n",
    "\n",
    "//Resume Env\n",
    "Cluster.resumeEnv(Env.forName(\"<envname>\"))\n",
    "\n",
    "// Delete Env\n",
    "Cluster.inst().terminateEnv(Env.forName(“<env_name>”), true)\n",
    "\n",
    "\n",
    "\n",
    "```\n",
    "\n",
    "> Set package to dev mode:\n",
    "\n",
    "`Pkg.setDevMode(True)`\n",
    "\n",
    "\n",
    "> Manager c3 cluster environment \n",
    "\n",
    "Cluster\n",
    "\n",
    "> Set App (Vanity) URL \n",
    "\n",
    "AppUrl.make({'id': 'myfqdn.company.com', 'env': 'myenv', 'app': 'myapp'}).upsert()"
   ]
  }
 ],
 "metadata": {
  "language_info": {
   "name": "python"
  }
 },
 "nbformat": 4,
 "nbformat_minor": 2
}
