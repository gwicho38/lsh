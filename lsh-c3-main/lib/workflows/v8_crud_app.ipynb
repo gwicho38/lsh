{
 "cells": [
  {
   "cell_type": "code",
   "execution_count": null,
   "metadata": {},
   "outputs": [],
   "source": [
    "// List App Configs\n",
    "// aka how to get App Id"
   ]
  },
  {
   "cell_type": "code",
   "execution_count": null,
   "metadata": {},
   "outputs": [],
   "source": [
    "App.listConfigs().collect()"
   ]
  },
  {
   "cell_type": "code",
   "execution_count": null,
   "metadata": {},
   "outputs": [],
   "source": [
    "// Upgrade App"
   ]
  },
  {
   "cell_type": "code",
   "execution_count": null,
   "metadata": {},
   "outputs": [],
   "source": [
    "C3.env().upgradeApp(App.forId('<app id>'), {\n",
    "    \"rootPkg\": \"<package name>\",\n",
    "    \"rootPkgVersion\":\"<semantic version>\"\n",
    "  })"
   ]
  },
  {
   "cell_type": "code",
   "execution_count": null,
   "metadata": {},
   "outputs": [],
   "source": [
    "// "
   ]
  }
 ],
 "metadata": {
  "kernelspec": {
   "display_name": "JavaScript (Node.js)",
   "language": "javascript",
   "name": "javascript"
  },
  "language_info": {
   "name": "javascript"
  }
 },
 "nbformat": 4,
 "nbformat_minor": 2
}
