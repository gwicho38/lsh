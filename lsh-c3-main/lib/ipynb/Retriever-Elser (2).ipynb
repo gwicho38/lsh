{
 "cells": [
  {
   "cell_type": "code",
   "execution_count": 1,
   "id": "0ffc0eae-3c31-4d9c-82c7-a68c39e8e68e",
   "metadata": {
    "execution": {
     "iopub.execute_input": "2024-02-29T19:29:01.989899Z",
     "iopub.status.busy": "2024-02-29T19:29:01.989151Z",
     "iopub.status.idle": "2024-02-29T19:29:02.650755Z",
     "shell.execute_reply": "2024-02-29T19:29:02.650082Z",
     "shell.execute_reply.started": "2024-02-29T19:29:01.989861Z"
    },
    "tags": []
   },
   "outputs": [
    {
     "data": {
      "text/plain": [
       "<C3Scope at 0x795a6c3a1220>"
      ]
     },
     "execution_count": 1,
     "metadata": {},
     "output_type": "execute_result"
    }
   ],
   "source": [
    "c3"
   ]
  },
  {
   "cell_type": "code",
   "execution_count": 2,
   "id": "153920c2-4832-4210-aca2-01db9e94a4f8",
   "metadata": {
    "execution": {
     "iopub.execute_input": "2024-02-29T19:29:03.592675Z",
     "iopub.status.busy": "2024-02-29T19:29:03.591736Z",
     "iopub.status.idle": "2024-02-29T19:29:04.721129Z",
     "shell.execute_reply": "2024-02-29T19:29:04.720194Z",
     "shell.execute_reply.started": "2024-02-29T19:29:03.592638Z"
    },
    "tags": []
   },
   "outputs": [
    {
     "name": "stdout",
     "output_type": "stream",
     "text": [
      "# conda environments:\n",
      "#\n",
      "py-colbertfaiss-client-ipython     /home/c3/.conda/envs/py-colbertfaiss-client-ipython\n",
      "base                     /opt/conda\n",
      "py-data-science-client-ipython     /opt/conda/envs/py-data-science-client-ipython\n",
      "\n"
     ]
    }
   ],
   "source": [
    "!conda info --envs"
   ]
  },
  {
   "cell_type": "code",
   "execution_count": 16,
   "id": "3e01ee78-516a-4ee9-a31a-dc80a9b58ecc",
   "metadata": {
    "execution": {
     "iopub.execute_input": "2024-02-29T19:41:05.496499Z",
     "iopub.status.busy": "2024-02-29T19:41:05.495437Z",
     "iopub.status.idle": "2024-02-29T19:41:05.501034Z",
     "shell.execute_reply": "2024-02-29T19:41:05.500238Z",
     "shell.execute_reply.started": "2024-02-29T19:41:05.496439Z"
    },
    "tags": []
   },
   "outputs": [],
   "source": [
    "import logging\n",
    "import sys\n",
    "logger = logging.getLogger()\n",
    "handler = logging.StreamHandler(sys.stdout)\n",
    "logger.addHandler(handler)\n",
    "def isDebugEnabled(self):\n",
    "    return True\n",
    "logger.isDebugEnabled = isDebugEnabled.__get__(logger)"
   ]
  },
  {
   "cell_type": "code",
   "execution_count": null,
   "id": "f8a10b0a-c4ca-4d0b-b557-fc8dea45a1f5",
   "metadata": {},
   "outputs": [],
   "source": [
    "# customerName = \"corneaguru\""
   ]
  },
  {
   "cell_type": "code",
   "execution_count": 28,
   "id": "629e73cb-078d-40c7-908f-5435df860382",
   "metadata": {
    "execution": {
     "iopub.execute_input": "2024-02-29T19:43:32.708824Z",
     "iopub.status.busy": "2024-02-29T19:43:32.708091Z",
     "iopub.status.idle": "2024-02-29T19:43:34.293507Z",
     "shell.execute_reply": "2024-02-29T19:43:34.292673Z",
     "shell.execute_reply.started": "2024-02-29T19:43:32.708774Z"
    },
    "tags": []
   },
   "outputs": [],
   "source": [
    "# Notebook\n",
    "c3.UiSdlMapboxConfig.setSecretValue('accessToken', 'pk.eyJ1IjoiYzNsdWlzZmVybmFuZGV6ZGVsYXZhcmEiLCJhIjoiY2w3Z21oemR0MDYwbDNwcWkzaG5jMnQ4bCJ9.3z8k2ii6JRH_mS8Bl6n-2g')"
   ]
  },
  {
   "cell_type": "code",
   "execution_count": 29,
   "id": "98800410-d33d-40b9-9fd6-8867a8460ffe",
   "metadata": {
    "execution": {
     "iopub.execute_input": "2024-02-29T19:43:38.159654Z",
     "iopub.status.busy": "2024-02-29T19:43:38.158928Z",
     "iopub.status.idle": "2024-02-29T19:43:39.161437Z",
     "shell.execute_reply": "2024-02-29T19:43:39.160626Z",
     "shell.execute_reply.started": "2024-02-29T19:43:38.159619Z"
    },
    "tags": []
   },
   "outputs": [],
   "source": [
    "# Notebook\n",
    "c3.Genai.Llm.OpenAI.Config.make().setSecretValue(\"apiKey\", \"6abe24ddab0d40bca880276485ca211f\")"
   ]
  },
  {
   "cell_type": "code",
   "execution_count": 30,
   "id": "55f66f34-6438-4745-abdc-f8cb3a0bf169",
   "metadata": {
    "execution": {
     "iopub.execute_input": "2024-02-29T19:43:44.358348Z",
     "iopub.status.busy": "2024-02-29T19:43:44.357647Z",
     "iopub.status.idle": "2024-02-29T19:43:44.650909Z",
     "shell.execute_reply": "2024-02-29T19:43:44.650248Z",
     "shell.execute_reply.started": "2024-02-29T19:43:44.358314Z"
    },
    "tags": []
   },
   "outputs": [
    {
     "data": {
      "text/plain": [
       "3"
      ]
     },
     "execution_count": 30,
     "metadata": {},
     "output_type": "execute_result"
    }
   ],
   "source": [
    "# Notebook\n",
    "c3.EnableAclPrivilege.removeAll(confirm=True)"
   ]
  },
  {
   "cell_type": "code",
   "execution_count": 31,
   "id": "b04f26f1-7558-4d39-b8fc-143921712caa",
   "metadata": {
    "execution": {
     "iopub.execute_input": "2024-02-29T19:43:50.158636Z",
     "iopub.status.busy": "2024-02-29T19:43:50.157982Z",
     "iopub.status.idle": "2024-02-29T19:43:51.576392Z",
     "shell.execute_reply": "2024-02-29T19:43:51.575663Z",
     "shell.execute_reply.started": "2024-02-29T19:43:50.158599Z"
    },
    "tags": []
   },
   "outputs": [
    {
     "data": {
      "text/plain": [
       "0"
      ]
     },
     "execution_count": 31,
     "metadata": {},
     "output_type": "execute_result"
    }
   ],
   "source": [
    "c3.Genai.Query.Result.removeAll({}, True)"
   ]
  },
  {
   "cell_type": "code",
   "execution_count": 32,
   "id": "dd215627-ac75-4fec-ac3b-be01d964e029",
   "metadata": {
    "execution": {
     "iopub.execute_input": "2024-02-29T19:44:11.556794Z",
     "iopub.status.busy": "2024-02-29T19:44:11.555979Z",
     "iopub.status.idle": "2024-02-29T19:44:11.620583Z",
     "shell.execute_reply": "2024-02-29T19:44:11.619905Z",
     "shell.execute_reply.started": "2024-02-29T19:44:11.556761Z"
    },
    "tags": []
   },
   "outputs": [
    {
     "data": {
      "text/plain": [
       "'gcs://c3--gkev8c3apps/corneaguru/'"
      ]
     },
     "execution_count": 32,
     "metadata": {},
     "output_type": "execute_result"
    }
   ],
   "source": [
    "mount = c3.FileSystem.mounts().get(f'{customerName}-mount')\n",
    "mount"
   ]
  },
  {
   "cell_type": "code",
   "execution_count": null,
   "id": "22d9591b-6edd-4eea-8df6-fd3a8bc373f1",
   "metadata": {},
   "outputs": [],
   "source": []
  },
  {
   "cell_type": "code",
   "execution_count": 18,
   "id": "4acfbb91-9da9-41ec-a885-5179aea51b32",
   "metadata": {
    "execution": {
     "iopub.execute_input": "2024-02-29T19:41:45.990341Z",
     "iopub.status.busy": "2024-02-29T19:41:45.989402Z",
     "iopub.status.idle": "2024-02-29T19:41:46.229316Z",
     "shell.execute_reply": "2024-02-29T19:41:46.228293Z",
     "shell.execute_reply.started": "2024-02-29T19:41:45.990306Z"
    },
    "tags": []
   },
   "outputs": [],
   "source": [
    "# e.g.: 'gcs://c3--gkev8c3apps/corneaguru1622/'\n",
    "customerName = 'corneaguru'\n",
    "projectRootDir = [c3.FileSystem.parseRootUrl().scheme, \"://\", c3.FileSystem.parseRootUrl().host, \"/\", customerName, \"/\"]"
   ]
  },
  {
   "cell_type": "code",
   "execution_count": 21,
   "id": "58d656fe-6df4-4846-ac22-0c3781e42e99",
   "metadata": {
    "execution": {
     "iopub.execute_input": "2024-02-29T19:42:14.970303Z",
     "iopub.status.busy": "2024-02-29T19:42:14.969182Z",
     "iopub.status.idle": "2024-02-29T19:42:14.974104Z",
     "shell.execute_reply": "2024-02-29T19:42:14.973198Z",
     "shell.execute_reply.started": "2024-02-29T19:42:14.970259Z"
    },
    "tags": []
   },
   "outputs": [],
   "source": [
    "projectRootDir = \"\".join(projectRootDir)"
   ]
  },
  {
   "cell_type": "code",
   "execution_count": 22,
   "id": "0fed6721-c67c-4176-b257-9c98f6ce8ddb",
   "metadata": {
    "execution": {
     "iopub.execute_input": "2024-02-29T19:42:15.321684Z",
     "iopub.status.busy": "2024-02-29T19:42:15.320635Z",
     "iopub.status.idle": "2024-02-29T19:42:15.326436Z",
     "shell.execute_reply": "2024-02-29T19:42:15.325505Z",
     "shell.execute_reply.started": "2024-02-29T19:42:15.321642Z"
    },
    "tags": []
   },
   "outputs": [
    {
     "data": {
      "text/plain": [
       "'gcs://c3--gkev8c3apps/corneaguru/'"
      ]
     },
     "execution_count": 22,
     "metadata": {},
     "output_type": "execute_result"
    }
   ],
   "source": [
    "projectRootDir"
   ]
  },
  {
   "cell_type": "code",
   "execution_count": 34,
   "id": "ccb68ce4-6acb-4cb2-8ce9-02287bf3e4a8",
   "metadata": {
    "execution": {
     "iopub.execute_input": "2024-02-29T19:44:43.573803Z",
     "iopub.status.busy": "2024-02-29T19:44:43.573070Z",
     "iopub.status.idle": "2024-02-29T19:44:43.577343Z",
     "shell.execute_reply": "2024-02-29T19:44:43.576456Z",
     "shell.execute_reply.started": "2024-02-29T19:44:43.573765Z"
    },
    "tags": []
   },
   "outputs": [],
   "source": [
    "vs_remote_mount = mount"
   ]
  },
  {
   "cell_type": "code",
   "execution_count": 35,
   "id": "e3956879-bf7d-4daa-b5aa-7091eae736b7",
   "metadata": {
    "execution": {
     "iopub.execute_input": "2024-02-29T19:44:44.403104Z",
     "iopub.status.busy": "2024-02-29T19:44:44.402281Z",
     "iopub.status.idle": "2024-02-29T19:44:44.406261Z",
     "shell.execute_reply": "2024-02-29T19:44:44.405551Z",
     "shell.execute_reply.started": "2024-02-29T19:44:44.403070Z"
    },
    "tags": []
   },
   "outputs": [],
   "source": [
    "vs_remote_mount = mount"
   ]
  },
  {
   "cell_type": "code",
   "execution_count": 23,
   "id": "1b1b2c85-3f95-4fbe-ace0-aa89ff746e90",
   "metadata": {
    "execution": {
     "iopub.execute_input": "2024-02-29T19:42:15.996714Z",
     "iopub.status.busy": "2024-02-29T19:42:15.995771Z",
     "iopub.status.idle": "2024-02-29T19:42:17.141989Z",
     "shell.execute_reply": "2024-02-29T19:42:17.141098Z",
     "shell.execute_reply.started": "2024-02-29T19:42:15.996679Z"
    },
    "tags": []
   },
   "outputs": [
    {
     "data": {
      "text/plain": [
       "{\n",
       "  \"type\" : \"ListFilesResult\"\n",
       "}"
      ]
     },
     "execution_count": 23,
     "metadata": {},
     "output_type": "execute_result"
    }
   ],
   "source": [
    "c3.FileSystem.setMount(customerName + \"-mount\", projectRootDir)\n",
    "c3.FileSystem.setMount(\"vector-store\", projectRootDir + \"vector-store/\")\n",
    "c3.FileSystem.inst().listFiles(\"vector-store\", projectRootDir + \"vector-store/\")"
   ]
  },
  {
   "cell_type": "code",
   "execution_count": 24,
   "id": "594b5696-524f-4ae6-96d2-1a1ee0729ff9",
   "metadata": {
    "execution": {
     "iopub.execute_input": "2024-02-29T19:42:19.901623Z",
     "iopub.status.busy": "2024-02-29T19:42:19.901058Z",
     "iopub.status.idle": "2024-02-29T19:42:19.906831Z",
     "shell.execute_reply": "2024-02-29T19:42:19.905757Z",
     "shell.execute_reply.started": "2024-02-29T19:42:19.901572Z"
    },
    "tags": []
   },
   "outputs": [],
   "source": [
    "logger.setLevel(logging.DEBUG)\n",
    "handler.setLevel(logging.DEBUG)"
   ]
  },
  {
   "cell_type": "code",
   "execution_count": 25,
   "id": "727d3a1c-383e-49c6-b8d8-abbebd9bf9b7",
   "metadata": {
    "execution": {
     "iopub.execute_input": "2024-02-29T19:42:28.586274Z",
     "iopub.status.busy": "2024-02-29T19:42:28.585528Z",
     "iopub.status.idle": "2024-02-29T19:42:28.618026Z",
     "shell.execute_reply": "2024-02-29T19:42:28.617141Z",
     "shell.execute_reply.started": "2024-02-29T19:42:28.586241Z"
    },
    "tags": []
   },
   "outputs": [],
   "source": [
    "fs = c3.FileSystem.inst()"
   ]
  },
  {
   "cell_type": "code",
   "execution_count": 7,
   "id": "a3fd2b8c-9795-4fd9-80f0-c06d2b8cd5e5",
   "metadata": {
    "execution": {
     "iopub.execute_input": "2024-02-29T19:30:57.157087Z",
     "iopub.status.busy": "2024-02-29T19:30:57.156078Z",
     "iopub.status.idle": "2024-02-29T19:30:57.219722Z",
     "shell.execute_reply": "2024-02-29T19:30:57.218779Z",
     "shell.execute_reply.started": "2024-02-29T19:30:57.157026Z"
    },
    "tags": []
   },
   "outputs": [],
   "source": [
    "# remote_elser_path = f\"{c3.FileSystem.mounts().get('datasets')}\""
   ]
  },
  {
   "cell_type": "code",
   "execution_count": 9,
   "id": "fc59449a-5d91-44fa-9f44-5abf7da6218a",
   "metadata": {
    "collapsed": true,
    "execution": {
     "iopub.execute_input": "2024-02-29T19:31:30.581184Z",
     "iopub.status.busy": "2024-02-29T19:31:30.580327Z",
     "iopub.status.idle": "2024-02-29T19:31:33.727179Z",
     "shell.execute_reply": "2024-02-29T19:31:33.726155Z",
     "shell.execute_reply.started": "2024-02-29T19:31:30.581148Z"
    },
    "jupyter": {
     "outputs_hidden": true,
     "source_hidden": true
    },
    "tags": []
   },
   "outputs": [
    {
     "data": {
      "text/plain": [
       "{\n",
       "  \"type\" : \"ListFilesResult\",\n",
       "  \"files\" : [ {\n",
       "    \"type\" : \"GcsFile\",\n",
       "    \"contentLength\" : 0,\n",
       "    \"eTag\" : \"CPiFyOvp6/8CEAE=\",\n",
       "    \"lastModified\" : \"2023-06-30T20:25:17Z\",\n",
       "    \"url\" : \"gcs://c3--gkev8c3apps/datasets/06-30-23/CrmIndustry/a8c3f389-ed26-45f1-bf19-24fe41184eba.json\"\n",
       "  }, {\n",
       "    \"type\" : \"GcsFile\",\n",
       "    \"contentLength\" : 9961,\n",
       "    \"eTag\" : \"CJ7yt4jq6/8CEAE=\",\n",
       "    \"lastModified\" : \"2023-06-30T20:26:17Z\",\n",
       "    \"url\" : \"gcs://c3--gkev8c3apps/datasets/06-30-23/CrmIndustry/ed951e69-9e1b-4df6-b894-05ae7f2d82ef.json\"\n",
       "  }, {\n",
       "    \"type\" : \"GcsFile\",\n",
       "    \"contentLength\" : 3005369,\n",
       "    \"eTag\" : \"CL7V5uf86/8CEAE=\",\n",
       "    \"lastModified\" : \"2023-06-30T21:50:09Z\",\n",
       "    \"url\" : \"gcs://c3--gkev8c3apps/datasets/2023-06-30/CrmAccountExt/0914203c-eeda-4751-a5fe-cdc4b229a866.json\"\n",
       "  }, {\n",
       "    \"type\" : \"GcsFile\",\n",
       "    \"contentLength\" : 3915536,\n",
       "    \"eTag\" : \"CJy1iKT56/8CEAE=\",\n",
       "    \"lastModified\" : \"2023-06-30T21:34:22Z\",\n",
       "    \"url\" : \"gcs://c3--gkev8c3apps/datasets/2023-06-30/CrmAccountExt/10fbc80f-a616-48df-8e45-621add42e168.json\"\n",
       "  }, {\n",
       "    \"type\" : \"GcsFile\",\n",
       "    \"contentLength\" : 3993156,\n",
       "    \"eTag\" : \"CMCmstv86/8CEAE=\",\n",
       "    \"lastModified\" : \"2023-06-30T21:49:43Z\",\n",
       "    \"url\" : \"gcs://c3--gkev8c3apps/datasets/2023-06-30/CrmAccountExt/17b3c9cf-6b91-4793-a846-e04b832c733a.json\"\n",
       "  }, {\n",
       "    \"type\" : \"GcsFile\",\n",
       "    \"contentLength\" : 5924457,\n",
       "    \"eTag\" : \"CNyP59786/8CEAE=\",\n",
       "    \"lastModified\" : \"2023-06-30T21:49:50Z\",\n",
       "    \"url\" : \"gcs://c3--gkev8c3apps/datasets/2023-06-30/CrmAccountExt/2874bed8-3699-488c-89b0-7a376e5e4bc6.json\"\n",
       "  }, {\n",
       "    \"type\" : \"GcsFile\",\n",
       "    \"contentLength\" : 3522670,\n",
       "    \"eTag\" : \"COWqgNj86/8CEAE=\",\n",
       "    \"lastModified\" : \"2023-06-30T21:49:36Z\",\n",
       "    \"url\" : \"gcs://c3--gkev8c3apps/datasets/2023-06-30/CrmAccountExt/2a3793a8-4fc4-42d6-bbff-e7fcbcc80759.json\"\n",
       "  }, {\n",
       "    \"type\" : \"GcsFile\",\n",
       "    \"contentLength\" : 3996597,\n",
       "    \"eTag\" : \"COza5bX86/8CEAE=\",\n",
       "    \"lastModified\" : \"2023-06-30T21:48:24Z\",\n",
       "    \"url\" : \"gcs://c3--gkev8c3apps/datasets/2023-06-30/CrmAccountExt/2c790d3c-88c3-4280-ab77-9f80c19a87b9.json\"\n",
       "  }, {\n",
       "    \"type\" : \"GcsFile\",\n",
       "    \"contentLength\" : 5598450,\n",
       "    \"eTag\" : \"CLPEv9786/8CEAE=\",\n",
       "    \"lastModified\" : \"2023-06-30T21:49:49Z\",\n",
       "    \"url\" : \"gcs://c3--gkev8c3apps/datasets/2023-06-30/CrmAccountExt/2cd4081a-9c19-4aad-a87e-0c8c4b66ede6.json\"\n",
       "  }, {\n",
       "    \"type\" : \"GcsFile\",\n",
       "    \"contentLength\" : 3704303,\n",
       "    \"eTag\" : \"CLaHrej86/8CEAE=\",\n",
       "    \"lastModified\" : \"2023-06-30T21:50:10Z\",\n",
       "    \"url\" : \"gcs://c3--gkev8c3apps/datasets/2023-06-30/CrmAccountExt/33ef1381-a29d-4510-b52c-b573ded35c1b.json\"\n",
       "  }, {\n",
       "    \"type\" : \"GcsFile\",\n",
       "    \"contentLength\" : 3289866,\n",
       "    \"eTag\" : \"CO/Mq9n86/8CEAE=\",\n",
       "    \"lastModified\" : \"2023-06-30T21:49:39Z\",\n",
       "    \"url\" : \"gcs://c3--gkev8c3apps/datasets/2023-06-30/CrmAccountExt/3c4b076a-b836-4e25-bd5c-b74acccaab07.json\"\n",
       "  }, {\n",
       "    \"type\" : \"GcsFile\",\n",
       "    \"contentLength\" : 3834929,\n",
       "    \"eTag\" : \"CIO78cD36/8CEAE=\",\n",
       "    \"lastModified\" : \"2023-06-30T21:26:25Z\",\n",
       "    \"url\" : \"gcs://c3--gkev8c3apps/datasets/2023-06-30/CrmAccountExt/3ecfcc1d-bea5-40d2-a76c-1a87ffd25729.json\"\n",
       "  }, {\n",
       "    \"type\" : \"GcsFile\",\n",
       "    \"contentLength\" : 4167548,\n",
       "    \"eTag\" : \"CKX59Nb86/8CEAE=\",\n",
       "    \"lastModified\" : \"2023-06-30T21:49:34Z\",\n",
       "    \"url\" : \"gcs://c3--gkev8c3apps/datasets/2023-06-30/CrmAccountExt/421a548f-49ac-4675-b8a1-fa114b386cfd.json\"\n",
       "  }, {\n",
       "    \"type\" : \"GcsFile\",\n",
       "    \"contentLength\" : 3756042,\n",
       "    \"eTag\" : \"CI3q0Ov56/8CEAE=\",\n",
       "    \"lastModified\" : \"2023-06-30T21:36:52Z\",\n",
       "    \"url\" : \"gcs://c3--gkev8c3apps/datasets/2023-06-30/CrmAccountExt/459a354d-5768-47a0-b530-582fae55548e.json\"\n",
       "  }, {\n",
       "    \"type\" : \"GcsFile\",\n",
       "    \"contentLength\" : 3789453,\n",
       "    \"eTag\" : \"CN7YzJb56/8CEAE=\",\n",
       "    \"lastModified\" : \"2023-06-30T21:33:53Z\",\n",
       "    \"url\" : \"gcs://c3--gkev8c3apps/datasets/2023-06-30/CrmAccountExt/596cfac4-8385-4908-9926-9b4705fc9d91.json\"\n",
       "  }, {\n",
       "    \"type\" : \"GcsFile\",\n",
       "    \"contentLength\" : 4065270,\n",
       "    \"eTag\" : \"CLO68JT86/8CEAE=\",\n",
       "    \"lastModified\" : \"2023-06-30T21:47:15Z\",\n",
       "    \"url\" : \"gcs://c3--gkev8c3apps/datasets/2023-06-30/CrmAccountExt/6117889b-4a47-4018-a5dc-b6a7d7fdae9c.json\"\n",
       "  }, {\n",
       "    \"type\" : \"GcsFile\",\n",
       "    \"contentLength\" : 3679633,\n",
       "    \"eTag\" : \"CLKxvP736/8CEAE=\",\n",
       "    \"lastModified\" : \"2023-06-30T21:28:34Z\",\n",
       "    \"url\" : \"gcs://c3--gkev8c3apps/datasets/2023-06-30/CrmAccountExt/6250f739-2da5-46d4-8185-4f0500222c44.json\"\n",
       "  }, {\n",
       "    \"type\" : \"GcsFile\",\n",
       "    \"contentLength\" : 2661062,\n",
       "    \"eTag\" : \"CPiE0+r86/8CEAE=\",\n",
       "    \"lastModified\" : \"2023-06-30T21:50:15Z\",\n",
       "    \"url\" : \"gcs://c3--gkev8c3apps/datasets/2023-06-30/CrmAccountExt/80003e3b-98ce-4716-80d6-b47c4657efab.json\"\n",
       "  }, {\n",
       "    \"type\" : \"GcsFile\",\n",
       "    \"contentLength\" : 4044728,\n",
       "    \"eTag\" : \"CPij9pj36/8CEAE=\",\n",
       "    \"lastModified\" : \"2023-06-30T21:25:01Z\",\n",
       "    \"url\" : \"gcs://c3--gkev8c3apps/datasets/2023-06-30/CrmAccountExt/8419f162-5754-46ee-b1bc-9c4a2b279e84.json\"\n",
       "  }, {\n",
       "    \"type\" : \"GcsFile\",\n",
       "    \"contentLength\" : 4215624,\n",
       "    \"eTag\" : \"CIWSmM366/8CEAE=\",\n",
       "    \"lastModified\" : \"2023-06-30T21:40:16Z\",\n",
       "    \"url\" : \"gcs://c3--gkev8c3apps/datasets/2023-06-30/CrmAccountExt/8f5a9653-f9bc-46d4-a486-73ceaaed1a52.json\"\n",
       "  }, {\n",
       "    \"type\" : \"GcsFile\",\n",
       "    \"contentLength\" : 3272767,\n",
       "    \"eTag\" : \"COePyOP86/8CEAE=\",\n",
       "    \"lastModified\" : \"2023-06-30T21:50:00Z\",\n",
       "    \"url\" : \"gcs://c3--gkev8c3apps/datasets/2023-06-30/CrmAccountExt/a1474e23-9a81-4b6a-ac43-7cb8db24ac89.json\"\n",
       "  }, {\n",
       "    \"type\" : \"GcsFile\",\n",
       "    \"contentLength\" : 4071090,\n",
       "    \"eTag\" : \"CKP2/c/86/8CEAE=\",\n",
       "    \"lastModified\" : \"2023-06-30T21:49:19Z\",\n",
       "    \"url\" : \"gcs://c3--gkev8c3apps/datasets/2023-06-30/CrmAccountExt/a283fbf1-5a01-4391-904e-cb9fbd616922.json\"\n",
       "  }, {\n",
       "    \"type\" : \"GcsFile\",\n",
       "    \"contentLength\" : 3340038,\n",
       "    \"eTag\" : \"CO+Ujuj86/8CEAE=\",\n",
       "    \"lastModified\" : \"2023-06-30T21:50:10Z\",\n",
       "    \"url\" : \"gcs://c3--gkev8c3apps/datasets/2023-06-30/CrmAccountExt/a416157d-8e5e-4e2c-8c76-4beb7d86949b.json\"\n",
       "  }, {\n",
       "    \"type\" : \"GcsFile\",\n",
       "    \"contentLength\" : 2538509,\n",
       "    \"eTag\" : \"COnIzuT86/8CEAE=\",\n",
       "    \"lastModified\" : \"2023-06-30T21:50:02Z\",\n",
       "    \"url\" : \"gcs://c3--gkev8c3apps/datasets/2023-06-30/CrmAccountExt/a7098f6e-f585-4ce8-b7bf-481d16d9e06c.json\"\n",
       "  }, {\n",
       "    \"type\" : \"GcsFile\",\n",
       "    \"contentLength\" : 3169373,\n",
       "    \"eTag\" : \"CNrN9f/56/8CEAE=\",\n",
       "    \"lastModified\" : \"2023-06-30T21:37:34Z\",\n",
       "    \"url\" : \"gcs://c3--gkev8c3apps/datasets/2023-06-30/CrmAccountExt/abeb1ff3-b122-4d00-98b8-d0040d2d5739.json\"\n",
       "  }, {\n",
       "    \"type\" : \"GcsFile\",\n",
       "    \"contentLength\" : 2720471,\n",
       "    \"eTag\" : \"CNSL2uT86/8CEAE=\",\n",
       "    \"lastModified\" : \"2023-06-30T21:50:02Z\",\n",
       "    \"url\" : \"gcs://c3--gkev8c3apps/datasets/2023-06-30/CrmAccountExt/b3ce8cc8-83df-40be-8c54-206fe304429d.json\"\n",
       "  }, {\n",
       "    \"type\" : \"GcsFile\",\n",
       "    \"contentLength\" : 4442586,\n",
       "    \"eTag\" : \"CNzmkuD86/8CEAE=\",\n",
       "    \"lastModified\" : \"2023-06-30T21:49:53Z\",\n",
       "    \"url\" : \"gcs://c3--gkev8c3apps/datasets/2023-06-30/CrmAccountExt/b5f8d08a-8489-48b7-aee1-5d0a4cc7b4bb.json\"\n",
       "  }, {\n",
       "    \"type\" : \"GcsFile\",\n",
       "    \"contentLength\" : 3594421,\n",
       "    \"eTag\" : \"CIego5P66/8CEAE=\",\n",
       "    \"lastModified\" : \"2023-06-30T21:38:15Z\",\n",
       "    \"url\" : \"gcs://c3--gkev8c3apps/datasets/2023-06-30/CrmAccountExt/c601f969-87d5-42fb-9071-573d2f06c503.json\"\n",
       "  }, {\n",
       "    \"type\" : \"GcsFile\",\n",
       "    \"contentLength\" : 3730457,\n",
       "    \"eTag\" : \"CNLbntj86/8CEAE=\",\n",
       "    \"lastModified\" : \"2023-06-30T21:49:36Z\",\n",
       "    \"url\" : \"gcs://c3--gkev8c3apps/datasets/2023-06-30/CrmAccountExt/d242319f-82ee-4214-a544-a66df651f0b5.json\"\n",
       "  }, {\n",
       "    \"type\" : \"GcsFile\",\n",
       "    \"contentLength\" : 3746433,\n",
       "    \"eTag\" : \"CKKvieH86/8CEAE=\",\n",
       "    \"lastModified\" : \"2023-06-30T21:49:55Z\",\n",
       "    \"url\" : \"gcs://c3--gkev8c3apps/datasets/2023-06-30/CrmAccountExt/dc85052c-2744-41a2-88a1-75f66c78f459.json\"\n",
       "  }, {\n",
       "    \"type\" : \"GcsFile\",\n",
       "    \"contentLength\" : 4199915,\n",
       "    \"eTag\" : \"CJ2axa746/8CEAE=\",\n",
       "    \"lastModified\" : \"2023-06-30T21:30:15Z\",\n",
       "    \"url\" : \"gcs://c3--gkev8c3apps/datasets/2023-06-30/CrmAccountExt/ddcaecfa-468e-415d-9805-98603cd72ac1.json\"\n",
       "  }, {\n",
       "    \"type\" : \"GcsFile\",\n",
       "    \"contentLength\" : 5397417,\n",
       "    \"eTag\" : \"CPfv2dz86/8CEAE=\",\n",
       "    \"lastModified\" : \"2023-06-30T21:49:46Z\",\n",
       "    \"url\" : \"gcs://c3--gkev8c3apps/datasets/2023-06-30/CrmAccountExt/ddfc2a56-03c6-4379-87a4-85ec46269923.json\"\n",
       "  }, {\n",
       "    \"type\" : \"GcsFile\",\n",
       "    \"contentLength\" : 4434988,\n",
       "    \"eTag\" : \"CLGKr+776/8CEAE=\",\n",
       "    \"lastModified\" : \"2023-06-30T21:45:54Z\",\n",
       "    \"url\" : \"gcs://c3--gkev8c3apps/datasets/2023-06-30/CrmAccountExt/deaff6f3-b4dc-47ea-a445-25f4f87cf1fb.json\"\n",
       "  }, {\n",
       "    \"type\" : \"GcsFile\",\n",
       "    \"contentLength\" : 3538572,\n",
       "    \"eTag\" : \"CJuZ0eP86/8CEAE=\",\n",
       "    \"lastModified\" : \"2023-06-30T21:50:00Z\",\n",
       "    \"url\" : \"gcs://c3--gkev8c3apps/datasets/2023-06-30/CrmAccountExt/e7405f51-c323-4c33-8de3-8f65e746508e.json\"\n",
       "  }, {\n",
       "    \"type\" : \"GcsFile\",\n",
       "    \"contentLength\" : 4303010,\n",
       "    \"eTag\" : \"CKjPyeH86/8CEAE=\",\n",
       "    \"lastModified\" : \"2023-06-30T21:49:56Z\",\n",
       "    \"url\" : \"gcs://c3--gkev8c3apps/datasets/2023-06-30/CrmAccountExt/ed669472-01d7-4418-84d0-59ad07b9d465.json\"\n",
       "  }, {\n",
       "    \"type\" : \"GcsFile\",\n",
       "    \"contentLength\" : 3530689,\n",
       "    \"eTag\" : \"CLiBwfP66/8CEAE=\",\n",
       "    \"lastModified\" : \"2023-06-30T21:41:37Z\",\n",
       "    \"url\" : \"gcs://c3--gkev8c3apps/datasets/2023-06-30/CrmAccountExt/ee43db4b-2297-4a3f-918b-74cc178ffc2b.json\"\n",
       "  }, {\n",
       "    \"type\" : \"GcsFile\",\n",
       "    \"contentLength\" : 4198742,\n",
       "    \"eTag\" : \"CJ3grur86/8CEAE=\",\n",
       "    \"lastModified\" : \"2023-06-30T21:50:14Z\",\n",
       "    \"url\" : \"gcs://c3--gkev8c3apps/datasets/2023-06-30/CrmAccountExt/f05f8d7e-4761-4e42-bb24-a41a28208bb9.json\"\n",
       "  }, {\n",
       "    \"type\" : \"GcsFile\",\n",
       "    \"contentLength\" : 4132,\n",
       "    \"eTag\" : \"COy05rb56/8CEAE=\",\n",
       "    \"lastModified\" : \"2023-06-30T21:35:01Z\",\n",
       "    \"url\" : \"gcs://c3--gkev8c3apps/datasets/2023-06-30/CrmForecastCategory/5b9f2c80-5682-4ce3-8323-50a274c9ec1a.json\"\n",
       "  }, {\n",
       "    \"type\" : \"GcsFile\",\n",
       "    \"contentLength\" : 3242,\n",
       "    \"eTag\" : \"CPqcoN3s6/8CEAE=\",\n",
       "    \"lastModified\" : \"2023-06-30T20:38:12Z\",\n",
       "    \"url\" : \"gcs://c3--gkev8c3apps/datasets/2023-06-30/CrmIndustry/37c0ff65-ccf4-4bac-b5da-f0612870ff58.json\"\n",
       "  }, {\n",
       "    \"type\" : \"GcsFile\",\n",
       "    \"contentLength\" : 31454080,\n",
       "    \"eTag\" : \"CLWx9dH86/8CEAE=\",\n",
       "    \"lastModified\" : \"2023-06-30T21:49:23Z\",\n",
       "    \"url\" : \"gcs://c3--gkev8c3apps/datasets/2023-06-30/CrmOpportunityExt/16bce2ab-ab9e-4949-bb6c-ae39b53bbe10.json\"\n",
       "  }, {\n",
       "    \"type\" : \"GcsFile\",\n",
       "    \"contentLength\" : 34459458,\n",
       "    \"eTag\" : \"CM6t/YPz6/8CEAE=\",\n",
       "    \"lastModified\" : \"2023-06-30T21:06:24Z\",\n",
       "    \"url\" : \"gcs://c3--gkev8c3apps/datasets/2023-06-30/CrmOpportunityExt/2e7d6644-a5b7-45ac-b820-50daf5b524ec.json\"\n",
       "  }, {\n",
       "    \"type\" : \"GcsFile\",\n",
       "    \"contentLength\" : 35449082,\n",
       "    \"eTag\" : \"CIeLhrn16/8CEAE=\",\n",
       "    \"lastModified\" : \"2023-06-30T21:17:12Z\",\n",
       "    \"url\" : \"gcs://c3--gkev8c3apps/datasets/2023-06-30/CrmOpportunityExt/2eadf60c-c059-45ae-8a2b-6eb66d89d88f.json\"\n",
       "  }, {\n",
       "    \"type\" : \"GcsFile\",\n",
       "    \"contentLength\" : 32773774,\n",
       "    \"eTag\" : \"CMv6meP76/8CEAE=\",\n",
       "    \"lastModified\" : \"2023-06-30T21:45:31Z\",\n",
       "    \"url\" : \"gcs://c3--gkev8c3apps/datasets/2023-06-30/CrmOpportunityExt/2f8a6fb1-38f1-466f-acf1-651601140381.json\"\n",
       "  }, {\n",
       "    \"type\" : \"GcsFile\",\n",
       "    \"contentLength\" : 35177541,\n",
       "    \"eTag\" : \"COCe/+356/8CEAE=\",\n",
       "    \"lastModified\" : \"2023-06-30T21:36:57Z\",\n",
       "    \"url\" : \"gcs://c3--gkev8c3apps/datasets/2023-06-30/CrmOpportunityExt/3182bfe8-b71e-4440-97f5-c409f938d090.json\"\n",
       "  }, {\n",
       "    \"type\" : \"GcsFile\",\n",
       "    \"contentLength\" : 34959024,\n",
       "    \"eTag\" : \"CKCM++D56/8CEAE=\",\n",
       "    \"lastModified\" : \"2023-06-30T21:36:29Z\",\n",
       "    \"url\" : \"gcs://c3--gkev8c3apps/datasets/2023-06-30/CrmOpportunityExt/3244bd92-102f-40af-b0f1-5b4d3f737ba7.json\"\n",
       "  }, {\n",
       "    \"type\" : \"GcsFile\",\n",
       "    \"contentLength\" : 34159093,\n",
       "    \"eTag\" : \"CI215/r56/8CEAE=\",\n",
       "    \"lastModified\" : \"2023-06-30T21:37:24Z\",\n",
       "    \"url\" : \"gcs://c3--gkev8c3apps/datasets/2023-06-30/CrmOpportunityExt/470f5d9e-d494-4d84-b453-bc07bdd9a747.json\"\n",
       "  }, {\n",
       "    \"type\" : \"GcsFile\",\n",
       "    \"contentLength\" : 35164113,\n",
       "    \"eTag\" : \"CIK/z/b46/8CEAE=\",\n",
       "    \"lastModified\" : \"2023-06-30T21:32:46Z\",\n",
       "    \"url\" : \"gcs://c3--gkev8c3apps/datasets/2023-06-30/CrmOpportunityExt/4916b5c8-4190-44f8-8a01-c7c908c7c0d2.json\"\n",
       "  }, {\n",
       "    \"type\" : \"GcsFile\",\n",
       "    \"contentLength\" : 35000387,\n",
       "    \"eTag\" : \"CInFpp726/8CEAE=\",\n",
       "    \"lastModified\" : \"2023-06-30T21:20:44Z\",\n",
       "    \"url\" : \"gcs://c3--gkev8c3apps/datasets/2023-06-30/CrmOpportunityExt/49cb4afa-e1c4-4c63-8414-c68549f8a13e.json\"\n",
       "  }, {\n",
       "    \"type\" : \"GcsFile\",\n",
       "    \"contentLength\" : 35514536,\n",
       "    \"eTag\" : \"CKXp9p726/8CEAE=\",\n",
       "    \"lastModified\" : \"2023-06-30T21:20:46Z\",\n",
       "    \"url\" : \"gcs://c3--gkev8c3apps/datasets/2023-06-30/CrmOpportunityExt/555a3fc6-9495-4544-adff-14365e271201.json\"\n",
       "  }, {\n",
       "    \"type\" : \"GcsFile\",\n",
       "    \"contentLength\" : 34880991,\n",
       "    \"eTag\" : \"CLiFkOL66/8CEAE=\",\n",
       "    \"lastModified\" : \"2023-06-30T21:41:00Z\",\n",
       "    \"url\" : \"gcs://c3--gkev8c3apps/datasets/2023-06-30/CrmOpportunityExt/5ac25aa5-cfdc-4cb2-be14-f7956eaa3e2d.json\"\n",
       "  }, {\n",
       "    \"type\" : \"GcsFile\",\n",
       "    \"contentLength\" : 34961638,\n",
       "    \"eTag\" : \"CPLFtMv36/8CEAE=\",\n",
       "    \"lastModified\" : \"2023-06-30T21:26:47Z\",\n",
       "    \"url\" : \"gcs://c3--gkev8c3apps/datasets/2023-06-30/CrmOpportunityExt/5ff45d6b-83bc-4d66-a8e9-4b583f0b0235.json\"\n",
       "  }, {\n",
       "    \"type\" : \"GcsFile\",\n",
       "    \"contentLength\" : 35350695,\n",
       "    \"eTag\" : \"CPvkvvf26/8CEAE=\",\n",
       "    \"lastModified\" : \"2023-06-30T21:23:51Z\",\n",
       "    \"url\" : \"gcs://c3--gkev8c3apps/datasets/2023-06-30/CrmOpportunityExt/6b03aa27-a61f-4edb-9a0d-27477e6e09ab.json\"\n",
       "  }, {\n",
       "    \"type\" : \"GcsFile\",\n",
       "    \"contentLength\" : 37730327,\n",
       "    \"eTag\" : \"CJuaouvz6/8CEAE=\",\n",
       "    \"lastModified\" : \"2023-06-30T21:10:00Z\",\n",
       "    \"url\" : \"gcs://c3--gkev8c3apps/datasets/2023-06-30/CrmOpportunityExt/6b48688e-3f76-4efc-99b7-887becabe226.json\"\n",
       "  }, {\n",
       "    \"type\" : \"GcsFile\",\n",
       "    \"contentLength\" : 34354010,\n",
       "    \"eTag\" : \"CMzPx/f46/8CEAE=\",\n",
       "    \"lastModified\" : \"2023-06-30T21:32:48Z\",\n",
       "    \"url\" : \"gcs://c3--gkev8c3apps/datasets/2023-06-30/CrmOpportunityExt/71aafe99-f0c0-44bc-82b6-ca861eaf506e.json\"\n",
       "  }, {\n",
       "    \"type\" : \"GcsFile\",\n",
       "    \"contentLength\" : 34543763,\n",
       "    \"eTag\" : \"CKCguIT56/8CEAE=\",\n",
       "    \"lastModified\" : \"2023-06-30T21:33:15Z\",\n",
       "    \"url\" : \"gcs://c3--gkev8c3apps/datasets/2023-06-30/CrmOpportunityExt/7e21ff35-0e73-4f78-8ba5-c90663976048.json\"\n",
       "  }, {\n",
       "    \"type\" : \"GcsFile\",\n",
       "    \"contentLength\" : 32735078,\n",
       "    \"eTag\" : \"CJSLspf86/8CEAE=\",\n",
       "    \"lastModified\" : \"2023-06-30T21:47:20Z\",\n",
       "    \"url\" : \"gcs://c3--gkev8c3apps/datasets/2023-06-30/CrmOpportunityExt/829cffa0-c0ed-4b47-ab37-33efaaeceefd.json\"\n",
       "  }, {\n",
       "    \"type\" : \"GcsFile\",\n",
       "    \"contentLength\" : 35998694,\n",
       "    \"eTag\" : \"CNzVg9L06/8CEAE=\",\n",
       "    \"lastModified\" : \"2023-06-30T21:13:36Z\",\n",
       "    \"url\" : \"gcs://c3--gkev8c3apps/datasets/2023-06-30/CrmOpportunityExt/839566b7-fe88-4a0a-99b8-cc0f797dff8f.json\"\n",
       "  }, {\n",
       "    \"type\" : \"GcsFile\",\n",
       "    \"contentLength\" : 35261238,\n",
       "    \"eTag\" : \"CPORvvj26/8CEAE=\",\n",
       "    \"lastModified\" : \"2023-06-30T21:23:53Z\",\n",
       "    \"url\" : \"gcs://c3--gkev8c3apps/datasets/2023-06-30/CrmOpportunityExt/83cf013c-0f5f-4975-a726-019def2e81d5.json\"\n",
       "  }, {\n",
       "    \"type\" : \"GcsFile\",\n",
       "    \"contentLength\" : 35459720,\n",
       "    \"eTag\" : \"CMXc2Lj16/8CEAE=\",\n",
       "    \"lastModified\" : \"2023-06-30T21:17:11Z\",\n",
       "    \"url\" : \"gcs://c3--gkev8c3apps/datasets/2023-06-30/CrmOpportunityExt/8892b364-9c15-48a0-a639-00c1eded9f1c.json\"\n",
       "  }, {\n",
       "    \"type\" : \"GcsFile\",\n",
       "    \"contentLength\" : 32744028,\n",
       "    \"eTag\" : \"CNqS+IPz6/8CEAE=\",\n",
       "    \"lastModified\" : \"2023-06-30T21:06:24Z\",\n",
       "    \"url\" : \"gcs://c3--gkev8c3apps/datasets/2023-06-30/CrmOpportunityExt/8cb245d8-3e88-4857-9817-df050d941242.json\"\n",
       "  }, {\n",
       "    \"type\" : \"GcsFile\",\n",
       "    \"contentLength\" : 21524973,\n",
       "    \"eTag\" : \"CKeo7Nb86/8CEAE=\",\n",
       "    \"lastModified\" : \"2023-06-30T21:49:33Z\",\n",
       "    \"url\" : \"gcs://c3--gkev8c3apps/datasets/2023-06-30/CrmOpportunityExt/966081fe-474a-498e-b01b-4fc57691c0d4.json\"\n",
       "  }, {\n",
       "    \"type\" : \"GcsFile\",\n",
       "    \"contentLength\" : 34349303,\n",
       "    \"eTag\" : \"CK+bq7X76/8CEAE=\",\n",
       "    \"lastModified\" : \"2023-06-30T21:43:55Z\",\n",
       "    \"url\" : \"gcs://c3--gkev8c3apps/datasets/2023-06-30/CrmOpportunityExt/9860a225-cb4e-401d-9266-6bf736410180.json\"\n",
       "  }, {\n",
       "    \"type\" : \"GcsFile\",\n",
       "    \"contentLength\" : 34907169,\n",
       "    \"eTag\" : \"CIXNkZn56/8CEAE=\",\n",
       "    \"lastModified\" : \"2023-06-30T21:33:59Z\",\n",
       "    \"url\" : \"gcs://c3--gkev8c3apps/datasets/2023-06-30/CrmOpportunityExt/9e5097cf-2584-40af-9f81-38fc9a5424a0.json\"\n",
       "  }, {\n",
       "    \"type\" : \"GcsFile\",\n",
       "    \"contentLength\" : 34267869,\n",
       "    \"eTag\" : \"COSApM/66/8CEAE=\",\n",
       "    \"lastModified\" : \"2023-06-30T21:40:21Z\",\n",
       "    \"url\" : \"gcs://c3--gkev8c3apps/datasets/2023-06-30/CrmOpportunityExt/9e5f5872-c11a-4beb-a22d-f5176839e1f7.json\"\n",
       "  }, {\n",
       "    \"type\" : \"GcsFile\",\n",
       "    \"contentLength\" : 33069078,\n",
       "    \"eTag\" : \"CNOz+YPz6/8CEAE=\",\n",
       "    \"lastModified\" : \"2023-06-30T21:06:24Z\",\n",
       "    \"url\" : \"gcs://c3--gkev8c3apps/datasets/2023-06-30/CrmOpportunityExt/a01e988e-ddfb-45f7-9394-2f9132b323b4.json\"\n",
       "  }, {\n",
       "    \"type\" : \"GcsFile\",\n",
       "    \"contentLength\" : 33893605,\n",
       "    \"eTag\" : \"CO3pvbj16/8CEAE=\",\n",
       "    \"lastModified\" : \"2023-06-30T21:17:11Z\",\n",
       "    \"url\" : \"gcs://c3--gkev8c3apps/datasets/2023-06-30/CrmOpportunityExt/bba24557-0eb7-4b22-be16-65dc29cb331d.json\"\n",
       "  }, {\n",
       "    \"type\" : \"GcsFile\",\n",
       "    \"contentLength\" : 33942475,\n",
       "    \"eTag\" : \"CJ3d5M766/8CEAE=\",\n",
       "    \"lastModified\" : \"2023-06-30T21:40:20Z\",\n",
       "    \"url\" : \"gcs://c3--gkev8c3apps/datasets/2023-06-30/CrmOpportunityExt/bc6db9c0-7c2b-4032-8bfe-fbc4d0aa45c4.json\"\n",
       "  }, {\n",
       "    \"type\" : \"GcsFile\",\n",
       "    \"contentLength\" : 36257926,\n",
       "    \"eTag\" : \"CIurutL06/8CEAE=\",\n",
       "    \"lastModified\" : \"2023-06-30T21:13:37Z\",\n",
       "    \"url\" : \"gcs://c3--gkev8c3apps/datasets/2023-06-30/CrmOpportunityExt/bf683b92-488e-4025-bc02-1ce8fd6eba2c.json\"\n",
       "  }, {\n",
       "    \"type\" : \"GcsFile\",\n",
       "    \"contentLength\" : 35909315,\n",
       "    \"eTag\" : \"CLrw+9H06/8CEAE=\",\n",
       "    \"lastModified\" : \"2023-06-30T21:13:36Z\",\n",
       "    \"url\" : \"gcs://c3--gkev8c3apps/datasets/2023-06-30/CrmOpportunityExt/c31c5ef4-a6e8-48b2-93cc-9d78777081bc.json\"\n",
       "  }, {\n",
       "    \"type\" : \"GcsFile\",\n",
       "    \"contentLength\" : 34890920,\n",
       "    \"eTag\" : \"CO3h3sH76/8CEAE=\",\n",
       "    \"lastModified\" : \"2023-06-30T21:44:21Z\",\n",
       "    \"url\" : \"gcs://c3--gkev8c3apps/datasets/2023-06-30/CrmOpportunityExt/c3ccd216-1ec3-4646-a6e3-d045d7129ce1.json\"\n",
       "  }, {\n",
       "    \"type\" : \"GcsFile\",\n",
       "    \"contentLength\" : 34718078,\n",
       "    \"eTag\" : \"CMeW3o746/8CEAE=\",\n",
       "    \"lastModified\" : \"2023-06-30T21:29:08Z\",\n",
       "    \"url\" : \"gcs://c3--gkev8c3apps/datasets/2023-06-30/CrmOpportunityExt/d20c3694-28c7-4b6b-a99a-801d8a1739eb.json\"\n",
       "  }, {\n",
       "    \"type\" : \"GcsFile\",\n",
       "    \"contentLength\" : 34022721,\n",
       "    \"eTag\" : \"CIOJvs/76/8CEAE=\",\n",
       "    \"lastModified\" : \"2023-06-30T21:44:50Z\",\n",
       "    \"url\" : \"gcs://c3--gkev8c3apps/datasets/2023-06-30/CrmOpportunityExt/d81b00f5-b74c-4b93-8f6c-12faf93379af.json\"\n",
       "  }, {\n",
       "    \"type\" : \"GcsFile\",\n",
       "    \"contentLength\" : 34672338,\n",
       "    \"eTag\" : \"CIbFxI336/8CEAE=\",\n",
       "    \"lastModified\" : \"2023-06-30T21:24:37Z\",\n",
       "    \"url\" : \"gcs://c3--gkev8c3apps/datasets/2023-06-30/CrmOpportunityExt/d893d5ea-7c15-41c8-871d-0e6d96137ddb.json\"\n",
       "  }, {\n",
       "    \"type\" : \"GcsFile\",\n",
       "    \"contentLength\" : 34691506,\n",
       "    \"eTag\" : \"CNbooI746/8CEAE=\",\n",
       "    \"lastModified\" : \"2023-06-30T21:29:07Z\",\n",
       "    \"url\" : \"gcs://c3--gkev8c3apps/datasets/2023-06-30/CrmOpportunityExt/dde146a0-b51e-4c31-81c0-61a4643df16a.json\"\n",
       "  }, {\n",
       "    \"type\" : \"GcsFile\",\n",
       "    \"contentLength\" : 33527591,\n",
       "    \"eTag\" : \"CPW837D86/8CEAE=\",\n",
       "    \"lastModified\" : \"2023-06-30T21:48:13Z\",\n",
       "    \"url\" : \"gcs://c3--gkev8c3apps/datasets/2023-06-30/CrmOpportunityExt/e193cc33-d9d3-4a1f-bad8-cbb7358b472c.json\"\n",
       "  }, {\n",
       "    \"type\" : \"GcsFile\",\n",
       "    \"contentLength\" : 34477795,\n",
       "    \"eTag\" : \"CLWzksP36/8CEAE=\",\n",
       "    \"lastModified\" : \"2023-06-30T21:26:30Z\",\n",
       "    \"url\" : \"gcs://c3--gkev8c3apps/datasets/2023-06-30/CrmOpportunityExt/e74114ab-9bcd-426d-a5e0-664566209d6a.json\"\n",
       "  }, {\n",
       "    \"type\" : \"GcsFile\",\n",
       "    \"contentLength\" : 36838353,\n",
       "    \"eTag\" : \"CO6nk+rz6/8CEAE=\",\n",
       "    \"lastModified\" : \"2023-06-30T21:09:58Z\",\n",
       "    \"url\" : \"gcs://c3--gkev8c3apps/datasets/2023-06-30/CrmOpportunityExt/e857bff1-b086-4ff3-8ade-a188564e134b.json\"\n",
       "  }, {\n",
       "    \"type\" : \"GcsFile\",\n",
       "    \"contentLength\" : 35529523,\n",
       "    \"eTag\" : \"CJ/Omp726/8CEAE=\",\n",
       "    \"lastModified\" : \"2023-06-30T21:20:44Z\",\n",
       "    \"url\" : \"gcs://c3--gkev8c3apps/datasets/2023-06-30/CrmOpportunityExt/ef8c05b0-9a78-4b6c-b03f-cbbe1d0b8da6.json\"\n",
       "  }, {\n",
       "    \"type\" : \"GcsFile\",\n",
       "    \"contentLength\" : 37092472,\n",
       "    \"eTag\" : \"CMSSoerz6/8CEAE=\",\n",
       "    \"lastModified\" : \"2023-06-30T21:09:58Z\",\n",
       "    \"url\" : \"gcs://c3--gkev8c3apps/datasets/2023-06-30/CrmOpportunityExt/f32819ad-2749-4b76-99ec-5097290a31f1.json\"\n",
       "  }, {\n",
       "    \"type\" : \"GcsFile\",\n",
       "    \"contentLength\" : 3898901,\n",
       "    \"eTag\" : \"CMya96z96/8CEAE=\",\n",
       "    \"lastModified\" : \"2023-06-30T21:52:34Z\",\n",
       "    \"url\" : \"gcs://c3--gkev8c3apps/datasets/2023-06-30/CrmOpportunityHistoryExt/02184e86-b3a1-4c5f-a82f-2ae190b057c2.json\"\n",
       "  }, {\n",
       "    \"type\" : \"GcsFile\",\n",
       "    \"contentLength\" : 3906396,\n",
       "    \"eTag\" : \"CMSpgLD96/8CEAE=\",\n",
       "    \"lastModified\" : \"2023-06-30T21:52:40Z\",\n",
       "    \"url\" : \"gcs://c3--gkev8c3apps/datasets/2023-06-30/CrmOpportunityHistoryExt/0496923e-93fd-4fd0-a172-0d1e017d36b4.json\"\n",
       "  }, {\n",
       "    \"type\" : \"GcsFile\",\n",
       "    \"contentLength\" : 3902626,\n",
       "    \"eTag\" : \"CMz/y7v96/8CEAE=\",\n",
       "    \"lastModified\" : \"2023-06-30T21:53:05Z\",\n",
       "    \"url\" : \"gcs://c3--gkev8c3apps/datasets/2023-06-30/CrmOpportunityHistoryExt/06f24c81-a5d3-49d8-b9f3-473b4c55f183.json\"\n",
       "  }, {\n",
       "    \"type\" : \"GcsFile\",\n",
       "    \"contentLength\" : 3896892,\n",
       "    \"eTag\" : \"CO/88oP96/8CEAE=\",\n",
       "    \"lastModified\" : \"2023-06-30T21:51:08Z\",\n",
       "    \"url\" : \"gcs://c3--gkev8c3apps/datasets/2023-06-30/CrmOpportunityHistoryExt/09457e07-69ad-4fc5-98e8-0c092c6ece52.json\"\n",
       "  }, {\n",
       "    \"type\" : \"GcsFile\",\n",
       "    \"contentLength\" : 3908096,\n",
       "    \"eTag\" : \"CJO++a/96/8CEAE=\",\n",
       "    \"lastModified\" : \"2023-06-30T21:52:40Z\",\n",
       "    \"url\" : \"gcs://c3--gkev8c3apps/datasets/2023-06-30/CrmOpportunityHistoryExt/0a7efddd-011f-4daa-8323-fc983a2599b5.json\"\n",
       "  }, {\n",
       "    \"type\" : \"GcsFile\",\n",
       "    \"contentLength\" : 3897542,\n",
       "    \"eTag\" : \"COTTnoX96/8CEAE=\",\n",
       "    \"lastModified\" : \"2023-06-30T21:51:11Z\",\n",
       "    \"url\" : \"gcs://c3--gkev8c3apps/datasets/2023-06-30/CrmOpportunityHistoryExt/0becfac4-5a6c-43a5-a82f-cc7ba2e1d470.json\"\n",
       "  }, {\n",
       "    \"type\" : \"GcsFile\",\n",
       "    \"contentLength\" : 3905083,\n",
       "    \"eTag\" : \"CJfMi8396/8CEAE=\",\n",
       "    \"lastModified\" : \"2023-06-30T21:53:41Z\",\n",
       "    \"url\" : \"gcs://c3--gkev8c3apps/datasets/2023-06-30/CrmOpportunityHistoryExt/0c4a4533-5688-4e58-86d7-357bb757d93c.json\"\n",
       "  }, {\n",
       "    \"type\" : \"GcsFile\",\n",
       "    \"contentLength\" : 3908833,\n",
       "    \"eTag\" : \"CIO6o5v96/8CEAE=\",\n",
       "    \"lastModified\" : \"2023-06-30T21:51:57Z\",\n",
       "    \"url\" : \"gcs://c3--gkev8c3apps/datasets/2023-06-30/CrmOpportunityHistoryExt/0e587ce2-b7c4-4074-847f-520d790a4539.json\"\n",
       "  }, {\n",
       "    \"type\" : \"GcsFile\",\n",
       "    \"contentLength\" : 3899673,\n",
       "    \"eTag\" : \"COCXh7396/8CEAE=\",\n",
       "    \"lastModified\" : \"2023-06-30T21:53:08Z\",\n",
       "    \"url\" : \"gcs://c3--gkev8c3apps/datasets/2023-06-30/CrmOpportunityHistoryExt/0f6dc1ce-a570-41eb-a799-6ed183240d45.json\"\n",
       "  }, {\n",
       "    \"type\" : \"GcsFile\",\n",
       "    \"contentLength\" : 298944,\n",
       "    \"eTag\" : \"CMqc9cz96/8CEAE=\",\n",
       "    \"lastModified\" : \"2023-06-30T21:53:41Z\",\n",
       "    \"url\" : \"gcs://c3--gkev8c3apps/datasets/2023-06-30/CrmOpportunityHistoryExt/11396eca-dc7d-4c7d-af75-5cc5eda56099.json\"\n",
       "  }, {\n",
       "    \"type\" : \"GcsFile\",\n",
       "    \"contentLength\" : 3883086,\n",
       "    \"eTag\" : \"CNfFh/v86/8CEAE=\",\n",
       "    \"lastModified\" : \"2023-06-30T21:50:49Z\",\n",
       "    \"url\" : \"gcs://c3--gkev8c3apps/datasets/2023-06-30/CrmOpportunityHistoryExt/114d62d9-bd85-41a0-ab4c-996b6a512001.json\"\n",
       "  }, {\n",
       "    \"type\" : \"GcsFile\",\n",
       "    \"contentLength\" : 3886574,\n",
       "    \"eTag\" : \"CM+Wtfz86/8CEAE=\",\n",
       "    \"lastModified\" : \"2023-06-30T21:50:52Z\",\n",
       "    \"url\" : \"gcs://c3--gkev8c3apps/datasets/2023-06-30/CrmOpportunityHistoryExt/11c426db-2046-4e4e-9b67-5e68b43a5287.json\"\n",
       "  }, {\n",
       "    \"type\" : \"GcsFile\",\n",
       "    \"contentLength\" : 3886025,\n",
       "    \"eTag\" : \"CNWxvv/86/8CEAE=\",\n",
       "    \"lastModified\" : \"2023-06-30T21:50:59Z\",\n",
       "    \"url\" : \"gcs://c3--gkev8c3apps/datasets/2023-06-30/CrmOpportunityHistoryExt/1369db7e-67e5-43db-8b96-7de7952fdddf.json\"\n",
       "  }, {\n",
       "    \"type\" : \"GcsFile\",\n",
       "    \"contentLength\" : 3906465,\n",
       "    \"eTag\" : \"CKrG9JP96/8CEAE=\",\n",
       "    \"lastModified\" : \"2023-06-30T21:51:41Z\",\n",
       "    \"url\" : \"gcs://c3--gkev8c3apps/datasets/2023-06-30/CrmOpportunityHistoryExt/13d793f7-034c-4ae5-af8a-eab55fde42e7.json\"\n",
       "  }, {\n",
       "    \"type\" : \"GcsFile\",\n",
       "    \"contentLength\" : 3904551,\n",
       "    \"eTag\" : \"CK2Cv8H96/8CEAE=\",\n",
       "    \"lastModified\" : \"2023-06-30T21:53:17Z\",\n",
       "    \"url\" : \"gcs://c3--gkev8c3apps/datasets/2023-06-30/CrmOpportunityHistoryExt/14d9831d-0e98-40cd-8e39-61fbc7534203.json\"\n",
       "  }, {\n",
       "    \"type\" : \"GcsFile\",\n",
       "    \"contentLength\" : 3905612,\n",
       "    \"eTag\" : \"CPCZgLD96/8CEAE=\",\n",
       "    \"lastModified\" : \"2023-06-30T21:52:40Z\",\n",
       "    \"url\" : \"gcs://c3--gkev8c3apps/datasets/2023-06-30/CrmOpportunityHistoryExt/14e1d5a6-3efe-41f4-b107-108c580dacdc.json\"\n",
       "  }, {\n",
       "    \"type\" : \"GcsFile\",\n",
       "    \"contentLength\" : 3908729,\n",
       "    \"eTag\" : \"CJr47LL96/8CEAE=\",\n",
       "    \"lastModified\" : \"2023-06-30T21:52:46Z\",\n",
       "    \"url\" : \"gcs://c3--gkev8c3apps/datasets/2023-06-30/CrmOpportunityHistoryExt/1752eb0a-af3e-4660-a6ae-ea281730270d.json\"\n",
       "  }, {\n",
       "    \"type\" : \"GcsFile\",\n",
       "    \"contentLength\" : 3979914,\n",
       "    \"eTag\" : \"CLKjzMv96/8CEAE=\",\n",
       "    \"lastModified\" : \"2023-06-30T21:53:38Z\",\n",
       "    \"url\" : \"gcs://c3--gkev8c3apps/datasets/2023-06-30/CrmOpportunityHistoryExt/1760a048-8084-4376-b62d-c5e6100d53e6.json\"\n",
       "  }, {\n",
       "    \"type\" : \"GcsFile\",\n",
       "    \"contentLength\" : 3907890,\n",
       "    \"eTag\" : \"COvPkKT96/8CEAE=\",\n",
       "    \"lastModified\" : \"2023-06-30T21:52:15Z\",\n",
       "    \"url\" : \"gcs://c3--gkev8c3apps/datasets/2023-06-30/CrmOpportunityHistoryExt/17af0c52-3ddb-47d3-b222-4473b66d8ba0.json\"\n",
       "  }, {\n",
       "    \"type\" : \"GcsFile\",\n",
       "    \"contentLength\" : 3882399,\n",
       "    \"eTag\" : \"CLT3zvn86/8CEAE=\",\n",
       "    \"lastModified\" : \"2023-06-30T21:50:46Z\",\n",
       "    \"url\" : \"gcs://c3--gkev8c3apps/datasets/2023-06-30/CrmOpportunityHistoryExt/181994be-47d1-4818-96d9-dc297ab9bdce.json\"\n",
       "  }, {\n",
       "    \"type\" : \"GcsFile\",\n",
       "    \"contentLength\" : 3886779,\n",
       "    \"eTag\" : \"CO7xuPz86/8CEAE=\",\n",
       "    \"lastModified\" : \"2023-06-30T21:50:52Z\",\n",
       "    \"url\" : \"gcs://c3--gkev8c3apps/datasets/2023-06-30/CrmOpportunityHistoryExt/1970f337-f7e5-4b0e-a244-01d49d142caf.json\"\n",
       "  } ],\n",
       "  \"nextMarker\" : \"ClZkYXRhc2V0cy8yMDIzLTA2LTMwL0NybU9wcG9ydHVuaXR5SGlzdG9yeUV4dC8xOTcwZjMzNy1mN2U1LTRiMGUtYTI0NC0wMWQ0OWQxNDJjYWYuanNvbg==\"\n",
       "}"
      ]
     },
     "execution_count": 9,
     "metadata": {},
     "output_type": "execute_result"
    }
   ],
   "source": [
    "c3.FileSystem.listFiles(remote_elser_path)"
   ]
  },
  {
   "cell_type": "markdown",
   "id": "a63fed39-dcae-405a-9c80-ba21c3659510",
   "metadata": {},
   "source": [
    "## Upload Colbert"
   ]
  },
  {
   "cell_type": "code",
   "execution_count": 36,
   "id": "b216188a-57ea-4a29-86a9-c75738ee4248",
   "metadata": {
    "execution": {
     "iopub.execute_input": "2024-02-29T19:44:53.605141Z",
     "iopub.status.busy": "2024-02-29T19:44:53.604272Z",
     "iopub.status.idle": "2024-02-29T19:44:53.608432Z",
     "shell.execute_reply": "2024-02-29T19:44:53.607636Z",
     "shell.execute_reply.started": "2024-02-29T19:44:53.605103Z"
    },
    "tags": []
   },
   "outputs": [],
   "source": [
    "# Notebook\n",
    "local_colbert_path = \"colbertv2.0.tar.gz\" \n",
    "remote_colbert_path = f\"{vs_remote_mount}colbertv2.0.tar.gz\""
   ]
  },
  {
   "cell_type": "code",
   "execution_count": 37,
   "id": "6ed577bc-2873-4f3e-ac1d-006c77c096ac",
   "metadata": {
    "execution": {
     "iopub.execute_input": "2024-02-29T19:44:56.384297Z",
     "iopub.status.busy": "2024-02-29T19:44:56.383590Z",
     "iopub.status.idle": "2024-02-29T19:45:09.673722Z",
     "shell.execute_reply": "2024-02-29T19:45:09.672748Z",
     "shell.execute_reply.started": "2024-02-29T19:44:56.384263Z"
    },
    "tags": []
   },
   "outputs": [],
   "source": [
    "with open(local_colbert_path, 'rb') as f:\n",
    "    c3.Client.uploadFile(f, remote_colbert_path)"
   ]
  },
  {
   "cell_type": "markdown",
   "id": "6f5d2848-6b16-4eaa-b56f-771f9cc0e590",
   "metadata": {},
   "source": [
    "## Upload ElSER"
   ]
  },
  {
   "cell_type": "code",
   "execution_count": 38,
   "id": "b7ca95f8-0011-4b8c-8a02-8a247773c874",
   "metadata": {
    "execution": {
     "iopub.execute_input": "2024-02-29T19:46:00.797768Z",
     "iopub.status.busy": "2024-02-29T19:46:00.796997Z",
     "iopub.status.idle": "2024-02-29T19:46:00.802242Z",
     "shell.execute_reply": "2024-02-29T19:46:00.801124Z",
     "shell.execute_reply.started": "2024-02-29T19:46:00.797726Z"
    },
    "tags": []
   },
   "outputs": [],
   "source": [
    "local_elser_path = \"elser.tar.gz\" \n",
    "remote_elser_path = f\"{vs_remote_mount}elser.tar.gz\""
   ]
  },
  {
   "cell_type": "code",
   "execution_count": 39,
   "id": "10d2a1a9-cd82-4044-ab97-0f2c30039548",
   "metadata": {
    "execution": {
     "iopub.execute_input": "2024-02-29T19:46:01.732852Z",
     "iopub.status.busy": "2024-02-29T19:46:01.731904Z",
     "iopub.status.idle": "2024-02-29T19:46:01.743717Z",
     "shell.execute_reply": "2024-02-29T19:46:01.742768Z",
     "shell.execute_reply.started": "2024-02-29T19:46:01.732814Z"
    },
    "tags": []
   },
   "outputs": [
    {
     "ename": "FileNotFoundError",
     "evalue": "[Errno 2] No such file or directory: 'elser.tar.gz'",
     "output_type": "error",
     "traceback": [
      "\u001b[0;31m---------------------------------------------------------------------------\u001b[0m",
      "\u001b[0;31mFileNotFoundError\u001b[0m                         Traceback (most recent call last)",
      "\u001b[0;32m/tmp/ipykernel_72/3207354376.py\u001b[0m in \u001b[0;36m<cell line: 1>\u001b[0;34m()\u001b[0m\n\u001b[0;32m----> 1\u001b[0;31m \u001b[0;32mwith\u001b[0m \u001b[0mopen\u001b[0m\u001b[0;34m(\u001b[0m\u001b[0mlocal_elser_path\u001b[0m\u001b[0;34m,\u001b[0m \u001b[0;34m'rb'\u001b[0m\u001b[0;34m)\u001b[0m \u001b[0;32mas\u001b[0m \u001b[0mf\u001b[0m\u001b[0;34m:\u001b[0m\u001b[0;34m\u001b[0m\u001b[0;34m\u001b[0m\u001b[0m\n\u001b[0m\u001b[1;32m      2\u001b[0m     \u001b[0mc3\u001b[0m\u001b[0;34m.\u001b[0m\u001b[0mClient\u001b[0m\u001b[0;34m.\u001b[0m\u001b[0muploadFile\u001b[0m\u001b[0;34m(\u001b[0m\u001b[0mf\u001b[0m\u001b[0;34m,\u001b[0m \u001b[0mremote_elser_path\u001b[0m\u001b[0;34m)\u001b[0m\u001b[0;34m\u001b[0m\u001b[0;34m\u001b[0m\u001b[0m\n",
      "\u001b[0;31mFileNotFoundError\u001b[0m: [Errno 2] No such file or directory: 'elser.tar.gz'"
     ]
    }
   ],
   "source": [
    "with open(local_elser_path, 'rb') as f:\n",
    "    c3.Client.uploadFile(f, remote_elser_path)"
   ]
  },
  {
   "cell_type": "code",
   "execution_count": 163,
   "id": "1b880efa-f7bd-4a79-ad22-a3d4d717ce47",
   "metadata": {
    "execution": {
     "iopub.execute_input": "2024-02-29T03:20:27.987201Z",
     "iopub.status.busy": "2024-02-29T03:20:27.986408Z",
     "iopub.status.idle": "2024-02-29T03:20:28.061262Z",
     "shell.execute_reply": "2024-02-29T03:20:28.060547Z",
     "shell.execute_reply.started": "2024-02-29T03:20:27.987168Z"
    },
    "tags": []
   },
   "outputs": [
    {
     "data": {
      "text/plain": [
       "{\n",
       "  \"type\" : \"Genai.Retriever.Elser\",\n",
       "  \"id\" : \"20e716cf-cf14-4302-beac-f6ac40db8a4f\",\n",
       "  \"name\" : \"corneaguru\",\n",
       "  \"meta\" : {\n",
       "    \"appCode\" : 1791975693483737808,\n",
       "    \"env\" : \"cornea133702062024\",\n",
       "    \"app\" : \"genaisearch\",\n",
       "    \"created\" : \"2024-02-29T03:18:18Z\",\n",
       "    \"createdBy\" : \"303fcf2617688522c0dc3328b161b30cffad08cf041924dd5912507a9906e67e\",\n",
       "    \"updated\" : \"2024-02-29T03:18:18Z\",\n",
       "    \"updatedBy\" : \"303fcf2617688522c0dc3328b161b30cffad08cf041924dd5912507a9906e67e\",\n",
       "    \"timestamp\" : \"2024-02-29T03:18:18Z\",\n",
       "    \"fetchInclude\" : \"[]\",\n",
       "    \"fetchType\" : \"Genai.Retriever.Elser\"\n",
       "  },\n",
       "  \"version\" : 1,\n",
       "  \"url\" : \"https://7b29c305ff84418e8f90977005eae014.us-east-1.aws.found.io:9243/app/enterprise_search/elasticsearch\",\n",
       "  \"modelId\" : \"corneaguru\"\n",
       "}"
      ]
     },
     "execution_count": 163,
     "metadata": {},
     "output_type": "execute_result"
    }
   ],
   "source": [
    "vectorStore = c3.Genai.Retriever.Elser.forId(\"20e716cf-cf14-4302-beac-f6ac40db8a4f\")\n",
    "vectorStore"
   ]
  },
  {
   "cell_type": "code",
   "execution_count": 176,
   "id": "23636404-1640-43e6-8ed3-83acad833e68",
   "metadata": {
    "execution": {
     "iopub.execute_input": "2024-02-29T15:22:28.074497Z",
     "iopub.status.busy": "2024-02-29T15:22:28.073603Z",
     "iopub.status.idle": "2024-02-29T15:22:28.078818Z",
     "shell.execute_reply": "2024-02-29T15:22:28.078050Z",
     "shell.execute_reply.started": "2024-02-29T15:22:28.074466Z"
    },
    "tags": []
   },
   "outputs": [
    {
     "data": {
      "text/plain": [
       "'corneaguru'"
      ]
     },
     "execution_count": 176,
     "metadata": {},
     "output_type": "execute_result"
    }
   ],
   "source": [
    "vectorStore.name"
   ]
  },
  {
   "cell_type": "code",
   "execution_count": 165,
   "id": "033e948a-f7b2-43a6-940b-2098802f3a24",
   "metadata": {
    "execution": {
     "iopub.execute_input": "2024-02-29T05:47:49.059555Z",
     "iopub.status.busy": "2024-02-29T05:47:49.058584Z",
     "iopub.status.idle": "2024-02-29T05:47:49.136386Z",
     "shell.execute_reply": "2024-02-29T05:47:49.135716Z",
     "shell.execute_reply.started": "2024-02-29T05:47:49.059514Z"
    },
    "tags": []
   },
   "outputs": [
    {
     "data": {
      "text/plain": [
       "{\n",
       "  \"type\" : \"Genai.SourceCollection\",\n",
       "  \"name\" : \"corneaguru\",\n",
       "  \"id\" : \"corneaguru\",\n",
       "  \"meta\" : {\n",
       "    \"appCode\" : 1791975693483737808,\n",
       "    \"env\" : \"cornea133702062024\",\n",
       "    \"app\" : \"genaisearch\",\n",
       "    \"created\" : \"2024-02-28T03:26:25Z\",\n",
       "    \"createdBy\" : \"303fcf2617688522c0dc3328b161b30cffad08cf041924dd5912507a9906e67e\",\n",
       "    \"updated\" : \"2024-02-28T17:54:14Z\",\n",
       "    \"updatedBy\" : \"303fcf2617688522c0dc3328b161b30cffad08cf041924dd5912507a9906e67e\",\n",
       "    \"timestamp\" : \"2024-02-28T17:54:14Z\",\n",
       "    \"fetchInclude\" : \"[]\",\n",
       "    \"fetchType\" : \"Genai.SourceCollection\"\n",
       "  },\n",
       "  \"version\" : 5,\n",
       "  \"description\" : \"Collection of files for corneaguru\",\n",
       "  \"rootUrl\" : \"gcs://c3--gkev8c3apps/corneaguru/unstructured/docs/\",\n",
       "  \"targetUrl\" : \"gcs://c3--gkev8c3apps/corneaguru/unstructured/passageFiles/\",\n",
       "  \"groups\" : [ {\n",
       "    \"id\" : \"Genai.Common\"\n",
       "  }, {\n",
       "    \"id\" : \"C3.ClusterAdmin\"\n",
       "  }, {\n",
       "    \"id\" : \"C3.EnvAdmin\"\n",
       "  }, {\n",
       "    \"id\" : \"C3.AppAdmin\"\n",
       "  } ]\n",
       "}"
      ]
     },
     "execution_count": 165,
     "metadata": {},
     "output_type": "execute_result"
    }
   ],
   "source": [
    "sourceCollection = c3.Genai.SourceCollection.forId(\"corneaguru\")\n",
    "sourceCollection"
   ]
  },
  {
   "cell_type": "code",
   "execution_count": 174,
   "id": "b1ed1b5f-699a-483f-a93b-bf0641c3dd14",
   "metadata": {
    "execution": {
     "iopub.execute_input": "2024-02-29T15:21:18.692593Z",
     "iopub.status.busy": "2024-02-29T15:21:18.691683Z",
     "iopub.status.idle": "2024-02-29T15:21:18.844795Z",
     "shell.execute_reply": "2024-02-29T15:21:18.844181Z",
     "shell.execute_reply.started": "2024-02-29T15:21:18.692556Z"
    },
    "tags": []
   },
   "outputs": [
    {
     "data": {
      "text/plain": [
       "4"
      ]
     },
     "execution_count": 174,
     "metadata": {},
     "output_type": "execute_result"
    }
   ],
   "source": [
    "c3.FileSystem.deleteFiles(sourceCollection.rootUrl,True)"
   ]
  },
  {
   "cell_type": "code",
   "execution_count": 181,
   "id": "fce74614-97d6-45cc-a24f-7c585cfc3db8",
   "metadata": {
    "execution": {
     "iopub.execute_input": "2024-02-29T16:16:20.936773Z",
     "iopub.status.busy": "2024-02-29T16:16:20.935784Z",
     "iopub.status.idle": "2024-02-29T16:16:20.955079Z",
     "shell.execute_reply": "2024-02-29T16:16:20.953884Z",
     "shell.execute_reply.started": "2024-02-29T16:16:20.936738Z"
    },
    "tags": []
   },
   "outputs": [
    {
     "ename": "AttributeError",
     "evalue": "Error accessing attribute 'DataConfig' on type 'Genai.Retriever.Elser':\n<class 'AttributeError'>: 'DataConfig' is not an attribute of Type Genai.Retriever.Elser",
     "output_type": "error",
     "traceback": [
      "\u001b[0;31m---------------------------------------------------------------------------\u001b[0m",
      "\u001b[0;31mAttributeError\u001b[0m                            Traceback (most recent call last)",
      "\u001b[0;32m/c3/platform/src/remote/ServerConnection.py\u001b[0m in \u001b[0;36m__getattr__\u001b[0;34m(cls, item)\u001b[0m\n",
      "\u001b[0;32m/c3/platform/src/remote/ServerConnection.py\u001b[0m in \u001b[0;36mgetAttributeDesc\u001b[0;34m(self, item)\u001b[0m\n",
      "\u001b[0;31mAttributeError\u001b[0m: 'DataConfig' is not an attribute of Type Genai.Retriever.Elser",
      "\nDuring handling of the above exception, another exception occurred:\n",
      "\u001b[0;31mAttributeError\u001b[0m                            Traceback (most recent call last)",
      "\u001b[0;32m/tmp/ipykernel_266/113270158.py\u001b[0m in \u001b[0;36m<module>\u001b[0;34m\u001b[0m\n\u001b[0;32m----> 1\u001b[0;31m \u001b[0mc3\u001b[0m\u001b[0;34m.\u001b[0m\u001b[0mGenai\u001b[0m\u001b[0;34m.\u001b[0m\u001b[0mRetriever\u001b[0m\u001b[0;34m.\u001b[0m\u001b[0mElser\u001b[0m\u001b[0;34m.\u001b[0m\u001b[0mDataConfig\u001b[0m\u001b[0;34m\u001b[0m\u001b[0;34m\u001b[0m\u001b[0m\n\u001b[0m",
      "\u001b[0;32m/c3/platform/src/remote/ServerConnection.py\u001b[0m in \u001b[0;36m__getattr__\u001b[0;34m(cls, item)\u001b[0m\n",
      "\u001b[0;31mAttributeError\u001b[0m: Error accessing attribute 'DataConfig' on type 'Genai.Retriever.Elser':\n<class 'AttributeError'>: 'DataConfig' is not an attribute of Type Genai.Retriever.Elser"
     ]
    }
   ],
   "source": [
    "c3.Genai.Retriever.Elser.DataConfig"
   ]
  },
  {
   "cell_type": "code",
   "execution_count": 172,
   "id": "9349bf8c-2098-4755-ab05-6c669c50e465",
   "metadata": {
    "execution": {
     "iopub.execute_input": "2024-02-29T15:19:07.935457Z",
     "iopub.status.busy": "2024-02-29T15:19:07.934716Z",
     "iopub.status.idle": "2024-02-29T15:19:08.013477Z",
     "shell.execute_reply": "2024-02-29T15:19:08.012648Z",
     "shell.execute_reply.started": "2024-02-29T15:19:07.935423Z"
    },
    "tags": []
   },
   "outputs": [
    {
     "data": {
      "text/plain": [
       "4"
      ]
     },
     "execution_count": 172,
     "metadata": {},
     "output_type": "execute_result"
    }
   ],
   "source": [
    "len(c3.FileSystem.listFiles(sourceCollection.rootUrl).files)"
   ]
  },
  {
   "cell_type": "code",
   "execution_count": 171,
   "id": "0ba02282-03ab-43bd-a1a5-8a13dcfc9ac1",
   "metadata": {
    "execution": {
     "iopub.execute_input": "2024-02-29T15:18:39.443809Z",
     "iopub.status.busy": "2024-02-29T15:18:39.442872Z",
     "iopub.status.idle": "2024-02-29T15:18:40.560807Z",
     "shell.execute_reply": "2024-02-29T15:18:40.559988Z",
     "shell.execute_reply.started": "2024-02-29T15:18:39.443776Z"
    },
    "tags": []
   },
   "outputs": [
    {
     "data": {
      "text/plain": [
       "{\n",
       "  \"type\" : \"ListFilesResult\",\n",
       "  \"files\" : [ {\n",
       "    \"type\" : \"GcsFile\",\n",
       "    \"contentLength\" : 1150161,\n",
       "    \"eTag\" : \"CJ6GsLHs0IQDEAE=\",\n",
       "    \"lastModified\" : \"2024-02-29T15:18:39Z\",\n",
       "    \"url\" : \"gcs://c3--gkev8c3apps/corneaguru/unstructured/docs/20220829XiJinpingLinesofAuthority.pdf\"\n",
       "  }, {\n",
       "    \"type\" : \"GcsFile\",\n",
       "    \"contentLength\" : 628699,\n",
       "    \"eTag\" : \"CLKqzbHs0IQDEAE=\",\n",
       "    \"lastModified\" : \"2024-02-29T15:18:40Z\",\n",
       "    \"url\" : \"gcs://c3--gkev8c3apps/corneaguru/unstructured/docs/20230612WherearethePLA'sothersatellitedazzlingfacilities.pdf\"\n",
       "  }, {\n",
       "    \"type\" : \"GcsFile\",\n",
       "    \"contentLength\" : 436188,\n",
       "    \"eTag\" : \"CLH6vrHs0IQDEAE=\",\n",
       "    \"lastModified\" : \"2024-02-29T15:18:40Z\",\n",
       "    \"url\" : \"gcs://c3--gkev8c3apps/corneaguru/unstructured/docs/CanChinaTakeTaiwanv5.pdf\"\n",
       "  }, {\n",
       "    \"type\" : \"GcsFile\",\n",
       "    \"contentLength\" : 3744997,\n",
       "    \"eTag\" : \"CJrKobHs0IQDEAE=\",\n",
       "    \"lastModified\" : \"2024-02-29T15:18:39Z\",\n",
       "    \"url\" : \"gcs://c3--gkev8c3apps/corneaguru/unstructured/docs/chineseairforce.pdf\"\n",
       "  } ]\n",
       "}"
      ]
     },
     "execution_count": 171,
     "metadata": {},
     "output_type": "execute_result"
    }
   ],
   "source": [
    "local_dir = './data/'\n",
    "\n",
    "for filename in os.listdir(local_dir):\n",
    "        if filename.endswith(\".pdf\"):\n",
    "            new_filename = filename.replace(\" \", \"\").replace(\"-\", \"\").replace(\"[\", \"\").replace(\"]\", \"\")\n",
    "            old_filepath = os.path.join(local_dir, filename)\n",
    "            new_filepath = os.path.join(local_dir, new_filename)\n",
    "            os.rename(old_filepath, new_filepath)\n",
    "\n",
    "for fname in os.listdir(local_dir):\n",
    "    if fname.endswith(\".pdf\"):\n",
    "        local_fullname = os.path.join(local_dir, fname)\n",
    "        remote_fullname = os.path.join(sourceCollection.rootUrl, fname)\n",
    "        if os.path.isfile(local_fullname):  # check if file exists\n",
    "            with open(local_fullname, \"rb\") as f:\n",
    "                c3.Client.uploadFile(f, remote_fullname)\n",
    "                #print(f\"File {local_fullname} uploaded!\")\n",
    "        else:\n",
    "            print(f\"File {local_fullname} does not exist.\")\n",
    "            \n",
    "c3.FileSystem.inst().listFiles(sourceCollection.rootUrl, limit=5)"
   ]
  },
  {
   "cell_type": "code",
   "execution_count": 175,
   "id": "ab4a1d0a-4f3f-4439-9b2b-c8d05cb7810a",
   "metadata": {
    "execution": {
     "iopub.execute_input": "2024-02-29T15:21:27.798738Z",
     "iopub.status.busy": "2024-02-29T15:21:27.797933Z",
     "iopub.status.idle": "2024-02-29T15:21:33.020285Z",
     "shell.execute_reply": "2024-02-29T15:21:33.019371Z",
     "shell.execute_reply.started": "2024-02-29T15:21:27.798707Z"
    },
    "tags": []
   },
   "outputs": [
    {
     "ename": "RuntimeError",
     "evalue": "Internal Java error: ----------\n1. ERROR in /Genai_SourceFile_N1800101142901478253.java (at line 228)\n\tc3.genAiSearch.Genai_SourceFile_Metadata_Tag_9115329865102825268 addTag(String tagLabel);\n\t^^^^^^^^^^^^^^^^^^^^^^^^^^^^^^^^^^^^^^^^^^^^^^^^^^^^^^^^^^^^^^^^\nThe return type is incompatible with Genai_Source_N2708924819439669110.addTag(String)\n----------\n----------\n2. WARNING in /Genai_SourceFile_SubtypeImpl_N1800101142901478253.java (at line 204)\n\tpublic ObjBuilder objBuilder() {\n\t       ^^^^^^^^^^\nObjBuilder is a raw type. References to generic type ObjBuilder<O> should be parameterized\n----------\n3. WARNING in /Genai_SourceFile_SubtypeImpl_N1800101142901478253.java (at line 208)\n\tpublic ObjBuilder objBuilder(Obj initial) {\n\t       ^^^^^^^^^^\nObjBuilder is a raw type. References to generic type ObjBuilder<O> should be parameterized\n----------\n----------\n4. WARNING in /Genai_SourceFile_Impl_N1800101142901478253.java (at line 33)\n\tpublic class Genai_SourceFile_Impl_N1800101142901478253 extends Obj_SimpleBase<c3.genAiSearch.Genai_SourceFile_N1800101142901478253, c3.genAiSearch.Genai_SourceFile_BuilderImpl_N1800101142901478253> implements c3.genAiSearch.Genai_SourceFile_N1800101142901478253 {\n\t             ^^^^^^^^^^^^^^^^^^^^^^^^^^^^^^^^^^^^^^^^^^\nThe serializable class Genai_SourceFile_Impl_N1800101142901478253 does not declare a static final serialVersionUID field of type long\n----------\n5. WARNING in /Genai_SourceFile_Impl_N1800101142901478253.java (at line 54)\n\treturn toBuilder().acl((Array) acl).build();\n\t                       ^^^^^^^^^^^\nType safety: The expression of type Array needs unchecked conversion to conform to Array<? extends AclEntry>\n----------\n6. WARNING in /Genai_SourceFile_Impl_N1800101142901478253.java (at line 54)\n\treturn toBuilder().acl((Array) acl).build();\n\t                        ^^^^^\nArray is a raw type. References to generic type Array<E> should be parameterized\n----------\n7. WARNING in /Genai_SourceFile_Impl_N1800101142901478253.java (at line 62)\n\treturn toBuilder().acl((Array) null).build();\n\t                       ^^^^^^^^^^^^\nType safety: The expression of type Array needs unchecked conversion to conform to Array<? extends AclEntry>\n----------\n8. WARNING in /Genai_SourceFile_Impl_N1800101142901478253.java (at line 62)\n\treturn toBuilder().acl((Array) null).build();\n\t                        ^^^^^\nArray is a raw type. References to generic type Array<E> should be parameterized\n----------\n9. WARNING in /Genai_SourceFile_Impl_N1800101142901478253.java (at line 110)\n\treturn toBuilder().versionEdits((Array) versionEdits).build();\n\t                                ^^^^^^^^^^^^^^^^^^^^\nType safety: The expression of type Array needs unchecked conversion to conform to Array<? extends VersionEdit>\n----------\n10. WARNING in /Genai_SourceFile_Impl_N1800101142901478253.java (at line 110)\n\treturn toBuilder().versionEdits((Array) versionEdits).build();\n\t                                 ^^^^^\nArray is a raw type. References to generic type Array<E> should be parameterized\n----------\n11. WARNING in /Genai_SourceFile_Impl_N1800101142901478253.java (at line 118)\n\treturn toBuilder().versionEdits((Array) null).build();\n\t                                ^^^^^^^^^^^^\nType safety: The expression of type Array needs unchecked conversion to conform to Array<? extends VersionEdit>\n----------\n12. WARNING in /Genai_SourceFile_Impl_N1800101142901478253.java (at line 118)\n\treturn toBuilder().versionEdits((Array) null).build();\n\t                                 ^^^^^\nArray is a raw type. References to generic type Array<E> should be parameterized\n----------\n13. WARNING in /Genai_SourceFile_Impl_N1800101142901478253.java (at line 248)\n\treturn (c3.genAiSearch.Genai_SourceFile_N1800101142901478253) subtype()._AclEnabled_Java_Methods().mergeAclEntries(this, (Array) entries);\n\t                                                                                                                         ^^^^^^^^^^^^^^^\nType safety: The expression of type Array needs unchecked conversion to conform to Array<AclEntry>\n----------\n14. WARNING in /Genai_SourceFile_Impl_N1800101142901478253.java (at line 248)\n\treturn (c3.genAiSearch.Genai_SourceFile_N1800101142901478253) subtype()._AclEnabled_Java_Methods().mergeAclEntries(this, (Array) entries);\n\t                                                                                                                          ^^^^^\nArray is a raw type. References to generic type Array<E> should be parameterized\n----------\n15. WARNING in /Genai_SourceFile_Impl_N1800101142901478253.java (at line 278)\n\treturn (Map) subtype()._WithKey_Java_Methods().singletonMap(this);\n\t       ^^^^^^^^^^^^^^^^^^^^^^^^^^^^^^^^^^^^^^^^^^^^^^^^^^^^^^^^^^\nType safety: The expression of type Map needs unchecked conversion to conform to Map<String,WithKey>\n----------\n16. WARNING in /Genai_SourceFile_Impl_N1800101142901478253.java (at line 278)\n\treturn (Map) subtype()._WithKey_Java_Methods().singletonMap(this);\n\t        ^^^\nMap is a raw type. References to generic type Map<K,E> should be parameterized\n----------\n17. WARNING in /Genai_SourceFile_Impl_N1800101142901478253.java (at line 356)\n\tCtx.run(() -> subtype()._Persistable_Java_Methods().invalidateTsHeader(this, range, (Array) Val.validateArg(null, 1), false), this.type.method(\"invalidateTsHeader\"), 0, this, range);\n\t                                                                                    ^^^^^^^^^^^^^^^^^^^^^^^^^^^^^^^^\nType safety: The expression of type Array needs unchecked conversion to conform to Array<String>\n----------\n18. WARNING in /Genai_SourceFile_Impl_N1800101142901478253.java (at line 356)\n\tCtx.run(() -> subtype()._Persistable_Java_Methods().invalidateTsHeader(this, range, (Array) Val.validateArg(null, 1), false), this.type.method(\"invalidateTsHeader\"), 0, this, range);\n\t                                                                                     ^^^^^\nArray is a raw type. References to generic type Array<E> should be parameterized\n----------\n19. WARNING in /Genai_SourceFile_Impl_N1800101142901478253.java (at line 359)\n\tCtx.run(() -> subtype()._Persistable_Java_Methods().invalidateTsHeader(this, (TimeRange) null, (Array) Val.validateArg(null, 1), false), this.type.method(\"invalidateTsHeader\"), 0, this);\n\t                                                                                               ^^^^^^^^^^^^^^^^^^^^^^^^^^^^^^^^\nType safety: The expression of type Array needs unchecked conversion to conform to Array<String>\n----------\n20. WARNING in /Genai_SourceFile_Impl_N1800101142901478253.java (at line 359)\n\tCtx.run(() -> subtype()._Persistable_Java_Methods().invalidateTsHeader(this, (TimeRange) null, (Array) Val.validateArg(null, 1), false), this.type.method(\"invalidateTsHeader\"), 0, this);\n\t                                                                                                ^^^^^\nArray is a raw type. References to generic type Array<E> should be parameterized\n----------\n21. WARNING in /Genai_SourceFile_Impl_N1800101142901478253.java (at line 362)\n\treturn Ctx.call(() -> this.type.callFromCodeGen(this.type.method(\"writePassages\"), 0, this, (Array) passages), this.type.method(\"writePassages\"), 0, this, passages);\n\t                                                                                             ^^^^^\nArray is a raw type. References to generic type Array<E> should be parameterized\n----------\n22. WARNING in /Genai_SourceFile_Impl_N1800101142901478253.java (at line 365)\n\treturn Ctx.call(() -> (Array) this.type.callFromCodeGen(this.type.method(\"readPassages\"), 0, this), this.type.method(\"readPassages\"), 0, this);\n\t                       ^^^^^\nArray is a raw type. References to generic type Array<E> should be parameterized\n----------\n----------\n23. WARNING in /Genai_SourceFile_BuilderImpl_N1800101142901478253.java (at line 20)\n\tpublic class Genai_SourceFile_BuilderImpl_N1800101142901478253 extends ObjBuilder_Fields<Genai_SourceFile_BuilderImpl_N1800101142901478253, c3.genAiSearch.Genai_SourceFile_Impl_N1800101142901478253> implements c3.genAiSearch.Genai_SourceFile_N1800101142901478253.Builder {\n\t             ^^^^^^^^^^^^^^^^^^^^^^^^^^^^^^^^^^^^^^^^^^^^^^^^^\nThe serializable class Genai_SourceFile_BuilderImpl_N1800101142901478253 does not declare a static final serialVersionUID field of type long\n----------\n23 problems (1 error, 22 warnings)\n!\n\nCalled from JavaScript action Genai.SourceFile#transitionCollectionToStatus executing in runtime js on server (Genai.SourceFile.js)\n    421      fetchFilter = fetchFilter.and().lit(filter);\n    422    }\n  > 423    var files = Genai.SourceFile.fetch({\n    424      filter: fetchFilter,\n    425      include: 'id',\n\nCalled from JavaScript action Genai.SourceCollection#sync executing in runtime js on server (Genai.SourceCollection.js)\n    196      });\n    197  \n  > 198    Genai.SourceFile.transitionCollectionToStatus(coll, Genai.SourceFile.StatusEnum.SYNCING);\n    199  \n    200    var eachFileLambda = syncSpec.doNotCheckForModifiedFiles ? _checkNewLambda : _checkNewOrUpdatedLambda;\n\nError calling /api/8/Genai.SourceCollection/sync with [{\"type\":\"Genai.SourceCollection\",\"name\":\"corneaguru\",\"id\":\"corneaguru\",\"meta\":{\"type\":\"Meta\",\"appCode\":1791975693483737808,\"env\":\"cornea133702062024\",\"app\":\"genaisearch\",\"created\":\"2024-02-28T03:26:25+00:00\",\"createdBy\":\"303fcf2617688522c0dc3328b161b30cffad08cf041924dd5912507a9906e67e\",\"updated\":\"2024-02-29T15:19:25+00:00\",\"updatedBy\":\"303fcf2617688522c0dc3328b161b30cffad08cf041924dd5912507a9906e67e\",\"timestamp\":\"2024-02-29T15:19:25+00:00\",\"fetchInclude\":\"[]\",\"fetchType\":\"Genai.SourceCollection\"},\"version\":6,\"description\":\"Collection of files for corneaguru\",\"rootUrl\":\"gcs://c3--gkev8c3apps/corneaguru/unstructured/docs/\",\"targetUrl\":\"gcs://c3--gkev8c3apps/corneaguru/unstructured/passageFiles/\",\"lastSyncedBy\":\"Richard.Mu-c@c3.ai\",\"lastSyncTime\":\"2024-02-29T15:19:26+00:00\",\"groups\":{\"type\":\"[Role]\",\"value\":[{\"type\":\"Role\",\"id\":\"Genai.Common\"},{\"type\":\"Role\",\"id\":\"C3.ClusterAdmin\"},{\"type\":\"Role\",\"id\":\"C3.EnvAdmin\"},{\"type\":\"Role\",\"id\":\"C3.AppAdmin\"}]}}]",
     "output_type": "error",
     "traceback": [
      "\u001b[0;31m---------------------------------------------------------------------------\u001b[0m",
      "\u001b[0;31mRuntimeError\u001b[0m                              Traceback (most recent call last)",
      "\u001b[0;32m/tmp/ipykernel_266/1757076545.py\u001b[0m in \u001b[0;36m<module>\u001b[0;34m\u001b[0m\n\u001b[0;32m----> 1\u001b[0;31m \u001b[0mc3\u001b[0m\u001b[0;34m.\u001b[0m\u001b[0mGenai\u001b[0m\u001b[0;34m.\u001b[0m\u001b[0mSourceCollection\u001b[0m\u001b[0;34m.\u001b[0m\u001b[0mforId\u001b[0m\u001b[0;34m(\u001b[0m\u001b[0;34m\"corneaguru\"\u001b[0m\u001b[0;34m)\u001b[0m\u001b[0;34m.\u001b[0m\u001b[0msync\u001b[0m\u001b[0;34m(\u001b[0m\u001b[0;34m)\u001b[0m\u001b[0;34m\u001b[0m\u001b[0;34m\u001b[0m\u001b[0m\n\u001b[0m",
      "\u001b[0;32m/c3/platform/src/remote/ServerConnection.py-client.py\u001b[0m in \u001b[0;36msync\u001b[0;34m(*positional_args, **keyword_args)\u001b[0m\n",
      "\u001b[0;32m/c3/platform/src/remote/ServerConnection.py-client.py\u001b[0m in \u001b[0;36m_exec_method_common\u001b[0;34m(positional_args, keyword_args, method_name, typ, type_name, prototype_name, conn, is_static, is_by_ref)\u001b[0m\n",
      "\u001b[0;32m/c3/platform/src/remote/ServerConnection.py-client.py\u001b[0m in \u001b[0;36m_exec_remote_method\u001b[0;34m(first_arg, positional_args, keyword_args, method_name, typ, type_name, prototype_name, is_static, is_by_ref)\u001b[0m\n",
      "\u001b[0;32m/c3/platform/src/remote/ServerConnection.py-client.py\u001b[0m in \u001b[0;36m_parse_response\u001b[0;34m(response, type_name, action, rt)\u001b[0m\n",
      "\u001b[0;31mRuntimeError\u001b[0m: Internal Java error: ----------\n1. ERROR in /Genai_SourceFile_N1800101142901478253.java (at line 228)\n\tc3.genAiSearch.Genai_SourceFile_Metadata_Tag_9115329865102825268 addTag(String tagLabel);\n\t^^^^^^^^^^^^^^^^^^^^^^^^^^^^^^^^^^^^^^^^^^^^^^^^^^^^^^^^^^^^^^^^\nThe return type is incompatible with Genai_Source_N2708924819439669110.addTag(String)\n----------\n----------\n2. WARNING in /Genai_SourceFile_SubtypeImpl_N1800101142901478253.java (at line 204)\n\tpublic ObjBuilder objBuilder() {\n\t       ^^^^^^^^^^\nObjBuilder is a raw type. References to generic type ObjBuilder<O> should be parameterized\n----------\n3. WARNING in /Genai_SourceFile_SubtypeImpl_N1800101142901478253.java (at line 208)\n\tpublic ObjBuilder objBuilder(Obj initial) {\n\t       ^^^^^^^^^^\nObjBuilder is a raw type. References to generic type ObjBuilder<O> should be parameterized\n----------\n----------\n4. WARNING in /Genai_SourceFile_Impl_N1800101142901478253.java (at line 33)\n\tpublic class Genai_SourceFile_Impl_N1800101142901478253 extends Obj_SimpleBase<c3.genAiSearch.Genai_SourceFile_N1800101142901478253, c3.genAiSearch.Genai_SourceFile_BuilderImpl_N1800101142901478253> implements c3.genAiSearch.Genai_SourceFile_N1800101142901478253 {\n\t             ^^^^^^^^^^^^^^^^^^^^^^^^^^^^^^^^^^^^^^^^^^\nThe serializable class Genai_SourceFile_Impl_N1800101142901478253 does not declare a static final serialVersionUID field of type long\n----------\n5. WARNING in /Genai_SourceFile_Impl_N1800101142901478253.java (at line 54)\n\treturn toBuilder().acl((Array) acl).build();\n\t                       ^^^^^^^^^^^\nType safety: The expression of type Array needs unchecked conversion to conform to Array<? extends AclEntry>\n----------\n6. WARNING in /Genai_SourceFile_Impl_N1800101142901478253.java (at line 54)\n\treturn toBuilder().acl((Array) acl).build();\n\t                        ^^^^^\nArray is a raw type. References to generic type Array<E> should be parameterized\n----------\n7. WARNING in /Genai_SourceFile_Impl_N1800101142901478253.java (at line 62)\n\treturn toBuilder().acl((Array) null).build();\n\t                       ^^^^^^^^^^^^\nType safety: The expression of type Array needs unchecked conversion to conform to Array<? extends AclEntry>\n----------\n8. WARNING in /Genai_SourceFile_Impl_N1800101142901478253.java (at line 62)\n\treturn toBuilder().acl((Array) null).build();\n\t                        ^^^^^\nArray is a raw type. References to generic type Array<E> should be parameterized\n----------\n9. WARNING in /Genai_SourceFile_Impl_N1800101142901478253.java (at line 110)\n\treturn toBuilder().versionEdits((Array) versionEdits).build();\n\t                                ^^^^^^^^^^^^^^^^^^^^\nType safety: The expression of type Array needs unchecked conversion to conform to Array<? extends VersionEdit>\n----------\n10. WARNING in /Genai_SourceFile_Impl_N1800101142901478253.java (at line 110)\n\treturn toBuilder().versionEdits((Array) versionEdits).build();\n\t                                 ^^^^^\nArray is a raw type. References to generic type Array<E> should be parameterized\n----------\n11. WARNING in /Genai_SourceFile_Impl_N1800101142901478253.java (at line 118)\n\treturn toBuilder().versionEdits((Array) null).build();\n\t                                ^^^^^^^^^^^^\nType safety: The expression of type Array needs unchecked conversion to conform to Array<? extends VersionEdit>\n----------\n12. WARNING in /Genai_SourceFile_Impl_N1800101142901478253.java (at line 118)\n\treturn toBuilder().versionEdits((Array) null).build();\n\t                                 ^^^^^\nArray is a raw type. References to generic type Array<E> should be parameterized\n----------\n13. WARNING in /Genai_SourceFile_Impl_N1800101142901478253.java (at line 248)\n\treturn (c3.genAiSearch.Genai_SourceFile_N1800101142901478253) subtype()._AclEnabled_Java_Methods().mergeAclEntries(this, (Array) entries);\n\t                                                                                                                         ^^^^^^^^^^^^^^^\nType safety: The expression of type Array needs unchecked conversion to conform to Array<AclEntry>\n----------\n14. WARNING in /Genai_SourceFile_Impl_N1800101142901478253.java (at line 248)\n\treturn (c3.genAiSearch.Genai_SourceFile_N1800101142901478253) subtype()._AclEnabled_Java_Methods().mergeAclEntries(this, (Array) entries);\n\t                                                                                                                          ^^^^^\nArray is a raw type. References to generic type Array<E> should be parameterized\n----------\n15. WARNING in /Genai_SourceFile_Impl_N1800101142901478253.java (at line 278)\n\treturn (Map) subtype()._WithKey_Java_Methods().singletonMap(this);\n\t       ^^^^^^^^^^^^^^^^^^^^^^^^^^^^^^^^^^^^^^^^^^^^^^^^^^^^^^^^^^\nType safety: The expression of type Map needs unchecked conversion to conform to Map<String,WithKey>\n----------\n16. WARNING in /Genai_SourceFile_Impl_N1800101142901478253.java (at line 278)\n\treturn (Map) subtype()._WithKey_Java_Methods().singletonMap(this);\n\t        ^^^\nMap is a raw type. References to generic type Map<K,E> should be parameterized\n----------\n17. WARNING in /Genai_SourceFile_Impl_N1800101142901478253.java (at line 356)\n\tCtx.run(() -> subtype()._Persistable_Java_Methods().invalidateTsHeader(this, range, (Array) Val.validateArg(null, 1), false), this.type.method(\"invalidateTsHeader\"), 0, this, range);\n\t                                                                                    ^^^^^^^^^^^^^^^^^^^^^^^^^^^^^^^^\nType safety: The expression of type Array needs unchecked conversion to conform to Array<String>\n----------\n18. WARNING in /Genai_SourceFile_Impl_N1800101142901478253.java (at line 356)\n\tCtx.run(() -> subtype()._Persistable_Java_Methods().invalidateTsHeader(this, range, (Array) Val.validateArg(null, 1), false), this.type.method(\"invalidateTsHeader\"), 0, this, range);\n\t                                                                                     ^^^^^\nArray is a raw type. References to generic type Array<E> should be parameterized\n----------\n19. WARNING in /Genai_SourceFile_Impl_N1800101142901478253.java (at line 359)\n\tCtx.run(() -> subtype()._Persistable_Java_Methods().invalidateTsHeader(this, (TimeRange) null, (Array) Val.validateArg(null, 1), false), this.type.method(\"invalidateTsHeader\"), 0, this);\n\t                                                                                               ^^^^^^^^^^^^^^^^^^^^^^^^^^^^^^^^\nType safety: The expression of type Array needs unchecked conversion to conform to Array<String>\n----------\n20. WARNING in /Genai_SourceFile_Impl_N1800101142901478253.java (at line 359)\n\tCtx.run(() -> subtype()._Persistable_Java_Methods().invalidateTsHeader(this, (TimeRange) null, (Array) Val.validateArg(null, 1), false), this.type.method(\"invalidateTsHeader\"), 0, this);\n\t                                                                                                ^^^^^\nArray is a raw type. References to generic type Array<E> should be parameterized\n----------\n21. WARNING in /Genai_SourceFile_Impl_N1800101142901478253.java (at line 362)\n\treturn Ctx.call(() -> this.type.callFromCodeGen(this.type.method(\"writePassages\"), 0, this, (Array) passages), this.type.method(\"writePassages\"), 0, this, passages);\n\t                                                                                             ^^^^^\nArray is a raw type. References to generic type Array<E> should be parameterized\n----------\n22. WARNING in /Genai_SourceFile_Impl_N1800101142901478253.java (at line 365)\n\treturn Ctx.call(() -> (Array) this.type.callFromCodeGen(this.type.method(\"readPassages\"), 0, this), this.type.method(\"readPassages\"), 0, this);\n\t                       ^^^^^\nArray is a raw type. References to generic type Array<E> should be parameterized\n----------\n----------\n23. WARNING in /Genai_SourceFile_BuilderImpl_N1800101142901478253.java (at line 20)\n\tpublic class Genai_SourceFile_BuilderImpl_N1800101142901478253 extends ObjBuilder_Fields<Genai_SourceFile_BuilderImpl_N1800101142901478253, c3.genAiSearch.Genai_SourceFile_Impl_N1800101142901478253> implements c3.genAiSearch.Genai_SourceFile_N1800101142901478253.Builder {\n\t             ^^^^^^^^^^^^^^^^^^^^^^^^^^^^^^^^^^^^^^^^^^^^^^^^^\nThe serializable class Genai_SourceFile_BuilderImpl_N1800101142901478253 does not declare a static final serialVersionUID field of type long\n----------\n23 problems (1 error, 22 warnings)\n!\n\nCalled from JavaScript action Genai.SourceFile#transitionCollectionToStatus executing in runtime js on server (Genai.SourceFile.js)\n    421      fetchFilter = fetchFilter.and().lit(filter);\n    422    }\n  > 423    var files = Genai.SourceFile.fetch({\n    424      filter: fetchFilter,\n    425      include: 'id',\n\nCalled from JavaScript action Genai.SourceCollection#sync executing in runtime js on server (Genai.SourceCollection.js)\n    196      });\n    197  \n  > 198    Genai.SourceFile.transitionCollectionToStatus(coll, Genai.SourceFile.StatusEnum.SYNCING);\n    199  \n    200    var eachFileLambda = syncSpec.doNotCheckForModifiedFiles ? _checkNewLambda : _checkNewOrUpdatedLambda;\n\nError calling /api/8/Genai.SourceCollection/sync with [{\"type\":\"Genai.SourceCollection\",\"name\":\"corneaguru\",\"id\":\"corneaguru\",\"meta\":{\"type\":\"Meta\",\"appCode\":1791975693483737808,\"env\":\"cornea133702062024\",\"app\":\"genaisearch\",\"created\":\"2024-02-28T03:26:25+00:00\",\"createdBy\":\"303fcf2617688522c0dc3328b161b30cffad08cf041924dd5912507a9906e67e\",\"updated\":\"2024-02-29T15:19:25+00:00\",\"updatedBy\":\"303fcf2617688522c0dc3328b161b30cffad08cf041924dd5912507a9906e67e\",\"timestamp\":\"2024-02-29T15:19:25+00:00\",\"fetchInclude\":\"[]\",\"fetchType\":\"Genai.SourceCollection\"},\"version\":6,\"description\":\"Collection of files for corneaguru\",\"rootUrl\":\"gcs://c3--gkev8c3apps/corneaguru/unstructured/docs/\",\"targetUrl\":\"gcs://c3--gkev8c3apps/corneaguru/unstructured/passageFiles/\",\"lastSyncedBy\":\"Richard.Mu-c@c3.ai\",\"lastSyncTime\":\"2024-02-29T15:19:26+00:00\",\"groups\":{\"type\":\"[Role]\",\"value\":[{\"type\":\"Role\",\"id\":\"Genai.Common\"},{\"type\":\"Role\",\"id\":\"C3.ClusterAdmin\"},{\"type\":\"Role\",\"id\":\"C3.EnvAdmin\"},{\"type\":\"Role\",\"id\":\"C3.AppAdmin\"}]}}]"
     ]
    }
   ],
   "source": [
    "c3.Genai.SourceCollection.forId(\"corneaguru\").sync()"
   ]
  },
  {
   "cell_type": "code",
   "execution_count": null,
   "id": "cdf3d174-2a27-4f91-ac40-30ce9c724168",
   "metadata": {},
   "outputs": [],
   "source": []
  }
 ],
 "metadata": {
  "has_local_update": false,
  "is_local": true,
  "is_remote": true,
  "kernelspec": {
   "display_name": "py-data-science",
   "language": "python",
   "name": "py-data-science"
  },
  "language_info": {
   "codemirror_mode": {
    "name": "ipython",
    "version": 3
   },
   "file_extension": ".py",
   "mimetype": "text/x-python",
   "name": "python",
   "nbconvert_exporter": "python",
   "pygments_lexer": "ipython3",
   "version": "3.9.18"
  },
  "last_sync_time": "2024-02-29T19:25:33.750843"
 },
 "nbformat": 4,
 "nbformat_minor": 5
}
