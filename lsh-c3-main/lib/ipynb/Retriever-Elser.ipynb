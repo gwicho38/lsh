{
 "cells": [
  {
   "cell_type": "code",
   "execution_count": 120,
   "id": "0ffc0eae-3c31-4d9c-82c7-a68c39e8e68e",
   "metadata": {
    "execution": {
     "iopub.execute_input": "2024-02-28T17:27:33.379206Z",
     "iopub.status.busy": "2024-02-28T17:27:33.378324Z",
     "iopub.status.idle": "2024-02-28T17:27:33.928118Z",
     "shell.execute_reply": "2024-02-28T17:27:33.927301Z",
     "shell.execute_reply.started": "2024-02-28T17:27:33.379174Z"
    },
    "tags": []
   },
   "outputs": [
    {
     "data": {
      "text/plain": [
       "<C3Scope at 0x7e74e80adbe0>"
      ]
     },
     "execution_count": 120,
     "metadata": {},
     "output_type": "execute_result"
    }
   ],
   "source": [
    "c3"
   ]
  },
  {
   "cell_type": "code",
   "execution_count": 121,
   "id": "153920c2-4832-4210-aca2-01db9e94a4f8",
   "metadata": {
    "execution": {
     "iopub.execute_input": "2024-02-28T17:27:36.315226Z",
     "iopub.status.busy": "2024-02-28T17:27:36.314525Z",
     "iopub.status.idle": "2024-02-28T17:27:37.410690Z",
     "shell.execute_reply": "2024-02-28T17:27:37.409764Z",
     "shell.execute_reply.started": "2024-02-28T17:27:36.315189Z"
    },
    "tags": []
   },
   "outputs": [
    {
     "name": "stdout",
     "output_type": "stream",
     "text": [
      "# conda environments:\n",
      "#\n",
      "py-colbertfaiss-client-ipython     /home/c3/.conda/envs/py-colbertfaiss-client-ipython\n",
      "base                     /opt/conda\n",
      "py-data-science-client-ipython     /opt/conda/envs/py-data-science-client-ipython\n",
      "\n"
     ]
    }
   ],
   "source": [
    "!conda info --envs"
   ]
  },
  {
   "cell_type": "code",
   "execution_count": 122,
   "id": "3e01ee78-516a-4ee9-a31a-dc80a9b58ecc",
   "metadata": {
    "execution": {
     "iopub.execute_input": "2024-02-28T17:27:40.543220Z",
     "iopub.status.busy": "2024-02-28T17:27:40.542279Z",
     "iopub.status.idle": "2024-02-28T17:27:40.547431Z",
     "shell.execute_reply": "2024-02-28T17:27:40.546714Z",
     "shell.execute_reply.started": "2024-02-28T17:27:40.543179Z"
    },
    "tags": []
   },
   "outputs": [],
   "source": [
    "import logging\n",
    "import sys\n",
    "logger = logging.getLogger()\n",
    "handler = logging.StreamHandler(sys.stdout)\n",
    "logger.addHandler(handler)\n",
    "def isDebugEnabled(self):\n",
    "    return True\n",
    "logger.isDebugEnabled = isDebugEnabled.__get__(logger)"
   ]
  },
  {
   "cell_type": "code",
   "execution_count": 123,
   "id": "594b5696-524f-4ae6-96d2-1a1ee0729ff9",
   "metadata": {
    "execution": {
     "iopub.execute_input": "2024-02-28T17:27:43.812861Z",
     "iopub.status.busy": "2024-02-28T17:27:43.811941Z",
     "iopub.status.idle": "2024-02-28T17:27:43.816206Z",
     "shell.execute_reply": "2024-02-28T17:27:43.815494Z",
     "shell.execute_reply.started": "2024-02-28T17:27:43.812809Z"
    },
    "tags": []
   },
   "outputs": [],
   "source": [
    "logger.setLevel(logging.DEBUG)\n",
    "handler.setLevel(logging.DEBUG)"
   ]
  },
  {
   "cell_type": "code",
   "execution_count": 159,
   "id": "62b90b59-92cf-4560-9329-910952ad9fe8",
   "metadata": {
    "execution": {
     "iopub.execute_input": "2024-02-29T03:14:10.801056Z",
     "iopub.status.busy": "2024-02-29T03:14:10.800122Z",
     "iopub.status.idle": "2024-02-29T03:14:27.426232Z",
     "shell.execute_reply": "2024-02-29T03:14:27.425445Z",
     "shell.execute_reply.started": "2024-02-29T03:14:10.801021Z"
    },
    "tags": []
   },
   "outputs": [],
   "source": [
    "# Notebook\n",
    "local_elser_path = \"elserv2.0.tar.gz\" \n",
    "remote_elser_path = f\"{c3.FileSystem.mounts().get('datasets')}elserv2.0.tar.gz\"\n",
    "\n",
    "with open(local_elser_path, 'rb') as f:\n",
    "    c3.Client.uploadFile(f, remote_elser_path)"
   ]
  },
  {
   "cell_type": "code",
   "execution_count": 163,
   "id": "1b880efa-f7bd-4a79-ad22-a3d4d717ce47",
   "metadata": {
    "execution": {
     "iopub.execute_input": "2024-02-29T03:20:27.987201Z",
     "iopub.status.busy": "2024-02-29T03:20:27.986408Z",
     "iopub.status.idle": "2024-02-29T03:20:28.061262Z",
     "shell.execute_reply": "2024-02-29T03:20:28.060547Z",
     "shell.execute_reply.started": "2024-02-29T03:20:27.987168Z"
    },
    "tags": []
   },
   "outputs": [
    {
     "data": {
      "text/plain": [
       "{\n",
       "  \"type\" : \"Genai.Retriever.Elser\",\n",
       "  \"id\" : \"20e716cf-cf14-4302-beac-f6ac40db8a4f\",\n",
       "  \"name\" : \"corneaguru\",\n",
       "  \"meta\" : {\n",
       "    \"appCode\" : 1791975693483737808,\n",
       "    \"env\" : \"cornea133702062024\",\n",
       "    \"app\" : \"genaisearch\",\n",
       "    \"created\" : \"2024-02-29T03:18:18Z\",\n",
       "    \"createdBy\" : \"303fcf2617688522c0dc3328b161b30cffad08cf041924dd5912507a9906e67e\",\n",
       "    \"updated\" : \"2024-02-29T03:18:18Z\",\n",
       "    \"updatedBy\" : \"303fcf2617688522c0dc3328b161b30cffad08cf041924dd5912507a9906e67e\",\n",
       "    \"timestamp\" : \"2024-02-29T03:18:18Z\",\n",
       "    \"fetchInclude\" : \"[]\",\n",
       "    \"fetchType\" : \"Genai.Retriever.Elser\"\n",
       "  },\n",
       "  \"version\" : 1,\n",
       "  \"url\" : \"https://7b29c305ff84418e8f90977005eae014.us-east-1.aws.found.io:9243/app/enterprise_search/elasticsearch\",\n",
       "  \"modelId\" : \"corneaguru\"\n",
       "}"
      ]
     },
     "execution_count": 163,
     "metadata": {},
     "output_type": "execute_result"
    }
   ],
   "source": [
    "vectorStore = c3.Genai.Retriever.Elser.forId(\"20e716cf-cf14-4302-beac-f6ac40db8a4f\")\n",
    "vectorStore"
   ]
  },
  {
   "cell_type": "code",
   "execution_count": 176,
   "id": "23636404-1640-43e6-8ed3-83acad833e68",
   "metadata": {
    "execution": {
     "iopub.execute_input": "2024-02-29T15:22:28.074497Z",
     "iopub.status.busy": "2024-02-29T15:22:28.073603Z",
     "iopub.status.idle": "2024-02-29T15:22:28.078818Z",
     "shell.execute_reply": "2024-02-29T15:22:28.078050Z",
     "shell.execute_reply.started": "2024-02-29T15:22:28.074466Z"
    },
    "tags": []
   },
   "outputs": [
    {
     "data": {
      "text/plain": [
       "'corneaguru'"
      ]
     },
     "execution_count": 176,
     "metadata": {},
     "output_type": "execute_result"
    }
   ],
   "source": [
    "vectorStore.name"
   ]
  },
  {
   "cell_type": "code",
   "execution_count": 165,
   "id": "033e948a-f7b2-43a6-940b-2098802f3a24",
   "metadata": {
    "execution": {
     "iopub.execute_input": "2024-02-29T05:47:49.059555Z",
     "iopub.status.busy": "2024-02-29T05:47:49.058584Z",
     "iopub.status.idle": "2024-02-29T05:47:49.136386Z",
     "shell.execute_reply": "2024-02-29T05:47:49.135716Z",
     "shell.execute_reply.started": "2024-02-29T05:47:49.059514Z"
    },
    "tags": []
   },
   "outputs": [
    {
     "data": {
      "text/plain": [
       "{\n",
       "  \"type\" : \"Genai.SourceCollection\",\n",
       "  \"name\" : \"corneaguru\",\n",
       "  \"id\" : \"corneaguru\",\n",
       "  \"meta\" : {\n",
       "    \"appCode\" : 1791975693483737808,\n",
       "    \"env\" : \"cornea133702062024\",\n",
       "    \"app\" : \"genaisearch\",\n",
       "    \"created\" : \"2024-02-28T03:26:25Z\",\n",
       "    \"createdBy\" : \"303fcf2617688522c0dc3328b161b30cffad08cf041924dd5912507a9906e67e\",\n",
       "    \"updated\" : \"2024-02-28T17:54:14Z\",\n",
       "    \"updatedBy\" : \"303fcf2617688522c0dc3328b161b30cffad08cf041924dd5912507a9906e67e\",\n",
       "    \"timestamp\" : \"2024-02-28T17:54:14Z\",\n",
       "    \"fetchInclude\" : \"[]\",\n",
       "    \"fetchType\" : \"Genai.SourceCollection\"\n",
       "  },\n",
       "  \"version\" : 5,\n",
       "  \"description\" : \"Collection of files for corneaguru\",\n",
       "  \"rootUrl\" : \"gcs://c3--gkev8c3apps/corneaguru/unstructured/docs/\",\n",
       "  \"targetUrl\" : \"gcs://c3--gkev8c3apps/corneaguru/unstructured/passageFiles/\",\n",
       "  \"groups\" : [ {\n",
       "    \"id\" : \"Genai.Common\"\n",
       "  }, {\n",
       "    \"id\" : \"C3.ClusterAdmin\"\n",
       "  }, {\n",
       "    \"id\" : \"C3.EnvAdmin\"\n",
       "  }, {\n",
       "    \"id\" : \"C3.AppAdmin\"\n",
       "  } ]\n",
       "}"
      ]
     },
     "execution_count": 165,
     "metadata": {},
     "output_type": "execute_result"
    }
   ],
   "source": [
    "sourceCollection = c3.Genai.SourceCollection.forId(\"corneaguru\")\n",
    "sourceCollection"
   ]
  },
  {
   "cell_type": "code",
   "execution_count": 174,
   "id": "b1ed1b5f-699a-483f-a93b-bf0641c3dd14",
   "metadata": {
    "execution": {
     "iopub.execute_input": "2024-02-29T15:21:18.692593Z",
     "iopub.status.busy": "2024-02-29T15:21:18.691683Z",
     "iopub.status.idle": "2024-02-29T15:21:18.844795Z",
     "shell.execute_reply": "2024-02-29T15:21:18.844181Z",
     "shell.execute_reply.started": "2024-02-29T15:21:18.692556Z"
    },
    "tags": []
   },
   "outputs": [
    {
     "data": {
      "text/plain": [
       "4"
      ]
     },
     "execution_count": 174,
     "metadata": {},
     "output_type": "execute_result"
    }
   ],
   "source": [
    "c3.FileSystem.deleteFiles(sourceCollection.rootUrl,True)"
   ]
  },
  {
   "cell_type": "code",
   "execution_count": 181,
   "id": "fce74614-97d6-45cc-a24f-7c585cfc3db8",
   "metadata": {
    "execution": {
     "iopub.execute_input": "2024-02-29T16:16:20.936773Z",
     "iopub.status.busy": "2024-02-29T16:16:20.935784Z",
     "iopub.status.idle": "2024-02-29T16:16:20.955079Z",
     "shell.execute_reply": "2024-02-29T16:16:20.953884Z",
     "shell.execute_reply.started": "2024-02-29T16:16:20.936738Z"
    },
    "tags": []
   },
   "outputs": [
    {
     "ename": "AttributeError",
     "evalue": "Error accessing attribute 'DataConfig' on type 'Genai.Retriever.Elser':\n<class 'AttributeError'>: 'DataConfig' is not an attribute of Type Genai.Retriever.Elser",
     "output_type": "error",
     "traceback": [
      "\u001b[0;31m---------------------------------------------------------------------------\u001b[0m",
      "\u001b[0;31mAttributeError\u001b[0m                            Traceback (most recent call last)",
      "\u001b[0;32m/c3/platform/src/remote/ServerConnection.py\u001b[0m in \u001b[0;36m__getattr__\u001b[0;34m(cls, item)\u001b[0m\n",
      "\u001b[0;32m/c3/platform/src/remote/ServerConnection.py\u001b[0m in \u001b[0;36mgetAttributeDesc\u001b[0;34m(self, item)\u001b[0m\n",
      "\u001b[0;31mAttributeError\u001b[0m: 'DataConfig' is not an attribute of Type Genai.Retriever.Elser",
      "\nDuring handling of the above exception, another exception occurred:\n",
      "\u001b[0;31mAttributeError\u001b[0m                            Traceback (most recent call last)",
      "\u001b[0;32m/tmp/ipykernel_266/113270158.py\u001b[0m in \u001b[0;36m<module>\u001b[0;34m\u001b[0m\n\u001b[0;32m----> 1\u001b[0;31m \u001b[0mc3\u001b[0m\u001b[0;34m.\u001b[0m\u001b[0mGenai\u001b[0m\u001b[0;34m.\u001b[0m\u001b[0mRetriever\u001b[0m\u001b[0;34m.\u001b[0m\u001b[0mElser\u001b[0m\u001b[0;34m.\u001b[0m\u001b[0mDataConfig\u001b[0m\u001b[0;34m\u001b[0m\u001b[0;34m\u001b[0m\u001b[0m\n\u001b[0m",
      "\u001b[0;32m/c3/platform/src/remote/ServerConnection.py\u001b[0m in \u001b[0;36m__getattr__\u001b[0;34m(cls, item)\u001b[0m\n",
      "\u001b[0;31mAttributeError\u001b[0m: Error accessing attribute 'DataConfig' on type 'Genai.Retriever.Elser':\n<class 'AttributeError'>: 'DataConfig' is not an attribute of Type Genai.Retriever.Elser"
     ]
    }
   ],
   "source": [
    "c3.Genai.Retriever.Elser.DataConfig"
   ]
  },
  {
   "cell_type": "code",
   "execution_count": 172,
   "id": "9349bf8c-2098-4755-ab05-6c669c50e465",
   "metadata": {
    "execution": {
     "iopub.execute_input": "2024-02-29T15:19:07.935457Z",
     "iopub.status.busy": "2024-02-29T15:19:07.934716Z",
     "iopub.status.idle": "2024-02-29T15:19:08.013477Z",
     "shell.execute_reply": "2024-02-29T15:19:08.012648Z",
     "shell.execute_reply.started": "2024-02-29T15:19:07.935423Z"
    },
    "tags": []
   },
   "outputs": [
    {
     "data": {
      "text/plain": [
       "4"
      ]
     },
     "execution_count": 172,
     "metadata": {},
     "output_type": "execute_result"
    }
   ],
   "source": [
    "len(c3.FileSystem.listFiles(sourceCollection.rootUrl).files)"
   ]
  },
  {
   "cell_type": "code",
   "execution_count": 171,
   "id": "0ba02282-03ab-43bd-a1a5-8a13dcfc9ac1",
   "metadata": {
    "execution": {
     "iopub.execute_input": "2024-02-29T15:18:39.443809Z",
     "iopub.status.busy": "2024-02-29T15:18:39.442872Z",
     "iopub.status.idle": "2024-02-29T15:18:40.560807Z",
     "shell.execute_reply": "2024-02-29T15:18:40.559988Z",
     "shell.execute_reply.started": "2024-02-29T15:18:39.443776Z"
    },
    "tags": []
   },
   "outputs": [
    {
     "data": {
      "text/plain": [
       "{\n",
       "  \"type\" : \"ListFilesResult\",\n",
       "  \"files\" : [ {\n",
       "    \"type\" : \"GcsFile\",\n",
       "    \"contentLength\" : 1150161,\n",
       "    \"eTag\" : \"CJ6GsLHs0IQDEAE=\",\n",
       "    \"lastModified\" : \"2024-02-29T15:18:39Z\",\n",
       "    \"url\" : \"gcs://c3--gkev8c3apps/corneaguru/unstructured/docs/20220829XiJinpingLinesofAuthority.pdf\"\n",
       "  }, {\n",
       "    \"type\" : \"GcsFile\",\n",
       "    \"contentLength\" : 628699,\n",
       "    \"eTag\" : \"CLKqzbHs0IQDEAE=\",\n",
       "    \"lastModified\" : \"2024-02-29T15:18:40Z\",\n",
       "    \"url\" : \"gcs://c3--gkev8c3apps/corneaguru/unstructured/docs/20230612WherearethePLA'sothersatellitedazzlingfacilities.pdf\"\n",
       "  }, {\n",
       "    \"type\" : \"GcsFile\",\n",
       "    \"contentLength\" : 436188,\n",
       "    \"eTag\" : \"CLH6vrHs0IQDEAE=\",\n",
       "    \"lastModified\" : \"2024-02-29T15:18:40Z\",\n",
       "    \"url\" : \"gcs://c3--gkev8c3apps/corneaguru/unstructured/docs/CanChinaTakeTaiwanv5.pdf\"\n",
       "  }, {\n",
       "    \"type\" : \"GcsFile\",\n",
       "    \"contentLength\" : 3744997,\n",
       "    \"eTag\" : \"CJrKobHs0IQDEAE=\",\n",
       "    \"lastModified\" : \"2024-02-29T15:18:39Z\",\n",
       "    \"url\" : \"gcs://c3--gkev8c3apps/corneaguru/unstructured/docs/chineseairforce.pdf\"\n",
       "  } ]\n",
       "}"
      ]
     },
     "execution_count": 171,
     "metadata": {},
     "output_type": "execute_result"
    }
   ],
   "source": [
    "local_dir = './data/'\n",
    "\n",
    "for filename in os.listdir(local_dir):\n",
    "        if filename.endswith(\".pdf\"):\n",
    "            new_filename = filename.replace(\" \", \"\").replace(\"-\", \"\").replace(\"[\", \"\").replace(\"]\", \"\")\n",
    "            old_filepath = os.path.join(local_dir, filename)\n",
    "            new_filepath = os.path.join(local_dir, new_filename)\n",
    "            os.rename(old_filepath, new_filepath)\n",
    "\n",
    "for fname in os.listdir(local_dir):\n",
    "    if fname.endswith(\".pdf\"):\n",
    "        local_fullname = os.path.join(local_dir, fname)\n",
    "        remote_fullname = os.path.join(sourceCollection.rootUrl, fname)\n",
    "        if os.path.isfile(local_fullname):  # check if file exists\n",
    "            with open(local_fullname, \"rb\") as f:\n",
    "                c3.Client.uploadFile(f, remote_fullname)\n",
    "                #print(f\"File {local_fullname} uploaded!\")\n",
    "        else:\n",
    "            print(f\"File {local_fullname} does not exist.\")\n",
    "            \n",
    "c3.FileSystem.inst().listFiles(sourceCollection.rootUrl, limit=5)"
   ]
  },
  {
   "cell_type": "code",
   "execution_count": 175,
   "id": "ab4a1d0a-4f3f-4439-9b2b-c8d05cb7810a",
   "metadata": {
    "execution": {
     "iopub.execute_input": "2024-02-29T15:21:27.798738Z",
     "iopub.status.busy": "2024-02-29T15:21:27.797933Z",
     "iopub.status.idle": "2024-02-29T15:21:33.020285Z",
     "shell.execute_reply": "2024-02-29T15:21:33.019371Z",
     "shell.execute_reply.started": "2024-02-29T15:21:27.798707Z"
    },
    "tags": []
   },
   "outputs": [
    {
     "ename": "RuntimeError",
     "evalue": "Internal Java error: ----------\n1. ERROR in /Genai_SourceFile_N1800101142901478253.java (at line 228)\n\tc3.genAiSearch.Genai_SourceFile_Metadata_Tag_9115329865102825268 addTag(String tagLabel);\n\t^^^^^^^^^^^^^^^^^^^^^^^^^^^^^^^^^^^^^^^^^^^^^^^^^^^^^^^^^^^^^^^^\nThe return type is incompatible with Genai_Source_N2708924819439669110.addTag(String)\n----------\n----------\n2. WARNING in /Genai_SourceFile_SubtypeImpl_N1800101142901478253.java (at line 204)\n\tpublic ObjBuilder objBuilder() {\n\t       ^^^^^^^^^^\nObjBuilder is a raw type. References to generic type ObjBuilder<O> should be parameterized\n----------\n3. WARNING in /Genai_SourceFile_SubtypeImpl_N1800101142901478253.java (at line 208)\n\tpublic ObjBuilder objBuilder(Obj initial) {\n\t       ^^^^^^^^^^\nObjBuilder is a raw type. References to generic type ObjBuilder<O> should be parameterized\n----------\n----------\n4. WARNING in /Genai_SourceFile_Impl_N1800101142901478253.java (at line 33)\n\tpublic class Genai_SourceFile_Impl_N1800101142901478253 extends Obj_SimpleBase<c3.genAiSearch.Genai_SourceFile_N1800101142901478253, c3.genAiSearch.Genai_SourceFile_BuilderImpl_N1800101142901478253> implements c3.genAiSearch.Genai_SourceFile_N1800101142901478253 {\n\t             ^^^^^^^^^^^^^^^^^^^^^^^^^^^^^^^^^^^^^^^^^^\nThe serializable class Genai_SourceFile_Impl_N1800101142901478253 does not declare a static final serialVersionUID field of type long\n----------\n5. WARNING in /Genai_SourceFile_Impl_N1800101142901478253.java (at line 54)\n\treturn toBuilder().acl((Array) acl).build();\n\t                       ^^^^^^^^^^^\nType safety: The expression of type Array needs unchecked conversion to conform to Array<? extends AclEntry>\n----------\n6. WARNING in /Genai_SourceFile_Impl_N1800101142901478253.java (at line 54)\n\treturn toBuilder().acl((Array) acl).build();\n\t                        ^^^^^\nArray is a raw type. References to generic type Array<E> should be parameterized\n----------\n7. WARNING in /Genai_SourceFile_Impl_N1800101142901478253.java (at line 62)\n\treturn toBuilder().acl((Array) null).build();\n\t                       ^^^^^^^^^^^^\nType safety: The expression of type Array needs unchecked conversion to conform to Array<? extends AclEntry>\n----------\n8. WARNING in /Genai_SourceFile_Impl_N1800101142901478253.java (at line 62)\n\treturn toBuilder().acl((Array) null).build();\n\t                        ^^^^^\nArray is a raw type. References to generic type Array<E> should be parameterized\n----------\n9. WARNING in /Genai_SourceFile_Impl_N1800101142901478253.java (at line 110)\n\treturn toBuilder().versionEdits((Array) versionEdits).build();\n\t                                ^^^^^^^^^^^^^^^^^^^^\nType safety: The expression of type Array needs unchecked conversion to conform to Array<? extends VersionEdit>\n----------\n10. WARNING in /Genai_SourceFile_Impl_N1800101142901478253.java (at line 110)\n\treturn toBuilder().versionEdits((Array) versionEdits).build();\n\t                                 ^^^^^\nArray is a raw type. References to generic type Array<E> should be parameterized\n----------\n11. WARNING in /Genai_SourceFile_Impl_N1800101142901478253.java (at line 118)\n\treturn toBuilder().versionEdits((Array) null).build();\n\t                                ^^^^^^^^^^^^\nType safety: The expression of type Array needs unchecked conversion to conform to Array<? extends VersionEdit>\n----------\n12. WARNING in /Genai_SourceFile_Impl_N1800101142901478253.java (at line 118)\n\treturn toBuilder().versionEdits((Array) null).build();\n\t                                 ^^^^^\nArray is a raw type. References to generic type Array<E> should be parameterized\n----------\n13. WARNING in /Genai_SourceFile_Impl_N1800101142901478253.java (at line 248)\n\treturn (c3.genAiSearch.Genai_SourceFile_N1800101142901478253) subtype()._AclEnabled_Java_Methods().mergeAclEntries(this, (Array) entries);\n\t                                                                                                                         ^^^^^^^^^^^^^^^\nType safety: The expression of type Array needs unchecked conversion to conform to Array<AclEntry>\n----------\n14. WARNING in /Genai_SourceFile_Impl_N1800101142901478253.java (at line 248)\n\treturn (c3.genAiSearch.Genai_SourceFile_N1800101142901478253) subtype()._AclEnabled_Java_Methods().mergeAclEntries(this, (Array) entries);\n\t                                                                                                                          ^^^^^\nArray is a raw type. References to generic type Array<E> should be parameterized\n----------\n15. WARNING in /Genai_SourceFile_Impl_N1800101142901478253.java (at line 278)\n\treturn (Map) subtype()._WithKey_Java_Methods().singletonMap(this);\n\t       ^^^^^^^^^^^^^^^^^^^^^^^^^^^^^^^^^^^^^^^^^^^^^^^^^^^^^^^^^^\nType safety: The expression of type Map needs unchecked conversion to conform to Map<String,WithKey>\n----------\n16. WARNING in /Genai_SourceFile_Impl_N1800101142901478253.java (at line 278)\n\treturn (Map) subtype()._WithKey_Java_Methods().singletonMap(this);\n\t        ^^^\nMap is a raw type. References to generic type Map<K,E> should be parameterized\n----------\n17. WARNING in /Genai_SourceFile_Impl_N1800101142901478253.java (at line 356)\n\tCtx.run(() -> subtype()._Persistable_Java_Methods().invalidateTsHeader(this, range, (Array) Val.validateArg(null, 1), false), this.type.method(\"invalidateTsHeader\"), 0, this, range);\n\t                                                                                    ^^^^^^^^^^^^^^^^^^^^^^^^^^^^^^^^\nType safety: The expression of type Array needs unchecked conversion to conform to Array<String>\n----------\n18. WARNING in /Genai_SourceFile_Impl_N1800101142901478253.java (at line 356)\n\tCtx.run(() -> subtype()._Persistable_Java_Methods().invalidateTsHeader(this, range, (Array) Val.validateArg(null, 1), false), this.type.method(\"invalidateTsHeader\"), 0, this, range);\n\t                                                                                     ^^^^^\nArray is a raw type. References to generic type Array<E> should be parameterized\n----------\n19. WARNING in /Genai_SourceFile_Impl_N1800101142901478253.java (at line 359)\n\tCtx.run(() -> subtype()._Persistable_Java_Methods().invalidateTsHeader(this, (TimeRange) null, (Array) Val.validateArg(null, 1), false), this.type.method(\"invalidateTsHeader\"), 0, this);\n\t                                                                                               ^^^^^^^^^^^^^^^^^^^^^^^^^^^^^^^^\nType safety: The expression of type Array needs unchecked conversion to conform to Array<String>\n----------\n20. WARNING in /Genai_SourceFile_Impl_N1800101142901478253.java (at line 359)\n\tCtx.run(() -> subtype()._Persistable_Java_Methods().invalidateTsHeader(this, (TimeRange) null, (Array) Val.validateArg(null, 1), false), this.type.method(\"invalidateTsHeader\"), 0, this);\n\t                                                                                                ^^^^^\nArray is a raw type. References to generic type Array<E> should be parameterized\n----------\n21. WARNING in /Genai_SourceFile_Impl_N1800101142901478253.java (at line 362)\n\treturn Ctx.call(() -> this.type.callFromCodeGen(this.type.method(\"writePassages\"), 0, this, (Array) passages), this.type.method(\"writePassages\"), 0, this, passages);\n\t                                                                                             ^^^^^\nArray is a raw type. References to generic type Array<E> should be parameterized\n----------\n22. WARNING in /Genai_SourceFile_Impl_N1800101142901478253.java (at line 365)\n\treturn Ctx.call(() -> (Array) this.type.callFromCodeGen(this.type.method(\"readPassages\"), 0, this), this.type.method(\"readPassages\"), 0, this);\n\t                       ^^^^^\nArray is a raw type. References to generic type Array<E> should be parameterized\n----------\n----------\n23. WARNING in /Genai_SourceFile_BuilderImpl_N1800101142901478253.java (at line 20)\n\tpublic class Genai_SourceFile_BuilderImpl_N1800101142901478253 extends ObjBuilder_Fields<Genai_SourceFile_BuilderImpl_N1800101142901478253, c3.genAiSearch.Genai_SourceFile_Impl_N1800101142901478253> implements c3.genAiSearch.Genai_SourceFile_N1800101142901478253.Builder {\n\t             ^^^^^^^^^^^^^^^^^^^^^^^^^^^^^^^^^^^^^^^^^^^^^^^^^\nThe serializable class Genai_SourceFile_BuilderImpl_N1800101142901478253 does not declare a static final serialVersionUID field of type long\n----------\n23 problems (1 error, 22 warnings)\n!\n\nCalled from JavaScript action Genai.SourceFile#transitionCollectionToStatus executing in runtime js on server (Genai.SourceFile.js)\n    421      fetchFilter = fetchFilter.and().lit(filter);\n    422    }\n  > 423    var files = Genai.SourceFile.fetch({\n    424      filter: fetchFilter,\n    425      include: 'id',\n\nCalled from JavaScript action Genai.SourceCollection#sync executing in runtime js on server (Genai.SourceCollection.js)\n    196      });\n    197  \n  > 198    Genai.SourceFile.transitionCollectionToStatus(coll, Genai.SourceFile.StatusEnum.SYNCING);\n    199  \n    200    var eachFileLambda = syncSpec.doNotCheckForModifiedFiles ? _checkNewLambda : _checkNewOrUpdatedLambda;\n\nError calling /api/8/Genai.SourceCollection/sync with [{\"type\":\"Genai.SourceCollection\",\"name\":\"corneaguru\",\"id\":\"corneaguru\",\"meta\":{\"type\":\"Meta\",\"appCode\":1791975693483737808,\"env\":\"cornea133702062024\",\"app\":\"genaisearch\",\"created\":\"2024-02-28T03:26:25+00:00\",\"createdBy\":\"303fcf2617688522c0dc3328b161b30cffad08cf041924dd5912507a9906e67e\",\"updated\":\"2024-02-29T15:19:25+00:00\",\"updatedBy\":\"303fcf2617688522c0dc3328b161b30cffad08cf041924dd5912507a9906e67e\",\"timestamp\":\"2024-02-29T15:19:25+00:00\",\"fetchInclude\":\"[]\",\"fetchType\":\"Genai.SourceCollection\"},\"version\":6,\"description\":\"Collection of files for corneaguru\",\"rootUrl\":\"gcs://c3--gkev8c3apps/corneaguru/unstructured/docs/\",\"targetUrl\":\"gcs://c3--gkev8c3apps/corneaguru/unstructured/passageFiles/\",\"lastSyncedBy\":\"Richard.Mu-c@c3.ai\",\"lastSyncTime\":\"2024-02-29T15:19:26+00:00\",\"groups\":{\"type\":\"[Role]\",\"value\":[{\"type\":\"Role\",\"id\":\"Genai.Common\"},{\"type\":\"Role\",\"id\":\"C3.ClusterAdmin\"},{\"type\":\"Role\",\"id\":\"C3.EnvAdmin\"},{\"type\":\"Role\",\"id\":\"C3.AppAdmin\"}]}}]",
     "output_type": "error",
     "traceback": [
      "\u001b[0;31m---------------------------------------------------------------------------\u001b[0m",
      "\u001b[0;31mRuntimeError\u001b[0m                              Traceback (most recent call last)",
      "\u001b[0;32m/tmp/ipykernel_266/1757076545.py\u001b[0m in \u001b[0;36m<module>\u001b[0;34m\u001b[0m\n\u001b[0;32m----> 1\u001b[0;31m \u001b[0mc3\u001b[0m\u001b[0;34m.\u001b[0m\u001b[0mGenai\u001b[0m\u001b[0;34m.\u001b[0m\u001b[0mSourceCollection\u001b[0m\u001b[0;34m.\u001b[0m\u001b[0mforId\u001b[0m\u001b[0;34m(\u001b[0m\u001b[0;34m\"corneaguru\"\u001b[0m\u001b[0;34m)\u001b[0m\u001b[0;34m.\u001b[0m\u001b[0msync\u001b[0m\u001b[0;34m(\u001b[0m\u001b[0;34m)\u001b[0m\u001b[0;34m\u001b[0m\u001b[0;34m\u001b[0m\u001b[0m\n\u001b[0m",
      "\u001b[0;32m/c3/platform/src/remote/ServerConnection.py-client.py\u001b[0m in \u001b[0;36msync\u001b[0;34m(*positional_args, **keyword_args)\u001b[0m\n",
      "\u001b[0;32m/c3/platform/src/remote/ServerConnection.py-client.py\u001b[0m in \u001b[0;36m_exec_method_common\u001b[0;34m(positional_args, keyword_args, method_name, typ, type_name, prototype_name, conn, is_static, is_by_ref)\u001b[0m\n",
      "\u001b[0;32m/c3/platform/src/remote/ServerConnection.py-client.py\u001b[0m in \u001b[0;36m_exec_remote_method\u001b[0;34m(first_arg, positional_args, keyword_args, method_name, typ, type_name, prototype_name, is_static, is_by_ref)\u001b[0m\n",
      "\u001b[0;32m/c3/platform/src/remote/ServerConnection.py-client.py\u001b[0m in \u001b[0;36m_parse_response\u001b[0;34m(response, type_name, action, rt)\u001b[0m\n",
      "\u001b[0;31mRuntimeError\u001b[0m: Internal Java error: ----------\n1. ERROR in /Genai_SourceFile_N1800101142901478253.java (at line 228)\n\tc3.genAiSearch.Genai_SourceFile_Metadata_Tag_9115329865102825268 addTag(String tagLabel);\n\t^^^^^^^^^^^^^^^^^^^^^^^^^^^^^^^^^^^^^^^^^^^^^^^^^^^^^^^^^^^^^^^^\nThe return type is incompatible with Genai_Source_N2708924819439669110.addTag(String)\n----------\n----------\n2. WARNING in /Genai_SourceFile_SubtypeImpl_N1800101142901478253.java (at line 204)\n\tpublic ObjBuilder objBuilder() {\n\t       ^^^^^^^^^^\nObjBuilder is a raw type. References to generic type ObjBuilder<O> should be parameterized\n----------\n3. WARNING in /Genai_SourceFile_SubtypeImpl_N1800101142901478253.java (at line 208)\n\tpublic ObjBuilder objBuilder(Obj initial) {\n\t       ^^^^^^^^^^\nObjBuilder is a raw type. References to generic type ObjBuilder<O> should be parameterized\n----------\n----------\n4. WARNING in /Genai_SourceFile_Impl_N1800101142901478253.java (at line 33)\n\tpublic class Genai_SourceFile_Impl_N1800101142901478253 extends Obj_SimpleBase<c3.genAiSearch.Genai_SourceFile_N1800101142901478253, c3.genAiSearch.Genai_SourceFile_BuilderImpl_N1800101142901478253> implements c3.genAiSearch.Genai_SourceFile_N1800101142901478253 {\n\t             ^^^^^^^^^^^^^^^^^^^^^^^^^^^^^^^^^^^^^^^^^^\nThe serializable class Genai_SourceFile_Impl_N1800101142901478253 does not declare a static final serialVersionUID field of type long\n----------\n5. WARNING in /Genai_SourceFile_Impl_N1800101142901478253.java (at line 54)\n\treturn toBuilder().acl((Array) acl).build();\n\t                       ^^^^^^^^^^^\nType safety: The expression of type Array needs unchecked conversion to conform to Array<? extends AclEntry>\n----------\n6. WARNING in /Genai_SourceFile_Impl_N1800101142901478253.java (at line 54)\n\treturn toBuilder().acl((Array) acl).build();\n\t                        ^^^^^\nArray is a raw type. References to generic type Array<E> should be parameterized\n----------\n7. WARNING in /Genai_SourceFile_Impl_N1800101142901478253.java (at line 62)\n\treturn toBuilder().acl((Array) null).build();\n\t                       ^^^^^^^^^^^^\nType safety: The expression of type Array needs unchecked conversion to conform to Array<? extends AclEntry>\n----------\n8. WARNING in /Genai_SourceFile_Impl_N1800101142901478253.java (at line 62)\n\treturn toBuilder().acl((Array) null).build();\n\t                        ^^^^^\nArray is a raw type. References to generic type Array<E> should be parameterized\n----------\n9. WARNING in /Genai_SourceFile_Impl_N1800101142901478253.java (at line 110)\n\treturn toBuilder().versionEdits((Array) versionEdits).build();\n\t                                ^^^^^^^^^^^^^^^^^^^^\nType safety: The expression of type Array needs unchecked conversion to conform to Array<? extends VersionEdit>\n----------\n10. WARNING in /Genai_SourceFile_Impl_N1800101142901478253.java (at line 110)\n\treturn toBuilder().versionEdits((Array) versionEdits).build();\n\t                                 ^^^^^\nArray is a raw type. References to generic type Array<E> should be parameterized\n----------\n11. WARNING in /Genai_SourceFile_Impl_N1800101142901478253.java (at line 118)\n\treturn toBuilder().versionEdits((Array) null).build();\n\t                                ^^^^^^^^^^^^\nType safety: The expression of type Array needs unchecked conversion to conform to Array<? extends VersionEdit>\n----------\n12. WARNING in /Genai_SourceFile_Impl_N1800101142901478253.java (at line 118)\n\treturn toBuilder().versionEdits((Array) null).build();\n\t                                 ^^^^^\nArray is a raw type. References to generic type Array<E> should be parameterized\n----------\n13. WARNING in /Genai_SourceFile_Impl_N1800101142901478253.java (at line 248)\n\treturn (c3.genAiSearch.Genai_SourceFile_N1800101142901478253) subtype()._AclEnabled_Java_Methods().mergeAclEntries(this, (Array) entries);\n\t                                                                                                                         ^^^^^^^^^^^^^^^\nType safety: The expression of type Array needs unchecked conversion to conform to Array<AclEntry>\n----------\n14. WARNING in /Genai_SourceFile_Impl_N1800101142901478253.java (at line 248)\n\treturn (c3.genAiSearch.Genai_SourceFile_N1800101142901478253) subtype()._AclEnabled_Java_Methods().mergeAclEntries(this, (Array) entries);\n\t                                                                                                                          ^^^^^\nArray is a raw type. References to generic type Array<E> should be parameterized\n----------\n15. WARNING in /Genai_SourceFile_Impl_N1800101142901478253.java (at line 278)\n\treturn (Map) subtype()._WithKey_Java_Methods().singletonMap(this);\n\t       ^^^^^^^^^^^^^^^^^^^^^^^^^^^^^^^^^^^^^^^^^^^^^^^^^^^^^^^^^^\nType safety: The expression of type Map needs unchecked conversion to conform to Map<String,WithKey>\n----------\n16. WARNING in /Genai_SourceFile_Impl_N1800101142901478253.java (at line 278)\n\treturn (Map) subtype()._WithKey_Java_Methods().singletonMap(this);\n\t        ^^^\nMap is a raw type. References to generic type Map<K,E> should be parameterized\n----------\n17. WARNING in /Genai_SourceFile_Impl_N1800101142901478253.java (at line 356)\n\tCtx.run(() -> subtype()._Persistable_Java_Methods().invalidateTsHeader(this, range, (Array) Val.validateArg(null, 1), false), this.type.method(\"invalidateTsHeader\"), 0, this, range);\n\t                                                                                    ^^^^^^^^^^^^^^^^^^^^^^^^^^^^^^^^\nType safety: The expression of type Array needs unchecked conversion to conform to Array<String>\n----------\n18. WARNING in /Genai_SourceFile_Impl_N1800101142901478253.java (at line 356)\n\tCtx.run(() -> subtype()._Persistable_Java_Methods().invalidateTsHeader(this, range, (Array) Val.validateArg(null, 1), false), this.type.method(\"invalidateTsHeader\"), 0, this, range);\n\t                                                                                     ^^^^^\nArray is a raw type. References to generic type Array<E> should be parameterized\n----------\n19. WARNING in /Genai_SourceFile_Impl_N1800101142901478253.java (at line 359)\n\tCtx.run(() -> subtype()._Persistable_Java_Methods().invalidateTsHeader(this, (TimeRange) null, (Array) Val.validateArg(null, 1), false), this.type.method(\"invalidateTsHeader\"), 0, this);\n\t                                                                                               ^^^^^^^^^^^^^^^^^^^^^^^^^^^^^^^^\nType safety: The expression of type Array needs unchecked conversion to conform to Array<String>\n----------\n20. WARNING in /Genai_SourceFile_Impl_N1800101142901478253.java (at line 359)\n\tCtx.run(() -> subtype()._Persistable_Java_Methods().invalidateTsHeader(this, (TimeRange) null, (Array) Val.validateArg(null, 1), false), this.type.method(\"invalidateTsHeader\"), 0, this);\n\t                                                                                                ^^^^^\nArray is a raw type. References to generic type Array<E> should be parameterized\n----------\n21. WARNING in /Genai_SourceFile_Impl_N1800101142901478253.java (at line 362)\n\treturn Ctx.call(() -> this.type.callFromCodeGen(this.type.method(\"writePassages\"), 0, this, (Array) passages), this.type.method(\"writePassages\"), 0, this, passages);\n\t                                                                                             ^^^^^\nArray is a raw type. References to generic type Array<E> should be parameterized\n----------\n22. WARNING in /Genai_SourceFile_Impl_N1800101142901478253.java (at line 365)\n\treturn Ctx.call(() -> (Array) this.type.callFromCodeGen(this.type.method(\"readPassages\"), 0, this), this.type.method(\"readPassages\"), 0, this);\n\t                       ^^^^^\nArray is a raw type. References to generic type Array<E> should be parameterized\n----------\n----------\n23. WARNING in /Genai_SourceFile_BuilderImpl_N1800101142901478253.java (at line 20)\n\tpublic class Genai_SourceFile_BuilderImpl_N1800101142901478253 extends ObjBuilder_Fields<Genai_SourceFile_BuilderImpl_N1800101142901478253, c3.genAiSearch.Genai_SourceFile_Impl_N1800101142901478253> implements c3.genAiSearch.Genai_SourceFile_N1800101142901478253.Builder {\n\t             ^^^^^^^^^^^^^^^^^^^^^^^^^^^^^^^^^^^^^^^^^^^^^^^^^\nThe serializable class Genai_SourceFile_BuilderImpl_N1800101142901478253 does not declare a static final serialVersionUID field of type long\n----------\n23 problems (1 error, 22 warnings)\n!\n\nCalled from JavaScript action Genai.SourceFile#transitionCollectionToStatus executing in runtime js on server (Genai.SourceFile.js)\n    421      fetchFilter = fetchFilter.and().lit(filter);\n    422    }\n  > 423    var files = Genai.SourceFile.fetch({\n    424      filter: fetchFilter,\n    425      include: 'id',\n\nCalled from JavaScript action Genai.SourceCollection#sync executing in runtime js on server (Genai.SourceCollection.js)\n    196      });\n    197  \n  > 198    Genai.SourceFile.transitionCollectionToStatus(coll, Genai.SourceFile.StatusEnum.SYNCING);\n    199  \n    200    var eachFileLambda = syncSpec.doNotCheckForModifiedFiles ? _checkNewLambda : _checkNewOrUpdatedLambda;\n\nError calling /api/8/Genai.SourceCollection/sync with [{\"type\":\"Genai.SourceCollection\",\"name\":\"corneaguru\",\"id\":\"corneaguru\",\"meta\":{\"type\":\"Meta\",\"appCode\":1791975693483737808,\"env\":\"cornea133702062024\",\"app\":\"genaisearch\",\"created\":\"2024-02-28T03:26:25+00:00\",\"createdBy\":\"303fcf2617688522c0dc3328b161b30cffad08cf041924dd5912507a9906e67e\",\"updated\":\"2024-02-29T15:19:25+00:00\",\"updatedBy\":\"303fcf2617688522c0dc3328b161b30cffad08cf041924dd5912507a9906e67e\",\"timestamp\":\"2024-02-29T15:19:25+00:00\",\"fetchInclude\":\"[]\",\"fetchType\":\"Genai.SourceCollection\"},\"version\":6,\"description\":\"Collection of files for corneaguru\",\"rootUrl\":\"gcs://c3--gkev8c3apps/corneaguru/unstructured/docs/\",\"targetUrl\":\"gcs://c3--gkev8c3apps/corneaguru/unstructured/passageFiles/\",\"lastSyncedBy\":\"Richard.Mu-c@c3.ai\",\"lastSyncTime\":\"2024-02-29T15:19:26+00:00\",\"groups\":{\"type\":\"[Role]\",\"value\":[{\"type\":\"Role\",\"id\":\"Genai.Common\"},{\"type\":\"Role\",\"id\":\"C3.ClusterAdmin\"},{\"type\":\"Role\",\"id\":\"C3.EnvAdmin\"},{\"type\":\"Role\",\"id\":\"C3.AppAdmin\"}]}}]"
     ]
    }
   ],
   "source": [
    "c3.Genai.SourceCollection.forId(\"corneaguru\").sync()"
   ]
  },
  {
   "cell_type": "code",
   "execution_count": null,
   "id": "cdf3d174-2a27-4f91-ac40-30ce9c724168",
   "metadata": {},
   "outputs": [],
   "source": []
  }
 ],
 "metadata": {
  "has_local_update": false,
  "is_local": true,
  "is_remote": true,
  "kernelspec": {
   "display_name": "py-colbertfaiss",
   "language": "python",
   "name": "py-colbertfaiss"
  },
  "language_info": {
   "codemirror_mode": {
    "name": "ipython",
    "version": 3
   },
   "file_extension": ".py",
   "mimetype": "text/x-python",
   "name": "python",
   "nbconvert_exporter": "python",
   "pygments_lexer": "ipython3",
   "version": "3.9.18"
  },
  "last_sync_time": "2024-02-29T15:44:26.251050"
 },
 "nbformat": 4,
 "nbformat_minor": 5
}
