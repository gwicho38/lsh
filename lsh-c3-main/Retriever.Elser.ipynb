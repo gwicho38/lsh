{
 "cells": [
  {
   "cell_type": "markdown",
   "metadata": {},
   "source": [
    "# Retriever.Elser\n",
    "\n",
    "## Conventions\n",
    "\n",
    "@notebook: run in jupyter notebook\n",
    "@console: run in static console \n",
    "\n",
    "## References\n",
    "\n",
    "Source of Truth for Elser files: \n",
    "\n",
    "- https://github.com/c3-e/c3generativeAi/blob/2982c27aa26360a03b5fa622c0677a96f668e821/genai/genAiBase/src/retriever/Genai.Retriever.Elser.c3typ\n",
    "\n",
    "- https://github.com/c3-e/c3generativeAi/blob/860f8d5ef8c45c85487b10c4e20753a846e64f23/genai/genAiBase/src/retriever/Genai.Retriever.Elser.py"
   ]
  },
  {
   "cell_type": "markdown",
   "metadata": {},
   "source": [
    "## HW Profile and App Setup"
   ]
  },
  {
   "cell_type": "code",
   "execution_count": null,
   "metadata": {
    "vscode": {
     "languageId": "javascript"
    }
   },
   "outputs": [],
   "source": [
    "// Run from $cluster_url/$env_name/c3/static/console/\n",
    "var cpus = 8;\n",
    "var memory = 64000;\n",
    "var jvmRatio = 0.5;\n",
    "C3.app().nodePool(\"singlenode\").setHardwareProfile(cpus, memory, 0).setJvmSpec(jvmRatio).update();"
   ]
  },
  {
   "cell_type": "code",
   "execution_count": 4,
   "metadata": {},
   "outputs": [
    {
     "name": "stdout",
     "output_type": "stream",
     "text": [
      "Collecting deepdiff\n",
      "  Downloading deepdiff-6.7.1-py3-none-any.whl (76 kB)\n",
      "\u001b[2K     ━━━━━━━━━━━━━━━━━━━━━━━━━━━━━━━━━━━━━━━━ 76.6/76.6 kB 6.3 MB/s eta 0:00:00\n",
      "\u001b[?25hCollecting ordered-set<4.2.0,>=4.0.2\n",
      "  Downloading ordered_set-4.1.0-py3-none-any.whl (7.6 kB)\n",
      "Installing collected packages: ordered-set, deepdiff\n",
      "Successfully installed deepdiff-6.7.1 ordered-set-4.1.0\n",
      "\n",
      "\u001b[1m[\u001b[0m\u001b[34;49mnotice\u001b[0m\u001b[1;39;49m]\u001b[0m\u001b[39;49m A new release of pip is available: \u001b[0m\u001b[31;49m23.0.1\u001b[0m\u001b[39;49m -> \u001b[0m\u001b[32;49m24.0\u001b[0m\n",
      "\u001b[1m[\u001b[0m\u001b[34;49mnotice\u001b[0m\u001b[1;39;49m]\u001b[0m\u001b[39;49m To update, run: \u001b[0m\u001b[32;49mpip install --upgrade pip\u001b[0m\n"
     ]
    }
   ],
   "source": [
    "!pip install deepdiff"
   ]
  },
  {
   "cell_type": "code",
   "execution_count": 5,
   "id": "c2f34275-b8b3-4f96-9c13-9a377c677d46",
   "metadata": {
    "tags": []
   },
   "outputs": [],
   "source": [
    "import os\n",
    "import tempfile\n",
    "import shutil\n",
    "import zipfile\n",
    "import re\n",
    "from typing import TYPE_CHECKING, Final\n",
    "import json\n",
    "from deepdiff import DeepDiff\n",
    "\n",
    "if TYPE_CHECKING:\n",
    "    c3 = {}  # Make pylance stop complaining about c3"
   ]
  },
  {
   "cell_type": "code",
   "execution_count": 6,
   "id": "4de6d310-ceec-43c8-a2f9-48bb3a1740c5",
   "metadata": {
    "tags": []
   },
   "outputs": [
    {
     "ename": "NameError",
     "evalue": "name 'c3' is not defined",
     "output_type": "error",
     "traceback": [
      "\u001b[0;31m---------------------------------------------------------------------------\u001b[0m",
      "\u001b[0;31mNameError\u001b[0m                                 Traceback (most recent call last)",
      "\u001b[1;32m/Users/lefv/c3/c3wt/c3generativeAi.worktrees/local/lefv/epic/cornea-9/genai/windTurbineGenAi/resource/notebook/engineering/Retriever.Elser.ipynb Cell 6\u001b[0m line \u001b[0;36m1\n\u001b[0;32m----> <a href='vscode-notebook-cell:/Users/lefv/c3/c3wt/c3generativeAi.worktrees/local/lefv/epic/cornea-9/genai/windTurbineGenAi/resource/notebook/engineering/Retriever.Elser.ipynb#W0sZmlsZQ%3D%3D?line=0'>1</a>\u001b[0m c3\n",
      "\u001b[0;31mNameError\u001b[0m: name 'c3' is not defined"
     ]
    }
   ],
   "source": [
    "c3"
   ]
  },
  {
   "cell_type": "code",
   "execution_count": 7,
   "metadata": {},
   "outputs": [],
   "source": [
    "test = \"ALLCAPS\""
   ]
  },
  {
   "cell_type": "code",
   "execution_count": 8,
   "metadata": {},
   "outputs": [
    {
     "data": {
      "text/plain": [
       "'allcaps'"
      ]
     },
     "execution_count": 8,
     "metadata": {},
     "output_type": "execute_result"
    }
   ],
   "source": [
    "test.lower()"
   ]
  },
  {
   "cell_type": "code",
   "execution_count": 2,
   "metadata": {},
   "outputs": [
    {
     "ename": "NameError",
     "evalue": "name 'Final' is not defined",
     "output_type": "error",
     "traceback": [
      "\u001b[0;31m---------------------------------------------------------------------------\u001b[0m",
      "\u001b[0;31mNameError\u001b[0m                                 Traceback (most recent call last)",
      "\u001b[1;32m/Users/lefv/c3/c3wt/c3generativeAi.worktrees/local/lefv/epic/cornea-9/genai/windTurbineGenAi/resource/notebook/engineering/Retriever.Elser.ipynb Cell 7\u001b[0m line \u001b[0;36m2\n\u001b[1;32m      <a href='vscode-notebook-cell:/Users/lefv/c3/c3wt/c3generativeAi.worktrees/local/lefv/epic/cornea-9/genai/windTurbineGenAi/resource/notebook/engineering/Retriever.Elser.ipynb#Y200sZmlsZQ%3D%3D?line=0'>1</a>\u001b[0m \u001b[39m# @global\u001b[39;00m\n\u001b[0;32m----> <a href='vscode-notebook-cell:/Users/lefv/c3/c3wt/c3generativeAi.worktrees/local/lefv/epic/cornea-9/genai/windTurbineGenAi/resource/notebook/engineering/Retriever.Elser.ipynb#Y200sZmlsZQ%3D%3D?line=1'>2</a>\u001b[0m TEST_FILE_COUNT: Final[\u001b[39mint\u001b[39m] \u001b[39m=\u001b[39m \u001b[39m5\u001b[39m\n",
      "\u001b[0;31mNameError\u001b[0m: name 'Final' is not defined"
     ]
    }
   ],
   "source": [
    "# @global\n",
    "TEST_FILE_COUNT: Final[int] = 5"
   ]
  },
  {
   "cell_type": "code",
   "execution_count": null,
   "metadata": {},
   "outputs": [],
   "source": [
    "# @notebook\n",
    "c3.Pkg.setDevMode(True)"
   ]
  },
  {
   "cell_type": "code",
   "execution_count": null,
   "metadata": {},
   "outputs": [],
   "source": [
    "# @notebook\n",
    "c3.UiSdlConfig.setConfigValue(\"infrastructure.webpackMode\", \"development\")"
   ]
  },
  {
   "cell_type": "code",
   "execution_count": null,
   "metadata": {},
   "outputs": [],
   "source": [
    "# @notebook\n",
    "c3.EnableAclPrivilege.removeAll(confirm=True)"
   ]
  },
  {
   "cell_type": "code",
   "execution_count": null,
   "metadata": {},
   "outputs": [],
   "source": [
    "mapbox_secret = ''"
   ]
  },
  {
   "cell_type": "code",
   "execution_count": null,
   "metadata": {},
   "outputs": [],
   "source": [
    "# @notebook\n",
    "c3.UiSdlMapboxConfig.setSecretValue('accessToken', mapbox_secret)"
   ]
  },
  {
   "cell_type": "code",
   "execution_count": null,
   "metadata": {},
   "outputs": [],
   "source": [
    "open_ai_secret = ''"
   ]
  },
  {
   "cell_type": "code",
   "execution_count": null,
   "metadata": {},
   "outputs": [],
   "source": [
    "# @notebook\n",
    "c3.Genai.Llm.OpenAI.Config.make().setSecretValue(\"apiKey\", open_ai_secret)"
   ]
  },
  {
   "cell_type": "code",
   "execution_count": null,
   "id": "505b88cb-775c-4531-ae22-59a380a84b68",
   "metadata": {
    "tags": []
   },
   "outputs": [],
   "source": [
    "import logging\n",
    "import sys\n",
    "logger = logging.getLogger()\n",
    "handler = logging.StreamHandler(sys.stdout)\n",
    "logger.addHandler(handler)\n",
    "def isDebugEnabled(self):\n",
    "    return True\n",
    "logger.isDebugEnabled = isDebugEnabled.__get__(logger)"
   ]
  },
  {
   "cell_type": "code",
   "execution_count": null,
   "id": "70eece46-cfab-4cd4-850c-5d3848324d3d",
   "metadata": {
    "tags": []
   },
   "outputs": [],
   "source": [
    "logger.setLevel(logging.DEBUG)\n",
    "handler.setLevel(logging.DEBUG)"
   ]
  },
  {
   "cell_type": "markdown",
   "metadata": {},
   "source": [
    "## Create Test Context"
   ]
  },
  {
   "cell_type": "code",
   "execution_count": null,
   "id": "a9a543b1-dd27-42f7-b8a4-1ad3d67bc0e4",
   "metadata": {
    "tags": []
   },
   "outputs": [],
   "source": [
    "# NOTE: Ignore for now\n",
    "# TODO: Determine whether we need to import any functions\n",
    "retrieverSourceFile = c3.Genai.PyUtil.importResourceFile(\n",
    "    \"genai/genAiBase/src/retriever/Genai.Retriever.Elser.py\"\n",
    ")"
   ]
  },
  {
   "cell_type": "code",
   "execution_count": null,
   "id": "3d153b5b-479e-46bd-86c4-dcbbc429e592",
   "metadata": {
    "tags": []
   },
   "outputs": [],
   "source": [
    "filename = \"Retriever.Elser.ipynb\"\n",
    "baseLocation = re.sub(r\"\\.[^.]+$\", \"\", filename) \n",
    "ctx = c3.TestApi.createContext(filename)"
   ]
  },
  {
   "cell_type": "code",
   "execution_count": null,
   "metadata": {},
   "outputs": [],
   "source": [
    "rootLocation = baseLocation + '/root'"
   ]
  },
  {
   "cell_type": "code",
   "execution_count": null,
   "metadata": {},
   "outputs": [],
   "source": [
    "targetLocation = baseLocation + '/target'"
   ]
  },
  {
   "cell_type": "code",
   "execution_count": null,
   "metadata": {},
   "outputs": [],
   "source": [
    "elserName = filename"
   ]
  },
  {
   "cell_type": "code",
   "execution_count": null,
   "metadata": {},
   "outputs": [],
   "source": [
    "elserApiKey = 'X2p0SDY0MEI3RXRYbkVwbzdheFY6X1NXMFQ0WlBRRUd0RXVwaXU1MGtwQQ=='"
   ]
  },
  {
   "cell_type": "code",
   "execution_count": null,
   "metadata": {},
   "outputs": [],
   "source": [
    "# TODO: define all fields for object\n",
    "vectorStore = c3.Genai.Retriever.Elser.make({\n",
    "     \"name\": filename,\n",
    "     \"apikey\": elserApiKey\n",
    "    #  \"baseUrl\" taking default value, can specify your own\n",
    "    # \"modelId\" taking default value, can specify your own\n",
    "}).upsert().get('this')"
   ]
  },
  {
   "cell_type": "code",
   "execution_count": null,
   "metadata": {},
   "outputs": [],
   "source": [
    "c3.Genai.Retriever.ColBERT.DataConfig(name=filename).setConfig()"
   ]
  },
  {
   "cell_type": "code",
   "execution_count": null,
   "metadata": {},
   "outputs": [],
   "source": [
    "c3.Genai.Retriever.ColBERT.DataConfig(name=filename).getConfig()"
   ]
  },
  {
   "cell_type": "code",
   "execution_count": null,
   "id": "33bb12c1-4b35-4520-a738-8b0495525726",
   "metadata": {
    "tags": []
   },
   "outputs": [],
   "source": [
    "sourceCollection = c3.Genai.SourceCollection(id=filename,rootUrl=rootLocation,\n",
    "      targetUrl=targetLocation).upsert().get('this')"
   ]
  },
  {
   "cell_type": "code",
   "execution_count": null,
   "metadata": {},
   "outputs": [],
   "source": [
    "# Upload documents to the data folder\n",
    "# @notebook\n",
    "# TODO: Ticket against CORNEA project to get access to documents\n",
    "local_dir = 'data/'\n",
    "\n",
    "# limit test to a few amount of files\n",
    "for filename in os.listdir(local_dir)[:TEST_FILE_COUNT]:\n",
    "        if filename.endswith(\".pdf\"):\n",
    "            new_filename = filename.replace(\" \", \"\").replace(\"-\", \"\").replace(\"[\", \"\").replace(\"]\", \"\")\n",
    "            old_filepath = os.path.join(local_dir, filename)\n",
    "            new_filepath = os.path.join(local_dir, new_filename)\n",
    "            os.rename(old_filepath, new_filepath)\n",
    "\n",
    "for fname in os.listdir(local_dir):\n",
    "    if fname.endswith(\".pdf\"):\n",
    "        local_fullname = os.path.join(local_dir, fname)\n",
    "        remote_fullname = os.path.join(sourceCollection.rootUrl, fname)\n",
    "        if os.path.isfile(local_fullname):  # check if file exists\n",
    "            with open(local_fullname, \"rb\") as f:\n",
    "                c3.Client.uploadFile(f, remote_fullname)\n",
    "                #print(f\"File {local_fullname} uploaded!\")\n",
    "        else:\n",
    "            print(f\"File {local_fullname} does not exist.\")"
   ]
  },
  {
   "cell_type": "code",
   "execution_count": null,
   "metadata": {},
   "outputs": [],
   "source": [
    "files = c3.FileSystem.inst().listFiles(sourceCollection.rootUrl, limit=300)"
   ]
  },
  {
   "cell_type": "code",
   "execution_count": null,
   "metadata": {},
   "outputs": [],
   "source": [
    "nSourceFiles = c3.Genai.SourceFile.fetchCount()"
   ]
  },
  {
   "cell_type": "code",
   "execution_count": null,
   "metadata": {},
   "outputs": [],
   "source": [
    "# TODO: Change to asynchronous wait logic\n",
    "while nSourceFiles > 0: \n",
    "    c3.Genai.SourceFile.removeAll({}, True)\n",
    "    nSourceFiles = c3.Genai.SourceFile.fetchCount()"
   ]
  },
  {
   "cell_type": "code",
   "execution_count": null,
   "metadata": {},
   "outputs": [],
   "source": [
    "assert len(nSourceFiles) == 0"
   ]
  },
  {
   "cell_type": "code",
   "execution_count": null,
   "metadata": {},
   "outputs": [],
   "source": [
    "# Notebook\n",
    "def applyMetadata(file):\n",
    "    metadata = {}\n",
    "    # View first 2 passages\n",
    "    passages = file.readPassages()\n",
    "    indexes = list(range(0,2))\n",
    "    if len(passages) > len(indexes):\n",
    "        reqd_passages = [passages[ind].contentStr for ind in indexes]\n",
    "    else:\n",
    "        reqd_passages = [p.contentStr for p in passages]\n",
    "    # Concatenate selected passages\n",
    "    passage_full  = '\\n'.join(reqd_passages)\n",
    "    # extract classification marking for the document\n",
    "    if \"top secret\" in passage_full.lower() or \"ts\" in passage_full.lower():\n",
    "        metadata['classificationMarking'] = \"TS\"\n",
    "    elif \"secret\" in passage_full.lower():\n",
    "        metadata['classificationMarking'] = \"S\"\n",
    "    elif \"controlled unclassified information\" in passage_full.lower() or \"cui\" in passage_full.lower():\n",
    "        metadata['classificationMarking'] = 'CUI'\n",
    "    else:\n",
    "        metadata['classificationMarking'] = 'unknown'\n",
    "    metadata['fileName'] = file.originalFile.url.split('/')[-1]\n",
    "    metadata['fileType'] = metadata['fileName'].split('.')[-1]\n",
    "    metadata = c3.Genai.SourceFile.Metadata(**metadata)\n",
    "    file.withField('metadata', metadata).upsert()\n",
    "        \n",
    "    return metadata"
   ]
  },
  {
   "cell_type": "code",
   "execution_count": null,
   "metadata": {},
   "outputs": [],
   "source": [
    "# Notebook\n",
    "c3.Genai.SourceCollection.forId(filename).setMetadataConfig({\"embedMetadata\": True})\n",
    "c3.Genai.SourceCollection.forId(filename).config()"
   ]
  },
  {
   "cell_type": "code",
   "execution_count": null,
   "metadata": {},
   "outputs": [],
   "source": [
    "# Notebook\n",
    "func = c3.Lambda.fromPyFunc(applyMetadata)\n",
    "c3.Genai.SourceCollection.forId(filename).withSyncMetadataLambda(func).upsert()"
   ]
  },
  {
   "cell_type": "code",
   "execution_count": null,
   "id": "f49fe65c-11b1-4acb-98d8-d0979e12da7b",
   "metadata": {
    "tags": []
   },
   "outputs": [],
   "source": [
    "\n",
    "syncJob = c3.Genai.SourceCollection.forId(filename).sync()\n",
    "# This may take a long time because installRuntime must execute on the first run\n",
    "c3.TestApi.waitForJob(ctx, syncJob.fileSystemJob, 1, 600)"
   ]
  },
  {
   "cell_type": "code",
   "execution_count": null,
   "metadata": {
    "vscode": {
     "languageId": "javascript"
    }
   },
   "outputs": [],
   "source": [
    "// @console\n",
    "// run in single batches to avoid r/w corruption\n",
    "var batchSize = 1;\n",
    "var spec = BatchFetchSpec.builder().batchSize(batchSize).include(\"id, this\").filter(\"!exists(passagesFile)\").build();\n",
    " \n",
    "job = ObjBatchMapReduceJob.forId(Genai.SourceFile.eachObjBatch(spec, (objs, ctx) => {\n",
    "    txs = Genai.SourceFile.TextSplitter.Spec.make({'textSplitter': 'TokenTextSplitter'});\n",
    "    pdfChunkerSpec = Genai.SourceFile.Chunker.UniversalChunker.Spec.make({'chunker': Genai.SourceFile.Chunker.PyPdf, 'textSplitters': [txs]})\n",
    "\n",
    " \n",
    "    fileExtMap = {\n",
    "      '.pdf': pdfChunkerSpec,\n",
    "    }\n",
    " \n",
    "    chunkerSpec = Genai.SourceFile.Chunker.UniversalChunker.Spec.make({'chunker': Genai.SourceFile.Chunker.Universal, 'textSplitters': [txs], 'fileExtToChunkerSpecMap': fileExtMap})\n",
    "    chunkerSpec.chunker.chunkFilesBatch(objs, chunkerSpec);\n",
    "}))"
   ]
  },
  {
   "cell_type": "code",
   "execution_count": null,
   "metadata": {},
   "outputs": [],
   "source": [
    "c3.Genai.Retriever.Elser.DataConfig(name=filename).setConfigValue(\"useRemote\", False)"
   ]
  },
  {
   "cell_type": "code",
   "execution_count": null,
   "metadata": {},
   "outputs": [],
   "source": [
    "c3.Genai.Retriever.Elser.DataConfig(name=filename).getConfig()"
   ]
  },
  {
   "cell_type": "code",
   "execution_count": null,
   "metadata": {},
   "outputs": [],
   "source": [
    "# Notebook\n",
    "mergedPassages = sourceCollection.mergedPassages(True, True)"
   ]
  },
  {
   "cell_type": "code",
   "execution_count": null,
   "metadata": {},
   "outputs": [],
   "source": [
    "# Notebook check, should be NOT empty\n",
    "sourceCollectionPassages = sourceCollection.readPassages()"
   ]
  },
  {
   "cell_type": "code",
   "execution_count": null,
   "metadata": {},
   "outputs": [],
   "source": [
    "TEST_PASSAGE_COUNT: Final[int] = len(sourceCollectionPassages)\n",
    "TEST_PASSAGES: Final[type(c3.Genai.SourcePassage)] = sourceCollectionPassages"
   ]
  },
  {
   "cell_type": "code",
   "execution_count": null,
   "id": "007b5f82-4590-4922-bc3e-52c76c299fac",
   "metadata": {
    "tags": []
   },
   "outputs": [],
   "source": [
    "# calling indexCollections raises errors due to arrayBuilder issues\n",
    "passages = sourceCollection.readPassages()\n",
    "len(passages)"
   ]
  },
  {
   "cell_type": "code",
   "execution_count": null,
   "metadata": {
    "vscode": {
     "languageId": "javascript"
    }
   },
   "outputs": [],
   "source": [
    "// @console\n",
    "// NOTE: used if call above fails\n",
    "function serializeArray(typeName, typeArray) {\n",
    "    var retVal = [];\n",
    "    for (i = 0; i < typeArray.length; i++) {\n",
    "        retVal.push(typeName.make(typeArray[i]))\n",
    "    }\n",
    "    return retVal;\n",
    "}\n",
    "var gsc = Genai.SourceCollection.forId(customerName).get(\"this\");\n",
    "var passages = gsc.readPassages()\n",
    "passages = serializeArray(Genai.SourcePassage, passages)"
   ]
  },
  {
   "cell_type": "code",
   "execution_count": null,
   "id": "8f1c62a8-158e-4df6-9785-bd0e6931df00",
   "metadata": {
    "tags": []
   },
   "outputs": [],
   "source": [
    "objList = vectorStore.indexFiles(passages)\n",
    "objList.count()"
   ]
  },
  {
   "cell_type": "code",
   "execution_count": null,
   "metadata": {},
   "outputs": [],
   "source": [
    "# NOTE: The following will be updated as implementation changes"
   ]
  },
  {
   "cell_type": "code",
   "execution_count": null,
   "metadata": {},
   "outputs": [],
   "source": [
    "# TODO: Sample string from each of the sourcePDFS and construct query"
   ]
  },
  {
   "cell_type": "code",
   "execution_count": null,
   "metadata": {},
   "outputs": [],
   "source": [
    "testQuestion = ''"
   ]
  },
  {
   "cell_type": "code",
   "execution_count": null,
   "metadata": {},
   "outputs": [],
   "source": [
    "# assert filename correct"
   ]
  },
  {
   "cell_type": "code",
   "execution_count": null,
   "metadata": {},
   "outputs": [],
   "source": [
    "# assert baseUrl correct"
   ]
  },
  {
   "cell_type": "code",
   "execution_count": null,
   "metadata": {},
   "outputs": [],
   "source": [
    "# assert modelId correct"
   ]
  },
  {
   "cell_type": "code",
   "execution_count": null,
   "metadata": {},
   "outputs": [],
   "source": [
    "# assert apiKey correct"
   ]
  },
  {
   "cell_type": "code",
   "execution_count": null,
   "metadata": {},
   "outputs": [],
   "source": [
    "# Test initialize\n",
    "result = None\n",
    "try:\n",
    "    result = vectorStore.initialize(failIfMissing=False)\n",
    "except NotImplementedError as e:\n",
    "    result = e\n",
    "except RuntimeError as e:\n",
    "    result = e\n",
    "except Exception as e:\n",
    "    result = e\n",
    "\n",
    "assert type(result) != type(NotImplementedError)\n",
    "assert type(result) != type(RuntimeError)\n",
    "assert type(result) != type(Exception)\n",
    "assert len(result) == TEST_PASSAGE_COUNT"
   ]
  },
  {
   "cell_type": "code",
   "execution_count": null,
   "metadata": {},
   "outputs": [],
   "source": [
    "# TODO: Add mock JSON response\n",
    "TEST_CREATE_INDEX_RESPONSE: Final[json] = {}"
   ]
  },
  {
   "cell_type": "code",
   "execution_count": null,
   "metadata": {},
   "outputs": [],
   "source": [
    "# TODO: Finish test\n",
    "result = None\n",
    "try:\n",
    "    result = vectorStore.createIndex()\n",
    "except Exception as e:\n",
    "    result = e\n",
    "assert type(result) != type(Exception)\n",
    "assert type(result) == type(TEST_CREATE_INDEX_RESPONSE)\n",
    "assert not DeepDiff(result, TEST_CREATE_INDEX_RESPONSE)"
   ]
  },
  {
   "cell_type": "code",
   "execution_count": null,
   "metadata": {},
   "outputs": [],
   "source": [
    "# TODO: Add mock JSON response\n",
    "TEST_CREATE_INGEST_RESPONSE: Final[json] = {}"
   ]
  },
  {
   "cell_type": "code",
   "execution_count": null,
   "metadata": {},
   "outputs": [],
   "source": [
    "# TODO: Finish test\n",
    "result = None\n",
    "try:\n",
    "    result = vectorStore._createingest()\n",
    "except Exception as e:\n",
    "    result = e\n",
    "assert type(result) != type(Exception)\n",
    "assert type(result) == type(TEST_CREATE_INGEST_RESPONSE)\n",
    "assert not DeepDiff(result, TEST_CREATE_INGEST_RESPONSE)"
   ]
  },
  {
   "cell_type": "code",
   "execution_count": null,
   "metadata": {},
   "outputs": [],
   "source": [
    "# TODO: Finish test\n",
    "result = None\n",
    "try:\n",
    "    result = vectorStore._createingest()\n",
    "except Exception as e:\n",
    "    result = e\n",
    "assert type(result) != type(Exception)\n",
    "assert type(result) == type(TEST_CREATE_INGEST_RESPONSE)\n",
    "assert not DeepDiff(result, TEST_CREATE_INGEST_RESPONSE)"
   ]
  },
  {
   "cell_type": "code",
   "execution_count": null,
   "metadata": {},
   "outputs": [],
   "source": [
    "# TODO: Finish test\n",
    "result = None\n",
    "try:\n",
    "    result = vectorStore.indexPassages(TEST_PASSAGES)\n",
    "except Exception as e:\n",
    "    result = e\n",
    "\n",
    "assert type(result) != type(Exception)\n",
    "assert type(result) == type(getattr(c3, f\"ObjList<Genai.SourcePassage>\")(objs=TEST_PASSAGES))\n",
    "assert not DeepDiff(result, TEST_PASSAGES)"
   ]
  },
  {
   "cell_type": "code",
   "execution_count": null,
   "metadata": {},
   "outputs": [],
   "source": [
    "# TODO: Finish test\n",
    "results = vectorStore.similaritySearch(\n",
    "    \n",
    ")\n"
   ]
  },
  {
   "cell_type": "code",
   "execution_count": null,
   "metadata": {},
   "outputs": [],
   "source": [
    "# TODO: Finish test\n",
    "result = None\n",
    "try:\n",
    "    result = vectorStore.unindexPassages(TEST_PASSAGES)\n",
    "except Exception as e:\n",
    "    result = e\n",
    "\n",
    "assert type(result) != type(Exception)\n",
    "assert type(result) == type(getattr(c3, f\"ObjList<Genai.SourcePassage>\")(objs=TEST_PASSAGES))\n",
    "assert not DeepDiff(result, TEST_PASSAGES)"
   ]
  },
  {
   "cell_type": "code",
   "execution_count": null,
   "metadata": {},
   "outputs": [],
   "source": [
    "# should return NotImplementedError \n",
    "# TODO: Finish test\n",
    "result = None\n",
    "try:\n",
    "    result = vectorStore.indexPassagesFile(TEST_PASSAGES)\n",
    "except Exception as e:\n",
    "    result = e\n",
    "\n",
    "assert type(result) != type(Exception)\n",
    "assert type(result) == type(getattr(c3, f\"ObjList<Genai.SourcePassage>\")(objs=TEST_PASSAGES))\n",
    "assert not DeepDiff(result, TEST_PASSAGES)"
   ]
  },
  {
   "cell_type": "code",
   "execution_count": null,
   "metadata": {},
   "outputs": [],
   "source": [
    "# TODO: Finish test\n",
    "result = c3.Genai.Retriever.Elser.forName(filename)"
   ]
  },
  {
   "cell_type": "code",
   "execution_count": null,
   "metadata": {},
   "outputs": [],
   "source": [
    "# should return NotImplementedError \n",
    "result = None\n",
    "try:\n",
    "    result = vectorStore.indexedSourceFiles()\n",
    "except NotImplementedError as nie:\n",
    "    result = nie\n",
    "\n",
    "assert type(result) != type(nie)"
   ]
  },
  {
   "cell_type": "code",
   "execution_count": null,
   "metadata": {},
   "outputs": [],
   "source": [
    "# should return NotImplementedError \n",
    "try:\n",
    "    vectorStore.indexedSourcePassages()\n",
    "except NotImplementedError as nie:\n",
    "    print(nie)"
   ]
  },
  {
   "cell_type": "code",
   "execution_count": null,
   "metadata": {},
   "outputs": [],
   "source": [
    "# should return NotImplementedError \n",
    "try:\n",
    "    vectorStore.passageCount()\n",
    "except NotImplementedError as nie:\n",
    "    print(nie)"
   ]
  },
  {
   "cell_type": "code",
   "execution_count": null,
   "metadata": {},
   "outputs": [],
   "source": [
    "# should return NotImplementedError \n",
    "try:\n",
    "    vectorStore.getNativeRetriever()\n",
    "except NotImplementedError as nie:\n",
    "    print(nie)"
   ]
  },
  {
   "cell_type": "code",
   "execution_count": null,
   "metadata": {},
   "outputs": [],
   "source": [
    "# should return NotImplementedError \n",
    "try:\n",
    "    vectorStore._safe_this()\n",
    "except NotImplementedError as nie:\n",
    "    print(nie)"
   ]
  },
  {
   "cell_type": "code",
   "execution_count": null,
   "metadata": {},
   "outputs": [],
   "source": [
    "# should return NotImplementedError \n",
    "try:\n",
    "    vectorStore._local_root()\n",
    "except NotImplementedError as nie:\n",
    "    print(nie)"
   ]
  },
  {
   "cell_type": "code",
   "execution_count": null,
   "metadata": {},
   "outputs": [],
   "source": [
    "# should return NotImplementedError \n",
    "try:\n",
    "    vectorStore._data_root()\n",
    "except NotImplementedError as nie:\n",
    "    print(nie)"
   ]
  },
  {
   "cell_type": "code",
   "execution_count": null,
   "id": "a5a7e144-a1b8-412c-93e8-5c802a677208",
   "metadata": {
    "tags": []
   },
   "outputs": [],
   "source": [
    "# should return NotImplementedError \n",
    "try:\n",
    "    vectorStore._corpus_path()\n",
    "except NotImplementedError as nie:\n",
    "    print(nie)"
   ]
  },
  {
   "cell_type": "code",
   "execution_count": null,
   "id": "5ee405af-66e6-4140-aa9d-985c1953054c",
   "metadata": {
    "tags": []
   },
   "outputs": [],
   "source": [
    "# should return NotImplementedError \n",
    "try:\n",
    "    vectorStore._zip_and_upload()\n",
    "except NotImplementedError as nie:\n",
    "    print(nie)"
   ]
  },
  {
   "cell_type": "code",
   "execution_count": null,
   "metadata": {},
   "outputs": [],
   "source": [
    "# should return NotImplementedError \n",
    "try:\n",
    "    vectorStore._download_and_unzip()\n",
    "except NotImplementedError as nie:\n",
    "    print(nie)"
   ]
  },
  {
   "cell_type": "code",
   "execution_count": null,
   "metadata": {},
   "outputs": [],
   "source": [
    "# should return NotImplementedError \n",
    "try:\n",
    "    vectorStore._do_index()\n",
    "except NotImplementedError as nie:\n",
    "    print(nie)"
   ]
  },
  {
   "cell_type": "code",
   "execution_count": null,
   "id": "20f7f848-1970-44cb-a4aa-cfc088dc79e3",
   "metadata": {},
   "outputs": [],
   "source": []
  }
 ],
 "metadata": {
  "has_local_update": false,
  "is_local": true,
  "is_remote": true,
  "kernelspec": {
   "display_name": "Python 3",
   "language": "python",
   "name": "python3"
  },
  "language_info": {
   "codemirror_mode": {
    "name": "ipython",
    "version": 3
   },
   "file_extension": ".py",
   "mimetype": "text/x-python",
   "name": "python",
   "nbconvert_exporter": "python",
   "pygments_lexer": "ipython3",
   "version": "3.9.18"
  },
  "last_sync_time": "2024-02-06T19:03:54.615705"
 },
 "nbformat": 4,
 "nbformat_minor": 5
}
