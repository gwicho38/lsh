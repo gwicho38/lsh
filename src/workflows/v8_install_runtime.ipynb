{
 "cells": [
  {
   "cell_type": "code",
   "execution_count": null,
   "metadata": {},
   "outputs": [],
   "source": [
    "INFO  c.p.t.u.Os - For command `/usr/local/share/c3/conda/bin/conda run -p /usr/local/share/c3/runtimes/4791120076686670679/py-colbertfaiss-server-py4j --no-capture-output python -m pip install --index-url https://pypi.org/simple -r /tmp/fd36acbb-4ea7-4cef-a28d-b2fc65e9324f.pip`"
   ]
  },
  {
   "cell_type": "code",
   "execution_count": null,
   "metadata": {},
   "outputs": [],
   "source": []
  },
  {
   "cell_type": "code",
   "execution_count": null,
   "metadata": {},
   "outputs": [],
   "source": [
    "c3Grid(ImplLanguage.Runtime.fetch({}))"
   ]
  },
  {
   "cell_type": "code",
   "execution_count": null,
   "metadata": {},
   "outputs": [],
   "source": [
    "c3Grid(Py.Runtime.fetch({}))"
   ]
  },
  {
   "cell_type": "code",
   "execution_count": null,
   "metadata": {},
   "outputs": [],
   "source": [
    "runtimes = [\n",
    "  'py-data_answering-server-py4j',\n",
    "  'py-transformers-server-py4j',\n",
    "  'py-query_orchestrator-server-py4j',\n",
    "  'py-data_answering-server-py4j-test',\n",
    "  'py-vllm-server-py4j'\n",
    "];\n",
    "\n",
    "runtimes.forEach(function(rt) {\n",
    "    var myFunc = C3.Lambda.fromPySrc('lambda p1, p2: p1 + p2', rt)\n",
    "\n",
    "    console.log(myFunc.call(\"runtime installed: \", rt));\n",
    "});"
   ]
  },
  {
   "cell_type": "code",
   "execution_count": null,
   "metadata": {},
   "outputs": [],
   "source": [
    "# test runtime using lambda requiring runtime\n",
    "REQUIREMENT = 'py-tutorial2' + '-server' # we want to run this on the server\n",
    "c3.Lambda.fromPyFunc(func=lambda: c3.context().runtime, actionRequirement='py-data_answering-server-py4j').apply()\n"
   ]
  },
  {
   "cell_type": "code",
   "execution_count": null,
   "metadata": {},
   "outputs": [],
   "source": [
    "py-query_orchestrator-server-py4j"
   ]
  },
  {
   "cell_type": "code",
   "execution_count": null,
   "metadata": {},
   "outputs": [],
   "source": [
    "import asyncio\n",
    "\n",
    "async def installruntime(rts):\n",
    "    for rt in rts:\n",
    "        try:\n",
    "            print(f\"Installing {rt.name}\")\n",
    "            result = c3.Lambda.fromPyFunc(func=lambda: c3.context().runtime, actionRequirement=f\"{rt.name}\").apply()\n",
    "            print(result)\n",
    "        except Exception as e:\n",
    "            print(e)\n",
    "\n",
    "await installruntime(runtimes)"
   ]
  }
 ],
 "metadata": {
  "language_info": {
   "name": "python"
  }
 },
 "nbformat": 4,
 "nbformat_minor": 2
}
