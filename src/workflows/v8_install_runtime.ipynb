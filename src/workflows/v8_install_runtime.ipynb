{
 "cells": [
  {
   "cell_type": "code",
   "execution_count": null,
   "metadata": {},
   "outputs": [],
   "source": [
    "INFO  c.p.t.u.Os - For command `/usr/local/share/c3/conda/bin/conda run -p /usr/local/share/c3/runtimes/4791120076686670679/py-colbertfaiss-server-py4j --no-capture-output python -m pip install --index-url https://pypi.org/simple -r /tmp/fd36acbb-4ea7-4cef-a28d-b2fc65e9324f.pip`"
   ]
  }
 ],
 "metadata": {
  "language_info": {
   "name": "python"
  }
 },
 "nbformat": 4,
 "nbformat_minor": 2
}
