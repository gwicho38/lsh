{
 "cells": [
  {
   "cell_type": "code",
   "execution_count": null,
   "metadata": {},
   "outputs": [],
   "source": [
    "# MAIN\n",
    "\n",
    "## UI \n",
    "\n",
    "## Environment \n",
    "\n",
    "> CRUD environment:\n",
    "\n",
    "```javascript\n",
    "\n",
    "// Setup Env\n",
    "Cluster.startEnv({\n",
    "  \"name\": \"dev\", // your initials\n",
    "  \"singleNode\": true,    // use false so that you can have task nodes.  \n",
    "  \"serverVersion\": \"8.3.2-rc+1715\"\n",
    "});\n",
    "\n",
    "// switch to new <new_env>/c3\n",
    "// Setup App\n",
    "var spec = Env.StartAppSpec.make({\n",
    "  \"name\": \"gurusearchui\", \n",
    "  \"rootPkg\": \"guruSearchUI\" //, \n",
    "  // \"serverVersion\": \"8.3.2-rc+1715\", // This is not needed for DDEs (single Node = true)\n",
    "});\n",
    "\n",
    "// Start App\n",
    "Env.forName(\"dev\").startApp(spec)\n",
    "\n",
    "// Delete App\n",
    "Env.forName('mab').terminateApp(App.forName('dftest'),true)\n",
    "\n",
    "//Resume Env\n",
    "Cluster.resumeEnv(Env.forName(\"<envname>\"))\n",
    "\n",
    "// Delete Env\n",
    "Cluster.inst().terminateEnv(Env.forName(“<env_name>”), true)\n",
    "\n",
    "\n",
    "\n",
    "```\n",
    "\n",
    "change to <env>/<gurusearchui>\n",
    "> Set package to dev mode:\n",
    "\n",
    "`Pkg.setDevMode(True)`\n",
    "\n",
    "\n",
    "> Manager c3 cluster environment \n",
    "\n",
    "Cluster\n",
    "\n",
    "> Set App (Vanity) URL \n",
    "\n",
    "AppUrl.make({'id': 'myfqdn.company.com', 'env': 'myenv', 'app': 'myapp'}).upsert()"
   ]
  },
  {
   "cell_type": "code",
   "execution_count": null,
   "metadata": {},
   "outputs": [],
   "source": [
    "## Resuming Environment"
   ]
  },
  {
   "cell_type": "code",
   "execution_count": null,
   "metadata": {},
   "outputs": [],
   "source": [
    "var env = C3.env();\n",
    "env.resumeAppById(\"<clustername>-<envname>-<appname>\")"
   ]
  }
 ],
 "metadata": {
  "kernelspec": {
   "display_name": "JavaScript (Node.js)",
   "language": "javascript",
   "name": "javascript"
  },
  "language_info": {
   "name": "javascript"
  }
 },
 "nbformat": 4,
 "nbformat_minor": 2
}
