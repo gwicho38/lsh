{
 "cells": [
  {
   "cell_type": "code",
   "execution_count": null,
   "metadata": {},
   "outputs": [],
   "source": [
    "https://developer.c3.ai/docs/8.3.2/guide/guide-application-development/vsce-setup?check_logged_in=1\n",
    "https://developer.c3.ai/docs/8.3.2/guide/guide-application-development/vsce-develop-package"
   ]
  }
 ],
 "metadata": {
  "language_info": {
   "name": "python"
  }
 },
 "nbformat": 4,
 "nbformat_minor": 2
}
