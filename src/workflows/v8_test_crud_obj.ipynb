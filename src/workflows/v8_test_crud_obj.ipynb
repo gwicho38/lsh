{
 "cells": [
  {
   "cell_type": "code",
   "execution_count": null,
   "metadata": {},
   "outputs": [],
   "source": [
    "def testMIS():\n",
    "    mdl = c3.Genai.UnstructuredQuery.Engine.ModelConfig.forConfigKey(\"zephyr\")\n",
    "    return mdl.generateText({\"prompt\": \"test\"})\n",
    " \n",
    "testMISLambda = c3.Lambda.fromPyFunc(testMIS, actionRequirement=\"py-query_orchestrator-server-py4j\")\n",
    " \n",
    "action = c3.AsyncAction.submit(\n",
    "  c3.AsyncAction.make({\n",
    "    \"typeName\": \"Lambda\",\n",
    "    \"action\": \"apply\",\n",
    "    \"args\": {\"this\": testMISLambda}\n",
    "  })\n",
    ")"
   ]
  }
 ],
 "metadata": {
  "language_info": {
   "name": "python"
  }
 },
 "nbformat": 4,
 "nbformat_minor": 2
}
