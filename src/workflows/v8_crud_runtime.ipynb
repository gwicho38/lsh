{
 "cells": [
  {
   "cell_type": "code",
   "execution_count": null,
   "metadata": {},
   "outputs": [],
   "source": [
    "INFO  c.p.t.u.Os - For command `/usr/local/share/c3/conda/bin/conda run -p /usr/local/share/c3/runtimes/4791120076686670679/py-colbertfaiss-server-py4j --no-capture-output python -m pip install --index-url https://pypi.org/simple -r /tmp/fd36acbb-4ea7-4cef-a28d-b2fc65e9324f.pip`"
   ]
  },
  {
   "cell_type": "code",
   "execution_count": null,
   "metadata": {},
   "outputs": [],
   "source": []
  },
  {
   "cell_type": "code",
   "execution_count": null,
   "metadata": {},
   "outputs": [],
   "source": [
    "c3Grid(ImplLanguage.Runtime.fetch({}))"
   ]
  },
  {
   "cell_type": "code",
   "execution_count": null,
   "metadata": {},
   "outputs": [],
   "source": [
    "c3Grid(Py.Runtime.fetch({}))"
   ]
  },
  {
   "cell_type": "code",
   "execution_count": null,
   "metadata": {},
   "outputs": [],
   "source": [
    "runtimes = [\n",
    "  'py-data_answering-server-py4j',\n",
    "  'py-transformers-server-py4j',\n",
    "  'py-query_orchestrator-server-py4j',\n",
    "  'py-data_answering-server-py4j-test',\n",
    "  'py-vllm-server-py4j'\n",
    "];\n",
    "\n",
    "runtimes.forEach(function(rt) {\n",
    "    var myFunc = C3.Lambda.fromPySrc('lambda p1, p2: p1 + p2', rt)\n",
    "\n",
    "    console.log(myFunc.call(\"runtime installed: \", rt));\n",
    "});"
   ]
  },
  {
   "cell_type": "code",
   "execution_count": null,
   "metadata": {},
   "outputs": [],
   "source": [
    "# test runtime using lambda requiring runtime\n",
    "REQUIREMENT = 'py-tutorial2' + '-server' # we want to run this on the server\n",
    "c3.Lambda.fromPyFunc(func=lambda: c3.context().runtime, actionRequirement='py-data_answering-server-py4j').apply()\n"
   ]
  },
  {
   "cell_type": "code",
   "execution_count": null,
   "metadata": {},
   "outputs": [],
   "source": [
    "py-query_orchestrator-server-py4j"
   ]
  },
  {
   "cell_type": "code",
   "execution_count": null,
   "metadata": {},
   "outputs": [],
   "source": [
    "import asyncio\n",
    "\n",
    "async def installruntime(rts):\n",
    "    for rt in rts:\n",
    "        try:\n",
    "            print(f\"Installing {rt.name}\")\n",
    "            result = c3.Lambda.fromPyFunc(func=lambda: c3.context().runtime, actionRequirement=f\"{rt.name}\").apply()\n",
    "            print(result)\n",
    "        except Exception as e:\n",
    "            print(e)\n",
    "\n",
    "await installruntime(runtimes)"
   ]
  },
  {
   "cell_type": "code",
   "execution_count": null,
   "metadata": {},
   "outputs": [],
   "source": [
    "## Define Runtime Dynamically"
   ]
  },
  {
   "cell_type": "code",
   "execution_count": null,
   "metadata": {},
   "outputs": [],
   "source": [
    "vll_impl_language_runtime = {\n",
    "  \"name\": \"py-vllm\",\n",
    "  \"languageVersion\": \"3.9\",\n",
    "  \"repositories\": [\n",
    "    \"defaults\",\n",
    "    \"conda-forge\"\n",
    "  ],\n",
    "  \"parents\": [\n",
    "    \"py-data-science\"\n",
    "  ],\n",
    "  \"libraries\": [\n",
    "    \"pip xformers==0.0.22\",\n",
    "    \"pip uvicorn==0.23.2\",\n",
    "    \"pip vllm==0.2.0\"\n",
    "  ]\n",
    "}\n"
   ]
  },
  {
   "cell_type": "code",
   "execution_count": null,
   "metadata": {},
   "outputs": [],
   "source": [
    "c3.pkg().setDevMode(True)\n",
    "output = c3.Py.upsertRuntime(vll_impl_language_runtime) # this may take a while\n",
    "# The result is the full definition of the runtimes that were created.\n"
   ]
  },
  {
   "cell_type": "code",
   "execution_count": null,
   "metadata": {},
   "outputs": [],
   "source": [
    "MY_RUNTIME with your runtime name):\n",
    "    \n",
    "MY_PACKAGE/metadata/ImplLanguage.Runtime/py-MY_RUNTIME.json (the runtime definition)\n",
    "MY_PACKAGE/metadata/Py.Runtime/py-MY_RUNTIME-client-ipython.json (the resolved runtime for client)\n",
    "MY_PACKAGE/metadata/Py.Runtime/py-MY_RUNTIME-client-ipython-test.json (the resolved runtime for client with test files)\n",
    "MY_PACKAGE/metadata/Py.Runtime/py-MY_RUNTIME-server-py4j.json (the resolved runtime for server)\n",
    "MY_PACKAGE/metadata/Py.Runtime/py-MY_RUNTIME-server-py4j-test.json (the resolved runtime for server with test files)"
   ]
  }
 ],
 "metadata": {
  "language_info": {
   "name": "python"
  }
 },
 "nbformat": 4,
 "nbformat_minor": 2
}
