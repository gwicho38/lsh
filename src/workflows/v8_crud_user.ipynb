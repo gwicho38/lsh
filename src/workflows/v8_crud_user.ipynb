{
  "cells": [
    {
      "cell_type": "code",
      "execution_count": null,
      "metadata": {},
      "outputs": [],
      "source": [
        "var userGroups = [\"C3.AppAdmin\", \"Genai.AdminUser\"];\n",
        "\n",
        "var users = User.fetch({include: \"this\"}).objs;\n",
        "\n",
        "users.forEach( function (u) {User.make({ id: u.id, name: u.name, email: u.email, c3Groups: userGroups}).upsert()})"
      ]
    }
  ],
  "metadata": {
    "language_info": {
      "name": "python"
    }
  },
  "nbformat": 4,
  "nbformat_minor": 2
}
