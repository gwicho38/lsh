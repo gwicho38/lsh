{
  "cells": [
    {
      "cell_type": "code",
      "execution_count": null,
      "metadata": {},
      "outputs": [],
      "source": [
        "var usergroups = [\"c3.appadmin\", \"genai.adminuser\"];\n",
        "\n",
        "var users = user.fetch({include: \"this\"}).objs;\n",
        "\n",
        "users.foreach( function (u) {user.make({ id: u.id, name: u.name, email: u.email, c3groups: usergroups}).upsert()})"
      ]
    },
    {
      "cell_type": "code",
      "execution_count": null,
      "metadata": {},
      "outputs": [],
      "source": [
        "var users = User.fetch({include: \"this\"}).objs;\n",
        "users.forEach(u => {\n",
        "    try {\n",
        "        u.addToGroup(\"C3.EnvAdmin\");\n",
        "        u.addToGroup(\"C3.Developer\");\n",
        "        u.addToApp(\"c3\");\n",
        "        u.addToApp(\"gurusearchui\");\n",
        "        u.addToApp(\"gurusearch\");\n",
        "        u.applyReverseEdit(33);\n",
        "    } catch (e) {\n",
        "        console.log(e);\n",
        "    }\n",
        "});"
      ]
    },
    {
      "cell_type": "code",
      "execution_count": null,
      "metadata": {},
      "outputs": [],
      "source": [
        "var u = User.make({id: '<hash id>'}).upsert();\n",
        "u.addToGroup(\"C3.EnvAdmin\");"
      ]
    },
    {
      "cell_type": "code",
      "execution_count": null,
      "metadata": {},
      "outputs": [],
      "source": [
        "User.addUsersToGroup(['<user id>', '<user id>'], \"<group id>\")"
      ]
    }
  ],
  "metadata": {
    "language_info": {
      "name": "python"
    }
  },
  "nbformat": 4,
  "nbformat_minor": 2
}
