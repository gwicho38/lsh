{
  "cells": [
    {
      "cell_type": "code",
      "execution_count": null,
      "metadata": {},
      "outputs": [],
      "source": [
        "var usergroups = [\"c3.appadmin\", \"genai.adminuser\"];\n",
        "\n",
        "var users = user.fetch({include: \"this\"}).objs;\n",
        "\n",
        "users.foreach( function (u) {user.make({ id: u.id, name: u.name, email: u.email, c3groups: usergroups}).upsert()})"
      ]
    },
    {
      "cell_type": "code",
      "execution_count": null,
      "metadata": {},
      "outputs": [],
      "source": [
        "var usergroups = [\"C3.Developer\"];\n",
        "\n",
        "var users = User.fetch({include: \"this\"}).objs;"
      ]
    },
    {
      "cell_type": "code",
      "execution_count": null,
      "metadata": {},
      "outputs": [],
      "source": [
        "users.forEach(u => {\n",
        "    try {\n",
        "        u.addToGroup(\"C3.Developer\");\n",
        "    } catch (e) {\n",
        "        console.log(e);\n",
        "    }\n",
        "});"
      ]
    },
    {
      "cell_type": "code",
      "execution_count": null,
      "metadata": {},
      "outputs": [],
      "source": [
        "var u = User.make({id: '<hash id>'}).upsert();\n",
        "u.addToGroup(\"C3.EnvAdmin\");"
      ]
    }
  ],
  "metadata": {
    "language_info": {
      "name": "python"
    }
  },
  "nbformat": 4,
  "nbformat_minor": 2
}
